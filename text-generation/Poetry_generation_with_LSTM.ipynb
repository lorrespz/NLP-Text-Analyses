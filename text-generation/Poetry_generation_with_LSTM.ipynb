{
 "cells": [
  {
   "cell_type": "markdown",
   "id": "8930f0a7",
   "metadata": {},
   "source": [
    "# Text generation with LSTM: \n",
    "\n",
    "This notebook is from Lazy Programmer's 'poetry.py' from Advanced NLP course (nlp3).\n",
    "\n",
    "In this notebook, Robert Frost's poem 'The Road Not Taken' was used to train a single LSTM model to generate text. \n",
    "The architecture of the model consists of only 4 layers: an input layer, an embedding layer, a LSTM layer and a Dense layer for prediction. "
   ]
  },
  {
   "cell_type": "code",
   "execution_count": 1,
   "id": "244918c7",
   "metadata": {},
   "outputs": [],
   "source": [
    "from __future__ import print_function, division\n",
    "from builtins import range, input\n",
    "import os\n",
    "import sys\n",
    "import string\n",
    "import numpy as np\n",
    "import pandas as pd\n",
    "import matplotlib.pyplot as plt"
   ]
  },
  {
   "cell_type": "code",
   "execution_count": 2,
   "id": "2de8a942",
   "metadata": {},
   "outputs": [],
   "source": [
    "from keras.models import Model\n",
    "from keras.layers import Dense, Embedding, Input, LSTM\n",
    "from keras.preprocessing.text import Tokenizer\n",
    "from keras.utils import pad_sequences\n",
    "from keras.optimizers import Adam, SGD"
   ]
  },
  {
   "cell_type": "code",
   "execution_count": 3,
   "id": "f51b5a3a",
   "metadata": {},
   "outputs": [],
   "source": [
    "try:\n",
    "  import keras.backend as K\n",
    "  if len(K.tensorflow_backend._get_available_gpus()) > 0:\n",
    "    from keras.layers import CuDNNLSTM as LSTM\n",
    "    from keras.layers import CuDNNGRU as GRU\n",
    "except:\n",
    "  pass"
   ]
  },
  {
   "cell_type": "code",
   "execution_count": 4,
   "id": "ed2b3d88",
   "metadata": {},
   "outputs": [],
   "source": [
    "# some configuration\n",
    "MAX_SEQUENCE_LENGTH = 100\n",
    "MAX_VOCAB_SIZE = 3000\n",
    "EMBEDDING_DIM = 50\n",
    "VALIDATION_SPLIT = 0.2\n",
    "BATCH_SIZE = 128\n",
    "EPOCHS = 200\n",
    "LATENT_DIM = 25"
   ]
  },
  {
   "cell_type": "code",
   "execution_count": 6,
   "id": "8aade2ef",
   "metadata": {},
   "outputs": [],
   "source": [
    "# load in the data\n",
    "input_texts = []\n",
    "target_texts = []\n",
    "for line in open('robert_frost.txt'):\n",
    "  line = line.rstrip()\n",
    "  if not line:\n",
    "    continue\n",
    "\n",
    "  input_line = '<sos> ' + line\n",
    "  target_line = line + ' <eos>'\n",
    "\n",
    "  input_texts.append(input_line)\n",
    "  target_texts.append(target_line)\n",
    "\n",
    "all_lines = input_texts + target_texts"
   ]
  },
  {
   "cell_type": "code",
   "execution_count": 11,
   "id": "0d7984dc",
   "metadata": {},
   "outputs": [
    {
     "data": {
      "text/plain": [
       "['Two roads diverged in a yellow wood, <eos>',\n",
       " 'And sorry I could not travel both <eos>',\n",
       " 'And be one traveler, long I stood <eos>',\n",
       " 'And looked down one as far as I could <eos>',\n",
       " 'To where it bent in the undergrowth; <eos>',\n",
       " 'Then took the other, as just as fair, <eos>',\n",
       " 'And having perhaps the better claim <eos>',\n",
       " 'Because it was grassy and wanted wear, <eos>',\n",
       " 'Though as for that the passing there <eos>',\n",
       " 'Had worn them really about the same, <eos>']"
      ]
     },
     "execution_count": 11,
     "metadata": {},
     "output_type": "execute_result"
    }
   ],
   "source": [
    "target_texts[:10]"
   ]
  },
  {
   "cell_type": "markdown",
   "id": "7703d2d0",
   "metadata": {},
   "source": [
    "# Tokenizing"
   ]
  },
  {
   "cell_type": "code",
   "execution_count": 8,
   "id": "7e3d4d67",
   "metadata": {},
   "outputs": [],
   "source": [
    "tokenizer = Tokenizer(num_words = MAX_VOCAB_SIZE, filters='')"
   ]
  },
  {
   "cell_type": "code",
   "execution_count": 9,
   "id": "6795f53c",
   "metadata": {},
   "outputs": [],
   "source": [
    "tokenizer.fit_on_texts(all_lines)\n",
    "input_sequences = tokenizer.texts_to_sequences(input_texts)\n",
    "target_sequences = tokenizer.texts_to_sequences(target_texts)"
   ]
  },
  {
   "cell_type": "code",
   "execution_count": 10,
   "id": "36638eec",
   "metadata": {},
   "outputs": [
    {
     "data": {
      "text/plain": [
       "[[104, 537, 538, 9, 7, 539, 540, 2],\n",
       " [5, 541, 6, 65, 31, 934, 141, 2],\n",
       " [5, 27, 24, 935, 152, 6, 221, 2],\n",
       " [5, 167, 67, 24, 17, 128, 17, 6, 65, 2],\n",
       " [4, 40, 11, 936, 9, 3, 937, 2],\n",
       " [91, 189, 3, 542, 17, 77, 17, 938, 2],\n",
       " [5, 142, 265, 3, 222, 939, 2],\n",
       " [319, 11, 14, 543, 5, 223, 940, 2],\n",
       " [122, 17, 15, 13, 3, 544, 55, 2],\n",
       " [23, 545, 52, 404, 111, 3, 546, 2]]"
      ]
     },
     "execution_count": 10,
     "metadata": {},
     "output_type": "execute_result"
    }
   ],
   "source": [
    "target_sequences[:10]"
   ]
  },
  {
   "cell_type": "code",
   "execution_count": 12,
   "id": "03bf3663",
   "metadata": {},
   "outputs": [
    {
     "name": "stdout",
     "output_type": "stream",
     "text": [
      "Max sequence is: 12\n"
     ]
    }
   ],
   "source": [
    "#find max seq length\n",
    "max_seq_len = max(len(s) for s in input_sequences)\n",
    "print('Max sequence is:', max_seq_len)"
   ]
  },
  {
   "cell_type": "code",
   "execution_count": 13,
   "id": "26fb5962",
   "metadata": {},
   "outputs": [
    {
     "name": "stdout",
     "output_type": "stream",
     "text": [
      "Found 3056 unique tokens\n"
     ]
    }
   ],
   "source": [
    "word2idx = tokenizer.word_index\n",
    "print('Found %s unique tokens' %len(word2idx))"
   ]
  },
  {
   "cell_type": "code",
   "execution_count": 15,
   "id": "7ce94b2f",
   "metadata": {},
   "outputs": [
    {
     "data": {
      "text/plain": [
       "[('<sos>', 1),\n",
       " ('<eos>', 2),\n",
       " ('the', 3),\n",
       " ('to', 4),\n",
       " ('and', 5),\n",
       " ('i', 6),\n",
       " ('a', 7),\n",
       " ('of', 8),\n",
       " ('in', 9),\n",
       " ('you', 10)]"
      ]
     },
     "execution_count": 15,
     "metadata": {},
     "output_type": "execute_result"
    }
   ],
   "source": [
    "list(word2idx.items())[:10]"
   ]
  },
  {
   "cell_type": "code",
   "execution_count": 16,
   "id": "17d42675",
   "metadata": {},
   "outputs": [
    {
     "data": {
      "text/plain": [
       "148"
      ]
     },
     "execution_count": 16,
     "metadata": {},
     "output_type": "execute_result"
    }
   ],
   "source": [
    "word2idx.get('town')"
   ]
  },
  {
   "cell_type": "code",
   "execution_count": 17,
   "id": "eede7661",
   "metadata": {},
   "outputs": [],
   "source": [
    "#PADDING\n",
    "max_seq_length = min(max_seq_len, MAX_SEQUENCE_LENGTH)\n",
    "input_sequences = pad_sequences(input_sequences, maxlen = max_seq_length, padding = 'post')\n",
    "target_sequences = pad_sequences(target_sequences, maxlen = max_seq_length, padding = 'post')"
   ]
  },
  {
   "cell_type": "markdown",
   "id": "dcddffa3",
   "metadata": {},
   "source": [
    "# Pretrained Glove to use in the Embedding layer\n",
    "\n",
    "The embedding layer is created using the following steps:\n",
    "\n",
    "- First, the pretrain Glove for word embedding is loaded. This is just a mapping of word to a fixed length (of size embedding dimension) vector. \n",
    "\n",
    "- Next, an embedding matrix of size (num_words (or max_vocab_size), embedding_dim) is created. The embedding matrix only contains word vectors for those words found in the word2idx, which was created by calling tokenizer.word2idx. "
   ]
  },
  {
   "cell_type": "code",
   "execution_count": 18,
   "id": "5a9fb612",
   "metadata": {},
   "outputs": [
    {
     "name": "stdout",
     "output_type": "stream",
     "text": [
      "Loading word vectors...\n",
      "Found 400000 word vectors.\n"
     ]
    }
   ],
   "source": [
    "# load in pre-trained word vectors\n",
    "print('Loading word vectors...')\n",
    "word2vec = {}\n",
    "with open(os.path.join('../glove.6B/glove.6B.%sd.txt' % EMBEDDING_DIM)) as f:\n",
    "  # is just a space-separated text file in the format:\n",
    "  # word vec[0] vec[1] vec[2] ...\n",
    "  for line in f:\n",
    "    values = line.split()\n",
    "    word = values[0]\n",
    "    vec = np.asarray(values[1:], dtype='float32')\n",
    "    word2vec[word] = vec\n",
    "print('Found %s word vectors.' % len(word2vec))"
   ]
  },
  {
   "cell_type": "code",
   "execution_count": 19,
   "id": "08e33b93",
   "metadata": {},
   "outputs": [
    {
     "data": {
      "text/plain": [
       "(50,\n",
       " array([ 0.66258 ,  0.2123  ,  0.77968 , -0.29735 , -1.7562  , -0.25392 ,\n",
       "        -0.9175  , -0.12077 ,  0.082226, -1.4477  , -0.87622 , -0.61384 ,\n",
       "        -0.18897 , -0.92008 , -0.76244 ,  0.412   ,  0.50552 ,  0.23814 ,\n",
       "         0.69856 , -0.66039 ,  0.25735 , -0.21809 , -0.34929 ,  0.39163 ,\n",
       "         0.56563 , -0.14954 ,  0.5056  ,  0.79658 ,  1.5936  , -0.1479  ,\n",
       "         3.2168  ,  0.17621 ,  0.38781 , -0.23386 ,  0.27452 ,  0.94828 ,\n",
       "         0.27032 , -0.003935, -0.49437 ,  1.4444  , -0.78306 , -0.14778 ,\n",
       "         0.89745 , -0.20894 , -0.56203 ,  0.015886, -0.71619 , -0.99149 ,\n",
       "         0.79767 , -0.9672  ], dtype=float32))"
      ]
     },
     "execution_count": 19,
     "metadata": {},
     "output_type": "execute_result"
    }
   ],
   "source": [
    "len(word2vec.get('roads')), word2vec.get('roads')"
   ]
  },
  {
   "cell_type": "code",
   "execution_count": 20,
   "id": "15eb2c3f",
   "metadata": {},
   "outputs": [
    {
     "name": "stdout",
     "output_type": "stream",
     "text": [
      "Filling pre-trained embeddings...\n",
      "There are 3000 words\n"
     ]
    }
   ],
   "source": [
    "# prepare embedding matrix\n",
    "print('Filling pre-trained embeddings...')\n",
    "num_words = min(MAX_VOCAB_SIZE, len(word2idx) + 1)\n",
    "embedding_matrix = np.zeros((num_words, EMBEDDING_DIM))\n",
    "print('There are %s words' %num_words)\n",
    "\n",
    "for word, i in word2idx.items():\n",
    "  if i < MAX_VOCAB_SIZE:\n",
    "    embedding_vector = word2vec.get(word)\n",
    "    if embedding_vector is not None:\n",
    "      # words not found in embedding index will be all zeros.\n",
    "      embedding_matrix[i] = embedding_vector"
   ]
  },
  {
   "cell_type": "code",
   "execution_count": 22,
   "id": "232c1017",
   "metadata": {},
   "outputs": [
    {
     "data": {
      "text/plain": [
       "(3000, 50)"
      ]
     },
     "execution_count": 22,
     "metadata": {},
     "output_type": "execute_result"
    }
   ],
   "source": [
    "embedding_matrix.shape"
   ]
  },
  {
   "cell_type": "markdown",
   "id": "2c9eada4",
   "metadata": {},
   "source": [
    "# Neural network model with Embedding layer"
   ]
  },
  {
   "cell_type": "code",
   "execution_count": 23,
   "id": "fcdb7915",
   "metadata": {},
   "outputs": [],
   "source": [
    "# load pre-trained word embeddings into an Embedding layer\n",
    "embedding_layer = Embedding(\n",
    "  num_words,\n",
    "  EMBEDDING_DIM,\n",
    "  weights=[embedding_matrix],\n",
    "  trainable=False\n",
    ")"
   ]
  },
  {
   "cell_type": "code",
   "execution_count": 24,
   "id": "7614df80",
   "metadata": {},
   "outputs": [
    {
     "name": "stdout",
     "output_type": "stream",
     "text": [
      "Model: \"model\"\n",
      "__________________________________________________________________________________________________\n",
      " Layer (type)                   Output Shape         Param #     Connected to                     \n",
      "==================================================================================================\n",
      " input_1 (InputLayer)           [(None, 12)]         0           []                               \n",
      "                                                                                                  \n",
      " embedding (Embedding)          (None, 12, 50)       150000      ['input_1[0][0]']                \n",
      "                                                                                                  \n",
      " input_2 (InputLayer)           [(None, 25)]         0           []                               \n",
      "                                                                                                  \n",
      " input_3 (InputLayer)           [(None, 25)]         0           []                               \n",
      "                                                                                                  \n",
      " lstm (LSTM)                    [(None, 12, 25),     7600        ['embedding[0][0]',              \n",
      "                                 (None, 25),                      'input_2[0][0]',                \n",
      "                                 (None, 25)]                      'input_3[0][0]']                \n",
      "                                                                                                  \n",
      " dense (Dense)                  (None, 12, 3000)     78000       ['lstm[0][0]']                   \n",
      "                                                                                                  \n",
      "==================================================================================================\n",
      "Total params: 235,600\n",
      "Trainable params: 85,600\n",
      "Non-trainable params: 150,000\n",
      "__________________________________________________________________________________________________\n"
     ]
    }
   ],
   "source": [
    "# create an LSTM network with a single LSTM\n",
    "\n",
    "#LSTM layer\n",
    "lstm = LSTM(LATENT_DIM, return_sequences=True, return_state=True)\n",
    "\n",
    "#There are 3 inputs:\n",
    "#1. input state\n",
    "input_ = Input(shape=(max_seq_length,))\n",
    "#2. hidden state of LSTM\n",
    "initial_h = Input(shape=(LATENT_DIM,))\n",
    "#3. cell state of LSTM\n",
    "initial_c = Input(shape=(LATENT_DIM,))\n",
    "#Embedding layer\n",
    "x = embedding_layer(input_)\n",
    "x, _, _ = lstm(x, initial_state=[initial_h, initial_c])\n",
    "#Dense layer\n",
    "dense = Dense(num_words, activation='softmax')\n",
    "output = dense(x)\n",
    "\n",
    "model = Model([input_, initial_h, initial_c], output)\n",
    "model.summary()"
   ]
  },
  {
   "cell_type": "code",
   "execution_count": 26,
   "id": "9471eb65",
   "metadata": {},
   "outputs": [],
   "source": [
    "model.compile(\n",
    "  loss='categorical_crossentropy',\n",
    "  # optimizer='rmsprop',\n",
    "  optimizer=Adam(learning_rate=0.01),\n",
    "  # optimizer=SGD(lr=0.01, momentum=0.9),\n",
    "  metrics=['accuracy']\n",
    ")"
   ]
  },
  {
   "cell_type": "code",
   "execution_count": 27,
   "id": "7c043f61",
   "metadata": {},
   "outputs": [],
   "source": [
    "# one-hot the targets (can't use sparse cross-entropy)\n",
    "one_hot_targets = np.zeros((len(input_sequences), max_seq_length, num_words))\n",
    "for i, target_sequence in enumerate(target_sequences):\n",
    "  for t, word in enumerate(target_sequence):\n",
    "    if word > 0:\n",
    "      one_hot_targets[i, t, word] = 1"
   ]
  },
  {
   "cell_type": "code",
   "execution_count": 28,
   "id": "ec212c85",
   "metadata": {},
   "outputs": [
    {
     "name": "stdout",
     "output_type": "stream",
     "text": [
      "Epoch 1/200\n",
      "9/9 [==============================] - 4s 212ms/step - loss: 5.3906 - accuracy: 0.0224 - val_loss: 5.0641 - val_accuracy: 0.0229\n",
      "Epoch 2/200\n",
      "9/9 [==============================] - 1s 132ms/step - loss: 4.6467 - accuracy: 0.0424 - val_loss: 4.8003 - val_accuracy: 0.0833\n",
      "Epoch 3/200\n",
      "9/9 [==============================] - 1s 127ms/step - loss: 4.4640 - accuracy: 0.0833 - val_loss: 4.8647 - val_accuracy: 0.0833\n",
      "Epoch 4/200\n",
      "9/9 [==============================] - 1s 131ms/step - loss: 4.4378 - accuracy: 0.0833 - val_loss: 4.8948 - val_accuracy: 0.0833\n",
      "Epoch 5/200\n",
      "9/9 [==============================] - 1s 142ms/step - loss: 4.4325 - accuracy: 0.0876 - val_loss: 4.8800 - val_accuracy: 0.0871\n",
      "Epoch 6/200\n",
      "9/9 [==============================] - 1s 129ms/step - loss: 4.4033 - accuracy: 0.0866 - val_loss: 4.8349 - val_accuracy: 0.0833\n",
      "Epoch 7/200\n",
      "9/9 [==============================] - 1s 126ms/step - loss: 4.3800 - accuracy: 0.0885 - val_loss: 4.8140 - val_accuracy: 0.0871\n",
      "Epoch 8/200\n",
      "9/9 [==============================] - 1s 129ms/step - loss: 4.3642 - accuracy: 0.0912 - val_loss: 4.8088 - val_accuracy: 0.0871\n",
      "Epoch 9/200\n",
      "9/9 [==============================] - 1s 137ms/step - loss: 4.3458 - accuracy: 0.0912 - val_loss: 4.8023 - val_accuracy: 0.0871\n",
      "Epoch 10/200\n",
      "9/9 [==============================] - 1s 136ms/step - loss: 4.3216 - accuracy: 0.0912 - val_loss: 4.7987 - val_accuracy: 0.0871\n",
      "Epoch 11/200\n",
      "9/9 [==============================] - 1s 134ms/step - loss: 4.2996 - accuracy: 0.0920 - val_loss: 4.7948 - val_accuracy: 0.0888\n",
      "Epoch 12/200\n",
      "9/9 [==============================] - 1s 137ms/step - loss: 4.2805 - accuracy: 0.0925 - val_loss: 4.7874 - val_accuracy: 0.0880\n",
      "Epoch 13/200\n",
      "9/9 [==============================] - 1s 132ms/step - loss: 4.2622 - accuracy: 0.0973 - val_loss: 4.7883 - val_accuracy: 0.0900\n",
      "Epoch 14/200\n",
      "9/9 [==============================] - 1s 122ms/step - loss: 4.2424 - accuracy: 0.0977 - val_loss: 4.7792 - val_accuracy: 0.0906\n",
      "Epoch 15/200\n",
      "9/9 [==============================] - 1s 135ms/step - loss: 4.2210 - accuracy: 0.0973 - val_loss: 4.7692 - val_accuracy: 0.0903\n",
      "Epoch 16/200\n",
      "9/9 [==============================] - 1s 120ms/step - loss: 4.2032 - accuracy: 0.0994 - val_loss: 4.7677 - val_accuracy: 0.0909\n",
      "Epoch 17/200\n",
      "9/9 [==============================] - 1s 141ms/step - loss: 4.1824 - accuracy: 0.0990 - val_loss: 4.7580 - val_accuracy: 0.0917\n",
      "Epoch 18/200\n",
      "9/9 [==============================] - 1s 156ms/step - loss: 4.1632 - accuracy: 0.1009 - val_loss: 4.7538 - val_accuracy: 0.0909\n",
      "Epoch 19/200\n",
      "9/9 [==============================] - 1s 146ms/step - loss: 4.1469 - accuracy: 0.0998 - val_loss: 4.7513 - val_accuracy: 0.0906\n",
      "Epoch 20/200\n",
      "9/9 [==============================] - 1s 124ms/step - loss: 4.1272 - accuracy: 0.1012 - val_loss: 4.7478 - val_accuracy: 0.0894\n",
      "Epoch 21/200\n",
      "9/9 [==============================] - 1s 123ms/step - loss: 4.1083 - accuracy: 0.1022 - val_loss: 4.7452 - val_accuracy: 0.0897\n",
      "Epoch 22/200\n",
      "9/9 [==============================] - 1s 135ms/step - loss: 4.0904 - accuracy: 0.1024 - val_loss: 4.7379 - val_accuracy: 0.0897\n",
      "Epoch 23/200\n",
      "9/9 [==============================] - 1s 135ms/step - loss: 4.0746 - accuracy: 0.1026 - val_loss: 4.7441 - val_accuracy: 0.0900\n",
      "Epoch 24/200\n",
      "9/9 [==============================] - 1s 144ms/step - loss: 4.0569 - accuracy: 0.1026 - val_loss: 4.7407 - val_accuracy: 0.0914\n",
      "Epoch 25/200\n",
      "9/9 [==============================] - 1s 133ms/step - loss: 4.0421 - accuracy: 0.1036 - val_loss: 4.7378 - val_accuracy: 0.0894\n",
      "Epoch 26/200\n",
      "9/9 [==============================] - 1s 124ms/step - loss: 4.0240 - accuracy: 0.1031 - val_loss: 4.7326 - val_accuracy: 0.0891\n",
      "Epoch 27/200\n",
      "9/9 [==============================] - 1s 124ms/step - loss: 4.0086 - accuracy: 0.1034 - val_loss: 4.7305 - val_accuracy: 0.0894\n",
      "Epoch 28/200\n",
      "9/9 [==============================] - 1s 139ms/step - loss: 3.9934 - accuracy: 0.1037 - val_loss: 4.7304 - val_accuracy: 0.0903\n",
      "Epoch 29/200\n",
      "9/9 [==============================] - 1s 130ms/step - loss: 3.9774 - accuracy: 0.1045 - val_loss: 4.7311 - val_accuracy: 0.0903\n",
      "Epoch 30/200\n",
      "9/9 [==============================] - 1s 130ms/step - loss: 3.9627 - accuracy: 0.1047 - val_loss: 4.7382 - val_accuracy: 0.0897\n",
      "Epoch 31/200\n",
      "9/9 [==============================] - 1s 129ms/step - loss: 3.9520 - accuracy: 0.1044 - val_loss: 4.7328 - val_accuracy: 0.0911\n",
      "Epoch 32/200\n",
      "9/9 [==============================] - 1s 128ms/step - loss: 3.9374 - accuracy: 0.1048 - val_loss: 4.7318 - val_accuracy: 0.0888\n",
      "Epoch 33/200\n",
      "9/9 [==============================] - 1s 129ms/step - loss: 3.9202 - accuracy: 0.1063 - val_loss: 4.7268 - val_accuracy: 0.0914\n",
      "Epoch 34/200\n",
      "9/9 [==============================] - 1s 126ms/step - loss: 3.9051 - accuracy: 0.1078 - val_loss: 4.7266 - val_accuracy: 0.0906\n",
      "Epoch 35/200\n",
      "9/9 [==============================] - 1s 125ms/step - loss: 3.8961 - accuracy: 0.1071 - val_loss: 4.7260 - val_accuracy: 0.0903\n",
      "Epoch 36/200\n",
      "9/9 [==============================] - 1s 126ms/step - loss: 3.8835 - accuracy: 0.1071 - val_loss: 4.7311 - val_accuracy: 0.0935\n",
      "Epoch 37/200\n",
      "9/9 [==============================] - 1s 125ms/step - loss: 3.8673 - accuracy: 0.1091 - val_loss: 4.7284 - val_accuracy: 0.0911\n",
      "Epoch 38/200\n",
      "9/9 [==============================] - 1s 127ms/step - loss: 3.8553 - accuracy: 0.1083 - val_loss: 4.7312 - val_accuracy: 0.0917\n",
      "Epoch 39/200\n",
      "9/9 [==============================] - 1s 130ms/step - loss: 3.8435 - accuracy: 0.1090 - val_loss: 4.7325 - val_accuracy: 0.0943\n",
      "Epoch 40/200\n",
      "9/9 [==============================] - 1s 132ms/step - loss: 3.8310 - accuracy: 0.1090 - val_loss: 4.7336 - val_accuracy: 0.0917\n",
      "Epoch 41/200\n",
      "9/9 [==============================] - 1s 128ms/step - loss: 3.8174 - accuracy: 0.1091 - val_loss: 4.7341 - val_accuracy: 0.0923\n",
      "Epoch 42/200\n",
      "9/9 [==============================] - 1s 139ms/step - loss: 3.8061 - accuracy: 0.1098 - val_loss: 4.7342 - val_accuracy: 0.0920\n",
      "Epoch 43/200\n",
      "9/9 [==============================] - 1s 135ms/step - loss: 3.7968 - accuracy: 0.1108 - val_loss: 4.7328 - val_accuracy: 0.0938\n",
      "Epoch 44/200\n",
      "9/9 [==============================] - 1s 134ms/step - loss: 3.7855 - accuracy: 0.1114 - val_loss: 4.7358 - val_accuracy: 0.0923\n",
      "Epoch 45/200\n",
      "9/9 [==============================] - 1s 126ms/step - loss: 3.7766 - accuracy: 0.1114 - val_loss: 4.7376 - val_accuracy: 0.0938\n",
      "Epoch 46/200\n",
      "9/9 [==============================] - 1s 126ms/step - loss: 3.7639 - accuracy: 0.1119 - val_loss: 4.7351 - val_accuracy: 0.0955\n",
      "Epoch 47/200\n",
      "9/9 [==============================] - 1s 130ms/step - loss: 3.7524 - accuracy: 0.1119 - val_loss: 4.7419 - val_accuracy: 0.0938\n",
      "Epoch 48/200\n",
      "9/9 [==============================] - 1s 136ms/step - loss: 3.7434 - accuracy: 0.1122 - val_loss: 4.7454 - val_accuracy: 0.0961\n",
      "Epoch 49/200\n",
      "9/9 [==============================] - 1s 134ms/step - loss: 3.7313 - accuracy: 0.1129 - val_loss: 4.7489 - val_accuracy: 0.0935\n",
      "Epoch 50/200\n",
      "9/9 [==============================] - 1s 130ms/step - loss: 3.7215 - accuracy: 0.1130 - val_loss: 4.7478 - val_accuracy: 0.0969\n",
      "Epoch 51/200\n",
      "9/9 [==============================] - 1s 133ms/step - loss: 3.7115 - accuracy: 0.1132 - val_loss: 4.7490 - val_accuracy: 0.0949\n",
      "Epoch 52/200\n",
      "9/9 [==============================] - 1s 137ms/step - loss: 3.7003 - accuracy: 0.1140 - val_loss: 4.7487 - val_accuracy: 0.0969\n",
      "Epoch 53/200\n",
      "9/9 [==============================] - 1s 130ms/step - loss: 3.6902 - accuracy: 0.1148 - val_loss: 4.7520 - val_accuracy: 0.0969\n",
      "Epoch 54/200\n",
      "9/9 [==============================] - 1s 133ms/step - loss: 3.6813 - accuracy: 0.1151 - val_loss: 4.7557 - val_accuracy: 0.0978\n",
      "Epoch 55/200\n",
      "9/9 [==============================] - 1s 137ms/step - loss: 3.6706 - accuracy: 0.1152 - val_loss: 4.7591 - val_accuracy: 0.0978\n",
      "Epoch 56/200\n",
      "9/9 [==============================] - 1s 138ms/step - loss: 3.6628 - accuracy: 0.1153 - val_loss: 4.7575 - val_accuracy: 0.0978\n",
      "Epoch 57/200\n",
      "9/9 [==============================] - 1s 137ms/step - loss: 3.6514 - accuracy: 0.1154 - val_loss: 4.7595 - val_accuracy: 0.0984\n",
      "Epoch 58/200\n",
      "9/9 [==============================] - 1s 137ms/step - loss: 3.6448 - accuracy: 0.1154 - val_loss: 4.7661 - val_accuracy: 0.0990\n"
     ]
    },
    {
     "name": "stdout",
     "output_type": "stream",
     "text": [
      "Epoch 59/200\n",
      "9/9 [==============================] - 1s 131ms/step - loss: 3.6351 - accuracy: 0.1161 - val_loss: 4.7735 - val_accuracy: 0.0969\n",
      "Epoch 60/200\n",
      "9/9 [==============================] - 1s 133ms/step - loss: 3.6244 - accuracy: 0.1161 - val_loss: 4.7681 - val_accuracy: 0.0978\n",
      "Epoch 61/200\n",
      "9/9 [==============================] - 1s 133ms/step - loss: 3.6167 - accuracy: 0.1172 - val_loss: 4.7754 - val_accuracy: 0.0990\n",
      "Epoch 62/200\n",
      "9/9 [==============================] - 1s 135ms/step - loss: 3.6074 - accuracy: 0.1165 - val_loss: 4.7716 - val_accuracy: 0.0981\n",
      "Epoch 63/200\n",
      "9/9 [==============================] - 1s 133ms/step - loss: 3.5981 - accuracy: 0.1167 - val_loss: 4.7802 - val_accuracy: 0.0987\n",
      "Epoch 64/200\n",
      "9/9 [==============================] - 1s 133ms/step - loss: 3.5889 - accuracy: 0.1172 - val_loss: 4.7847 - val_accuracy: 0.0998\n",
      "Epoch 65/200\n",
      "9/9 [==============================] - 1s 133ms/step - loss: 3.5819 - accuracy: 0.1176 - val_loss: 4.7747 - val_accuracy: 0.0992\n",
      "Epoch 66/200\n",
      "9/9 [==============================] - 1s 146ms/step - loss: 3.5728 - accuracy: 0.1173 - val_loss: 4.7870 - val_accuracy: 0.0969\n",
      "Epoch 67/200\n",
      "9/9 [==============================] - 1s 136ms/step - loss: 3.5636 - accuracy: 0.1182 - val_loss: 4.7892 - val_accuracy: 0.0992\n",
      "Epoch 68/200\n",
      "9/9 [==============================] - 1s 138ms/step - loss: 3.5573 - accuracy: 0.1180 - val_loss: 4.7954 - val_accuracy: 0.0990\n",
      "Epoch 69/200\n",
      "9/9 [==============================] - 1s 141ms/step - loss: 3.5467 - accuracy: 0.1185 - val_loss: 4.7903 - val_accuracy: 0.0981\n",
      "Epoch 70/200\n",
      "9/9 [==============================] - 1s 142ms/step - loss: 3.5416 - accuracy: 0.1177 - val_loss: 4.8004 - val_accuracy: 0.0992\n",
      "Epoch 71/200\n",
      "9/9 [==============================] - 1s 139ms/step - loss: 3.5318 - accuracy: 0.1185 - val_loss: 4.8043 - val_accuracy: 0.0975\n",
      "Epoch 72/200\n",
      "9/9 [==============================] - 1s 140ms/step - loss: 3.5237 - accuracy: 0.1182 - val_loss: 4.8037 - val_accuracy: 0.0984\n",
      "Epoch 73/200\n",
      "9/9 [==============================] - 1s 147ms/step - loss: 3.5161 - accuracy: 0.1187 - val_loss: 4.8053 - val_accuracy: 0.0978\n",
      "Epoch 74/200\n",
      "9/9 [==============================] - 1s 155ms/step - loss: 3.5101 - accuracy: 0.1185 - val_loss: 4.8178 - val_accuracy: 0.0990\n",
      "Epoch 75/200\n",
      "9/9 [==============================] - 1s 156ms/step - loss: 3.5023 - accuracy: 0.1200 - val_loss: 4.8165 - val_accuracy: 0.0975\n",
      "Epoch 76/200\n",
      "9/9 [==============================] - 1s 161ms/step - loss: 3.4931 - accuracy: 0.1188 - val_loss: 4.8151 - val_accuracy: 0.0972\n",
      "Epoch 77/200\n",
      "9/9 [==============================] - 1s 144ms/step - loss: 3.4866 - accuracy: 0.1190 - val_loss: 4.8215 - val_accuracy: 0.0969\n",
      "Epoch 78/200\n",
      "9/9 [==============================] - 1s 143ms/step - loss: 3.4782 - accuracy: 0.1196 - val_loss: 4.8229 - val_accuracy: 0.0978\n",
      "Epoch 79/200\n",
      "9/9 [==============================] - 1s 136ms/step - loss: 3.4724 - accuracy: 0.1191 - val_loss: 4.8272 - val_accuracy: 0.0972\n",
      "Epoch 80/200\n",
      "9/9 [==============================] - 1s 136ms/step - loss: 3.4641 - accuracy: 0.1197 - val_loss: 4.8383 - val_accuracy: 0.0969\n",
      "Epoch 81/200\n",
      "9/9 [==============================] - 1s 138ms/step - loss: 3.4555 - accuracy: 0.1193 - val_loss: 4.8390 - val_accuracy: 0.0964\n",
      "Epoch 82/200\n",
      "9/9 [==============================] - 1s 138ms/step - loss: 3.4514 - accuracy: 0.1196 - val_loss: 4.8395 - val_accuracy: 0.0972\n",
      "Epoch 83/200\n",
      "9/9 [==============================] - 1s 150ms/step - loss: 3.4415 - accuracy: 0.1207 - val_loss: 4.8372 - val_accuracy: 0.0972\n",
      "Epoch 84/200\n",
      "9/9 [==============================] - 1s 151ms/step - loss: 3.4367 - accuracy: 0.1204 - val_loss: 4.8423 - val_accuracy: 0.0969\n",
      "Epoch 85/200\n",
      "9/9 [==============================] - 1s 143ms/step - loss: 3.4319 - accuracy: 0.1196 - val_loss: 4.8511 - val_accuracy: 0.0966\n",
      "Epoch 86/200\n",
      "9/9 [==============================] - 1s 138ms/step - loss: 3.4202 - accuracy: 0.1203 - val_loss: 4.8482 - val_accuracy: 0.0966\n",
      "Epoch 87/200\n",
      "9/9 [==============================] - 1s 142ms/step - loss: 3.4128 - accuracy: 0.1211 - val_loss: 4.8566 - val_accuracy: 0.0966\n",
      "Epoch 88/200\n",
      "9/9 [==============================] - 1s 140ms/step - loss: 3.4086 - accuracy: 0.1214 - val_loss: 4.8592 - val_accuracy: 0.0958\n",
      "Epoch 89/200\n",
      "9/9 [==============================] - 1s 141ms/step - loss: 3.4015 - accuracy: 0.1219 - val_loss: 4.8668 - val_accuracy: 0.0966\n",
      "Epoch 90/200\n",
      "9/9 [==============================] - 1s 132ms/step - loss: 3.3940 - accuracy: 0.1222 - val_loss: 4.8697 - val_accuracy: 0.0958\n",
      "Epoch 91/200\n",
      "9/9 [==============================] - 1s 135ms/step - loss: 3.3857 - accuracy: 0.1215 - val_loss: 4.8649 - val_accuracy: 0.0958\n",
      "Epoch 92/200\n",
      "9/9 [==============================] - 1s 139ms/step - loss: 3.3831 - accuracy: 0.1220 - val_loss: 4.8784 - val_accuracy: 0.0961\n",
      "Epoch 93/200\n",
      "9/9 [==============================] - 1s 134ms/step - loss: 3.3741 - accuracy: 0.1223 - val_loss: 4.8804 - val_accuracy: 0.0961\n",
      "Epoch 94/200\n",
      "9/9 [==============================] - 1s 135ms/step - loss: 3.3708 - accuracy: 0.1225 - val_loss: 4.8835 - val_accuracy: 0.0961\n",
      "Epoch 95/200\n",
      "9/9 [==============================] - 1s 147ms/step - loss: 3.3595 - accuracy: 0.1230 - val_loss: 4.8832 - val_accuracy: 0.0964\n",
      "Epoch 96/200\n",
      "9/9 [==============================] - 1s 150ms/step - loss: 3.3553 - accuracy: 0.1227 - val_loss: 4.8882 - val_accuracy: 0.0955\n",
      "Epoch 97/200\n",
      "9/9 [==============================] - 1s 143ms/step - loss: 3.3487 - accuracy: 0.1237 - val_loss: 4.8933 - val_accuracy: 0.0952\n",
      "Epoch 98/200\n",
      "9/9 [==============================] - 1s 140ms/step - loss: 3.3397 - accuracy: 0.1238 - val_loss: 4.8987 - val_accuracy: 0.0949\n",
      "Epoch 99/200\n",
      "9/9 [==============================] - 1s 146ms/step - loss: 3.3337 - accuracy: 0.1238 - val_loss: 4.9057 - val_accuracy: 0.0955\n",
      "Epoch 100/200\n",
      "9/9 [==============================] - 1s 139ms/step - loss: 3.3279 - accuracy: 0.1242 - val_loss: 4.9036 - val_accuracy: 0.0952\n",
      "Epoch 101/200\n",
      "9/9 [==============================] - 1s 144ms/step - loss: 3.3220 - accuracy: 0.1251 - val_loss: 4.9082 - val_accuracy: 0.0952\n",
      "Epoch 102/200\n",
      "9/9 [==============================] - 1s 142ms/step - loss: 3.3149 - accuracy: 0.1250 - val_loss: 4.9082 - val_accuracy: 0.0961\n",
      "Epoch 103/200\n",
      "9/9 [==============================] - 1s 143ms/step - loss: 3.3111 - accuracy: 0.1259 - val_loss: 4.9169 - val_accuracy: 0.0961\n",
      "Epoch 104/200\n",
      "9/9 [==============================] - 1s 144ms/step - loss: 3.3024 - accuracy: 0.1261 - val_loss: 4.9234 - val_accuracy: 0.0949\n",
      "Epoch 105/200\n",
      "9/9 [==============================] - 1s 147ms/step - loss: 3.2959 - accuracy: 0.1257 - val_loss: 4.9256 - val_accuracy: 0.0955\n",
      "Epoch 106/200\n",
      "9/9 [==============================] - 1s 136ms/step - loss: 3.2940 - accuracy: 0.1263 - val_loss: 4.9256 - val_accuracy: 0.0955\n",
      "Epoch 107/200\n",
      "9/9 [==============================] - 1s 140ms/step - loss: 3.2863 - accuracy: 0.1275 - val_loss: 4.9327 - val_accuracy: 0.0952\n",
      "Epoch 108/200\n",
      "9/9 [==============================] - 1s 139ms/step - loss: 3.2802 - accuracy: 0.1267 - val_loss: 4.9433 - val_accuracy: 0.0943\n",
      "Epoch 109/200\n",
      "9/9 [==============================] - 1s 146ms/step - loss: 3.2728 - accuracy: 0.1290 - val_loss: 4.9468 - val_accuracy: 0.0943\n",
      "Epoch 110/200\n",
      "9/9 [==============================] - 2s 206ms/step - loss: 3.2672 - accuracy: 0.1278 - val_loss: 4.9409 - val_accuracy: 0.0958\n",
      "Epoch 111/200\n",
      "9/9 [==============================] - 1s 150ms/step - loss: 3.2603 - accuracy: 0.1280 - val_loss: 4.9474 - val_accuracy: 0.0958\n",
      "Epoch 112/200\n",
      "9/9 [==============================] - 1s 142ms/step - loss: 3.2557 - accuracy: 0.1285 - val_loss: 4.9591 - val_accuracy: 0.0946\n",
      "Epoch 113/200\n",
      "9/9 [==============================] - 1s 143ms/step - loss: 3.2532 - accuracy: 0.1296 - val_loss: 4.9621 - val_accuracy: 0.0940\n",
      "Epoch 114/200\n",
      "9/9 [==============================] - 1s 157ms/step - loss: 3.2452 - accuracy: 0.1290 - val_loss: 4.9613 - val_accuracy: 0.0938\n",
      "Epoch 115/200\n",
      "9/9 [==============================] - 1s 139ms/step - loss: 3.2396 - accuracy: 0.1291 - val_loss: 4.9672 - val_accuracy: 0.0940\n",
      "Epoch 116/200\n"
     ]
    },
    {
     "name": "stdout",
     "output_type": "stream",
     "text": [
      "9/9 [==============================] - 1s 143ms/step - loss: 3.2349 - accuracy: 0.1292 - val_loss: 4.9702 - val_accuracy: 0.0940\n",
      "Epoch 117/200\n",
      "9/9 [==============================] - 2s 191ms/step - loss: 3.2282 - accuracy: 0.1302 - val_loss: 4.9780 - val_accuracy: 0.0943\n",
      "Epoch 118/200\n",
      "9/9 [==============================] - 1s 138ms/step - loss: 3.2232 - accuracy: 0.1302 - val_loss: 4.9804 - val_accuracy: 0.0935\n",
      "Epoch 119/200\n",
      "9/9 [==============================] - 1s 139ms/step - loss: 3.2174 - accuracy: 0.1295 - val_loss: 4.9801 - val_accuracy: 0.0935\n",
      "Epoch 120/200\n",
      "9/9 [==============================] - 1s 136ms/step - loss: 3.2119 - accuracy: 0.1307 - val_loss: 4.9852 - val_accuracy: 0.0943\n",
      "Epoch 121/200\n",
      "9/9 [==============================] - 1s 146ms/step - loss: 3.2099 - accuracy: 0.1302 - val_loss: 5.0021 - val_accuracy: 0.0938\n",
      "Epoch 122/200\n",
      "9/9 [==============================] - 1s 151ms/step - loss: 3.2030 - accuracy: 0.1316 - val_loss: 4.9954 - val_accuracy: 0.0935\n",
      "Epoch 123/200\n",
      "9/9 [==============================] - 1s 139ms/step - loss: 3.1965 - accuracy: 0.1311 - val_loss: 5.0038 - val_accuracy: 0.0940\n",
      "Epoch 124/200\n",
      "9/9 [==============================] - 1s 135ms/step - loss: 3.1944 - accuracy: 0.1315 - val_loss: 5.0021 - val_accuracy: 0.0946\n",
      "Epoch 125/200\n",
      "9/9 [==============================] - 1s 137ms/step - loss: 3.1891 - accuracy: 0.1327 - val_loss: 5.0038 - val_accuracy: 0.0938\n",
      "Epoch 126/200\n",
      "9/9 [==============================] - 1s 138ms/step - loss: 3.1854 - accuracy: 0.1326 - val_loss: 5.0205 - val_accuracy: 0.0935\n",
      "Epoch 127/200\n",
      "9/9 [==============================] - 1s 138ms/step - loss: 3.1803 - accuracy: 0.1313 - val_loss: 5.0268 - val_accuracy: 0.0929\n",
      "Epoch 128/200\n",
      "9/9 [==============================] - 1s 147ms/step - loss: 3.1753 - accuracy: 0.1323 - val_loss: 5.0345 - val_accuracy: 0.0938\n",
      "Epoch 129/200\n",
      "9/9 [==============================] - 1s 151ms/step - loss: 3.1748 - accuracy: 0.1333 - val_loss: 5.0438 - val_accuracy: 0.0940\n",
      "Epoch 130/200\n",
      "9/9 [==============================] - 1s 144ms/step - loss: 3.1668 - accuracy: 0.1324 - val_loss: 5.0427 - val_accuracy: 0.0940\n",
      "Epoch 131/200\n",
      "9/9 [==============================] - 1s 154ms/step - loss: 3.1655 - accuracy: 0.1330 - val_loss: 5.0385 - val_accuracy: 0.0935\n",
      "Epoch 132/200\n",
      "9/9 [==============================] - 1s 148ms/step - loss: 3.1535 - accuracy: 0.1328 - val_loss: 5.0400 - val_accuracy: 0.0932\n",
      "Epoch 133/200\n",
      "9/9 [==============================] - 1s 152ms/step - loss: 3.1511 - accuracy: 0.1346 - val_loss: 5.0374 - val_accuracy: 0.0943\n",
      "Epoch 134/200\n",
      "9/9 [==============================] - 1s 144ms/step - loss: 3.1473 - accuracy: 0.1327 - val_loss: 5.0584 - val_accuracy: 0.0935\n",
      "Epoch 135/200\n",
      "9/9 [==============================] - 1s 147ms/step - loss: 3.1414 - accuracy: 0.1351 - val_loss: 5.0540 - val_accuracy: 0.0935\n",
      "Epoch 136/200\n",
      "9/9 [==============================] - 1s 149ms/step - loss: 3.1375 - accuracy: 0.1349 - val_loss: 5.0599 - val_accuracy: 0.0929\n",
      "Epoch 137/200\n",
      "9/9 [==============================] - 1s 152ms/step - loss: 3.1348 - accuracy: 0.1353 - val_loss: 5.0794 - val_accuracy: 0.0929\n",
      "Epoch 138/200\n",
      "9/9 [==============================] - 1s 149ms/step - loss: 3.1317 - accuracy: 0.1345 - val_loss: 5.0753 - val_accuracy: 0.0943\n",
      "Epoch 139/200\n",
      "9/9 [==============================] - 1s 151ms/step - loss: 3.1240 - accuracy: 0.1359 - val_loss: 5.0560 - val_accuracy: 0.0929\n",
      "Epoch 140/200\n",
      "9/9 [==============================] - 1s 144ms/step - loss: 3.1252 - accuracy: 0.1358 - val_loss: 5.0762 - val_accuracy: 0.0932\n",
      "Epoch 141/200\n",
      "9/9 [==============================] - 1s 139ms/step - loss: 3.1225 - accuracy: 0.1353 - val_loss: 5.0708 - val_accuracy: 0.0938\n",
      "Epoch 142/200\n",
      "9/9 [==============================] - 1s 137ms/step - loss: 3.1168 - accuracy: 0.1352 - val_loss: 5.0879 - val_accuracy: 0.0938\n",
      "Epoch 143/200\n",
      "9/9 [==============================] - 1s 138ms/step - loss: 3.1113 - accuracy: 0.1369 - val_loss: 5.0937 - val_accuracy: 0.0935\n",
      "Epoch 144/200\n",
      "9/9 [==============================] - 1s 154ms/step - loss: 3.1082 - accuracy: 0.1370 - val_loss: 5.1062 - val_accuracy: 0.0935\n",
      "Epoch 145/200\n",
      "9/9 [==============================] - 1s 143ms/step - loss: 3.1020 - accuracy: 0.1366 - val_loss: 5.0952 - val_accuracy: 0.0938\n",
      "Epoch 146/200\n",
      "9/9 [==============================] - 1s 137ms/step - loss: 3.1005 - accuracy: 0.1375 - val_loss: 5.1087 - val_accuracy: 0.0940\n",
      "Epoch 147/200\n",
      "9/9 [==============================] - 1s 146ms/step - loss: 3.0980 - accuracy: 0.1370 - val_loss: 5.1064 - val_accuracy: 0.0935\n",
      "Epoch 148/200\n",
      "9/9 [==============================] - 1s 149ms/step - loss: 3.0903 - accuracy: 0.1377 - val_loss: 5.1264 - val_accuracy: 0.0935\n",
      "Epoch 149/200\n",
      "9/9 [==============================] - 1s 148ms/step - loss: 3.0878 - accuracy: 0.1380 - val_loss: 5.1310 - val_accuracy: 0.0935\n",
      "Epoch 150/200\n",
      "9/9 [==============================] - 1s 157ms/step - loss: 3.0849 - accuracy: 0.1373 - val_loss: 5.1027 - val_accuracy: 0.0923\n",
      "Epoch 151/200\n",
      "9/9 [==============================] - 1s 145ms/step - loss: 3.0840 - accuracy: 0.1384 - val_loss: 5.1231 - val_accuracy: 0.0943\n",
      "Epoch 152/200\n",
      "9/9 [==============================] - 1s 140ms/step - loss: 3.0791 - accuracy: 0.1392 - val_loss: 5.1257 - val_accuracy: 0.0929\n",
      "Epoch 153/200\n",
      "9/9 [==============================] - 1s 149ms/step - loss: 3.0789 - accuracy: 0.1397 - val_loss: 5.1252 - val_accuracy: 0.0932\n",
      "Epoch 154/200\n",
      "9/9 [==============================] - 1s 158ms/step - loss: 3.0710 - accuracy: 0.1394 - val_loss: 5.1607 - val_accuracy: 0.0929\n",
      "Epoch 155/200\n",
      "9/9 [==============================] - 1s 149ms/step - loss: 3.0685 - accuracy: 0.1413 - val_loss: 5.1511 - val_accuracy: 0.0935\n",
      "Epoch 156/200\n",
      "9/9 [==============================] - 1s 154ms/step - loss: 3.0642 - accuracy: 0.1391 - val_loss: 5.1536 - val_accuracy: 0.0932\n",
      "Epoch 157/200\n",
      "9/9 [==============================] - 1s 140ms/step - loss: 3.0612 - accuracy: 0.1406 - val_loss: 5.1553 - val_accuracy: 0.0940\n",
      "Epoch 158/200\n",
      "9/9 [==============================] - 1s 140ms/step - loss: 3.0570 - accuracy: 0.1400 - val_loss: 5.1652 - val_accuracy: 0.0914\n",
      "Epoch 159/200\n",
      "9/9 [==============================] - 1s 139ms/step - loss: 3.0563 - accuracy: 0.1425 - val_loss: 5.1533 - val_accuracy: 0.0935\n",
      "Epoch 160/200\n",
      "9/9 [==============================] - 1s 140ms/step - loss: 3.0523 - accuracy: 0.1410 - val_loss: 5.1715 - val_accuracy: 0.0920\n",
      "Epoch 161/200\n",
      "9/9 [==============================] - 1s 139ms/step - loss: 3.0488 - accuracy: 0.1420 - val_loss: 5.1830 - val_accuracy: 0.0935\n",
      "Epoch 162/200\n",
      "9/9 [==============================] - 1s 140ms/step - loss: 3.0451 - accuracy: 0.1420 - val_loss: 5.1835 - val_accuracy: 0.0926\n",
      "Epoch 163/200\n",
      "9/9 [==============================] - 1s 139ms/step - loss: 3.0414 - accuracy: 0.1413 - val_loss: 5.1793 - val_accuracy: 0.0943\n",
      "Epoch 164/200\n",
      "9/9 [==============================] - 1s 139ms/step - loss: 3.0395 - accuracy: 0.1426 - val_loss: 5.2018 - val_accuracy: 0.0914\n",
      "Epoch 165/200\n",
      "9/9 [==============================] - 1s 143ms/step - loss: 3.0394 - accuracy: 0.1434 - val_loss: 5.2112 - val_accuracy: 0.0929\n",
      "Epoch 166/200\n",
      "9/9 [==============================] - 1s 160ms/step - loss: 3.0337 - accuracy: 0.1419 - val_loss: 5.1973 - val_accuracy: 0.0938\n",
      "Epoch 167/200\n",
      "9/9 [==============================] - 1s 146ms/step - loss: 3.0324 - accuracy: 0.1432 - val_loss: 5.2035 - val_accuracy: 0.0917\n",
      "Epoch 168/200\n",
      "9/9 [==============================] - 2s 182ms/step - loss: 3.0286 - accuracy: 0.1434 - val_loss: 5.2099 - val_accuracy: 0.0923\n",
      "Epoch 169/200\n",
      "9/9 [==============================] - 1s 156ms/step - loss: 3.0263 - accuracy: 0.1441 - val_loss: 5.2105 - val_accuracy: 0.0920\n",
      "Epoch 170/200\n",
      "9/9 [==============================] - 1s 159ms/step - loss: 3.0223 - accuracy: 0.1445 - val_loss: 5.2200 - val_accuracy: 0.0920\n",
      "Epoch 171/200\n",
      "9/9 [==============================] - 1s 159ms/step - loss: 3.0187 - accuracy: 0.1449 - val_loss: 5.2195 - val_accuracy: 0.0932\n",
      "Epoch 172/200\n",
      "9/9 [==============================] - 1s 153ms/step - loss: 3.0163 - accuracy: 0.1451 - val_loss: 5.2349 - val_accuracy: 0.0923\n",
      "Epoch 173/200\n"
     ]
    },
    {
     "name": "stdout",
     "output_type": "stream",
     "text": [
      "9/9 [==============================] - 1s 149ms/step - loss: 3.0140 - accuracy: 0.1453 - val_loss: 5.2318 - val_accuracy: 0.0920\n",
      "Epoch 174/200\n",
      "9/9 [==============================] - 1s 147ms/step - loss: 3.0100 - accuracy: 0.1453 - val_loss: 5.2410 - val_accuracy: 0.0911\n",
      "Epoch 175/200\n",
      "9/9 [==============================] - 1s 141ms/step - loss: 3.0059 - accuracy: 0.1466 - val_loss: 5.2389 - val_accuracy: 0.0920\n",
      "Epoch 176/200\n",
      "9/9 [==============================] - 1s 138ms/step - loss: 3.0066 - accuracy: 0.1450 - val_loss: 5.2532 - val_accuracy: 0.0920\n",
      "Epoch 177/200\n",
      "9/9 [==============================] - 1s 154ms/step - loss: 3.0058 - accuracy: 0.1470 - val_loss: 5.2510 - val_accuracy: 0.0923\n",
      "Epoch 178/200\n",
      "9/9 [==============================] - 1s 152ms/step - loss: 3.0013 - accuracy: 0.1466 - val_loss: 5.2684 - val_accuracy: 0.0923\n",
      "Epoch 179/200\n",
      "9/9 [==============================] - 1s 145ms/step - loss: 2.9989 - accuracy: 0.1473 - val_loss: 5.2527 - val_accuracy: 0.0920\n",
      "Epoch 180/200\n",
      "9/9 [==============================] - 1s 148ms/step - loss: 2.9967 - accuracy: 0.1478 - val_loss: 5.2781 - val_accuracy: 0.0926\n",
      "Epoch 181/200\n",
      "9/9 [==============================] - 1s 147ms/step - loss: 2.9916 - accuracy: 0.1461 - val_loss: 5.2710 - val_accuracy: 0.0926\n",
      "Epoch 182/200\n",
      "9/9 [==============================] - 1s 145ms/step - loss: 2.9917 - accuracy: 0.1475 - val_loss: 5.2779 - val_accuracy: 0.0923\n",
      "Epoch 183/200\n",
      "9/9 [==============================] - 1s 149ms/step - loss: 2.9874 - accuracy: 0.1484 - val_loss: 5.2653 - val_accuracy: 0.0923\n",
      "Epoch 184/200\n",
      "9/9 [==============================] - 1s 160ms/step - loss: 2.9875 - accuracy: 0.1490 - val_loss: 5.2723 - val_accuracy: 0.0932\n",
      "Epoch 185/200\n",
      "9/9 [==============================] - 1s 141ms/step - loss: 2.9832 - accuracy: 0.1494 - val_loss: 5.3114 - val_accuracy: 0.0923\n",
      "Epoch 186/200\n",
      "9/9 [==============================] - 1s 139ms/step - loss: 2.9800 - accuracy: 0.1492 - val_loss: 5.2976 - val_accuracy: 0.0926\n",
      "Epoch 187/200\n",
      "9/9 [==============================] - 1s 146ms/step - loss: 2.9781 - accuracy: 0.1483 - val_loss: 5.3042 - val_accuracy: 0.0920\n",
      "Epoch 188/200\n",
      "9/9 [==============================] - 1s 161ms/step - loss: 2.9749 - accuracy: 0.1500 - val_loss: 5.2894 - val_accuracy: 0.0926\n",
      "Epoch 189/200\n",
      "9/9 [==============================] - 1s 147ms/step - loss: 2.9750 - accuracy: 0.1502 - val_loss: 5.3089 - val_accuracy: 0.0926\n",
      "Epoch 190/200\n",
      "9/9 [==============================] - 1s 143ms/step - loss: 2.9691 - accuracy: 0.1496 - val_loss: 5.3160 - val_accuracy: 0.0914\n",
      "Epoch 191/200\n",
      "9/9 [==============================] - 1s 154ms/step - loss: 2.9679 - accuracy: 0.1506 - val_loss: 5.3258 - val_accuracy: 0.0923\n",
      "Epoch 192/200\n",
      "9/9 [==============================] - 1s 158ms/step - loss: 2.9678 - accuracy: 0.1500 - val_loss: 5.3339 - val_accuracy: 0.0914\n",
      "Epoch 193/200\n",
      "9/9 [==============================] - 1s 147ms/step - loss: 2.9638 - accuracy: 0.1506 - val_loss: 5.3176 - val_accuracy: 0.0926\n",
      "Epoch 194/200\n",
      "9/9 [==============================] - 1s 148ms/step - loss: 2.9645 - accuracy: 0.1507 - val_loss: 5.3286 - val_accuracy: 0.0923\n",
      "Epoch 195/200\n",
      "9/9 [==============================] - 1s 149ms/step - loss: 2.9571 - accuracy: 0.1508 - val_loss: 5.3492 - val_accuracy: 0.0920\n",
      "Epoch 196/200\n",
      "9/9 [==============================] - 1s 143ms/step - loss: 2.9609 - accuracy: 0.1523 - val_loss: 5.3365 - val_accuracy: 0.0914\n",
      "Epoch 197/200\n",
      "9/9 [==============================] - 1s 153ms/step - loss: 2.9537 - accuracy: 0.1508 - val_loss: 5.3438 - val_accuracy: 0.0917\n",
      "Epoch 198/200\n",
      "9/9 [==============================] - 1s 149ms/step - loss: 2.9527 - accuracy: 0.1508 - val_loss: 5.3527 - val_accuracy: 0.0926\n",
      "Epoch 199/200\n",
      "9/9 [==============================] - 1s 147ms/step - loss: 2.9540 - accuracy: 0.1519 - val_loss: 5.3634 - val_accuracy: 0.0917\n",
      "Epoch 200/200\n",
      "9/9 [==============================] - 1s 153ms/step - loss: 2.9480 - accuracy: 0.1510 - val_loss: 5.3770 - val_accuracy: 0.0914\n"
     ]
    }
   ],
   "source": [
    "#use zeros for initial states h and c\n",
    "z = np.zeros((len(input_sequences), LATENT_DIM))\n",
    "\n",
    "r = model.fit(\n",
    "  [input_sequences, z, z],\n",
    "  one_hot_targets,\n",
    "  batch_size=BATCH_SIZE,\n",
    "  epochs=EPOCHS,\n",
    "  validation_split=VALIDATION_SPLIT\n",
    ")"
   ]
  },
  {
   "cell_type": "code",
   "execution_count": 29,
   "id": "17235e19",
   "metadata": {},
   "outputs": [
    {
     "data": {
      "image/png": "[encoded data removed]",
      "text/plain": [
       "<Figure size 432x288 with 1 Axes>"
      ]
     },
     "metadata": {
      "needs_background": "light"
     },
     "output_type": "display_data"
    },
    {
     "data": {
      "image/png": "[encoded data removed]",
      "text/plain": [
       "<Figure size 432x288 with 1 Axes>"
      ]
     },
     "metadata": {
      "needs_background": "light"
     },
     "output_type": "display_data"
    }
   ],
   "source": [
    "# plot some data\n",
    "plt.plot(r.history['loss'], label='loss')\n",
    "plt.plot(r.history['val_loss'], label='val_loss')\n",
    "plt.legend()\n",
    "plt.show()\n",
    "\n",
    "# accuracies\n",
    "plt.plot(r.history['accuracy'], label='acc')\n",
    "plt.plot(r.history['val_accuracy'], label='val_acc')\n",
    "plt.legend()\n",
    "plt.show()"
   ]
  },
  {
   "cell_type": "markdown",
   "id": "bb5b3e3a",
   "metadata": {},
   "source": [
    "# Make a sampling model\n",
    "\n",
    "Instead of using the model above that takes as input an entire sequence, we need to create a sampling model to process one word at a time. "
   ]
  },
  {
   "cell_type": "code",
   "execution_count": 30,
   "id": "460dfe08",
   "metadata": {},
   "outputs": [],
   "source": [
    "# make a sampling model\n",
    "input2 = Input(shape=(1,)) # we'll only input one word at a time\n",
    "x = embedding_layer(input2)\n",
    "x, h, c = lstm(x, initial_state=[initial_h, initial_c]) # now we need states to feed back in\n",
    "output2 = dense(x)\n",
    "sampling_model = Model([input2, initial_h, initial_c], [output2, h, c])"
   ]
  },
  {
   "cell_type": "code",
   "execution_count": 31,
   "id": "452eaf73",
   "metadata": {},
   "outputs": [
    {
     "name": "stdout",
     "output_type": "stream",
     "text": [
      "Model: \"model_1\"\n",
      "__________________________________________________________________________________________________\n",
      " Layer (type)                   Output Shape         Param #     Connected to                     \n",
      "==================================================================================================\n",
      " input_4 (InputLayer)           [(None, 1)]          0           []                               \n",
      "                                                                                                  \n",
      " embedding (Embedding)          multiple             150000      ['input_4[0][0]']                \n",
      "                                                                                                  \n",
      " input_2 (InputLayer)           [(None, 25)]         0           []                               \n",
      "                                                                                                  \n",
      " input_3 (InputLayer)           [(None, 25)]         0           []                               \n",
      "                                                                                                  \n",
      " lstm (LSTM)                    multiple             7600        ['embedding[1][0]',              \n",
      "                                                                  'input_2[0][0]',                \n",
      "                                                                  'input_3[0][0]']                \n",
      "                                                                                                  \n",
      " dense (Dense)                  multiple             78000       ['lstm[1][0]']                   \n",
      "                                                                                                  \n",
      "==================================================================================================\n",
      "Total params: 235,600\n",
      "Trainable params: 85,600\n",
      "Non-trainable params: 150,000\n",
      "__________________________________________________________________________________________________\n"
     ]
    }
   ],
   "source": [
    "sampling_model.summary()"
   ]
  },
  {
   "cell_type": "code",
   "execution_count": 32,
   "id": "eefdf79e",
   "metadata": {},
   "outputs": [],
   "source": [
    "# reverse word2idx dictionary to get back words\n",
    "# during prediction\n",
    "idx2word = {v:k for k, v in word2idx.items()}"
   ]
  },
  {
   "cell_type": "code",
   "execution_count": 33,
   "id": "da53aa8b",
   "metadata": {},
   "outputs": [],
   "source": [
    "def sample_line():\n",
    "  # initial inputs\n",
    "  np_input = np.array([[ word2idx['<sos>'] ]])\n",
    "  h = np.zeros((1, LATENT_DIM))\n",
    "  c = np.zeros((1, LATENT_DIM))\n",
    "\n",
    "  # so we know when to quit\n",
    "  eos = word2idx['<eos>']\n",
    "\n",
    "  # store the output here\n",
    "  output_sentence = []\n",
    "\n",
    "  for _ in range(max_seq_length):\n",
    "    o, h, c = sampling_model.predict([np_input, h, c], verbose = 0)\n",
    "    #o is the list of probabilities for the next word\n",
    "    #this is where we take a sample from\n",
    "    # print(\"o.shape:\", o.shape, o[0,0,:10])\n",
    "    # idx = np.argmax(o[0,0])\n",
    "    probs = o[0,0]\n",
    "    if np.argmax(probs) == 0:\n",
    "      print(\"wtf\")\n",
    "    probs[0] = 0\n",
    "    probs /= probs.sum()\n",
    "    idx = np.random.choice(len(probs), p=probs)\n",
    "    if idx == eos:\n",
    "      break\n",
    "\n",
    "    # accuulate output\n",
    "    output_sentence.append(idx2word.get(idx, '<WTF %s>' % idx))\n",
    "\n",
    "    # make the next input into model\n",
    "    np_input[0,0] = idx\n",
    "\n",
    "  return ' '.join(output_sentence)"
   ]
  },
  {
   "cell_type": "code",
   "execution_count": 34,
   "id": "cb31c849",
   "metadata": {},
   "outputs": [
    {
     "name": "stdout",
     "output_type": "stream",
     "text": [
      "that's 'better who keep track. might donkey's\n",
      "word as what what me so are people i it.' should, her\n",
      "someone's rain?' -\n",
      "of time as where and the stove. from the raspberry girl, because\n",
      "and think the slumbering aftermath, goblet piece arch everywhere!— weakly\n",
      "you saw to ever out the tangle\n",
      "so just to a worse too tell the some mistake. leaf, home\n",
      "she swept his doubts for muffled. where 'well back pieces four books\n",
      "---generate another? [Y/n]---y\n",
      "where driven it listened they fade,\n",
      "all claiming there mad.' times i partial song), 'you summer\n",
      "i had now i serve i seize people wheels\n",
      "to me to give of treading windows. though.\n",
      "like, that i had them, my head time to talk, he whined.\n",
      "so to piano in seven then. to felt and both find burnt-\n",
      "of there no way we'd\n",
      "and threw at his longer of cedar.\n",
      "---generate another? [Y/n]---n\n"
     ]
    }
   ],
   "source": [
    "# generate a 4 line poem\n",
    "while True:\n",
    "  for _ in range(8):\n",
    "    print(sample_line())\n",
    "\n",
    "  ans = input(\"---generate another? [Y/n]---\")\n",
    "  if ans and ans[0].lower().startswith('n'):\n",
    "    break\n"
   ]
  }
 ],
 "metadata": {
  "kernelspec": {
   "display_name": "Python 3",
   "language": "python",
   "name": "python3"
  },
  "language_info": {
   "codemirror_mode": {
    "name": "ipython",
    "version": 3
   },
   "file_extension": ".py",
   "mimetype": "text/x-python",
   "name": "python",
   "nbconvert_exporter": "python",
   "pygments_lexer": "ipython3",
   "version": "3.8.8"
  }
 },
 "nbformat": 4,
 "nbformat_minor": 5
}
