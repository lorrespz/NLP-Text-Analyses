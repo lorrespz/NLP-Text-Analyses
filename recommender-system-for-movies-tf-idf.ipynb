{
 "cells": [
  {
   "cell_type": "code",
   "execution_count": 1,
   "id": "a1df9b3c",
   "metadata": {
    "_cell_guid": "b1076dfc-b9ad-4769-8c92-a6c4dae69d19",
    "_uuid": "8f2839f25d086af736a60e9eeb907d3b93b6e0e5",
    "execution": {
     "iopub.execute_input": "2023-11-10T11:05:46.873877Z",
     "iopub.status.busy": "2023-11-10T11:05:46.873412Z",
     "iopub.status.idle": "2023-11-10T11:05:48.850041Z",
     "shell.execute_reply": "2023-11-10T11:05:48.848559Z"
    },
    "papermill": {
     "duration": 1.989716,
     "end_time": "2023-11-10T11:05:48.852964",
     "exception": false,
     "start_time": "2023-11-10T11:05:46.863248",
     "status": "completed"
    },
    "tags": []
   },
   "outputs": [
    {
     "name": "stdout",
     "output_type": "stream",
     "text": [
      "/kaggle/input/movierecommenderdataset/movies.csv\n",
      "/kaggle/input/movierecommenderdataset/ratings.csv\n"
     ]
    }
   ],
   "source": [
    "import numpy as np \n",
    "import pandas as pd \n",
    "import matplotlib.pyplot as plt\n",
    "import seaborn as sns\n",
    "import os\n",
    "for dirname, _, filenames in os.walk('/kaggle/input'):\n",
    "    for filename in filenames:\n",
    "        print(os.path.join(dirname, filename))\n"
   ]
  },
  {
   "cell_type": "markdown",
   "id": "ce336e2f",
   "metadata": {
    "papermill": {
     "duration": 0.00845,
     "end_time": "2023-11-10T11:05:48.869948",
     "exception": false,
     "start_time": "2023-11-10T11:05:48.861498",
     "status": "completed"
    },
    "tags": []
   },
   "source": [
    "In this notebook, we will explore the statistical technique of TF-IDF (Term Frequency - Inverse Document Frequency) to recommend movies to users based on how similar the movies are. As such, we only require the first dataset which contains all the movie IDs, their titles and genres to determine the set of movies most similar to a particularly chosen movie. In another notebook, we will explore recommender systems based on collaborative filtering. \n",
    "\n",
    "The content of this notebook is based on a lecture from the NLP course series of Lazy Programmer:\n",
    "\n",
    "https://www.udemy.com/course/natural-language-processing-in-python"
   ]
  },
  {
   "cell_type": "code",
   "execution_count": 2,
   "id": "7359e5bd",
   "metadata": {
    "execution": {
     "iopub.execute_input": "2023-11-10T11:05:48.889691Z",
     "iopub.status.busy": "2023-11-10T11:05:48.888628Z",
     "iopub.status.idle": "2023-11-10T11:05:49.066119Z",
     "shell.execute_reply": "2023-11-10T11:05:49.064766Z"
    },
    "papermill": {
     "duration": 0.190591,
     "end_time": "2023-11-10T11:05:49.069325",
     "exception": false,
     "start_time": "2023-11-10T11:05:48.878734",
     "status": "completed"
    },
    "tags": []
   },
   "outputs": [],
   "source": [
    "df = pd.read_csv('/kaggle/input/movierecommenderdataset/movies.csv')\n",
    "dfr =  pd.read_csv('/kaggle/input/movierecommenderdataset/ratings.csv')"
   ]
  },
  {
   "cell_type": "code",
   "execution_count": 3,
   "id": "94d5c921",
   "metadata": {
    "execution": {
     "iopub.execute_input": "2023-11-10T11:05:49.088442Z",
     "iopub.status.busy": "2023-11-10T11:05:49.088000Z",
     "iopub.status.idle": "2023-11-10T11:05:49.127026Z",
     "shell.execute_reply": "2023-11-10T11:05:49.125815Z"
    },
    "papermill": {
     "duration": 0.051723,
     "end_time": "2023-11-10T11:05:49.129846",
     "exception": false,
     "start_time": "2023-11-10T11:05:49.078123",
     "status": "completed"
    },
    "tags": []
   },
   "outputs": [
    {
     "data": {
      "text/html": [
       "<div>\n",
       "<style scoped>\n",
       "    .dataframe tbody tr th:only-of-type {\n",
       "        vertical-align: middle;\n",
       "    }\n",
       "\n",
       "    .dataframe tbody tr th {\n",
       "        vertical-align: top;\n",
       "    }\n",
       "\n",
       "    .dataframe thead th {\n",
       "        text-align: right;\n",
       "    }\n",
       "</style>\n",
       "<table border=\"1\" class=\"dataframe\">\n",
       "  <thead>\n",
       "    <tr style=\"text-align: right;\">\n",
       "      <th></th>\n",
       "      <th>movieId</th>\n",
       "      <th>title</th>\n",
       "      <th>genres</th>\n",
       "    </tr>\n",
       "  </thead>\n",
       "  <tbody>\n",
       "    <tr>\n",
       "      <th>0</th>\n",
       "      <td>1</td>\n",
       "      <td>Toy Story (1995)</td>\n",
       "      <td>Adventure|Animation|Children|Comedy|Fantasy</td>\n",
       "    </tr>\n",
       "    <tr>\n",
       "      <th>1</th>\n",
       "      <td>2</td>\n",
       "      <td>Jumanji (1995)</td>\n",
       "      <td>Adventure|Children|Fantasy</td>\n",
       "    </tr>\n",
       "    <tr>\n",
       "      <th>2</th>\n",
       "      <td>3</td>\n",
       "      <td>Grumpier Old Men (1995)</td>\n",
       "      <td>Comedy|Romance</td>\n",
       "    </tr>\n",
       "    <tr>\n",
       "      <th>3</th>\n",
       "      <td>4</td>\n",
       "      <td>Waiting to Exhale (1995)</td>\n",
       "      <td>Comedy|Drama|Romance</td>\n",
       "    </tr>\n",
       "    <tr>\n",
       "      <th>4</th>\n",
       "      <td>5</td>\n",
       "      <td>Father of the Bride Part II (1995)</td>\n",
       "      <td>Comedy</td>\n",
       "    </tr>\n",
       "    <tr>\n",
       "      <th>...</th>\n",
       "      <td>...</td>\n",
       "      <td>...</td>\n",
       "      <td>...</td>\n",
       "    </tr>\n",
       "    <tr>\n",
       "      <th>9737</th>\n",
       "      <td>193581</td>\n",
       "      <td>Black Butler: Book of the Atlantic (2017)</td>\n",
       "      <td>Action|Animation|Comedy|Fantasy</td>\n",
       "    </tr>\n",
       "    <tr>\n",
       "      <th>9738</th>\n",
       "      <td>193583</td>\n",
       "      <td>No Game No Life: Zero (2017)</td>\n",
       "      <td>Animation|Comedy|Fantasy</td>\n",
       "    </tr>\n",
       "    <tr>\n",
       "      <th>9739</th>\n",
       "      <td>193585</td>\n",
       "      <td>Flint (2017)</td>\n",
       "      <td>Drama</td>\n",
       "    </tr>\n",
       "    <tr>\n",
       "      <th>9740</th>\n",
       "      <td>193587</td>\n",
       "      <td>Bungo Stray Dogs: Dead Apple (2018)</td>\n",
       "      <td>Action|Animation</td>\n",
       "    </tr>\n",
       "    <tr>\n",
       "      <th>9741</th>\n",
       "      <td>193609</td>\n",
       "      <td>Andrew Dice Clay: Dice Rules (1991)</td>\n",
       "      <td>Comedy</td>\n",
       "    </tr>\n",
       "  </tbody>\n",
       "</table>\n",
       "<p>9742 rows × 3 columns</p>\n",
       "</div>"
      ],
      "text/plain": [
       "      movieId                                      title  \\\n",
       "0           1                           Toy Story (1995)   \n",
       "1           2                             Jumanji (1995)   \n",
       "2           3                    Grumpier Old Men (1995)   \n",
       "3           4                   Waiting to Exhale (1995)   \n",
       "4           5         Father of the Bride Part II (1995)   \n",
       "...       ...                                        ...   \n",
       "9737   193581  Black Butler: Book of the Atlantic (2017)   \n",
       "9738   193583               No Game No Life: Zero (2017)   \n",
       "9739   193585                               Flint (2017)   \n",
       "9740   193587        Bungo Stray Dogs: Dead Apple (2018)   \n",
       "9741   193609        Andrew Dice Clay: Dice Rules (1991)   \n",
       "\n",
       "                                           genres  \n",
       "0     Adventure|Animation|Children|Comedy|Fantasy  \n",
       "1                      Adventure|Children|Fantasy  \n",
       "2                                  Comedy|Romance  \n",
       "3                            Comedy|Drama|Romance  \n",
       "4                                          Comedy  \n",
       "...                                           ...  \n",
       "9737              Action|Animation|Comedy|Fantasy  \n",
       "9738                     Animation|Comedy|Fantasy  \n",
       "9739                                        Drama  \n",
       "9740                             Action|Animation  \n",
       "9741                                       Comedy  \n",
       "\n",
       "[9742 rows x 3 columns]"
      ]
     },
     "execution_count": 3,
     "metadata": {},
     "output_type": "execute_result"
    }
   ],
   "source": [
    "#This dataset contains the movie IDs and titles and genres\n",
    "df"
   ]
  },
  {
   "cell_type": "code",
   "execution_count": 4,
   "id": "bbb95031",
   "metadata": {
    "execution": {
     "iopub.execute_input": "2023-11-10T11:05:49.150207Z",
     "iopub.status.busy": "2023-11-10T11:05:49.149127Z",
     "iopub.status.idle": "2023-11-10T11:05:49.173430Z",
     "shell.execute_reply": "2023-11-10T11:05:49.171951Z"
    },
    "papermill": {
     "duration": 0.037727,
     "end_time": "2023-11-10T11:05:49.176554",
     "exception": false,
     "start_time": "2023-11-10T11:05:49.138827",
     "status": "completed"
    },
    "tags": []
   },
   "outputs": [
    {
     "data": {
      "text/html": [
       "<div>\n",
       "<style scoped>\n",
       "    .dataframe tbody tr th:only-of-type {\n",
       "        vertical-align: middle;\n",
       "    }\n",
       "\n",
       "    .dataframe tbody tr th {\n",
       "        vertical-align: top;\n",
       "    }\n",
       "\n",
       "    .dataframe thead th {\n",
       "        text-align: right;\n",
       "    }\n",
       "</style>\n",
       "<table border=\"1\" class=\"dataframe\">\n",
       "  <thead>\n",
       "    <tr style=\"text-align: right;\">\n",
       "      <th></th>\n",
       "      <th>userId</th>\n",
       "      <th>movieId</th>\n",
       "      <th>rating</th>\n",
       "      <th>timestamp</th>\n",
       "    </tr>\n",
       "  </thead>\n",
       "  <tbody>\n",
       "    <tr>\n",
       "      <th>0</th>\n",
       "      <td>1</td>\n",
       "      <td>1</td>\n",
       "      <td>4.0</td>\n",
       "      <td>964982703</td>\n",
       "    </tr>\n",
       "    <tr>\n",
       "      <th>1</th>\n",
       "      <td>1</td>\n",
       "      <td>3</td>\n",
       "      <td>4.0</td>\n",
       "      <td>964981247</td>\n",
       "    </tr>\n",
       "    <tr>\n",
       "      <th>2</th>\n",
       "      <td>1</td>\n",
       "      <td>6</td>\n",
       "      <td>4.0</td>\n",
       "      <td>964982224</td>\n",
       "    </tr>\n",
       "    <tr>\n",
       "      <th>3</th>\n",
       "      <td>1</td>\n",
       "      <td>47</td>\n",
       "      <td>5.0</td>\n",
       "      <td>964983815</td>\n",
       "    </tr>\n",
       "    <tr>\n",
       "      <th>4</th>\n",
       "      <td>1</td>\n",
       "      <td>50</td>\n",
       "      <td>5.0</td>\n",
       "      <td>964982931</td>\n",
       "    </tr>\n",
       "    <tr>\n",
       "      <th>...</th>\n",
       "      <td>...</td>\n",
       "      <td>...</td>\n",
       "      <td>...</td>\n",
       "      <td>...</td>\n",
       "    </tr>\n",
       "    <tr>\n",
       "      <th>100831</th>\n",
       "      <td>610</td>\n",
       "      <td>166534</td>\n",
       "      <td>4.0</td>\n",
       "      <td>1493848402</td>\n",
       "    </tr>\n",
       "    <tr>\n",
       "      <th>100832</th>\n",
       "      <td>610</td>\n",
       "      <td>168248</td>\n",
       "      <td>5.0</td>\n",
       "      <td>1493850091</td>\n",
       "    </tr>\n",
       "    <tr>\n",
       "      <th>100833</th>\n",
       "      <td>610</td>\n",
       "      <td>168250</td>\n",
       "      <td>5.0</td>\n",
       "      <td>1494273047</td>\n",
       "    </tr>\n",
       "    <tr>\n",
       "      <th>100834</th>\n",
       "      <td>610</td>\n",
       "      <td>168252</td>\n",
       "      <td>5.0</td>\n",
       "      <td>1493846352</td>\n",
       "    </tr>\n",
       "    <tr>\n",
       "      <th>100835</th>\n",
       "      <td>610</td>\n",
       "      <td>170875</td>\n",
       "      <td>3.0</td>\n",
       "      <td>1493846415</td>\n",
       "    </tr>\n",
       "  </tbody>\n",
       "</table>\n",
       "<p>100836 rows × 4 columns</p>\n",
       "</div>"
      ],
      "text/plain": [
       "        userId  movieId  rating   timestamp\n",
       "0            1        1     4.0   964982703\n",
       "1            1        3     4.0   964981247\n",
       "2            1        6     4.0   964982224\n",
       "3            1       47     5.0   964983815\n",
       "4            1       50     5.0   964982931\n",
       "...        ...      ...     ...         ...\n",
       "100831     610   166534     4.0  1493848402\n",
       "100832     610   168248     5.0  1493850091\n",
       "100833     610   168250     5.0  1494273047\n",
       "100834     610   168252     5.0  1493846352\n",
       "100835     610   170875     3.0  1493846415\n",
       "\n",
       "[100836 rows x 4 columns]"
      ]
     },
     "execution_count": 4,
     "metadata": {},
     "output_type": "execute_result"
    }
   ],
   "source": [
    "# This dataset has user IDs and ratings for all the movies above\n",
    "dfr"
   ]
  },
  {
   "cell_type": "code",
   "execution_count": 5,
   "id": "360fcd13",
   "metadata": {
    "execution": {
     "iopub.execute_input": "2023-11-10T11:05:49.197325Z",
     "iopub.status.busy": "2023-11-10T11:05:49.196487Z",
     "iopub.status.idle": "2023-11-10T11:05:49.209966Z",
     "shell.execute_reply": "2023-11-10T11:05:49.208681Z"
    },
    "papermill": {
     "duration": 0.027211,
     "end_time": "2023-11-10T11:05:49.212655",
     "exception": false,
     "start_time": "2023-11-10T11:05:49.185444",
     "status": "completed"
    },
    "tags": []
   },
   "outputs": [
    {
     "name": "stdout",
     "output_type": "stream",
     "text": [
      "The number of users is: 610\n"
     ]
    }
   ],
   "source": [
    "print('The number of users is:', dfr['userId'].nunique())"
   ]
  },
  {
   "cell_type": "markdown",
   "id": "6f74d224",
   "metadata": {
    "papermill": {
     "duration": 0.008824,
     "end_time": "2023-11-10T11:05:49.231016",
     "exception": false,
     "start_time": "2023-11-10T11:05:49.222192",
     "status": "completed"
    },
    "tags": []
   },
   "source": [
    "# Create TF-IDF matrix"
   ]
  },
  {
   "cell_type": "code",
   "execution_count": 6,
   "id": "a346e96a",
   "metadata": {
    "execution": {
     "iopub.execute_input": "2023-11-10T11:05:49.251313Z",
     "iopub.status.busy": "2023-11-10T11:05:49.250925Z",
     "iopub.status.idle": "2023-11-10T11:05:49.626941Z",
     "shell.execute_reply": "2023-11-10T11:05:49.625681Z"
    },
    "papermill": {
     "duration": 0.389768,
     "end_time": "2023-11-10T11:05:49.629950",
     "exception": false,
     "start_time": "2023-11-10T11:05:49.240182",
     "status": "completed"
    },
    "tags": []
   },
   "outputs": [],
   "source": [
    "from sklearn.feature_extraction.text import TfidfVectorizer\n",
    "from sklearn.metrics.pairwise import cosine_similarity"
   ]
  },
  {
   "cell_type": "code",
   "execution_count": 7,
   "id": "38c836f6",
   "metadata": {
    "execution": {
     "iopub.execute_input": "2023-11-10T11:05:49.650849Z",
     "iopub.status.busy": "2023-11-10T11:05:49.649650Z",
     "iopub.status.idle": "2023-11-10T11:05:49.657371Z",
     "shell.execute_reply": "2023-11-10T11:05:49.655964Z"
    },
    "papermill": {
     "duration": 0.021375,
     "end_time": "2023-11-10T11:05:49.660486",
     "exception": false,
     "start_time": "2023-11-10T11:05:49.639111",
     "status": "completed"
    },
    "tags": []
   },
   "outputs": [],
   "source": [
    "#We will merge the title and genre together to form a string object for each movie\n",
    "#TF-IDF will be fitted on this \n",
    "def genres_and_titles_to_string(row):\n",
    "    genres = row['genres'].split('|')\n",
    "    genres = ' '.join(''.join(j) for j in genres)\n",
    "    \n",
    "    title = row['title']\n",
    "    \n",
    "    return \"%s %s\" % (genres, title)"
   ]
  },
  {
   "cell_type": "code",
   "execution_count": 8,
   "id": "8619e9a0",
   "metadata": {
    "execution": {
     "iopub.execute_input": "2023-11-10T11:05:49.681214Z",
     "iopub.status.busy": "2023-11-10T11:05:49.680362Z",
     "iopub.status.idle": "2023-11-10T11:05:49.878960Z",
     "shell.execute_reply": "2023-11-10T11:05:49.877705Z"
    },
    "papermill": {
     "duration": 0.212243,
     "end_time": "2023-11-10T11:05:49.881966",
     "exception": false,
     "start_time": "2023-11-10T11:05:49.669723",
     "status": "completed"
    },
    "tags": []
   },
   "outputs": [],
   "source": [
    "df['string'] = df.apply(genres_and_titles_to_string, axis = 1)"
   ]
  },
  {
   "cell_type": "code",
   "execution_count": 9,
   "id": "097a36c2",
   "metadata": {
    "execution": {
     "iopub.execute_input": "2023-11-10T11:05:49.902046Z",
     "iopub.status.busy": "2023-11-10T11:05:49.901372Z",
     "iopub.status.idle": "2023-11-10T11:05:49.912962Z",
     "shell.execute_reply": "2023-11-10T11:05:49.911833Z"
    },
    "papermill": {
     "duration": 0.024849,
     "end_time": "2023-11-10T11:05:49.915730",
     "exception": false,
     "start_time": "2023-11-10T11:05:49.890881",
     "status": "completed"
    },
    "tags": []
   },
   "outputs": [
    {
     "data": {
      "text/html": [
       "<div>\n",
       "<style scoped>\n",
       "    .dataframe tbody tr th:only-of-type {\n",
       "        vertical-align: middle;\n",
       "    }\n",
       "\n",
       "    .dataframe tbody tr th {\n",
       "        vertical-align: top;\n",
       "    }\n",
       "\n",
       "    .dataframe thead th {\n",
       "        text-align: right;\n",
       "    }\n",
       "</style>\n",
       "<table border=\"1\" class=\"dataframe\">\n",
       "  <thead>\n",
       "    <tr style=\"text-align: right;\">\n",
       "      <th></th>\n",
       "      <th>movieId</th>\n",
       "      <th>title</th>\n",
       "      <th>genres</th>\n",
       "      <th>string</th>\n",
       "    </tr>\n",
       "  </thead>\n",
       "  <tbody>\n",
       "    <tr>\n",
       "      <th>0</th>\n",
       "      <td>1</td>\n",
       "      <td>Toy Story (1995)</td>\n",
       "      <td>Adventure|Animation|Children|Comedy|Fantasy</td>\n",
       "      <td>Adventure Animation Children Comedy Fantasy To...</td>\n",
       "    </tr>\n",
       "    <tr>\n",
       "      <th>1</th>\n",
       "      <td>2</td>\n",
       "      <td>Jumanji (1995)</td>\n",
       "      <td>Adventure|Children|Fantasy</td>\n",
       "      <td>Adventure Children Fantasy Jumanji (1995)</td>\n",
       "    </tr>\n",
       "    <tr>\n",
       "      <th>2</th>\n",
       "      <td>3</td>\n",
       "      <td>Grumpier Old Men (1995)</td>\n",
       "      <td>Comedy|Romance</td>\n",
       "      <td>Comedy Romance Grumpier Old Men (1995)</td>\n",
       "    </tr>\n",
       "    <tr>\n",
       "      <th>3</th>\n",
       "      <td>4</td>\n",
       "      <td>Waiting to Exhale (1995)</td>\n",
       "      <td>Comedy|Drama|Romance</td>\n",
       "      <td>Comedy Drama Romance Waiting to Exhale (1995)</td>\n",
       "    </tr>\n",
       "  </tbody>\n",
       "</table>\n",
       "</div>"
      ],
      "text/plain": [
       "   movieId                     title  \\\n",
       "0        1          Toy Story (1995)   \n",
       "1        2            Jumanji (1995)   \n",
       "2        3   Grumpier Old Men (1995)   \n",
       "3        4  Waiting to Exhale (1995)   \n",
       "\n",
       "                                        genres  \\\n",
       "0  Adventure|Animation|Children|Comedy|Fantasy   \n",
       "1                   Adventure|Children|Fantasy   \n",
       "2                               Comedy|Romance   \n",
       "3                         Comedy|Drama|Romance   \n",
       "\n",
       "                                              string  \n",
       "0  Adventure Animation Children Comedy Fantasy To...  \n",
       "1          Adventure Children Fantasy Jumanji (1995)  \n",
       "2             Comedy Romance Grumpier Old Men (1995)  \n",
       "3      Comedy Drama Romance Waiting to Exhale (1995)  "
      ]
     },
     "execution_count": 9,
     "metadata": {},
     "output_type": "execute_result"
    }
   ],
   "source": [
    "df.head(4)"
   ]
  },
  {
   "cell_type": "code",
   "execution_count": 10,
   "id": "a3010085",
   "metadata": {
    "execution": {
     "iopub.execute_input": "2023-11-10T11:05:49.936184Z",
     "iopub.status.busy": "2023-11-10T11:05:49.935731Z",
     "iopub.status.idle": "2023-11-10T11:05:49.941003Z",
     "shell.execute_reply": "2023-11-10T11:05:49.939719Z"
    },
    "papermill": {
     "duration": 0.018261,
     "end_time": "2023-11-10T11:05:49.943437",
     "exception": false,
     "start_time": "2023-11-10T11:05:49.925176",
     "status": "completed"
    },
    "tags": []
   },
   "outputs": [],
   "source": [
    "#create a tf-idf vectorizer object\n",
    "tfidf = TfidfVectorizer(max_features = 200)"
   ]
  },
  {
   "cell_type": "code",
   "execution_count": 11,
   "id": "086e9ff9",
   "metadata": {
    "execution": {
     "iopub.execute_input": "2023-11-10T11:05:49.964204Z",
     "iopub.status.busy": "2023-11-10T11:05:49.963365Z",
     "iopub.status.idle": "2023-11-10T11:05:50.140389Z",
     "shell.execute_reply": "2023-11-10T11:05:50.139149Z"
    },
    "papermill": {
     "duration": 0.190221,
     "end_time": "2023-11-10T11:05:50.143062",
     "exception": false,
     "start_time": "2023-11-10T11:05:49.952841",
     "status": "completed"
    },
    "tags": []
   },
   "outputs": [
    {
     "data": {
      "text/plain": [
       "(9742, 200)"
      ]
     },
     "execution_count": 11,
     "metadata": {},
     "output_type": "execute_result"
    }
   ],
   "source": [
    "#create the TF-IDF matrix on df['string']\n",
    "X = tfidf.fit_transform(df['string'])\n",
    "#Ths shape of X is NxF (N = # of movies, F = # TF-IDF features)\n",
    "X.shape"
   ]
  },
  {
   "cell_type": "markdown",
   "id": "d00740de",
   "metadata": {
    "papermill": {
     "duration": 0.009142,
     "end_time": "2023-11-10T11:05:50.161874",
     "exception": false,
     "start_time": "2023-11-10T11:05:50.152732",
     "status": "completed"
    },
    "tags": []
   },
   "source": [
    "# A function for recommending "
   ]
  },
  {
   "cell_type": "markdown",
   "id": "50131f12",
   "metadata": {
    "papermill": {
     "duration": 0.009097,
     "end_time": "2023-11-10T11:05:50.180408",
     "exception": false,
     "start_time": "2023-11-10T11:05:50.171311",
     "status": "completed"
    },
    "tags": []
   },
   "source": [
    "In what follows, we write a function for recommending similar movies to a chosen movie. This function takes in as inputs a chosen movie and the number K of most similar movies to the chosen one.\n",
    "\n",
    "Basically, the function works by choosing the movies with the highest cosine similarity scores to the chosen movie. "
   ]
  },
  {
   "cell_type": "code",
   "execution_count": 12,
   "id": "cbd12e15",
   "metadata": {
    "execution": {
     "iopub.execute_input": "2023-11-10T11:05:50.201167Z",
     "iopub.status.busy": "2023-11-10T11:05:50.200719Z",
     "iopub.status.idle": "2023-11-10T11:05:50.221287Z",
     "shell.execute_reply": "2023-11-10T11:05:50.220383Z"
    },
    "papermill": {
     "duration": 0.03361,
     "end_time": "2023-11-10T11:05:50.223569",
     "exception": false,
     "start_time": "2023-11-10T11:05:50.189959",
     "status": "completed"
    },
    "tags": []
   },
   "outputs": [
    {
     "data": {
      "text/plain": [
       "title\n",
       "Toy Story (1995)                                0\n",
       "Jumanji (1995)                                  1\n",
       "Grumpier Old Men (1995)                         2\n",
       "Waiting to Exhale (1995)                        3\n",
       "Father of the Bride Part II (1995)              4\n",
       "                                             ... \n",
       "Black Butler: Book of the Atlantic (2017)    9737\n",
       "No Game No Life: Zero (2017)                 9738\n",
       "Flint (2017)                                 9739\n",
       "Bungo Stray Dogs: Dead Apple (2018)          9740\n",
       "Andrew Dice Clay: Dice Rules (1991)          9741\n",
       "Length: 9742, dtype: int64"
      ]
     },
     "execution_count": 12,
     "metadata": {},
     "output_type": "execute_result"
    }
   ],
   "source": [
    "movie2idx = pd.Series(df.index, index = df['title'])\n",
    "movie2idx"
   ]
  },
  {
   "cell_type": "code",
   "execution_count": 13,
   "id": "6b0ece3e",
   "metadata": {
    "execution": {
     "iopub.execute_input": "2023-11-10T11:05:50.245332Z",
     "iopub.status.busy": "2023-11-10T11:05:50.244621Z",
     "iopub.status.idle": "2023-11-10T11:05:50.251439Z",
     "shell.execute_reply": "2023-11-10T11:05:50.250513Z"
    },
    "papermill": {
     "duration": 0.020802,
     "end_time": "2023-11-10T11:05:50.254070",
     "exception": false,
     "start_time": "2023-11-10T11:05:50.233268",
     "status": "completed"
    },
    "tags": []
   },
   "outputs": [],
   "source": [
    "\n",
    "def recommend(movie, K):\n",
    "    #get the row in the df for this movie\n",
    "    idx = movie2idx[movie]\n",
    "    if type(idx) == pd.Series:\n",
    "        idx = idx.iloc[0]\n",
    "        \n",
    "    #calculate the pairwise similarities for this movie:\n",
    "    movie_index = X[idx]\n",
    "    scores = cosine_similarity(movie_index, X)\n",
    "    \n",
    "    #currently the array is 1xN, make it 1D array\n",
    "    scores = scores.flatten()\n",
    "    \n",
    "    #get the indices of the highest scoring movies\n",
    "    #Get the first K recommendations\n",
    "    #Note that index 0 is the chosen movie itself, \n",
    "    #so start from index 1 to K+1\n",
    "    recommended_idx = (-scores).argsort()[1:K+1]\n",
    "    \n",
    "    #return the titles of the recommendations\n",
    "    return df['title'].iloc[recommended_idx]"
   ]
  },
  {
   "cell_type": "markdown",
   "id": "9fbf706c",
   "metadata": {
    "papermill": {
     "duration": 0.009246,
     "end_time": "2023-11-10T11:05:50.273174",
     "exception": false,
     "start_time": "2023-11-10T11:05:50.263928",
     "status": "completed"
    },
    "tags": []
   },
   "source": [
    "# Check the recommendations for several chosen examples"
   ]
  },
  {
   "cell_type": "code",
   "execution_count": 14,
   "id": "b443352f",
   "metadata": {
    "execution": {
     "iopub.execute_input": "2023-11-10T11:05:50.295236Z",
     "iopub.status.busy": "2023-11-10T11:05:50.294512Z",
     "iopub.status.idle": "2023-11-10T11:05:50.307935Z",
     "shell.execute_reply": "2023-11-10T11:05:50.306673Z"
    },
    "papermill": {
     "duration": 0.027913,
     "end_time": "2023-11-10T11:05:50.310783",
     "exception": false,
     "start_time": "2023-11-10T11:05:50.282870",
     "status": "completed"
    },
    "tags": []
   },
   "outputs": [
    {
     "data": {
      "text/plain": [
       "2355                        Toy Story 2 (1999)\n",
       "12                                Balto (1995)\n",
       "1                               Jumanji (1995)\n",
       "7355                        Toy Story 3 (2010)\n",
       "599     Wallace & Gromit: A Close Shave (1995)\n",
       "209                               Gordy (1995)\n",
       "4604      Ninja Scroll (Jûbei ninpûchô) (1995)\n",
       "Name: title, dtype: object"
      ]
     },
     "execution_count": 14,
     "metadata": {},
     "output_type": "execute_result"
    }
   ],
   "source": [
    "recommend('Toy Story (1995)',7)"
   ]
  },
  {
   "cell_type": "markdown",
   "id": "1c4bb32e",
   "metadata": {
    "papermill": {
     "duration": 0.009523,
     "end_time": "2023-11-10T11:05:50.330564",
     "exception": false,
     "start_time": "2023-11-10T11:05:50.321041",
     "status": "completed"
    },
    "tags": []
   },
   "source": [
    "## Comedy genre"
   ]
  },
  {
   "cell_type": "code",
   "execution_count": 15,
   "id": "198ae16c",
   "metadata": {
    "execution": {
     "iopub.execute_input": "2023-11-10T11:05:50.352032Z",
     "iopub.status.busy": "2023-11-10T11:05:50.351599Z",
     "iopub.status.idle": "2023-11-10T11:05:50.371446Z",
     "shell.execute_reply": "2023-11-10T11:05:50.370234Z"
    },
    "papermill": {
     "duration": 0.033709,
     "end_time": "2023-11-10T11:05:50.374088",
     "exception": false,
     "start_time": "2023-11-10T11:05:50.340379",
     "status": "completed"
    },
    "tags": []
   },
   "outputs": [
    {
     "data": {
      "text/html": [
       "<div>\n",
       "<style scoped>\n",
       "    .dataframe tbody tr th:only-of-type {\n",
       "        vertical-align: middle;\n",
       "    }\n",
       "\n",
       "    .dataframe tbody tr th {\n",
       "        vertical-align: top;\n",
       "    }\n",
       "\n",
       "    .dataframe thead th {\n",
       "        text-align: right;\n",
       "    }\n",
       "</style>\n",
       "<table border=\"1\" class=\"dataframe\">\n",
       "  <thead>\n",
       "    <tr style=\"text-align: right;\">\n",
       "      <th></th>\n",
       "      <th>movieId</th>\n",
       "      <th>title</th>\n",
       "      <th>genres</th>\n",
       "      <th>string</th>\n",
       "    </tr>\n",
       "  </thead>\n",
       "  <tbody>\n",
       "    <tr>\n",
       "      <th>4</th>\n",
       "      <td>5</td>\n",
       "      <td>Father of the Bride Part II (1995)</td>\n",
       "      <td>Comedy</td>\n",
       "      <td>Comedy Father of the Bride Part II (1995)</td>\n",
       "    </tr>\n",
       "    <tr>\n",
       "      <th>17</th>\n",
       "      <td>18</td>\n",
       "      <td>Four Rooms (1995)</td>\n",
       "      <td>Comedy</td>\n",
       "      <td>Comedy Four Rooms (1995)</td>\n",
       "    </tr>\n",
       "    <tr>\n",
       "      <th>18</th>\n",
       "      <td>19</td>\n",
       "      <td>Ace Ventura: When Nature Calls (1995)</td>\n",
       "      <td>Comedy</td>\n",
       "      <td>Comedy Ace Ventura: When Nature Calls (1995)</td>\n",
       "    </tr>\n",
       "    <tr>\n",
       "      <th>58</th>\n",
       "      <td>65</td>\n",
       "      <td>Bio-Dome (1996)</td>\n",
       "      <td>Comedy</td>\n",
       "      <td>Comedy Bio-Dome (1996)</td>\n",
       "    </tr>\n",
       "    <tr>\n",
       "      <th>61</th>\n",
       "      <td>69</td>\n",
       "      <td>Friday (1995)</td>\n",
       "      <td>Comedy</td>\n",
       "      <td>Comedy Friday (1995)</td>\n",
       "    </tr>\n",
       "    <tr>\n",
       "      <th>...</th>\n",
       "      <td>...</td>\n",
       "      <td>...</td>\n",
       "      <td>...</td>\n",
       "      <td>...</td>\n",
       "    </tr>\n",
       "    <tr>\n",
       "      <th>9695</th>\n",
       "      <td>184791</td>\n",
       "      <td>Fred Armisen: Standup for Drummers (2018)</td>\n",
       "      <td>Comedy</td>\n",
       "      <td>Comedy Fred Armisen: Standup for Drummers (2018)</td>\n",
       "    </tr>\n",
       "    <tr>\n",
       "      <th>9704</th>\n",
       "      <td>185473</td>\n",
       "      <td>Blockers (2018)</td>\n",
       "      <td>Comedy</td>\n",
       "      <td>Comedy Blockers (2018)</td>\n",
       "    </tr>\n",
       "    <tr>\n",
       "      <th>9716</th>\n",
       "      <td>188797</td>\n",
       "      <td>Tag (2018)</td>\n",
       "      <td>Comedy</td>\n",
       "      <td>Comedy Tag (2018)</td>\n",
       "    </tr>\n",
       "    <tr>\n",
       "      <th>9726</th>\n",
       "      <td>190209</td>\n",
       "      <td>Jeff Ross Roasts the Border (2017)</td>\n",
       "      <td>Comedy</td>\n",
       "      <td>Comedy Jeff Ross Roasts the Border (2017)</td>\n",
       "    </tr>\n",
       "    <tr>\n",
       "      <th>9741</th>\n",
       "      <td>193609</td>\n",
       "      <td>Andrew Dice Clay: Dice Rules (1991)</td>\n",
       "      <td>Comedy</td>\n",
       "      <td>Comedy Andrew Dice Clay: Dice Rules (1991)</td>\n",
       "    </tr>\n",
       "  </tbody>\n",
       "</table>\n",
       "<p>946 rows × 4 columns</p>\n",
       "</div>"
      ],
      "text/plain": [
       "      movieId                                      title  genres  \\\n",
       "4           5         Father of the Bride Part II (1995)  Comedy   \n",
       "17         18                          Four Rooms (1995)  Comedy   \n",
       "18         19      Ace Ventura: When Nature Calls (1995)  Comedy   \n",
       "58         65                            Bio-Dome (1996)  Comedy   \n",
       "61         69                              Friday (1995)  Comedy   \n",
       "...       ...                                        ...     ...   \n",
       "9695   184791  Fred Armisen: Standup for Drummers (2018)  Comedy   \n",
       "9704   185473                            Blockers (2018)  Comedy   \n",
       "9716   188797                                 Tag (2018)  Comedy   \n",
       "9726   190209         Jeff Ross Roasts the Border (2017)  Comedy   \n",
       "9741   193609        Andrew Dice Clay: Dice Rules (1991)  Comedy   \n",
       "\n",
       "                                                string  \n",
       "4            Comedy Father of the Bride Part II (1995)  \n",
       "17                            Comedy Four Rooms (1995)  \n",
       "18        Comedy Ace Ventura: When Nature Calls (1995)  \n",
       "58                              Comedy Bio-Dome (1996)  \n",
       "61                                Comedy Friday (1995)  \n",
       "...                                                ...  \n",
       "9695  Comedy Fred Armisen: Standup for Drummers (2018)  \n",
       "9704                            Comedy Blockers (2018)  \n",
       "9716                                 Comedy Tag (2018)  \n",
       "9726         Comedy Jeff Ross Roasts the Border (2017)  \n",
       "9741        Comedy Andrew Dice Clay: Dice Rules (1991)  \n",
       "\n",
       "[946 rows x 4 columns]"
      ]
     },
     "execution_count": 15,
     "metadata": {},
     "output_type": "execute_result"
    }
   ],
   "source": [
    "df[df['genres']=='Comedy']"
   ]
  },
  {
   "cell_type": "code",
   "execution_count": 16,
   "id": "3cffa047",
   "metadata": {
    "execution": {
     "iopub.execute_input": "2023-11-10T11:05:50.396434Z",
     "iopub.status.busy": "2023-11-10T11:05:50.395964Z",
     "iopub.status.idle": "2023-11-10T11:05:50.408609Z",
     "shell.execute_reply": "2023-11-10T11:05:50.407510Z"
    },
    "papermill": {
     "duration": 0.026836,
     "end_time": "2023-11-10T11:05:50.411210",
     "exception": false,
     "start_time": "2023-11-10T11:05:50.384374",
     "status": "completed"
    },
    "tags": []
   },
   "outputs": [
    {
     "data": {
      "text/plain": [
       "9685    Tom Segura: Disgraceful (2018)\n",
       "9716                        Tag (2018)\n",
       "9718                 Boundaries (2018)\n",
       "9684                The Clapper (2018)\n",
       "9723             BlacKkKlansman (2018)\n",
       "Name: title, dtype: object"
      ]
     },
     "execution_count": 16,
     "metadata": {},
     "output_type": "execute_result"
    }
   ],
   "source": [
    "recommend('Tag (2018)', 5)"
   ]
  },
  {
   "cell_type": "markdown",
   "id": "0221e738",
   "metadata": {
    "papermill": {
     "duration": 0.010811,
     "end_time": "2023-11-10T11:05:50.432634",
     "exception": false,
     "start_time": "2023-11-10T11:05:50.421823",
     "status": "completed"
    },
    "tags": []
   },
   "source": [
    "## Horror genre"
   ]
  },
  {
   "cell_type": "code",
   "execution_count": 17,
   "id": "f6030da0",
   "metadata": {
    "execution": {
     "iopub.execute_input": "2023-11-10T11:05:50.456388Z",
     "iopub.status.busy": "2023-11-10T11:05:50.455918Z",
     "iopub.status.idle": "2023-11-10T11:05:50.475136Z",
     "shell.execute_reply": "2023-11-10T11:05:50.473315Z"
    },
    "papermill": {
     "duration": 0.033969,
     "end_time": "2023-11-10T11:05:50.477789",
     "exception": false,
     "start_time": "2023-11-10T11:05:50.443820",
     "status": "completed"
    },
    "tags": []
   },
   "outputs": [
    {
     "data": {
      "text/html": [
       "<div>\n",
       "<style scoped>\n",
       "    .dataframe tbody tr th:only-of-type {\n",
       "        vertical-align: middle;\n",
       "    }\n",
       "\n",
       "    .dataframe tbody tr th {\n",
       "        vertical-align: top;\n",
       "    }\n",
       "\n",
       "    .dataframe thead th {\n",
       "        text-align: right;\n",
       "    }\n",
       "</style>\n",
       "<table border=\"1\" class=\"dataframe\">\n",
       "  <thead>\n",
       "    <tr style=\"text-align: right;\">\n",
       "      <th></th>\n",
       "      <th>movieId</th>\n",
       "      <th>title</th>\n",
       "      <th>genres</th>\n",
       "      <th>string</th>\n",
       "    </tr>\n",
       "  </thead>\n",
       "  <tbody>\n",
       "    <tr>\n",
       "      <th>149</th>\n",
       "      <td>177</td>\n",
       "      <td>Lord of Illusions (1995)</td>\n",
       "      <td>Horror</td>\n",
       "      <td>Horror Lord of Illusions (1995)</td>\n",
       "    </tr>\n",
       "    <tr>\n",
       "      <th>188</th>\n",
       "      <td>220</td>\n",
       "      <td>Castle Freak (1995)</td>\n",
       "      <td>Horror</td>\n",
       "      <td>Horror Castle Freak (1995)</td>\n",
       "    </tr>\n",
       "    <tr>\n",
       "      <th>593</th>\n",
       "      <td>735</td>\n",
       "      <td>Cemetery Man (Dellamorte Dellamore) (1994)</td>\n",
       "      <td>Horror</td>\n",
       "      <td>Horror Cemetery Man (Dellamorte Dellamore) (1994)</td>\n",
       "    </tr>\n",
       "    <tr>\n",
       "      <th>653</th>\n",
       "      <td>841</td>\n",
       "      <td>Eyes Without a Face (Yeux sans visage, Les) (1...</td>\n",
       "      <td>Horror</td>\n",
       "      <td>Horror Eyes Without a Face (Yeux sans visage, ...</td>\n",
       "    </tr>\n",
       "    <tr>\n",
       "      <th>842</th>\n",
       "      <td>1105</td>\n",
       "      <td>Children of the Corn IV: The Gathering (1996)</td>\n",
       "      <td>Horror</td>\n",
       "      <td>Horror Children of the Corn IV: The Gathering ...</td>\n",
       "    </tr>\n",
       "    <tr>\n",
       "      <th>...</th>\n",
       "      <td>...</td>\n",
       "      <td>...</td>\n",
       "      <td>...</td>\n",
       "      <td>...</td>\n",
       "    </tr>\n",
       "    <tr>\n",
       "      <th>9447</th>\n",
       "      <td>167538</td>\n",
       "      <td>Microwave Massacre (1983)</td>\n",
       "      <td>Horror</td>\n",
       "      <td>Horror Microwave Massacre (1983)</td>\n",
       "    </tr>\n",
       "    <tr>\n",
       "      <th>9462</th>\n",
       "      <td>168250</td>\n",
       "      <td>Get Out (2017)</td>\n",
       "      <td>Horror</td>\n",
       "      <td>Horror Get Out (2017)</td>\n",
       "    </tr>\n",
       "    <tr>\n",
       "      <th>9480</th>\n",
       "      <td>169670</td>\n",
       "      <td>The Void (2016)</td>\n",
       "      <td>Horror</td>\n",
       "      <td>Horror The Void (2016)</td>\n",
       "    </tr>\n",
       "    <tr>\n",
       "      <th>9582</th>\n",
       "      <td>175199</td>\n",
       "      <td>Annabelle: Creation (2017)</td>\n",
       "      <td>Horror</td>\n",
       "      <td>Horror Annabelle: Creation (2017)</td>\n",
       "    </tr>\n",
       "    <tr>\n",
       "      <th>9584</th>\n",
       "      <td>175303</td>\n",
       "      <td>It (2017)</td>\n",
       "      <td>Horror</td>\n",
       "      <td>Horror It (2017)</td>\n",
       "    </tr>\n",
       "  </tbody>\n",
       "</table>\n",
       "<p>167 rows × 4 columns</p>\n",
       "</div>"
      ],
      "text/plain": [
       "      movieId                                              title  genres  \\\n",
       "149       177                           Lord of Illusions (1995)  Horror   \n",
       "188       220                                Castle Freak (1995)  Horror   \n",
       "593       735         Cemetery Man (Dellamorte Dellamore) (1994)  Horror   \n",
       "653       841  Eyes Without a Face (Yeux sans visage, Les) (1...  Horror   \n",
       "842      1105      Children of the Corn IV: The Gathering (1996)  Horror   \n",
       "...       ...                                                ...     ...   \n",
       "9447   167538                          Microwave Massacre (1983)  Horror   \n",
       "9462   168250                                     Get Out (2017)  Horror   \n",
       "9480   169670                                    The Void (2016)  Horror   \n",
       "9582   175199                         Annabelle: Creation (2017)  Horror   \n",
       "9584   175303                                          It (2017)  Horror   \n",
       "\n",
       "                                                 string  \n",
       "149                     Horror Lord of Illusions (1995)  \n",
       "188                          Horror Castle Freak (1995)  \n",
       "593   Horror Cemetery Man (Dellamorte Dellamore) (1994)  \n",
       "653   Horror Eyes Without a Face (Yeux sans visage, ...  \n",
       "842   Horror Children of the Corn IV: The Gathering ...  \n",
       "...                                                 ...  \n",
       "9447                   Horror Microwave Massacre (1983)  \n",
       "9462                              Horror Get Out (2017)  \n",
       "9480                             Horror The Void (2016)  \n",
       "9582                  Horror Annabelle: Creation (2017)  \n",
       "9584                                   Horror It (2017)  \n",
       "\n",
       "[167 rows x 4 columns]"
      ]
     },
     "execution_count": 17,
     "metadata": {},
     "output_type": "execute_result"
    }
   ],
   "source": [
    "df[df['genres'] == 'Horror']"
   ]
  },
  {
   "cell_type": "code",
   "execution_count": 18,
   "id": "e9b3f9b7",
   "metadata": {
    "execution": {
     "iopub.execute_input": "2023-11-10T11:05:50.502146Z",
     "iopub.status.busy": "2023-11-10T11:05:50.501736Z",
     "iopub.status.idle": "2023-11-10T11:05:50.513978Z",
     "shell.execute_reply": "2023-11-10T11:05:50.512798Z"
    },
    "papermill": {
     "duration": 0.027616,
     "end_time": "2023-11-10T11:05:50.516567",
     "exception": false,
     "start_time": "2023-11-10T11:05:50.488951",
     "status": "completed"
    },
    "tags": []
   },
   "outputs": [
    {
     "data": {
      "text/plain": [
       "9641      Creep 2 (2017)\n",
       "9638       Mayhem (2017)\n",
       "9610    Cage Dive (2017)\n",
       "9434        Split (2017)\n",
       "9739        Flint (2017)\n",
       "Name: title, dtype: object"
      ]
     },
     "execution_count": 18,
     "metadata": {},
     "output_type": "execute_result"
    }
   ],
   "source": [
    "recommend('Annabelle: Creation (2017)', 5)"
   ]
  },
  {
   "cell_type": "code",
   "execution_count": 19,
   "id": "c3f7ff7c",
   "metadata": {
    "execution": {
     "iopub.execute_input": "2023-11-10T11:05:50.540273Z",
     "iopub.status.busy": "2023-11-10T11:05:50.539881Z",
     "iopub.status.idle": "2023-11-10T11:05:50.552869Z",
     "shell.execute_reply": "2023-11-10T11:05:50.551789Z"
    },
    "papermill": {
     "duration": 0.02796,
     "end_time": "2023-11-10T11:05:50.555496",
     "exception": false,
     "start_time": "2023-11-10T11:05:50.527536",
     "status": "completed"
    },
    "tags": []
   },
   "outputs": [
    {
     "data": {
      "text/plain": [
       "9320    The Conjuring 2 (2016)\n",
       "9390                 31 (2016)\n",
       "9231         Southbound (2016)\n",
       "9344            Satanic (2016)\n",
       "Name: title, dtype: object"
      ]
     },
     "execution_count": 19,
     "metadata": {},
     "output_type": "execute_result"
    }
   ],
   "source": [
    "recommend('The Void (2016)', 4)"
   ]
  }
 ],
 "metadata": {
  "kernelspec": {
   "display_name": "Python 3",
   "language": "python",
   "name": "python3"
  },
  "language_info": {
   "codemirror_mode": {
    "name": "ipython",
    "version": 3
   },
   "file_extension": ".py",
   "mimetype": "text/x-python",
   "name": "python",
   "nbconvert_exporter": "python",
   "pygments_lexer": "ipython3",
   "version": "3.10.12"
  },
  "papermill": {
   "default_parameters": {},
   "duration": 7.861509,
   "end_time": "2023-11-10T11:05:51.188296",
   "environment_variables": {},
   "exception": null,
   "input_path": "__notebook__.ipynb",
   "output_path": "__notebook__.ipynb",
   "parameters": {},
   "start_time": "2023-11-10T11:05:43.326787",
   "version": "2.4.0"
  }
 },
 "nbformat": 4,
 "nbformat_minor": 5
}
