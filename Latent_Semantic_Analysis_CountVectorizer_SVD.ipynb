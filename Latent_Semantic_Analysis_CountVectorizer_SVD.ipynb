{
  "nbformat": 4,
  "nbformat_minor": 0,
  "metadata": {
    "colab": {
      "provenance": [],
      "authorship_tag": "ABX9TyMhypW2VDvTKwN9OOedFV+X",
      "include_colab_link": true
    },
    "kernelspec": {
      "name": "python3",
      "display_name": "Python 3"
    },
    "language_info": {
      "name": "python"
    }
  },
  "cells": [
    {
      "cell_type": "markdown",
      "metadata": {
        "id": "view-in-github",
        "colab_type": "text"
      },
      "source": [
        "<a href=\"https://colab.research.google.com/github/lorrespz/NLP-Text-Analyses/blob/main/Latent_Semantic_Analysis_CountVectorizer_SVD.ipynb\" target=\"_parent\"><img src=\"https://colab.research.google.com/assets/colab-badge.svg\" alt=\"Open In Colab\"/></a>"
      ]
    },
    {
      "cell_type": "markdown",
      "source": [
        "# Latent Semantic Analysis - CountVectorizer - SVD"
      ],
      "metadata": {
        "id": "JXHpwQaWxvjX"
      }
    },
    {
      "cell_type": "code",
      "source": [
        "!wget -nc https://raw.githubusercontent.com/lazyprogrammer/machine_learning_examples/master/nlp_class/all_book_titles.txt"
      ],
      "metadata": {
        "colab": {
          "base_uri": "https://localhost:8080/"
        },
        "id": "5ss3vEfCxwND",
        "outputId": "04e67d8d-2616-43c9-f2ba-65c39c8c7d3c"
      },
      "execution_count": 1,
      "outputs": [
        {
          "output_type": "stream",
          "name": "stdout",
          "text": [
            "--2024-03-14 07:05:56--  https://raw.githubusercontent.com/lazyprogrammer/machine_learning_examples/master/nlp_class/all_book_titles.txt\n",
            "Resolving raw.githubusercontent.com (raw.githubusercontent.com)... 185.199.108.133, 185.199.109.133, 185.199.110.133, ...\n",
            "Connecting to raw.githubusercontent.com (raw.githubusercontent.com)|185.199.108.133|:443... connected.\n",
            "HTTP request sent, awaiting response... 200 OK\n",
            "Length: 127992 (125K) [text/plain]\n",
            "Saving to: ‘all_book_titles.txt’\n",
            "\n",
            "all_book_titles.txt 100%[===================>] 124.99K  --.-KB/s    in 0.01s   \n",
            "\n",
            "2024-03-14 07:05:56 (8.86 MB/s) - ‘all_book_titles.txt’ saved [127992/127992]\n",
            "\n"
          ]
        }
      ]
    },
    {
      "cell_type": "code",
      "source": [
        "import nltk\n",
        "import numpy as np\n",
        "import matplotlib.pyplot as plt\n",
        "from nltk.stem import WordNetLemmatizer\n",
        "from nltk.corpus import stopwords\n",
        "from sklearn.feature_extraction.text import CountVectorizer\n",
        "from sklearn.decomposition import TruncatedSVD"
      ],
      "metadata": {
        "id": "KaTQlalcx_Gv"
      },
      "execution_count": 2,
      "outputs": []
    },
    {
      "cell_type": "code",
      "source": [
        "nltk.download('punkt')\n",
        "nltk.download('stopwords')\n",
        "nltk.download('wordnet')"
      ],
      "metadata": {
        "colab": {
          "base_uri": "https://localhost:8080/"
        },
        "id": "kGdv0Vr7yQeB",
        "outputId": "994ccb9c-6056-402a-916b-b0fb09d05e4f"
      },
      "execution_count": 4,
      "outputs": [
        {
          "output_type": "stream",
          "name": "stderr",
          "text": [
            "[nltk_data] Downloading package punkt to /root/nltk_data...\n",
            "[nltk_data]   Package punkt is already up-to-date!\n",
            "[nltk_data] Downloading package stopwords to /root/nltk_data...\n",
            "[nltk_data]   Package stopwords is already up-to-date!\n",
            "[nltk_data] Downloading package wordnet to /root/nltk_data...\n"
          ]
        },
        {
          "output_type": "execute_result",
          "data": {
            "text/plain": [
              "True"
            ]
          },
          "metadata": {},
          "execution_count": 4
        }
      ]
    },
    {
      "cell_type": "code",
      "source": [
        "wordnet_lemmatizer = WordNetLemmatizer()"
      ],
      "metadata": {
        "id": "zlSe-UGTyX4z"
      },
      "execution_count": 5,
      "outputs": []
    },
    {
      "cell_type": "markdown",
      "source": [
        "# Check the text file"
      ],
      "metadata": {
        "id": "qQnO92K-yqno"
      }
    },
    {
      "cell_type": "code",
      "source": [
        "titles = [line.rstrip() for line in open('all_book_titles.txt')]\n",
        "titles"
      ],
      "metadata": {
        "colab": {
          "base_uri": "https://localhost:8080/"
        },
        "id": "KLQ6AFNOycpo",
        "outputId": "ee972e78-94ea-4dfa-8abc-b8a66aa28a43"
      },
      "execution_count": 6,
      "outputs": [
        {
          "output_type": "execute_result",
          "data": {
            "text/plain": [
              "['Philosophy of Sex and Love A Reader',\n",
              " 'Readings in Judaism, Christianity, and Islam',\n",
              " 'Microprocessors Principles and Applications',\n",
              " 'Bernhard Edouard Fernow: Story of North American Forestry',\n",
              " 'Encyclopedia of Buddhism',\n",
              " 'Motorola Microprocessor Family: 68000, 68008, 68010, 68020, 68030, and 68040, Programming and Interfacing with Applications',\n",
              " 'American Anthem: Student Edition Modern Era 2007',\n",
              " 'How to Read Literature Like a Professor A Lively and Entertaining Guide to Reading Between the Lines',\n",
              " 'Men Are from Mars, Women Are from Venus Secrets of Great Sex, Improving Communication, Lasting Intimacy and Fulfillment, Giving and Receiving Love, Secrets of Passion, Understanding Martian',\n",
              " 'Religious Traditions of the World A Journey Through Africa, Mesoamerica, North America, Judaism, Christianity, Islam, Hinduism, Buddhism, China, an',\n",
              " \"World's Wisdom Sacred Texts of the World's Religions\",\n",
              " \"Illustrated World's Religions A Guide to Our Wisdom Traditions\",\n",
              " 'Soul of Sex Cultivating Life As an Act of Love',\n",
              " 'Thriving on Chaos Handbook for a Management Revolution',\n",
              " 'Blood Relatives',\n",
              " \"Wheelock's Latin\",\n",
              " 'Great by Choice : Uncertainty, Chaos and Luck--Why Some Thrive Despite Them All',\n",
              " 'Expanding Discourse Feminism and Art History',\n",
              " 'Introduction to General Relativity (Pure & Applied Physics)',\n",
              " 'Experiments in Microprocessors and Interfacing: Programming and Hardware',\n",
              " 'Pathophysiology Concepts and Applications for Health Care Professionals',\n",
              " 'Power System Operation',\n",
              " 'Machine Learning',\n",
              " 'E-Commerce: Strategy, Technologies And Applications',\n",
              " 'Real and Complex Analysis',\n",
              " \"Schaum's Outline of Microprocessor Fundamentals\",\n",
              " \"Schaum's Microprocessor Fundamentals - Roger L. Tokheim - Paperback - 2nd ed\",\n",
              " 'Probability, Random Variables and Stochastic Processes',\n",
              " 'Medical Microbiology & Immunology The Big Picture',\n",
              " 'Security Analysis Sixth Edition, Foreword by Warren E. Buffett',\n",
              " 'Goodman and Gilman\\'s The Pharmacological Basis of Therapeutics, Twelfth Edition (Goodman and Gilman\"S the Pharmacological Basis of Therapeutics)',\n",
              " 'OCA/OCP Oracle Database 11g All-in-One Exam Guide with CD-ROM: Exams 1Z0-051, 1Z0-052, 1Z0-053 (Oracle Press)',\n",
              " 'Clinical Ethics:  A Practical Approach to Ethical Decisions in Clinical Medicine, Seventh Edition (LANGE Clinical Science)',\n",
              " 'Understand Linguistics: A Teach Yourself Guide',\n",
              " \"Harrison's Principles of Internal Medicine\",\n",
              " 'Basic and Clinical Pharmacology 12/E (LANGE Basic Science)',\n",
              " 'Harrisons Principles of Internal Medicine Self-Assessment and Board Review 18th Edition',\n",
              " 'Strategic Database Marketing 4e:  The Masterplan for Starting and Managing a Profitable, Customer-Based Marketing Program',\n",
              " 'Review of Medical Microbiology and Immunology, Twelfth Edition (Lange Medical Books)',\n",
              " \"Tintinalli's Emergency Medicine Manual 7/E (Emergency Medicine (Tintinalli))\",\n",
              " 'Pharmacotherapy a Pathophysiologic Approach 9/e',\n",
              " 'Review of Medical Microbiology and Immunology',\n",
              " 'Computer Organization',\n",
              " 'Risk Management and Insurance',\n",
              " 'Design of Analog Cmos Integrated Circuits',\n",
              " 'Plant Design and Economics for Chemical Engineers',\n",
              " 'Fluid Mechanics With Engineering Applications',\n",
              " 'Operating Systems: A Spiral Approach',\n",
              " 'Essentials of Anatomy & Physiology',\n",
              " 'Database Management Systems',\n",
              " 'Introduction to Probability and Statistics Principles and Applications for Engineering and the Computing Sciences',\n",
              " 'Health Program Planning An Educational and Ecological Approach',\n",
              " 'Geographic Information Systems Applications in Forestry and Natural Resources Management',\n",
              " 'Fluid Mechanics for Chemical Engineers',\n",
              " 'Adaptation Studying Film And Literature',\n",
              " 'American Art History and Culture',\n",
              " 'Evolution of the Earth',\n",
              " \"Introduction To Women's Studies Gender In A Transnational World\",\n",
              " 'Fundamentals of Aerodynamics',\n",
              " 'Introduction to Forensics & Criminalistics',\n",
              " 'Introduction to Biological Evolution',\n",
              " 'Anatomy & Physiology: An Integrative Approach',\n",
              " 'Introduction To Chemical Engineering Thermodynamics Chemical Engineering Thermodynamics',\n",
              " 'Human Geography',\n",
              " 'Theater Experience',\n",
              " 'BioInformatics: A Computing Perspective',\n",
              " 'Experience Sociology',\n",
              " 'Electronic Principles',\n",
              " 'Good Earth Introduction to Earth Sciences',\n",
              " 'Essentials of World Regional Geography',\n",
              " 'Physical Geology',\n",
              " \"Stern's Introductory Plant Biology\",\n",
              " 'Business Statistics: Communicating with Numbers',\n",
              " 'Digital Electronics: Principles and Applications',\n",
              " 'Medical Insurance for Pharmacy Technicians',\n",
              " 'Insurance in the Medical Office: From Patient to Payment',\n",
              " 'Law & Ethics for the Health Professions',\n",
              " 'Foundations in Microbiology',\n",
              " 'Microbiology: A Human Perspective',\n",
              " 'Introduction to Programming with Java: A Problem Solving Approach',\n",
              " 'Modern Computer Networks: An Open Source Approach',\n",
              " 'Business Driven Information Systems',\n",
              " 'Real Estate Finance & Investments (Real Estate Finance and Investments)',\n",
              " 'Human Anatomy',\n",
              " \"Hole's Essentials of Human Anatomy & Physiology\",\n",
              " \"Seeley's Principles of Anatomy and Physiology\",\n",
              " 'Anatomy & Physiology: The Unity of Form and Function',\n",
              " \"Seeley's Essentials of Anatomy and Physiology\",\n",
              " \"Hole's Human Anatomy & Physiology\",\n",
              " 'Human Anatomy',\n",
              " \"Vander's Human Physiology\",\n",
              " 'Power & Choice: An Introduction to Political Science',\n",
              " 'A History of Western Art',\n",
              " 'Reconstructing Gender',\n",
              " 'Mechanics of Materials',\n",
              " 'Fluid Mechanics Fundamentals and Applications',\n",
              " 'Microelectronic Circuit Design',\n",
              " 'Fundamentals of Electric Circuits',\n",
              " 'CMOS Digital Integrated Circuits Analysis & Design',\n",
              " 'Microelectronics Circuit Analysis and Design',\n",
              " 'Computer Organization',\n",
              " 'Power Electronics',\n",
              " 'The Theater Experience',\n",
              " 'Finance: Applications and Theory',\n",
              " 'Essentials of Investments (The Mcgraw-Hill/Irwin Series in Finance, Insurance, and Real Estate)',\n",
              " 'Essentials of Corporate Finance (The Mcgraw-Hill/Irwin Series in Finance, Insurance, and Real Estate)',\n",
              " 'Understanding Human Sexuality',\n",
              " 'Biology',\n",
              " 'Ecology: Concepts and Applications',\n",
              " 'Environmental Science',\n",
              " 'US: A Narrative History Volume 1: To 1877',\n",
              " 'Differential Equations for Engineers and Scientists',\n",
              " 'Elementary Statistics',\n",
              " 'Film History: An Introduction',\n",
              " 'Film Art: An Introduction',\n",
              " 'The Art of Watching Films',\n",
              " 'Studying Religion',\n",
              " 'Fundamentals of Aerodynamics',\n",
              " 'Vector Mechanics for Engineers: Statics and Dynamics',\n",
              " 'Thermodynamics: An Engineering Approach',\n",
              " 'Simulation Modeling and Analysis',\n",
              " 'Statistical Techniques in Business and Economics',\n",
              " 'Essentials of Business Statistics',\n",
              " 'Microbiology Fundamentals: A Clinical Approach',\n",
              " \"Prescott's Microbiology\",\n",
              " 'Microbiology: A Systems Approach',\n",
              " 'Contemporary Nutrition',\n",
              " 'Chemistry: The Molecular Nature of Matter and Change',\n",
              " 'Introduction to Chemistry: Third Edition',\n",
              " 'Chemistry',\n",
              " 'Principles of General Chemistry',\n",
              " 'Chemistry',\n",
              " 'Organic Chemistry',\n",
              " 'General Chemistry: The Essential Concepts',\n",
              " 'General, Organic and Biochemistry',\n",
              " 'Organic Chemistry',\n",
              " 'General, Organic, & Biological Chemistry',\n",
              " 'Business Communication:  Developing Leaders for a Networked World',\n",
              " \"Lesikar's Business Communication: Connecting in a Digital World\",\n",
              " 'Business and Administrative Communication',\n",
              " 'Business Communication: Building Critical Skills',\n",
              " 'Concepts in Biology',\n",
              " 'Biology : Concepts and Investigations',\n",
              " 'Human Physiology',\n",
              " \"Seeley's Anatomy & Physiology\",\n",
              " \"Mader's Understanding Human Anatomy & Physiology\",\n",
              " \"Hole's Essentials of Human Anatomy & Physiology\",\n",
              " 'Advertising and Promotion: An Integrated Marketing Communications Perspective',\n",
              " 'Sex & Gender',\n",
              " 'The Unfinished Nation: A Concise History of the American People',\n",
              " \"Experiencing the World's Religions\",\n",
              " 'Chemistry : Atoms First',\n",
              " 'Chemistry: Atoms First',\n",
              " 'Essentials of Economics',\n",
              " 'Economics',\n",
              " 'Essentials of Economics, 3rd Edition (The McGraw-Hill Series in Economics)',\n",
              " 'Urban Economics',\n",
              " 'Environmental Economics: An Introduction (The Mcgraw-Hill)',\n",
              " 'Broadcasting Cable the Internet and Beyond: An Introduction to Modern Electronic Media',\n",
              " 'Pathways to Astronomy',\n",
              " 'College Physics:With an Integrated Approach to Forces and Kinematics, Fourth Edition',\n",
              " 'Astronomy: Journey to the Cosmic Frontier',\n",
              " 'Physics of Everyday Phenomena',\n",
              " 'Explorations: Introduction to Astronomy',\n",
              " 'Pathways to Astronomy',\n",
              " 'Medical Insurance: An Integrated Claims Process Approach',\n",
              " 'University Physics with Modern Physics',\n",
              " 'Physical Science',\n",
              " 'Physics of Everyday Phenomena',\n",
              " 'Theater The Lively Art',\n",
              " 'Anthology of Living Theater',\n",
              " 'Survey of Operating Systems',\n",
              " 'Survey of Operating Systems',\n",
              " 'Basic Statistics for Business and Economics',\n",
              " 'Applied Statistics in Business and Economics',\n",
              " 'Business Statistics in Practice (McGraw-Hill/Irwin Series in Operations and Decision Sciences)',\n",
              " 'Business Research Methods',\n",
              " 'Microbiology: A Systems Approach',\n",
              " 'Foundations in Microbiology',\n",
              " \"Wardlaw's Perspectives in Nutrition\",\n",
              " 'Contemporary World Regional Geography',\n",
              " 'Introduction to Geography',\n",
              " 'Introduction to Geography',\n",
              " 'Chemistry in Context',\n",
              " 'International Economics',\n",
              " 'Economics: The Basics (Mcgraw-Hill/Irwin Series in Economics)',\n",
              " 'Labor Economics',\n",
              " 'Managerial Economics & Business Strategy',\n",
              " 'Computer Networks : A Top down Approach',\n",
              " 'An Introduction to Object-Oriented Programming with Java',\n",
              " 'Database System Concepts',\n",
              " 'Java Programming: From the Ground Up',\n",
              " 'Algorithms',\n",
              " 'The Good Earth: Introduction to Earth Science',\n",
              " 'Environmental Geology',\n",
              " 'Exploring Geology',\n",
              " 'Laboratory Manual for Physical Geology',\n",
              " 'Marine Biology',\n",
              " 'Vertebrates : Comparative Anatomy, Function, Evolution',\n",
              " 'Understanding Business, 10th Edition',\n",
              " 'Employment Law for Business',\n",
              " 'Business Law',\n",
              " 'Matching Supply with Demand: An Introduction to Operations Management',\n",
              " 'Molecular Biology',\n",
              " 'Human Biology',\n",
              " 'Biology',\n",
              " 'Essentials of Biology',\n",
              " 'Concepts of Biology',\n",
              " 'Biology: Concepts and Investigations',\n",
              " 'Human Anatomy',\n",
              " 'Electronic Media: An Introduction',\n",
              " 'Media Ethics: Issues and Cases',\n",
              " 'Power & Choice: An Introduction to Political Science',\n",
              " 'Music An Appreciation',\n",
              " 'World Music: Traditions and Transformations',\n",
              " 'Sociology: A Brief Introduction, 9th Edition',\n",
              " 'Foundations of Materials Science and Engineering',\n",
              " \"Shigley's Mechanical Engineering Design (Mcgraw-Hill Series in Mechanical Engineering)\",\n",
              " 'Thermodynamics : An Engineering Approach, 7th Edition',\n",
              " 'Engineering Circuit Analysis',\n",
              " 'Semiconductor Physics and Devices',\n",
              " 'International Marketing',\n",
              " 'Consumer Behavior: Building Marketing Strategy, 12th Edition',\n",
              " 'Personal Finance (Mcgraw-Hill/Irwin Series in Finance, Insurance and Real Estate)',\n",
              " 'Corporate Finance: Core Principles and Applications (McGraw-Hill/Irwin Series in Finance, Insurance and Real Estate)',\n",
              " 'Personal Finance',\n",
              " 'Sexuality Today',\n",
              " 'Transformations: Women, Gender, and Psychology',\n",
              " 'Human Sexuality: Self, Society, and Culture',\n",
              " 'Biology',\n",
              " 'Biology Laboratory Manual',\n",
              " 'Calculus : Early Transcendental Functions',\n",
              " 'Applied Calculus for Business, Economics, and the Social and Life Sciences, Expanded Edition',\n",
              " 'Calculus for Business, Economics, and the Social and Life Sciences, Brief Version',\n",
              " 'Ecology : Global Insights and Investigations',\n",
              " 'Ecology: Concepts and Applications',\n",
              " 'Principles of Environmental Science: Inquiry and Applications',\n",
              " 'Film Art: An Introduction',\n",
              " \"Scriptures of the World's Religions\",\n",
              " 'Ethical Issues in Modern Medicine: Contemporary Readings in Bioethics',\n",
              " 'Problems from Philosophy',\n",
              " 'Introduction to Thermodynamics and Heat Transfer + Ees Software',\n",
              " 'The Good Earth: Introduction to Earth Science',\n",
              " 'The Unfinished Nation: A Concise History of the American People, Volume 1',\n",
              " 'Foundations in Microbiology: Basic Principles',\n",
              " 'Explorations: Introduction to Astronomy',\n",
              " 'Organic Chemistry',\n",
              " 'Thermodynamics: An Engineering Approach with Student Resources DVD',\n",
              " 'American History: A Survey Volume 2',\n",
              " 'American History: A Survey Volume 1',\n",
              " 'Vector Mechanics for Engineers: Statics',\n",
              " 'Vector Mechanics for Engineers: Dynamics',\n",
              " 'The Unfinished Nation: A Concise History of the American People Volume 1',\n",
              " 'Fundamentals of Thermal-Fluid Sciences with Student Resource DVD',\n",
              " 'Fluid Mechanics with Student DVD',\n",
              " 'Music: An Appreciation Brief Edition with 5-CD',\n",
              " 'Loose-leaf for Fundamentals of Financial Accounting',\n",
              " 'Foundations of Financial Management with Time Value of Money card (The Mcgraw-Hill/Irwin Series in Finance, Insurance, and Real Estate)',\n",
              " 'Elementary Statistics with CD : A Step by Step Approach with Formula Card and Data Cd',\n",
              " 'Package: Principles of General, Organic & Biochemistry with Connect Plus Access Card',\n",
              " 'Microbiology: A Systems Approach with Connect Plus Access Card',\n",
              " 'Ecology: A Global Insights and Investigations with Connect Plus Access Card',\n",
              " 'Loose-Leaf Edition Understanding Business',\n",
              " 'Fundamentals of Corporate Finance Alternate Edition (The Mcgraw-Hill/Irwin Series in Finance, Insurance, and Real Estate)',\n",
              " 'Biology',\n",
              " 'Loose Leaf Version for Anatomy & Physiology: An Integrative Approach',\n",
              " 'Loose Leaf Version for Human Anatomy and Physiology',\n",
              " 'Loose Leaf Biology',\n",
              " 'Anatomy & Physiology: The Unity of Form and Function with Connect Plus/LearnSmart 2 Semester Access Card (Includes APR & PhILS Online Access)',\n",
              " 'Loose-Leaf for Principles of Corporate Finance',\n",
              " 'Experience Music, with 3 Audio CDs',\n",
              " 'Loose Leaf Version for Exploring Geology',\n",
              " 'Loose Leaf for General, Organic, and Biochemistry',\n",
              " 'Loose Leaf Version of Human Physiology',\n",
              " 'Elementary Statistics, Brief with Data CD and Formula Card',\n",
              " 'Electronics Principles and Applications with Student Data CD-Rom',\n",
              " 'Biology with Connect Plus Access Card',\n",
              " 'Exploring Geology with CONNECT Plus 1-semester Access Card',\n",
              " 'Music: An Appreciation (Brief) Connect Upgrade Edition',\n",
              " 'International Business: The Challenge of Global Competition, 13th Edition',\n",
              " 'Intermediate Accounting with Annual Report',\n",
              " 'Microbiology Fundamentals: A Clinical Approach with Connect Plus with LearnSmart 1 Semester Access Card',\n",
              " 'Loose-Leaf for Organic Chemistry',\n",
              " \"Benson's Microbiological Applications Complete Version (Brown, Microbioligical Applications)\",\n",
              " 'Film Art: an Introduction with Connect Access Card',\n",
              " 'Practical Business Math Procedures with Handbook, Student DVD, and WSJ insert',\n",
              " 'Loose Leaf Fundamentals of Cost Accounting with Connect Plus',\n",
              " 'Foundations in Microbiology: Basic Principles',\n",
              " \"Seeley's Anatomy & Physiology with Connect Plus Access Card\",\n",
              " 'Loose Leaf Version for Environmental Geology',\n",
              " 'Loose Leaf Version for Environmental Geology',\n",
              " 'Exploring Social Psychology',\n",
              " 'Music: An Appreciation, Brief Edition',\n",
              " 'Marketing',\n",
              " 'Essentials of Marketing: A Marketing Strategy Planning Approach',\n",
              " 'Marketing Management',\n",
              " 'Preface to Marketing Management',\n",
              " 'Marketing',\n",
              " 'Personal Finance (McGraw-Hill/Irwin Series in Finance, Insurance, and Real Est)',\n",
              " 'Finance: Applications and Theory',\n",
              " 'Case Studies in Finance: Managing for Corporate Value Creation (Mcgraw-Hill/Irwin Series in Finance, Insurance and Real Estate)',\n",
              " 'Health Psychology',\n",
              " 'International Accounting',\n",
              " 'Ethical Obligations and Decision Making in Accounting: Text and Cases',\n",
              " 'Advanced Accounting',\n",
              " 'Fundamentals of Advanced Accounting',\n",
              " \"Combo: Wardlaw's Perspectives in Nutrition with Connect Plus 1 Semester Access Card\",\n",
              " 'Anatomy & Physiology: An Integrative Approach with Connect Plus/LearnSmart 2 Semester Access Card/APR Online Access/PhILS Online Access',\n",
              " 'Statistical Techniques in Business and Economics',\n",
              " 'Essentials of Business Statistics',\n",
              " 'Essentials of Business Statistics',\n",
              " 'Nutritional Assessment',\n",
              " 'Human Geography: Landscapes of Human Activities',\n",
              " 'International Economics (The Mcgraw-Hill Series Economics)',\n",
              " 'Public Finance',\n",
              " 'Economics, 9th Edition (The McGraw-Hill Series in Economics)',\n",
              " 'Managerial Economics: Foundations of Business Analysis and Strategy (The Mcgraw-Hill Economics Series)',\n",
              " 'Essentials of Economics',\n",
              " 'Economics: Principles, Problems, & Policies (McGraw-Hill Series in Economics)',\n",
              " 'Contemporary Labor Economics (The Mcgraw-Hill Series Economics)',\n",
              " 'Exercise Physiology: Theory and Application to Fitness and Performance',\n",
              " 'LL Concepts of Physical Fitness: Active Lifestyles for Wellness',\n",
              " 'Introduction to Physical Education, Exercise Science, and Sport Studies',\n",
              " 'Vertebrates: Comparative Anatomy, Function, Evolution',\n",
              " 'Business: A Changing World',\n",
              " 'Law for Business',\n",
              " 'Essentials of Biology',\n",
              " 'Power and Choice: An Introduction to Political Science',\n",
              " 'Music: An Appreciation',\n",
              " 'Music: An Appreciation',\n",
              " 'Music: An Appreciation',\n",
              " 'Accounting : What the Numbers Mean',\n",
              " 'Financial Statement Analysis and Security Valuation',\n",
              " 'Introduction to Managerial Accounting',\n",
              " 'Managerial Accounting for Managers',\n",
              " 'Fundamentals of Cost Accounting',\n",
              " 'Financial Accounting',\n",
              " 'Auditing and Accounting Cases: Investigating Issues of Fraud and Professional Ethics',\n",
              " 'Advanced Financial Accounting',\n",
              " 'Financial and Managerial Accounting',\n",
              " 'Criminology',\n",
              " 'Sociology, 13th Edition',\n",
              " 'Sociology: A Brief Introduction',\n",
              " 'Sociology: The Core',\n",
              " 'Mapping the Social Landscape: Readings in Sociology',\n",
              " 'Sociology in Modules',\n",
              " 'The Practical Skeptic: Core Concepts in Sociology',\n",
              " 'Practical Skeptic: Readings in Sociology',\n",
              " 'The Social Construction of Difference and Inequality: Race, Class, Gender, and Sexuality',\n",
              " 'Sociology Matters',\n",
              " 'Sociological Theory',\n",
              " 'Applied Circuit Analysis',\n",
              " 'Design With Operational Amplifiers And Analog Integrated Circuits',\n",
              " 'Analog Circuit Design: Discrete & Integrated',\n",
              " 'Marketing Management: A Strategic Decision-Making Approach',\n",
              " 'Essentials of Marketing Research',\n",
              " 'Marketing Management',\n",
              " 'Marketing',\n",
              " 'M: Advertising',\n",
              " 'Marketing: The Core',\n",
              " 'Marketing Strategy: A Decision-Focused Approach',\n",
              " 'BASIC MARKETING: A Marketing Strategy Planning Approach',\n",
              " 'Marketing',\n",
              " \"Small Business Management : An Entrepreneur's Guidebook\",\n",
              " 'International Business',\n",
              " 'Global Marketing: Contemporary Theory, Practice, and Cases',\n",
              " 'Entrepreneurial Small Business',\n",
              " 'Business Ethics: Decision-Making for Personal Integrity & Social Responsibility',\n",
              " 'Business and Society: Stakeholders, Ethics, Public Policy, 14th Edition',\n",
              " 'Fundamentals of Corporate Finance Standard Edition (Mcgraw-Hill/Irwin Series in Finance, Insurance, and Real Estate)',\n",
              " 'Fundamentals of Corporate Finance (McGraw-Hill/Irwin Series in Finance, Insurance and Real Esta)',\n",
              " 'Financial Markets and Institutions (The McGraw-Hill/Irwin Series in Finance, Insurance and Real Estate)',\n",
              " 'Analysis for Financial Management, 10th Edition',\n",
              " 'Essentials of Corporate Finance',\n",
              " 'Principles of Corporate Finance (The Mcgraw-Hill/Irwin Series in Finance, Insurance, and Real Estate) (The Mcgraw-Hill/Irwin Series in Finance, Insureance, and Real Estate)',\n",
              " 'Corporate Finance, 10th Edition',\n",
              " 'Focus on Personal Finance: An Active Approach to Help You Develop Successful Financial Skills (McGraw-Hill/Irwin Series in Finance, Insurance and Real Esta)',\n",
              " 'Core Concepts in Cultural Anthropology',\n",
              " 'Magic Witchcraft and Religion: A Reader in the Anthropology of Religion',\n",
              " 'The Human Species: An Introduction to Biological Anthropology',\n",
              " 'Cultural Anthropology: Appreciating Cultural Diversity',\n",
              " 'Anthropology: Appreciating Human Diversity',\n",
              " 'Mirror for Humanity: A Concise Introduction to Cultural Anthropology',\n",
              " 'Introducing Anthropology: an Integrated Approach',\n",
              " 'Psychology : An Introduction',\n",
              " 'Psychology: Perspectives and Connections, 2nd Edition',\n",
              " 'Understanding Psychology',\n",
              " 'Essentials of Understanding Psychology',\n",
              " 'Social Psychology',\n",
              " 'Psychological Testing and Assessment: An Introduction to Tests and Measurement',\n",
              " 'Human Sexuality: Diversity in Contemporary America, 8th Edition',\n",
              " 'Experience Psychology',\n",
              " 'Personality Psychology: Domains of Knowledge About Human Nature',\n",
              " 'Abnormal Psychology',\n",
              " 'UNDERSTANDING HUMAN SEXUALITY',\n",
              " 'The Science of Psychology: An Appreciative View',\n",
              " 'Looseleaf for Sexuality Today, 11e',\n",
              " 'Communicating at Work: Strategies for Success in Business and the Professions',\n",
              " 'The Right Thing To Do: Basic Readings in Moral Philosophy',\n",
              " 'The Elements of Moral Philosophy',\n",
              " \"Experiencing the World's Religions Loose Leaf: Tradition, Challenge, and Change\",\n",
              " 'Introduction to Business Ethics',\n",
              " 'Philosophy: The Power of Ideas',\n",
              " 'Does the Center Hold? An Introduction to Western Philosophy',\n",
              " 'The Moral of the Story: An Introduction to Ethics',\n",
              " 'Introduction to Physical Education, Fitness, and Sport',\n",
              " 'Environmental Geology',\n",
              " 'Laboratory Manual for Physical Geology',\n",
              " 'Biology: The Essentials',\n",
              " 'Managerial Accounting',\n",
              " 'Experiencing Race, Class, and Gender in the United States',\n",
              " 'The Meaning of Difference: American Constructions of Race, Sex and Gender, Social Class, Sexual Orientation, and Disability',\n",
              " 'Services Marketing (6th Edition)',\n",
              " 'Global Business Today',\n",
              " 'Business, Government and Society: A Managerial Perspective',\n",
              " 'Culture Sketches: Case Studies in Anthropology',\n",
              " \"Scriptures of the World's Religions\",\n",
              " 'Elementary Statistics : A Step by Step Approach with Formula Card',\n",
              " 'Forensic Accounting',\n",
              " 'World History Texas Edition',\n",
              " 'Business Management Real-world Applications And Connections',\n",
              " 'Bscs Biology A Molecular Approach',\n",
              " 'Aerodynamics for Engineering Students, Sixth Edition',\n",
              " 'Problems in Real Analysis A Workbook With Solutions',\n",
              " 'Principles of Real Analysis',\n",
              " 'Probability and Measure Theory',\n",
              " 'Computer Organization and Design, Third Edition: Companion CD (The Morgan Kaufmann Series in Computer Architecture and Design)',\n",
              " 'Introduction to Probability and Statistics for Engineers and Scientists, Fourth Edition',\n",
              " 'Computer Organization and Design The Hardware/Software Interface',\n",
              " 'Digital Evidence and Computer Crime, Third Edition: Forensic Science, Computers, and the Internet',\n",
              " 'Computer Organization and Design',\n",
              " 'Advanced Topics in Forensic DNA Typing, Third Edition',\n",
              " 'Computer Organization and Design, Revised Fourth Edition, Fourth Edition: The Hardware/Software Interface (The Morgan Kaufmann Series in Computer Architecture and Design)',\n",
              " 'Data Mining: Practical Machine Learning Tools and Techniques, Third Edition (The Morgan Kaufmann Series in Data Management Systems)',\n",
              " 'Fundamentals of Forensic Science, Second Edition',\n",
              " 'Introduction to Probability Models, Tenth Edition',\n",
              " 'Molecular Biology : Understanding the Genetic Revolution',\n",
              " 'Differential Equations, Dynamical Systems, and an Introduction to Chaos, Third Edition',\n",
              " 'Introduction to Security, Ninth Edition',\n",
              " 'Computer Networks : A Systems Approach',\n",
              " 'Molecular Biology Techniques : A Classroom Laboratory Manual',\n",
              " 'Introduction to Forestry and Natural Resources',\n",
              " 'Computer and Machine Vision : Theory, Algorithms, Practicalities',\n",
              " 'Probability and Random Processes, Second Edition: With Applications to Signal Processing and Communications',\n",
              " 'A Course in Real Analysis, Second Edition',\n",
              " 'Computer Organization and Design, Fifth Edition: The Hardware/Software Interface (The Morgan Kaufmann Series in Computer Architecture and Design)',\n",
              " 'Introduction to Probability Models, Eleventh Edition',\n",
              " 'Introduction to Homeland Security : Principles of All-Hazards Response',\n",
              " 'Semi-Riemannian Geometry With Applications to Relativity',\n",
              " 'Electronic Commerce 2004 A Managerial Perspective',\n",
              " '68000 Microprocessor Hardware and Software Principles and Applications',\n",
              " 'Soul of Cinema An Appreciation of Film Music',\n",
              " 'Computer Organization and Architecture Designing for Performance',\n",
              " '8088 and 8086 Microprocessors : Programming, Interfacing, Software, Hardware, and Applications - with CD',\n",
              " 'Introduction to Real Analysis',\n",
              " 'Differential Equations And Linear Algebra',\n",
              " 'Musical Theater An Appreciation',\n",
              " 'Microprocessors and Microcomputers Hardware and Software',\n",
              " 'Literatures of Latin America From Antiquity to the Present',\n",
              " 'Applied Partial Differential Equations With Fourier Series and Boundary Value Problems',\n",
              " 'Wildlife Ecology and Management',\n",
              " 'Forest Ecology A Foundation for Sustainable Forest Management and Environmental Ethics in Forestry',\n",
              " 'Digital+microprocessor Fundamentals',\n",
              " 'Data Structures With C++ Using Stl',\n",
              " 'Digital Integrated Circuits A Design Perspective',\n",
              " '8088 and 8086 Microprocessors Programming, Interfacing, Software, Hardware, and Applications',\n",
              " 'Speech and Language Processing An Introduction to Natural Language Processing, Computational Linguistics, and Speech Recognition',\n",
              " 'Structured Computer Organization',\n",
              " 'Power Electronics: Circuits, Devices and Applications (3rd Edition)',\n",
              " 'C Programming Language ANSI C Version',\n",
              " 'Introduction to Quantum Mechanics (2nd Edition)',\n",
              " 'Digital Electronics Laboratory Experiments Using the Xilinx Xc95108 Cpld With Xilinx Foundation Design and Simulation Software Design and Simulation Software',\n",
              " 'Thermodynamics and Heat Power',\n",
              " 'Forensic Science: From the Crime Scene to the Crime Lab',\n",
              " 'Introduction to Risk Management and Insurance (10th Edition) (Prentice Hall Series in Finance)',\n",
              " 'Concepts of Programming Languages (10th Edition)',\n",
              " 'Parallel Programming: Techniques and Applications Using Networked Workstations and Parallel Computers (2nd Edition)',\n",
              " 'ADTs, Data Structures, and Problem Solving with C++',\n",
              " 'Operating Systems Design And Implementation',\n",
              " 'Differential Equations',\n",
              " 'Real Analysis',\n",
              " 'Essentials Of Business Law Legal, E-Commerce, Ethical, and Global Environments',\n",
              " 'Fundamentals Of Probability with Stochastic Processes',\n",
              " \"Probability And Random Processes for Ee's\",\n",
              " 'Rf Circuit Design Theory & Applications',\n",
              " 'Partial Differential Equations with Fourier Series and Boundary Value Problems',\n",
              " 'Structured Computer Organization',\n",
              " 'Principles of Computer Organization and Assembly Language',\n",
              " 'Physics for Scientists And Engineers With Modern Physics',\n",
              " 'Introduction to Computing & Programming in Java A Multimedia Approach',\n",
              " 'Solid State Electronic Devices',\n",
              " 'Sacred Paths Understanding The Religions Of The World',\n",
              " 'Motorola Mc68000 Microprocessor Family Assembly Language, Interface Design, and System Design',\n",
              " 'Linguistic Perspectives on Language and Education',\n",
              " 'Principles of Data Networks And Computer Communications',\n",
              " 'Listening to Music',\n",
              " 'Cognition Psychology Mind And Brain',\n",
              " 'History of Far Eastern Art',\n",
              " 'NEW TESTAMENT GREEK FOR BEGINNERS',\n",
              " 'Differential Equations & Linear Algebra',\n",
              " 'Database Systems',\n",
              " 'Political Science: An Introduction (9th Edition)',\n",
              " 'Calculus: Graphical, Numerical, Algebraic, 3rd Edition',\n",
              " 'Marketing Management',\n",
              " 'Cost Accounting',\n",
              " 'Computer Networks (5th Edition)',\n",
              " 'Mechanical Vibrations (5th Edition)',\n",
              " 'Introduction to Programming Using Visual Basic 2010 (8th Edition) (Pearson Custom Computer Science)',\n",
              " 'Data Structures and Other Objects Using C++',\n",
              " 'Database Processing',\n",
              " 'Electronic Commerce 2012: Managerial and Social Networks Perspectives (7th Edition)',\n",
              " 'International Economics : Theory and Policy',\n",
              " 'Strategic Management and Business Policy: Achieving Sustainability',\n",
              " 'Crisis Intervention: The Criminal Justice Response to Chaos, Mayhem, and Disorder',\n",
              " 'Java: An Introduction to Problem Solving and Programming (6th Edition) (MyprogrammingLab)',\n",
              " 'Balanced Introduction to Computer Science, A (3rd Edition)',\n",
              " 'Reinforced Concrete: Mechanics and Design (6th Edition)',\n",
              " 'Marketing : Real People, Real Choices',\n",
              " 'Marketing : Defined, Explained, Applied',\n",
              " 'Techniques In Microbiology A Student Handbook',\n",
              " 'Aerodynamics for Engineers',\n",
              " 'Physics for Scientists & Engineers With Modern Physics',\n",
              " 'Physics for Scientists And Engineers Chaps 1-38',\n",
              " 'Operating Systems: Internals and Design Principles',\n",
              " 'Introduction to the Design and Analysis of Algorithms (3rd Edition)',\n",
              " 'Forensic Psychology',\n",
              " 'Security in Computing, 4th Edition',\n",
              " 'International Monetary & Financial  Economics (Pearson Series in Economics)',\n",
              " 'Framework for Marketing Management',\n",
              " 'Electronic Devices (Conventional Current Version) (9th Edition)',\n",
              " 'Accounting Information Systems (12th Edition)',\n",
              " 'Cost Accounting, Student Value Edition (14th Edition)',\n",
              " 'Advanced Accounting (11th Edition)',\n",
              " 'Computer Science : An Overview',\n",
              " 'Java How to Program (late Objects)',\n",
              " 'Java How to Program',\n",
              " 'Database Systems: Introduction to Databases and Data Warehouses',\n",
              " 'Data Structures and Other Objects Using Java',\n",
              " 'Data Structures and Algorithm Analysis in Java',\n",
              " 'Neuro-Fuzzy and Soft Computing A Computational Approach to Learning and Machine Intelligence',\n",
              " 'Educational Psychology (12th Edition)',\n",
              " 'The Convergence of Race, Ethnicity, and Gender: Multiple Identities in Counseling (4th Edition) (Merrill Counseling)',\n",
              " 'Electronic Health Records: Understanding and Using Computerized Medical Records',\n",
              " 'Electronic Devices and Circuit Theory (11th Edition)',\n",
              " 'Modern Database Management (11th Edition)',\n",
              " 'Hinduism',\n",
              " 'Contemporary Business and Online Commerce Law : Legal, Internet, Ethical, and Global Environments',\n",
              " 'Programming the World Wide Web (7th Edition)',\n",
              " 'Computer Forensics and Cyber Crime: An Introduction (3rd Edition)',\n",
              " 'Fundamentals of Chemical Engineering Thermodynamics (Prentice Hall International Series in the Physical and Chemical Engineering Sciences)',\n",
              " 'Global Marketing (7th Edition)',\n",
              " 'E-Commerce 2013',\n",
              " 'The Economics of Money, Banking and Financial Markets: The Business School Edition (3rd Edition) (Pearson Series in Economics)',\n",
              " 'Database Concepts (6th Edition)',\n",
              " 'Business Data Networks and Security (9th Edition)',\n",
              " 'Multinational Business Finance (13th Edition) (Pearson Series in Finance)',\n",
              " 'Bond Markets, Analysis and Strategies (8th Edition)',\n",
              " 'Marketing: An Introduction (11th Edition)',\n",
              " 'Statistics for Business and Economics (8th Edition)',\n",
              " 'Strategic Marketing Problems (13th Edition)',\n",
              " 'Introduction to Management Science (11th Edition)',\n",
              " '[ The Career Fitness Program: Exercising Your Options [ THE CAREER FITNESS PROGRAM: EXERCISING YOUR OPTIONS ] By Sukiennik, Diane ( Author )Dec-27-2011 Paperback',\n",
              " 'Economics of Money, Banking, and Financial Markets, 10th Edition',\n",
              " 'The Economics of Health and Health Care (7th Edition)',\n",
              " 'Computer Security',\n",
              " 'Marketing for Hospitality and Tourism (6th Edition)',\n",
              " 'Analyzing Computer Security: A Threat / Vulnerability / Countermeasure Approach',\n",
              " 'Starting Out with Programming Logic and Design (3rd Edition)',\n",
              " 'Pharmacology: Connections to Nursing Practice (2nd Edition)',\n",
              " 'High Speed Signaling : Jitter Modeling, Analysis, and Budgeting',\n",
              " 'Absolute Java (5th Edition)',\n",
              " 'Aerodynamics for Engineers (6th Edition)',\n",
              " 'Data Structures & Algorithm Analysis in C++',\n",
              " 'Ethics for the Information Age (5th Edition)',\n",
              " 'Starting Out with Java: From Control Structures through Objects (5th Edition)',\n",
              " 'Computer Networking: A Top-Down Approach (6th Edition)',\n",
              " 'The Legal Environment of Business and Online Commerce (7th Edition)',\n",
              " 'Business Law (8th Edition)',\n",
              " 'Hospital Operations: Principles of High Efficiency Health Care (FT Press Operations Management)',\n",
              " 'Engineering Mechanics: Dynamics (13th Edition)',\n",
              " 'Engineering Mechanics: Statics (13th Edition)',\n",
              " 'Structured Computer Organization (6th Edition)',\n",
              " 'Introduction to Computing and Programming in Python (3rd Edition)',\n",
              " 'Computer Organization and Architecture (9th Edition) (William Stallings Books on Computer and Data Communications)',\n",
              " 'Introduction to Java Programming, Comprehensive Version (9th Edition)',\n",
              " 'Economics Today: The Micro View (17th Edition)',\n",
              " 'International Economics (6th Edition) (Pearson Economics)',\n",
              " 'Economics : Principles, Applications, and Tools',\n",
              " 'E-Marketing (7th Edition)',\n",
              " 'Criminology (2nd Edition) (The Justice Series)',\n",
              " 'Business Communication Today (12th Edition)',\n",
              " 'Business Communication Essentials',\n",
              " 'Criminological Theory (6th Edition)',\n",
              " 'Starting Out with Java: From Control Structures through Objects plus MyProgrammingLab with Pearson eText -- Access Card Package (5th Edition)',\n",
              " 'C: How to Program, 7th Edition',\n",
              " 'International Business: The New Realities (3rd Edition)',\n",
              " 'Corporate Finance',\n",
              " 'Principles of Risk Management and Insurance (12th Edition) (Pearson Series in Finance)',\n",
              " 'Fundamentals of Futures and Options Markets (8th Edition)',\n",
              " 'Foundations of Finance (8th Edition) (Pearson Series in Finance)',\n",
              " 'Engineering Mechanics: Statics plus MasteringEngineering with Pearson eText -- Access Card Package (13th Edition)',\n",
              " 'Economics',\n",
              " 'Managerial Economics (7th Edition)',\n",
              " 'Business Statistics (9th Edition)',\n",
              " 'Principles of Economics (11th Edition)',\n",
              " 'Business Data Communications- Infrastructure, Networking and Security (7th Edition)',\n",
              " 'E-Commerce 2014 (10th Edition)',\n",
              " 'Pharmacology for Nurses : A Pathophysiologic Approach',\n",
              " 'Database Processing: Fundamentals, Design, and Implementation (13th Edition)',\n",
              " 'Statistics for Managers Using Microsoft Excel',\n",
              " 'International Business: The Challenges of Globalization (7th Edition)',\n",
              " 'Marketing Research',\n",
              " 'Principles of Marketing (15th Edition)',\n",
              " 'Corporate Finance, the Core',\n",
              " 'Comprehensive Health Insurance: Billing, Coding & Reimbursement, and Student Workbook',\n",
              " 'Java Software Structures : Designing and Using Data Structures',\n",
              " 'Mechanics of Materials (9th Edition)',\n",
              " 'Fundamentals of Neural Networks Architectures, Algorithms, and Applications',\n",
              " 'Cryptography and Network Security: Principles and Practice (6th Edition)',\n",
              " 'Network Security Essentials Applications and Standards (5th Edition)',\n",
              " 'Java Foundations',\n",
              " 'Criminology Today : An Integrative Introduction',\n",
              " 'E-Commerce Essentials',\n",
              " 'Computer Networks and Internets (6th Edition)',\n",
              " 'Prentice Hall Earth Science',\n",
              " 'Computer Science : An Overview',\n",
              " 'Essentials of Sociology (11th Edition)',\n",
              " 'Operating Systems: Internals and Design Principles (8th Edition)',\n",
              " 'History of the Dance in Art and Education',\n",
              " 'Hinduism A Cultural Perspective',\n",
              " 'Wildlife, Forests and Forestry: Principles of Managing Forests for Biological Diversity (2nd Edition)',\n",
              " 'The Intel Microprocessors (8th Edition)',\n",
              " 'Technical Communication in the Twenty-First Century',\n",
              " 'Criminalistics: An Introduction to Forensic Science (10th Edition)',\n",
              " 'Electronics Fundamentals: Circuits, Devices & Applications',\n",
              " 'Principles of Electric Circuits: Conventional Current Version',\n",
              " 'Core Concepts in Pharmacology (3rd Edition) (MyNursingKit Series)',\n",
              " 'Contemporary Clinical Immunology and Serology (Pearson Clinical Laboratory Science)',\n",
              " 'Criminology : A Sociological Understanding',\n",
              " 'Homeland Security',\n",
              " 'Health & Physical Assessment in Nursing (2nd Edition)',\n",
              " 'Understanding Pharmacology for Health Professions',\n",
              " 'How Does Earth Work: Physical Geology and the Process of Science',\n",
              " 'Differential Equations Computing and Modeling',\n",
              " 'Elementary Differential Equations With Boundary Value Problems',\n",
              " 'First Course in Database Systems',\n",
              " 'E-Commerce: Business,Technology, Society (4th Edition)',\n",
              " 'Modern Operating Systems',\n",
              " 'Industrial Ecology and Sustainable Engineering',\n",
              " 'Contemporary Business and Online Commerce Law',\n",
              " 'Earth Science',\n",
              " 'Christian Theological Tradition',\n",
              " 'A First Course in Probability',\n",
              " 'Managing Business Process Flows',\n",
              " 'The Motorola Mc68000 Microprocessor Family: Assembly Language, Interface Design, and System Design',\n",
              " 'Differential Equations and Linear Algebra',\n",
              " 'Art: A Brief History',\n",
              " 'Problem Solving with Data Structures Using Java: A Multimedia Approach',\n",
              " 'Computer Networks and Internets',\n",
              " 'History of Modern Art',\n",
              " 'Introductory Chemical Engineering Thermodynamics (2nd Edition) (Prentice Hall International Series in the Physical and Chemical Engineering Sciences)',\n",
              " 'HCS 12 Microprocessors',\n",
              " 'Computer Organization and Architecture: Designing for Performance',\n",
              " 'Marketing Management (4th Edition)',\n",
              " 'Computer Networking: A Top-down Approach',\n",
              " 'Marketing Research: An Applied Orientation',\n",
              " 'Contemporary Direct and Interactive Marketing',\n",
              " 'Fundamentals of Database Systems (6th Edition)',\n",
              " 'Electronic Commerce 2010',\n",
              " 'Data Structures and Abstractions with Java (3rd Edition)',\n",
              " 'Services Marketing (7th Edition)',\n",
              " 'Introduction to Electronic Commerce (3rd Edition) (Spectrum Books)',\n",
              " 'Electric Circuits (9th Edition) (MasteringEngineering Series)',\n",
              " 'Principles of Risk Management and Insurance (11th Edition) (The Prentice Hall Series in Finance)',\n",
              " 'History of Art in Africa',\n",
              " 'Physics for Scientists and Engineers with Modern Physics',\n",
              " 'Network Flows Theory, Algorithms, and Applications',\n",
              " 'Natural Language Processing for Prolog Programmers',\n",
              " 'Educational Psychology: Theory and Practice (10th Edition) (MyEducationLab Series)',\n",
              " 'Mastering Methods: Differentiated Instruction for Culturally and Linguistically Diverse (CLD) Students (2nd Edition) (MyEducationKit Series)',\n",
              " 'Criminology Today: An Integrative Introduction (6th Edition) (MyCrimeKit Series)',\n",
              " 'Core Java Volume I--Fundamentals (9th Edition) (Sun Core Series)',\n",
              " 'Introductory Circuit Analysis (12th Edition)',\n",
              " 'Linguistics for Non-Linguists: A Primer with Exercises',\n",
              " 'Not for ESOL Teachers: What Every Classroom Teacher Needs to Know About the Linguistically, Culturally, and Ethnically Diverse Student',\n",
              " 'Quantum Mechanics For Engineering, Materials Science, and Applied Physics',\n",
              " 'E-Commerce 2012 (8th Edition)',\n",
              " 'International Economics: Theory and Policy, Student Value Edition (9th Edition)',\n",
              " 'Introduction to Islam (4th Edition) (Mysearchlab Series for Religion)',\n",
              " 'Life and Health Insurance, 13th Edition',\n",
              " 'Introduction to Quantum Mechanics in Chemistry',\n",
              " 'Molecular Thermodynamics of Fluid-Phase Equilibria',\n",
              " 'Origins of Virtue Human Instincts and the Evolution of Cooperation',\n",
              " 'Rise and Fall of Athens Nine Greek Lives',\n",
              " 'Why Evolution Is True',\n",
              " 'Dramaturgy in American Theater, a Source Book A Source Book',\n",
              " 'Basic Judaism',\n",
              " 'Regional Farm Bill Field Hearing Redmond, Oregon  Hearing before the Committee on Agriculture, Nutrition, and Forestry, United States Senate, One Hundred Ninth Congress, Second Session, August 15, 2006',\n",
              " 'Analytical Mechanics for Relativity and Quantum Mechanics (Oxford Graduate Texts)',\n",
              " 'Hinduism A Very Short Introduction',\n",
              " 'Judaism A Very Short Introduction',\n",
              " 'Foundations of Buddhism',\n",
              " 'History & Practice of Ancient Astronomy',\n",
              " 'Oxford History of Islam',\n",
              " 'After the New Testament A Reader in Early Christianity',\n",
              " 'Classical Greek Reader',\n",
              " 'Three Challenges to Ethics Environmentalism, Feminism, and Multiculturalism',\n",
              " 'Introduction to Game Theory',\n",
              " 'Islamic Threat Myth or Reality?',\n",
              " \"Anne Orthwood's Bastard Sex and Law in Early Virginia\",\n",
              " 'Athenaze An Introduction to Ancient Greek',\n",
              " 'Theorizing Feminisms A Reader',\n",
              " 'New Testament and Other Early Christian Writings A Reader',\n",
              " 'Eight Theories of Religion',\n",
              " 'Islam The Straight Path',\n",
              " 'Playing for Real A Text on Game Theory',\n",
              " 'The Oxford Encyclopedia of the Islamic World: Six-Volume Set',\n",
              " 'Buddhism 2e',\n",
              " 'Does Feminism Discriminate against Men?: A Debate',\n",
              " 'An Introduction to Game Theory, International Edition',\n",
              " 'Microelectronic Circuits (The Oxford Series in Electrical and Computer Engineering)',\n",
              " 'Film Theory and Criticism',\n",
              " 'Magic, Witchcraft and Ghosts in the Greek and Roman Worlds: A Sourcebook',\n",
              " \"Vold's Theoretical Criminology\",\n",
              " 'Democracy in Latin America : Political Change in Comparative Perspective',\n",
              " 'Anthropology: What Does It Mean to Be Human?',\n",
              " 'Waves and Oscillations: A Prelude to Quantum Mechanics',\n",
              " 'Islam: The Straight Path',\n",
              " 'The Great Conversation: A Historical Introduction to Philosophy',\n",
              " 'Oxford Handbook of Judaism and Economics',\n",
              " 'The English Language: A Linguistic History',\n",
              " 'A Concise Introduction to World Religions, 2nd Edition',\n",
              " 'Chinese and South-East Asian White Ware Found in the Philippines',\n",
              " 'Role of Government in East Asian Economic Development Comparative Institutional Analysis',\n",
              " 'Chaos and Nonlinear Dynamics An Introduction for Scientists and Engineers',\n",
              " 'Chaos and Time-Series Analysis',\n",
              " 'The Proboscidea: Evolution and Palaeoecology of Elephants and Their Relatives (Oxford Science Publications)',\n",
              " 'Probability and Random Processes',\n",
              " \"Introducing Einstein's Relativity\",\n",
              " 'A Dictionary of Hinduism',\n",
              " \"Latin Dictionary Founded on Andrew's Edition of Freud's Latin Dictionary\",\n",
              " 'Greek-English Lexicon',\n",
              " 'Deuteronomy and the Judaean Diaspora',\n",
              " 'Feminism and Film',\n",
              " 'Intermediate Greek-English Lexicon',\n",
              " 'Biochemistry and Molecular Biology',\n",
              " 'Building Bioinformatics Solutions: With Perl, R and MySQL',\n",
              " 'General Relativity and the Einstein Equations',\n",
              " 'Feminism Issues & Arguments',\n",
              " 'Canon and Criterion in Christian Theology From the Fathers to Feminism',\n",
              " 'Evolution an introduction',\n",
              " 'Women in Early Indian Buddhism : Comparative Textual Studies',\n",
              " 'Cultural Anthropology : A Perspective on the Human Condition',\n",
              " 'Molecular Quantum Mechanics',\n",
              " 'Molecular Biology: Principles of Genome Function',\n",
              " 'Relativity, Gravitation and Cosmology: A Basic Introduction (Oxford Master Series in Physics)',\n",
              " 'Molecular Biology of Cancer: Mechanisms, Targets, and Therapeutics',\n",
              " \"Einstein's Physics: Atoms, Quanta, and Relativity - Derived, Explained, and Appraised\",\n",
              " 'An Introduction to Medicinal Chemistry',\n",
              " 'Biochemistry: The Molecular Basis of Life',\n",
              " 'Ecoimmunology',\n",
              " 'Invitation to World Religions',\n",
              " 'Gender Through the Prism of Difference',\n",
              " 'The New Testament: A Historical Introduction to the Early Christian Writings',\n",
              " 'World Religions Today',\n",
              " 'Introducing Philosophy : A Text with Integrated Readings',\n",
              " 'Crime and Criminology',\n",
              " 'Ethics: History, Theory, and Contemporary Issues',\n",
              " 'Exploring Philosophy: An Introductory Anthology',\n",
              " 'Introduction to Philosophy: Classical and Contemporary Readings',\n",
              " 'Criminological Theories: Introduction, Evaluation, and Application',\n",
              " 'Christ among the Messiahs : Christ Language in Paul and Messiah Language in Ancient Judaism',\n",
              " 'Talons of the Eagle: Latin America, the United States, and the World',\n",
              " 'Marine Biology: Function, Biodiversity, Ecology',\n",
              " 'American Popular Music',\n",
              " 'Physical Geography: The Global Environment',\n",
              " 'Buddhism: Introducing the Buddhist Experience',\n",
              " 'Oxford Latin Course, College Edition: Grammar, Exercises, Context',\n",
              " 'Oxford Latin Course, College Edition: Readings and Vocabulary',\n",
              " 'Colonial Latin America',\n",
              " 'The Gendered Society',\n",
              " 'The Gendered Society Reader',\n",
              " 'Josephus and the Theologies of Ancient Judaism',\n",
              " 'Modern Latin America',\n",
              " 'The Moral Life: An Introductory Reader in Ethics and Literature',\n",
              " 'Readings in Greek History: Sources and Interpretations',\n",
              " 'Philosophy: The Quest For Truth',\n",
              " 'Advanced Quantum Mechanics',\n",
              " 'Mechanics and Thermodynamics of Propulsion',\n",
              " 'Genetic Algorithms in Search, Optimization and Machine Learning',\n",
              " 'Exploring Black Holes Introduction to General Relativity',\n",
              " 'Real Analysis: A First Course, 2nd Edition',\n",
              " 'Modern Quantum Mechanics',\n",
              " 'Nonlinear Dynamics+chaos',\n",
              " 'Concrete Mathematics A Foundation for Computer Science',\n",
              " 'Computer Systems Organization & Architecture',\n",
              " 'Design And Implementation Of The Freebsd Operating System',\n",
              " 'COURSE IN PROBABILITY',\n",
              " 'Art of Computer Programming, Volume 1: Fundamental Algorithms (3rd Edition)',\n",
              " 'Literature: An Introduction to Reading and Writing (10th Edition)',\n",
              " 'Agendas, Alternatives, and Public Policies, Update Edition, with an Epilogue on Health Care (2nd Edition) (Longman Classics in Political Science)',\n",
              " 'Greek Art and Archaeology (5th Edition)',\n",
              " 'Gender: Psychological Perspectives (6th Edition)',\n",
              " 'Human Sexuality Today (7th Edition) (MyDevelopmentLab Series)',\n",
              " 'Art : A Brief History',\n",
              " 'Business Ethics: Concepts and Cases',\n",
              " 'Jews, Christians, Muslims : A Comparative Introduction to Monotheistic Religions',\n",
              " 'Media Ethics: Cases and Moral Reasoning (9th Edition)',\n",
              " 'How English Works : A Linguistic Introduction',\n",
              " 'Introduction  to the Bible (8th Edition)',\n",
              " 'Concise Introduction to Linguistics',\n",
              " 'Latin America and Its People, Combined Volume (3rd Edition)',\n",
              " 'A Short Guide to Writing about Biology (8th Edition)',\n",
              " 'Visions of America: A History of the United States, Volume One (2nd Edition)',\n",
              " 'The Sociology Project: Introducing the Sociological Imagination',\n",
              " 'Sociology: A Down-to-Earth Approach (11th Edition)',\n",
              " 'Sociology (14th Edition)',\n",
              " 'Biological Anthropology',\n",
              " 'Backpack Literature: An Introduction to Fiction, Poetry, Drama and Writing (4th Edition)',\n",
              " 'Religions of the World',\n",
              " \"A History of the World's Religions\",\n",
              " 'Psychology',\n",
              " 'Social Psychology: United States Edition',\n",
              " 'Core Questions in Philosophy: A Text with Readings (6th Edition) (MyThinkingLab Series)',\n",
              " 'Forensic Psychology',\n",
              " 'Human Sexuality',\n",
              " 'Human Sexuality (Paper) (3rd Edition)',\n",
              " 'Living Religions: A Brief Introduction',\n",
              " 'Literature: An Introduction to Fiction, Poetry, Drama, and Writing, 12th Edition',\n",
              " 'Human Evolution and Culture: Highlights of Anthropology (7th Edition)',\n",
              " 'Conformity and Conflict: Readings in Cultural Anthropology (14th Edition) (MyAnthroLab Series)',\n",
              " 'Short Guide to Writing About Film',\n",
              " 'Art: A Brief History Plus NEW MyArtsLab -- Access Card Package (5th Edition)',\n",
              " 'Physiology of Behavior (11th Edition)',\n",
              " \"Janson's Basic History of Western Art (9th Edition) (History of Art)\",\n",
              " 'Statistics for Psychology',\n",
              " 'History of Modern Art (Paperback) (7th Edition)',\n",
              " 'History of Modern Art Volume I',\n",
              " 'Human Biology for Social Workers Development, Ecology, Genetics, and Health',\n",
              " 'Anthropology of Latin America And the Caribbean',\n",
              " 'Understanding Music (7th Edition)',\n",
              " \"Head's Broadcasting in America: A Survey of Electronic Media\",\n",
              " 'Writing in Political Science: A Practical Guide',\n",
              " 'A History of Film',\n",
              " 'Religion Matters: What Sociology Teaches Us About Religion In Our World',\n",
              " 'Introduction to Literature, An (16th Edition)',\n",
              " 'The Visual Arts: A History, Revised Edition',\n",
              " \"Janson's History of Art: The Western Tradition (8th Edition)\",\n",
              " \"Janson's History of Art: The Western Tradition, Volume I (8th Edition) (MyArtsLab Series)\",\n",
              " \"Janson's History of Art: The Western Tradition, Volume II (8th Edition)\",\n",
              " 'Flashback: A Brief Film History',\n",
              " 'The Greeks: History, Culture, and Society',\n",
              " 'History of Italian Renaissance Art (Paper cover) (7th Edition) (Mysearchlab Series for Art)',\n",
              " 'Photography: A Cultural History (3rd Edition) (Mysearchlab Series for Art Mysearchlab Series for Art)',\n",
              " 'Latin America : An Interpretive History',\n",
              " \"The World's History (4th Edition)\",\n",
              " 'Consider the Source : Documents in Latin American History - An Interpretive History',\n",
              " 'Sociology of Religion: A Reader',\n",
              " 'Anthropology of Religion, Magic, and Witchcraft, The (3rd Edition)',\n",
              " 'Ultimate Questions: Thinking about Philosophy',\n",
              " 'Seeing Ourselves: Classic, Contemporary, and Cross-Cultural Readings in Sociology',\n",
              " 'Anthropology (13th Edition) (MyAnthroLab Series)',\n",
              " 'Art History, Volume 1 (4th Edition) (MyArtsLab Series)',\n",
              " 'Art History, Volume 2 (4th Edition) (MyArtsLab Series)',\n",
              " 'Art History, Combined (4th Edition) (MyArtsLab Series)',\n",
              " 'Women, Politics, and American Society (5th Edition) (Longman Classics in Political Science)',\n",
              " 'Political Science: An Introduction',\n",
              " 'Look! Art History Fundamentals',\n",
              " 'Film: A Critical Introduction (3rd Edition) (MyCommunicationKit Series)',\n",
              " 'THINK Sociology',\n",
              " 'THINK Human Sexuality',\n",
              " 'Other World, The (9th Edition) (Mysearchlab Series for Political Science)',\n",
              " 'Cultural Anthropology in a Globalizing World (3rd Edition)',\n",
              " 'Introduction to Forensic Anthropology (4th Edition)',\n",
              " 'Empirical Political Analysis (8th Edition) (Mysearchlab Series for Political Science)',\n",
              " 'Challenge of Third World Development, The (6th Edition) (Mysearchlab Series for Political Science)',\n",
              " \"Janson's History of Art: The Western Tradition with MyArtsLab and Pearson eText (8th Edition)\",\n",
              " 'Social Psychology',\n",
              " 'Statistics for the Behavioral and Social Sciences',\n",
              " 'Sociology of Education, The (7th Edition)',\n",
              " 'Conscious Reader',\n",
              " 'GenderSpeak: Personal Effectiveness in Gender Communication',\n",
              " \"Political Science Student Writer's Manual\",\n",
              " 'Thinking about Women : Sociological Perspectives on Sex and Gender',\n",
              " 'Understanding Psychology (10th Edition)',\n",
              " 'Understanding the Political World: A Comparative Introduction to Political Science Plus MyPoliSciLab -- Access Card Package with eText -- Access Card Package (11th Edition)',\n",
              " 'Psychology and Life (20th Edition)',\n",
              " 'Art History (5th Edition)',\n",
              " 'Art History Volume 1 (5th Edition)',\n",
              " 'Art History Portable Book 1 (5th Edition)',\n",
              " 'Art History Portables Book 2 (5th Edition)',\n",
              " 'Art History Portables Book 3 (5th Edition)',\n",
              " 'Art History Portables Book 6 (5th Edition)',\n",
              " 'Art History Volume 2 (5th Edition)',\n",
              " 'Religions of the World Plus NEW MyReligionLab with eText -- Access Card Package (12th Edition)',\n",
              " 'Art Beyond the West (3rd Edition)',\n",
              " 'Essentials of Sociology: A Down-to-Earth Approach Plus NEW MySocLab with eText -- Access Card Package (10th Edition)',\n",
              " 'Essentials of Sociology: A Down-to-Earth Approach (10th Edition)',\n",
              " 'Thinking About Women: Sociological Perspectives on Sex and Gender (10th Edition)',\n",
              " 'Literature and the Writing Process (10th Edition)',\n",
              " 'Exploring Biological Anthropology: The Essentials (3rd Edition)',\n",
              " 'Human Sexuality in a World of Diversity (case) (9th Edition)',\n",
              " \"The World's Religions (4th Edition)\",\n",
              " 'Forty Studies that Changed Psychology (7th Edition)',\n",
              " 'Human Evolution and Culture: Highlights of Anthropology Plus NEW MyAnthroLab with Pearson eText -- Access Card Package (7th Edition)',\n",
              " 'Music for Sight Singing (9th Edition)',\n",
              " 'Art History Volume 1, Books a la Carte Edition (5th Edition)',\n",
              " 'Art History volume 1, Books a la Carte Plus NEW MyArtsLab with eText -- Access Card Package (5th Edition)',\n",
              " 'Abnormal Psychology (16th Edition)',\n",
              " 'Art History, Volume 2 Plus NEW MyArtsLab with eText -- Access Card Package (5th Edition)',\n",
              " 'Art History Plus NEW MyArtsLab with eText -- Access Card Package (5th Edition)',\n",
              " 'Human Sexuality in a World of Diversity (paperback) (9th Edition)',\n",
              " 'Living Religions (9th Edition)',\n",
              " 'Living Religions Plus NEW MyReligionLab with Pearson eText --Access Card Package (9th Edition)',\n",
              " 'Mastering the World of Psychology (5th Edition)',\n",
              " 'Political Science: An Introduction',\n",
              " 'Political Science: An Introduction Plus NEW MyPolisciLab with Pearson eText-- Access Card Package (13th Edition)',\n",
              " 'A Short Course in Photography: Film and Darkroom (9th Edition)',\n",
              " 'Sociology',\n",
              " 'Human Sexuality Today (8th Edition)',\n",
              " 'Sociology: A Down-to-Earth Approach',\n",
              " 'Greek-English Lexicon of the New Testament and Other Early Christian Literature',\n",
              " 'Greek Tragedies',\n",
              " 'Against Prediction Profiling, Policing, And Punishing in an Actuarial Age',\n",
              " 'Travesti Sex, Gender, and Culture Among Brazilian Transgendered Prostitutes',\n",
              " 'Cults, Territory, and the Origins of the Greek City-State',\n",
              " 'Disability in Judaism, Christianity, and Islam : Sacred Texts, Historical Traditions, and Social Analysis',\n",
              " \"Politics of Passion Women's Sexual Culture in the Afro-surinamese Diaspora\",\n",
              " 'Sources of East Asian Tradition',\n",
              " 'Sources of East Asian Tradition: The Modern Period, Vol. 2',\n",
              " 'Sources of East Asian Tradition',\n",
              " 'Parting Ways: Jewishness and the Critique of Zionism (New Directions in Critical Theory)',\n",
              " 'Islam in America, Second Edition',\n",
              " 'Voice and Vision, Second Edition: A Creative Approach to Narrative Film and DV Production',\n",
              " \"Carlos Aldama's Life in Batá : Cuba, Diaspora, and the Drum\",\n",
              " 'Cognitive Models of Speech Processing: Psycholinguistic and Computational Perspectives (Acl-Mit Press Series in Natural Language Processing)',\n",
              " 'Introduction to Machine Learning, Second Edition (Adaptive Computation and Machine Learning)',\n",
              " 'The Processes of Life: An Introduction to Molecular Biology',\n",
              " 'Probabilistic Graphical Models: Principles and Techniques (Adaptive Computation and Machine Learning)',\n",
              " 'Circuit Design and Simulation with VHDL, Second Edition',\n",
              " 'Machine Learning: A Probabilistic Perspective (Adaptive Computation and Machine Learning series)',\n",
              " 'Foundations of Machine Learning (Adaptive Computation and Machine Learning series)',\n",
              " 'Game Theory and the Social Contract Just Playing',\n",
              " 'Introduction to Algorithms, Third Edition',\n",
              " 'Strategies and Games Theory and Practice',\n",
              " 'Digital Performance A History of New Media in Theater, Dance, Performance Art, and Installation',\n",
              " 'Game Theory',\n",
              " 'Introduction To Bioinformatics Algorithms',\n",
              " 'Foundations of Statistical Natural Language Processing',\n",
              " 'Learning With Kernels Support Vector Machines, Regularization, Optimization and Beyond',\n",
              " 'Linguistics, Sixth Edition: An Introduction to Language and Communication',\n",
              " 'Exiles, Diasporas and Strangers',\n",
              " 'E-Business and E-Commerce Management',\n",
              " 'Computer Networking. James F. Kurose, Keith W. Ross',\n",
              " 'Computer Organization and Architecture: Designing for Performance. by William Stallings',\n",
              " 'Defeat Is the Only Bad News: Rwanda under Musinga, 1896-1931 (Africa and the Diaspora)',\n",
              " 'Theater Technology',\n",
              " 'Theater Design',\n",
              " 'Theater of the Avant-Garde, 1890-1950 A Critical Anthology',\n",
              " 'Visual Judaism in Late Antiquity: Historical Contexts of Jewish Art',\n",
              " 'Anthology Of Arabic Literature, Culture, and Thought From Pre-Islamic Times To The Present',\n",
              " 'Learn to Read Greek: Part 1, Textbook and Workbook Set',\n",
              " 'General Relativity and Gravitation:One Hundred Years After the Birth of Albert Einstein. Volume 1',\n",
              " 'Principles of Quantum Mechanics',\n",
              " 'Psychotherapy and Buddhism Toward an Integration',\n",
              " 'Handbook of Urban and Community Forestry in the Northeast',\n",
              " 'Molecular Immunology of Complex Carbohydrates 2',\n",
              " 'Encyclopedia of Diasporas Immigrant and Refugee Cultures Around the World',\n",
              " \"Da Capo Best Music Writing 2002 The Year's Finest Writing on Rock, Pop, Jazz, Country & More\",\n",
              " 'Case for Faith A Journalist Investigates the Toughest Objections to Christianity',\n",
              " 'Basics of Biblical Greek Workbook',\n",
              " 'Basics of Biblical Greek Grammar',\n",
              " 'Stages of Drama Classical to Contemporary Theater',\n",
              " 'Exploring American Histories, Volume 2: A Brief Survey with Sources',\n",
              " 'Critical Visions in Film Theory',\n",
              " 'Anatomy of Film',\n",
              " 'Film: an Introduction',\n",
              " 'Contemporary Linguistics',\n",
              " 'Ways of the World: A Brief Global History with Sources, Volume 1',\n",
              " 'Ways of the World: A Brief Global History with Sources, Volume 2',\n",
              " \"Nvestigative Reporter's Handbook: A Guide to Documents, Databases, and Techniques\",\n",
              " 'Contemporary Linguistics 6e & Study Guide',\n",
              " 'America: A Concise History, Volume One: To 1877',\n",
              " 'America: A Concise History, Volume Two: Since 1865',\n",
              " 'Rules for Writers with Writing about Literature (Tabbed Version)',\n",
              " 'Making Literature Matter: An Anthology for Readers and Writers',\n",
              " 'The American Promise, Volume I: To 1877: A History of the United States',\n",
              " 'A History of World Societies, Volume 1: To 1600',\n",
              " \"[ Through Women's Eyes: An American History with Documents[ THROUGH WOMEN'S EYES: AN AMERICAN HISTORY WITH DOCUMENTS ] By DuBois, Ellen Carol ( Author )Jan-05-2012 Paperback\",\n",
              " 'The Film Experience: An Introduction, 3rd Edition',\n",
              " 'Ashe, Traditional Religion and Healing in Sub-Saharan Africa and the Diaspora:: A Classified International Bibliography (Bibliographies and Indexes in Afro-American and African Studies)',\n",
              " 'Broadway: An Encyclopedia of Theater and American Culture',\n",
              " \"Feminism and Women's Rights Worldwide [3 volumes]: [Three Volumes] (Women's Psychology)\",\n",
              " 'Cases and Materials on Criminal Law, 6th (American Casebooks)',\n",
              " \"Murray and Flechtner's Sales, Leases and Electronic Commerce: Problems and Materials on National and International Transactions, 4th\",\n",
              " 'Sex-Based Discrimination, Text, Cases and Materials, 7th (American Casebooks)',\n",
              " 'Introduction to Real Analysis',\n",
              " 'Longman Anthology of Drama and Theater A Global Perspective',\n",
              " 'Writing In Political Science',\n",
              " 'Computer Networking and the Internet (5th Edition)',\n",
              " ...]"
            ]
          },
          "metadata": {},
          "execution_count": 6
        }
      ]
    },
    {
      "cell_type": "code",
      "source": [
        "len(titles)"
      ],
      "metadata": {
        "colab": {
          "base_uri": "https://localhost:8080/"
        },
        "id": "WHrnwC__26FL",
        "outputId": "226b9330-90bb-45e4-8ea5-7ebdf38482bb"
      },
      "execution_count": 27,
      "outputs": [
        {
          "output_type": "execute_result",
          "data": {
            "text/plain": [
              "2373"
            ]
          },
          "metadata": {},
          "execution_count": 27
        }
      ]
    },
    {
      "cell_type": "code",
      "source": [
        "# Get a list of stopwords\n",
        "stops = set(stopwords.words('english'))\n",
        "print(stops, end =',')"
      ],
      "metadata": {
        "colab": {
          "base_uri": "https://localhost:8080/"
        },
        "id": "zMXsNlxNy0lW",
        "outputId": "35de8ef0-cdd7-46b6-ce75-98c7988331b5"
      },
      "execution_count": 8,
      "outputs": [
        {
          "output_type": "stream",
          "name": "stdout",
          "text": [
            "{'which', 'no', 'most', \"weren't\", 'that', 'm', 'this', 'them', 'mightn', 'aren', 'until', 'doing', 'such', 'him', 'further', 'if', 'to', 'out', 'these', 'ain', 'was', 'she', \"doesn't\", 'will', 'those', 'some', 'haven', 'whom', 're', \"you've\", 'same', 'has', 'o', 'because', \"aren't\", \"wouldn't\", 'didn', 'be', 'down', 'during', 'between', 'were', 'through', 'shan', 'ma', 'hers', 'don', 'ours', 'shouldn', 'isn', \"shan't\", 'the', 'me', 'mustn', \"shouldn't\", 'against', \"didn't\", 'am', 'hasn', 'own', \"mustn't\", \"you're\", 'yourselves', 'hadn', 'just', 'an', \"that'll\", 'above', 'do', 'our', 'then', 'when', 'very', 'his', 'theirs', 'all', 'as', 'couldn', 'each', 'more', 'what', 'i', 'won', 'who', 'after', \"don't\", \"you'd\", \"haven't\", 'where', 'can', 'wasn', 'its', 'my', 'is', 'with', 'doesn', 'why', 'does', 'weren', 'from', 'themselves', 'yours', 'we', 'should', 'now', 'but', 'few', \"hasn't\", \"you'll\", 'wouldn', 'your', 'not', \"won't\", 'on', 'than', 'they', 'their', 'off', 'being', 'll', 'up', 'y', 'needn', 's', \"hadn't\", 'ourselves', \"she's\", 'been', 'did', 'once', 've', 'too', 'into', 'here', 'of', \"isn't\", 'how', 'himself', 'are', 'and', 'again', \"should've\", 'a', 'by', 'only', 'myself', 'in', 'other', 'yourself', 'below', \"wasn't\", 'there', 'her', 'over', 'it', 'at', 'both', 'before', \"couldn't\", 'under', 'd', 'or', 'he', 'while', 'herself', 'have', \"it's\", 'about', 'nor', 'had', 't', 'so', \"needn't\", 'any', \"mightn't\", 'for', 'you', 'having', 'itself'},"
          ]
        }
      ]
    },
    {
      "cell_type": "code",
      "source": [
        "# Enlarge the list of stopwords with specific words\n",
        "stops = stops.union({'introduction', 'edition', 'series', 'application',\n",
        "                     'approach', 'card', 'access', 'package', 'plus', 'etext',\n",
        "                     'brief', 'vol', 'fundamental', 'guide', 'volume', 'essential',\n",
        "                     'printed', 'second', 'third', 'fourth'})"
      ],
      "metadata": {
        "id": "NQRI9UZay9sh"
      },
      "execution_count": 9,
      "outputs": []
    },
    {
      "cell_type": "markdown",
      "source": [
        "# Define customize tokenizer"
      ],
      "metadata": {
        "id": "PgvC7wnczkto"
      }
    },
    {
      "cell_type": "code",
      "source": [
        "wordnet_lemmatizer.lemmatize('Cases and Materials')"
      ],
      "metadata": {
        "colab": {
          "base_uri": "https://localhost:8080/",
          "height": 35
        },
        "id": "INW2y4zL0A76",
        "outputId": "83dfd915-fef0-4a12-b148-7d5df8be85eb"
      },
      "execution_count": 11,
      "outputs": [
        {
          "output_type": "execute_result",
          "data": {
            "text/plain": [
              "'Cases and Materials'"
            ],
            "application/vnd.google.colaboratory.intrinsic+json": {
              "type": "string"
            }
          },
          "metadata": {},
          "execution_count": 11
        }
      ]
    },
    {
      "cell_type": "code",
      "source": [
        "def my_custom_tokenizer(s):\n",
        "  s = s.lower()\n",
        "\n",
        "  #split string into word token\n",
        "  tokens = nltk.tokenize.word_tokenize(s)\n",
        "\n",
        "  #remove short words since they aren't useful\n",
        "  tokens = [token for token in tokens if len(token)>2]\n",
        "\n",
        "  #put words into base form (e.g. changed -> change, changing -> change)\n",
        "  tokens = [wordnet_lemmatizer.lemmatize(token) for token in tokens]\n",
        "\n",
        "  #remove stopwords from the set of defined stopwords above\n",
        "  tokens = [token for token in tokens if token not in stops]\n",
        "\n",
        "  #remove digits\n",
        "  tokens = [token for token in tokens if not any(c.isdigit() for c in token)]\n",
        "\n",
        "  return tokens"
      ],
      "metadata": {
        "id": "zi94UCMrzjpi"
      },
      "execution_count": 12,
      "outputs": []
    },
    {
      "cell_type": "markdown",
      "source": [
        "# Vectorizer"
      ],
      "metadata": {
        "id": "Ed2gjnpC1U8T"
      }
    },
    {
      "cell_type": "code",
      "source": [
        "#binary = True means that the output is only 0 or 1, meaning whether the token appears\n",
        "vectorizer = CountVectorizer(binary=True, tokenizer = my_custom_tokenizer)\n",
        "\n",
        "X = vectorizer.fit_transform(titles)"
      ],
      "metadata": {
        "colab": {
          "base_uri": "https://localhost:8080/"
        },
        "id": "2Uhm0lmK0-j4",
        "outputId": "93c7055c-291f-4f6d-b646-f7139cc90987"
      },
      "execution_count": 13,
      "outputs": [
        {
          "output_type": "stream",
          "name": "stderr",
          "text": [
            "/usr/local/lib/python3.10/dist-packages/sklearn/feature_extraction/text.py:528: UserWarning: The parameter 'token_pattern' will not be used since 'tokenizer' is not None'\n",
            "  warnings.warn(\n"
          ]
        }
      ]
    },
    {
      "cell_type": "code",
      "source": [
        "X.shape"
      ],
      "metadata": {
        "colab": {
          "base_uri": "https://localhost:8080/"
        },
        "id": "wyyqDQkK1ZEN",
        "outputId": "bcaf0097-684a-4704-c51c-7ccdadc55fd0"
      },
      "execution_count": 15,
      "outputs": [
        {
          "output_type": "execute_result",
          "data": {
            "text/plain": [
              "(2373, 2131)"
            ]
          },
          "metadata": {},
          "execution_count": 15
        }
      ]
    },
    {
      "cell_type": "code",
      "source": [
        "X[0].toarray()"
      ],
      "metadata": {
        "colab": {
          "base_uri": "https://localhost:8080/"
        },
        "id": "0AiQRB2h1a8H",
        "outputId": "d2a8d7b4-04e8-46a9-8de2-ec34dac97d5e"
      },
      "execution_count": 17,
      "outputs": [
        {
          "output_type": "execute_result",
          "data": {
            "text/plain": [
              "array([[0, 0, 0, ..., 0, 0, 0]])"
            ]
          },
          "metadata": {},
          "execution_count": 17
        }
      ]
    },
    {
      "cell_type": "code",
      "source": [
        "# Create index to word map\n",
        "index_word_map = vectorizer.get_feature_names_out()\n",
        "index_word_map[:15]"
      ],
      "metadata": {
        "colab": {
          "base_uri": "https://localhost:8080/"
        },
        "id": "_mCpCkgf1djX",
        "outputId": "4da927d9-7e69-4a3d-9bd1-030c4a141548"
      },
      "execution_count": 19,
      "outputs": [
        {
          "output_type": "execute_result",
          "data": {
            "text/plain": [
              "array([\"'the\", '...', 'a-z', 'abbas', 'abnormal', 'abridged', 'absolute',\n",
              "       'absraction', 'abstraction', 'abundance', 'acc', 'access/phils',\n",
              "       'accessibility', 'accessible', 'accompanied'], dtype=object)"
            ]
          },
          "metadata": {},
          "execution_count": 19
        }
      ]
    },
    {
      "cell_type": "code",
      "source": [
        "index_word_map[-15:]"
      ],
      "metadata": {
        "colab": {
          "base_uri": "https://localhost:8080/"
        },
        "id": "DO14miDF30O3",
        "outputId": "b7b98e8d-de8b-4a59-c131-a612da72743a"
      },
      "execution_count": 34,
      "outputs": [
        {
          "output_type": "execute_result",
          "data": {
            "text/plain": [
              "array(['workstation', 'world', 'worldwide', 'worthwhile', 'writer',\n",
              "       'writing', 'wsj', 'xilinx', 'year', 'youbook', 'young', 'youth',\n",
              "       'zen', 'zionism', 'zurich'], dtype=object)"
            ]
          },
          "metadata": {},
          "execution_count": 34
        }
      ]
    },
    {
      "cell_type": "code",
      "source": [
        "vectorizer.vocabulary_.items()"
      ],
      "metadata": {
        "colab": {
          "base_uri": "https://localhost:8080/"
        },
        "id": "mu9097IV18x9",
        "outputId": "88d1e1f2-6a67-4c09-dc11-35152464c297"
      },
      "execution_count": 24,
      "outputs": [
        {
          "output_type": "execute_result",
          "data": {
            "text/plain": [
              "dict_items([('philosophy', 1437), ('sex', 1741), ('love', 1117), ('reader', 1589), ('reading', 1590), ('judaism', 1033), ('christianity', 315), ('islam', 1007), ('microprocessor', 1214), ('principle', 1513), ('bernhard', 195), ('edouard', 600), ('fernow', 725), ('story', 1839), ('north', 1325), ('american', 81), ('forestry', 757), ('encyclopedia', 636), ('buddhism', 242), ('motorola', 1249), ('family', 714), ('programming', 1537), ('interfacing', 984), ('anthem', 101), ('student', 1851), ('modern', 1231), ('era', 658), ('read', 1588), ('literature', 1104), ('like', 1091), ('professor', 1531), ('lively', 1105), ('entertaining', 647), ('line', 1094), ('men', 1195), ('mar', 1140), ('woman', 2106), ('venus', 2047), ('secret', 1707), ('great', 843), ('improving', 937), ('communication', 362), ('lasting', 1065), ('intimacy', 995), ('fulfillment', 785), ('giving', 824), ('receiving', 1601), ('passion', 1397), ('understanding', 2020), ('martian', 1147), ('religious', 1634), ('tradition', 1975), ('world', 2117), ('journey', 1031), ('africa', 48), ('mesoamerica', 1198), ('america', 80), ('hinduism', 890), ('china', 308), ('wisdom', 2103), ('sacred', 1682), ('text', 1917), ('religion', 1633), ('illustrated', 926), ('soul', 1792), ('cultivating', 464), ('life', 1088), ('act', 22), ('thriving', 1950), ('chaos', 298), ('handbook', 861), ('management', 1133), ('revolution', 1658), ('blood', 220), ('relative', 1629), ('wheelock', 2091), ('latin', 1067), ('choice', 312), ('uncertainty', 2016), ('luck', 1120), ('thrive', 1949), ('despite', 510), ('expanding', 695), ('discourse', 539), ('feminism', 722), ('art', 129), ('history', 894), ('general', 804), ('relativity', 1631), ('pure', 1564), ('applied', 110), ('physic', 1445), ('experiment', 698), ('hardware', 865), ('pathophysiology', 1402), ('concept', 381), ('health', 875), ('care', 264), ('professional', 1530), ('power', 1487), ('system', 1880), ('operation', 1359), ('machine', 1121), ('learning', 1073), ('e-commerce', 581), ('strategy', 1843), ('technology', 1903), ('real', 1592), ('complex', 372), ('analysis', 85), ('schaum', 1692), ('outline', 1379), ('roger', 1668), ('tokheim', 1960), ('paperback', 1388), ('probability', 1518), ('random', 1582), ('variable', 2041), ('stochastic', 1835), ('process', 1525), ('medical', 1187), ('microbiology', 1205), ('immunology', 931), ('big', 201), ('picture', 1449), ('security', 1710), ('sixth', 1769), ('foreword', 758), ('warren', 2078), ('buffett', 245), ('goodman', 831), ('gilman', 822), ('pharmacological', 1430), ('basis', 176), ('therapeutic', 1932), ('twelfth', 2007), ('oca/ocp', 1346), ('oracle', 1363), ('database', 482), ('all-in-one', 72), ('exam', 685), ('cd-rom', 278), ('press', 1509), ('clinical', 338), ('ethic', 670), ('practical', 1488), ('ethical', 671), ('decision', 487), ('medicine', 1189), ('seventh', 1740), ('lange', 1062), ('science', 1696), ('understand', 2018), ('linguistics', 1098), ('teach', 1896), ('harrison', 868), ('internal', 986), ('basic', 175), ('pharmacology', 1431), ('self-assessment', 1719), ('board', 223), ('review', 1655), ('strategic', 1842), ('marketing', 1144), ('masterplan', 1161), ('starting', 1822), ('managing', 1136), ('profitable', 1533), ('customer-based', 472), ('program', 1534), ('book', 226), ('tintinalli', 1956), ('emergency', 628), ('manual', 1138), ('pharmacotherapy', 1432), ('pathophysiologic', 1401), ('computer', 378), ('organization', 1368), ('risk', 1662), ('insurance', 968), ('design', 505), ('analog', 84), ('cmos', 340), ('integrated', 972), ('circuit', 320), ('plant', 1460), ('economics', 597), ('chemical', 303), ('engineer', 640), ('fluid', 749), ('mechanic', 1183), ('engineering', 641), ('operating', 1358), ('spiral', 1811), ('anatomy', 89), ('physiology', 1448), ('statistic', 1826), ('computing', 380), ('planning', 1459), ('educational', 602), ('ecological', 593), ('geographic', 812), ('information', 952), ('natural', 1299), ('resource', 1647), ('adaptation', 30), ('studying', 1853), ('film', 732), ('culture', 467), ('evolution', 684), ('earth', 586), ('study', 1852), ('gender', 800), ('transnational', 1989), ('aerodynamics', 45), ('forensics', 755), ('criminalistics', 449), ('biological', 212), ('integrative', 975), ('thermodynamics', 1938), ('human', 910), ('geography', 813), ('theater', 1923), ('experience', 696), ('bioinformatics', 210), ('perspective', 1426), ('sociology', 1784), ('electronic', 617), ('good', 830), ('regional', 1618), ('physical', 1446), ('geology', 815), ('stern', 1831), ('introductory', 997), ('biology', 214), ('business', 248), ('communicating', 361), ('number', 1332), ('digital', 532), ('electronics', 618), ('pharmacy', 1433), ('technician', 1900), ('office', 1350), ('patient', 1404), ('payment', 1409), ('law', 1068), ('profession', 1529), ('foundation', 765), ('java', 1016), ('problem', 1519), ('solving', 1791), ('network', 1306), ('open', 1357), ('source', 1794), ('driven', 570), ('estate', 667), ('finance', 733), ('investment', 1002), ('hole', 898), ('seeley', 1715), ('unity', 2024), ('form', 760), ('function', 787), ('vander', 2039), ('political', 1470), ('western', 2090), ('reconstructing', 1605), ('material', 1163), ('microelectronic', 1211), ('electric', 613), ('microelectronics', 1212), ('theory', 1930), ('mcgraw-hill/irwin', 1176), ('corporate', 424), ('sexuality', 1745), ('ecology', 594), ('environmental', 652), ('narrative', 1296), ('differential', 530), ('equation', 656), ('scientist', 1698), ('elementary', 620), ('watching', 2080), ('vector', 2045), ('static', 1825), ('dynamic', 577), ('simulation', 1763), ('modeling', 1229), ('statistical', 1827), ('technique', 1901), ('prescott', 1507), ('contemporary', 407), ('nutrition', 1336), ('chemistry', 304), ('molecular', 1235), ('nature', 1300), ('matter', 1169), ('change', 294), ('organic', 1367), ('biochemistry', 207), ('developing', 514), ('leader', 1070), ('networked', 1307), ('lesikar', 1079), ('connecting', 392), ('administrative', 36), ('building', 246), ('critical', 454), ('skill', 1772), ('investigation', 1000), ('mader', 1124), ('advertising', 43), ('promotion', 1542), ('unfinished', 2021), ('nation', 1297), ('concise', 383), ('people', 1415), ('experiencing', 697), ('atom', 149), ('first', 740), ('mcgraw-hill', 1175), ('urban', 2032), ('broadcasting', 236), ('cable', 250), ('internet', 990), ('beyond', 197), ('medium', 1193), ('pathway', 1403), ('astronomy', 144), ('college', 346), ('force', 753), ('kinematics', 1046), ('cosmic', 429), ('frontier', 783), ('everyday', 681), ('phenomenon', 1434), ('exploration', 704), ('claim', 329), ('university', 2026), ('anthology', 102), ('living', 1106), ('survey', 1870), ('practice', 1490), ('research', 1643), ('method', 1200), ('wardlaw', 2075), ('context', 409), ('international', 988), ('labor', 1057), ('managerial', 1135), ('top', 1963), ('object-oriented', 1341), ('ground', 850), ('algorithm', 67), ('exploring', 705), ('laboratory', 1058), ('marine', 1141), ('vertebrate', 2049), ('comparative', 367), ('employment', 633), ('matching', 1162), ('supply', 1867), ('demand', 496), ('issue', 1010), ('case', 271), ('music', 1267), ('appreciation', 114), ('transformation', 1984), ('shigley', 1748), ('mechanical', 1184), ('semiconductor', 1727), ('device', 519), ('consumer', 406), ('behavior', 187), ('personal', 1424), ('core', 423), ('today', 1959), ('psychology', 1559), ('self', 1718), ('society', 1782), ('calculus', 251), ('early', 585), ('transcendental', 1981), ('social', 1781), ('expanded', 694), ('version', 2048), ('global', 825), ('insight', 962), ('inquiry', 958), ('scripture', 1700), ('bioethics', 209), ('heat', 878), ('transfer', 1983), ('ee', 605), ('software', 1786), ('dvd', 576), ('thermal-fluid', 1936), ('loose-leaf', 1114), ('financial', 734), ('accounting', 17), ('time', 1953), ('value', 2038), ('money', 1239), ('step', 1830), ('formula', 762), ('data', 481), ('connect', 391), ('alternate', 78), ('loose', 1113), ('leaf', 1071), ('plus/learnsmart', 1464), ('semester', 1725), ('includes', 939), ('apr', 117), ('phils', 1438), ('online', 1356), ('audio', 150), ('cd', 277), ('upgrade', 2031), ('challenge', 293), ('competition', 369), ('intermediate', 985), ('annual', 98), ('report', 1638), ('learnsmart', 1074), ('benson', 193), ('microbiological', 1204), ('complete', 371), ('brown', 240), ('microbioligical', 1203), ('math', 1164), ('procedure', 1522), ('wsj', 2122), ('insert', 960), ('cost', 431), ('preface', 1497), ('est', 665), ('creation', 444), ('obligation', 1343), ('making', 1131), ('advanced', 41), ('combo', 354), ('card/apr', 263), ('access/phils', 11), ('nutritional', 1337), ('assessment', 139), ('landscape', 1061), ('activity', 26), ('public', 1561), ('policy', 1469), ('exercise', 690), ('fitness', 741), ('performance', 1417), ('active', 24), ('lifestyle', 1089), ('wellness', 2088), ('education', 601), ('sport', 1812), ('changing', 296), ('mean', 1179), ('statement', 1824), ('valuation', 2037), ('manager', 1134), ('auditing', 151), ('investigating', 999), ('fraud', 775), ('criminology', 451), ('mapping', 1139), ('module', 1234), ('skeptic', 1770), ('construction', 404), ('difference', 529), ('inequality', 950), ('race', 1576), ('class', 331), ('sociological', 1783), ('operational', 1360), ('amplifier', 83), ('discrete', 543), ('decision-making', 489), ('decision-focused', 488), ('small', 1778), ('entrepreneur', 648), ('guidebook', 856), ('entrepreneurial', 649), ('integrity', 976), ('responsibility', 1649), ('stakeholder', 1817), ('standard', 1819), ('esta', 666), ('market', 1143), ('institution', 965), ('insureance', 969), ('focus', 751), ('help', 882), ('develop', 513), ('successful', 1862), ('cultural', 465), ('anthropology', 103), ('magic', 1125), ('witchcraft', 2104), ('specie', 1806), ('appreciating', 113), ('diversity', 556), ('mirror', 1225), ('humanity', 911), ('introducing', 996), ('connection', 393), ('psychological', 1558), ('testing', 1915), ('test', 1913), ('measurement', 1182), ('personality', 1425), ('domain', 563), ('knowledge', 1049), ('abnormal', 4), ('appreciative', 115), ('view', 2055), ('looseleaf', 1115), ('work', 2111), ('success', 1861), ('right', 1660), ('thing', 1940), ('moral', 1245), ('element', 619), ('idea', 919), ('doe', 562), ('center', 286), ('hold', 896), ('united', 2023), ('state', 1823), ('meaning', 1180), ('sexual', 1744), ('orientation', 1371), ('disability', 538), ('service', 1735), ('government', 834), ('sketch', 1771), ('forensic', 754), ('texas', 1916), ('real-world', 1595), ('bscs', 241), ('workbook', 2112), ('solution', 1789), ('measure', 1181), ('companion', 366), ('morgan', 1247), ('kaufmann', 1038), ('architecture', 123), ('hardware/software', 866), ('interface', 983), ('evidence', 683), ('crime', 447), ('topic', 1965), ('dna', 559), ('typing', 2012), ('revised', 1656), ('mining', 1223), ('tool', 1961), ('model', 1227), ('tenth', 1907), ('genetic', 805), ('dynamical', 578), ('ninth', 1316), ('classroom', 336), ('vision', 2058), ('practicality', 1489), ('signal', 1757), ('processing', 1526), ('course', 437), ('fifth', 728), ('eleventh', 622), ('homeland', 900), ('all-hazards', 71), ('response', 1648), ('semi-riemannian', 1726), ('geometry', 816), ('commerce', 357), ('cinema', 319), ('designing', 507), ('linear', 1095), ('algebra', 65), ('musical', 1268), ('microcomputer', 1207), ('antiquity', 105), ('present', 1508), ('partial', 1393), ('fourier', 768), ('boundary', 228), ('wildlife', 2096), ('forest', 756), ('sustainable', 1874), ('digital+microprocessor', 533), ('structure', 1849), ('c++', 249), ('using', 2035), ('stl', 1834), ('speech', 1808), ('language', 1063), ('computational', 377), ('recognition', 1604), ('structured', 1850), ('ansi', 100), ('quantum', 1570), ('xilinx', 2123), ('cpld', 441), ('scene', 1691), ('lab', 1056), ('prentice', 1503), ('hall', 859), ('parallel', 1391), ('workstation', 2116), ('adts', 38), ('implementation', 933), ('legal', 1077), ('environment', 651), ('assembly', 138), ('multimedia', 1260), ('solid', 1788), ('path', 1399), ('linguistic', 1096), ('listening', 1102), ('cognition', 343), ('mind', 1221), ('brain', 231), ('far', 715), ('eastern', 588), ('new', 1312), ('testament', 1914), ('greek', 845), ('beginner', 185), ('graphical', 840), ('numerical', 1333), ('algebraic', 66), ('vibration', 2052), ('visual', 2059), ('pearson', 1412), ('custom', 471), ('object', 1340), ('achieving', 18), ('sustainability', 1873), ('crisis', 452), ('intervention', 994), ('criminal', 448), ('justice', 1036), ('mayhem', 1173), ('disorder', 549), ('myprogramminglab', 1286), ('balanced', 167), ('reinforced', 1625), ('concrete', 384), ('defined', 493), ('explained', 701), ('chap', 299), ('internals', 987), ('monetary', 1238), ('framework', 772), ('conventional', 417), ('current', 469), ('overview', 1380), ('late', 1066), ('warehouse', 2077), ('neuro-fuzzy', 1310), ('soft', 1785), ('intelligence', 978), ('convergence', 418), ('ethnicity', 673), ('multiple', 1262), ('identity', 921), ('counseling', 432), ('merrill', 1197), ('record', 1606), ('computerized', 379), ('wide', 2093), ('web', 2084), ('cyber', 473), ('banking', 170), ('school', 1694), ('multinational', 1261), ('bond', 225), ('career', 265), ('exercising', 691), ('option', 1362), ('sukiennik', 1863), ('diane', 523), ('author', 156), ('hospitality', 907), ('tourism', 1971), ('analyzing', 88), ('threat', 1947), ('vulnerability', 2066), ('countermeasure', 433), ('logic', 1108), ('nursing', 1335), ('high', 886), ('speed', 1809), ('signaling', 1758), ('jitter', 1024), ('budgeting', 244), ('absolute', 6), ('age', 53), ('control', 415), ('networking', 1308), ('top-down', 1964), ('hospital', 906), ('efficiency', 608), ('python', 1566), ('william', 2098), ('stalling', 1818), ('comprehensive', 373), ('micro', 1202), ('e-marketing', 582), ('criminological', 450), ('reality', 1596), ('future', 791), ('masteringengineering', 1156), ('communications-', 363), ('infrastructure', 956), ('nurse', 1334), ('microsoft', 1215), ('excel', 688), ('globalization', 826), ('billing', 203), ('coding', 342), ('reimbursement', 1624), ('neural', 1309), ('cryptography', 461), ('dance', 479), ('intel', 977), ('technical', 1899), ('twenty-first', 2010), ('century', 289), ('mynursingkit', 1283), ('serology', 1733), ('industrial', 947), ('christian', 314), ('theological', 1926), ('flow', 748), ('hcs', 871), ('direct', 536), ('interactive', 982), ('abstraction', 8), ('spectrum', 1807), ('prolog', 1540), ('programmer', 1536), ('myeducationlab', 1279), ('mastering', 1150), ('differentiated', 531), ('instruction', 967), ('culturally', 466), ('linguistically', 1097), ('diverse', 555), ('cld', 337), ('myeducationkit', 1278), ('mycrimekit', 1276), ('sun', 1864), ('non-linguists', 1320), ('primer', 1511), ('esol', 661), ('teacher', 1897), ('every', 679), ('need', 1303), ('know', 1048), ('ethnically', 672), ('mysearchlab', 1288), ('fluid-phase', 750), ('equilibrium', 657), ('origin', 1372), ('virtue', 2057), ('instinct', 964), ('cooperation', 421), ('rise', 1661), ('fall', 712), ('athens', 146), ('nine', 1314), ('true', 2000), ('dramaturgy', 569), ('farm', 716), ('bill', 202), ('field', 727), ('hearing', 877), ('redmond', 1610), ('oregon', 1366), ('committee', 360), ('agriculture', 56), ('senate', 1729), ('one', 1354), ('hundred', 912), ('congress', 390), ('session', 1737), ('august', 152), ('analytical', 86), ('oxford', 1382), ('graduate', 836), ('short', 1751), ('ancient', 90), ('classical', 333), ('three', 1948), ('environmentalism', 653), ('multiculturalism', 1258), ('game', 795), ('islamic', 1008), ('myth', 1292), ('anne', 96), ('orthwood', 1374), ('bastard', 177), ('virginia', 2056), ('athenaze', 145), ('theorizing', 1929), ('writing', 2121), ('eight', 609), ('straight', 1840), ('playing', 1462), ('six-volume', 1768), ('set', 1738), ('discriminate', 544), ('debate', 485), ('electrical', 614), ('criticism', 455), ('ghost', 821), ('roman', 1672), ('sourcebook', 1795), ('vold', 2064), ('theoretical', 1928), ('democracy', 498), ('wave', 2082), ('oscillation', 1375), ('prelude', 1500), ('conversation', 419), ('historical', 893), ('english', 642), ('chinese', 309), ('south-east', 1797), ('asian', 134), ('white', 2092), ('ware', 2076), ('found', 764), ('philippine', 1436), ('role', 1670), ('east', 587), ('economic', 596), ('development', 515), ('institutional', 966), ('nonlinear', 1322), ('time-series', 1954), ('proboscidea', 1521), ('palaeoecology', 1386), ('elephant', 621), ('publication', 1562), ('einstein', 612), ('dictionary', 526), ('founded', 766), ('andrew', 92), ('freud', 778), ('greek-english', 846), ('lexicon', 1083), ('deuteronomy', 512), ('judaean', 1032), ('diaspora', 524), ('perl', 1420), ('mysql', 1290), ('argument', 125), ('canon', 260), ('criterion', 453), ('theology', 1927), ('father', 718), ('indian', 945), ('textual', 1920), ('condition', 385), ('genome', 808), ('gravitation', 841), ('cosmology', 430), ('master', 1149), ('cancer', 259), ('mechanism', 1185), ('target', 1894), ('derived', 504), ('appraised', 112), ('medicinal', 1188), ('ecoimmunology', 592), ('invitation', 1003), ('prism', 1515), ('evaluation', 678), ('christ', 313), ('among', 82), ('messiah', 1199), ('paul', 1408), ('talon', 1890), ('eagle', 583), ('biodiversity', 208), ('popular', 1474), ('buddhist', 243), ('grammar', 837), ('vocabulary', 2061), ('colonial', 348), ('gendered', 801), ('josephus', 1028), ('interpretation', 991), ('quest', 1572), ('truth', 2001), ('propulsion', 1546), ('search', 1706), ('optimization', 1361), ('black', 217), ('dynamics+chaos', 579), ('mathematics', 1166), ('freebsd', 776), ('agenda', 54), ('alternative', 79), ('update', 2029), ('epilogue', 654), ('longman', 1111), ('classic', 332), ('archaeology', 120), ('mydevelopmentlab', 1277), ('jew', 1021), ('muslim', 1270), ('monotheistic', 1243), ('reasoning', 1600), ('bible', 198), ('combined', 353), ('project', 1538), ('imagination', 928), ('down-to-earth', 565), ('backpack', 165), ('fiction', 726), ('poetry', 1466), ('drama', 568), ('question', 1573), ('mythinkinglab', 1293), ('paper', 1387), ('highlight', 888), ('conformity', 388), ('conflict', 387), ('myanthrolab', 1273), ('myartslab', 1274), ('janson', 1013), ('worker', 2114), ('genetics', 807), ('caribbean', 266), ('head', 872), ('flashback', 745), ('italian', 1011), ('renaissance', 1635), ('cover', 440), ('photography', 1442), ('interpretive', 992), ('consider', 400), ('document', 561), ('ultimate', 2015), ('thinking', 1942), ('seeing', 1714), ('cross-cultural', 459), ('politics', 1471), ('look', 1112), ('mycommunicationkit', 1275), ('think', 1941), ('globalizing', 827), ('empirical', 632), ('behavioral', 188), ('conscious', 395), ('genderspeak', 802), ('effectiveness', 607), ('writer', 2120), ('mypoliscilab', 1285), ('portable', 1477), ('myreligionlab', 1287), ('west', 2089), ('mysoclab', 1289), ('forty', 763), ('changed', 295), ('sight', 1755), ('singing', 1766), ('carte', 270), ('darkroom', 480), ('tragedy', 1977), ('prediction', 1495), ('profiling', 1532), ('policing', 1468), ('punishing', 1563), ('actuarial', 28), ('travesti', 1991), ('brazilian', 232), ('transgendered', 1985), ('prostitute', 1547), ('cult', 463), ('territory', 1911), ('city-state', 324), ('afro-surinamese', 52), ('period', 1419), ('parting', 1396), ('way', 2083), ('jewishness', 1023), ('critique', 456), ('zionism', 2129), ('direction', 537), ('voice', 2062), ('creative', 445), ('production', 1528), ('carlos', 267), ('aldama', 64), ('batá', 180), ('cuba', 462), ('drum', 572), ('cognitive', 344), ('psycholinguistic', 1557), ('acl-mit', 19), ('adaptive', 31), ('computation', 376), ('probabilistic', 1517), ('vhdl', 2051), ('contract', 413), ('installation', 963), ('kernel', 1041), ('support', 1868), ('regularization', 1620), ('exile', 692), ('stranger', 1841), ('e-business', 580), ('james', 1012), ('kurose', 1054), ('keith', 1040), ('ross', 1675), ('defeat', 491), ('bad', 166), ('news', 1313), ('rwanda', 1680), ('musinga', 1269), ('avant-garde', 160), ('jewish', 1022), ('arabic', 119), ('thought', 1945), ('pre-islamic', 1493), ('learn', 1072), ('part', 1392), ('textbook', 1919), ('year', 2124), ('birth', 216), ('albert', 63), ('psychotherapy', 1560), ('toward', 1972), ('integration', 974), ('community', 364), ('northeast', 1326), ('carbohydrate', 262), ('immigrant', 929), ('refugee', 1616), ('around', 128), ('capo', 261), ('best', 196), ('finest', 735), ('rock', 1666), ('pop', 1472), ('jazz', 1017), ('country', 434), ('faith', 711), ('journalist', 1030), ('investigates', 998), ('toughest', 1970), ('objection', 1342), ('biblical', 199), ('stage', 1816), ('nvestigative', 1338), ('reporter', 1639), ('two', 2011), ('since', 1764), ('rule', 1678), ('tabbed', 1882), ('promise', 1541), ('eye', 709), ('dubois', 575), ('ellen', 624), ('carol', 268), ('ashe', 132), ('traditional', 1976), ('healing', 874), ('sub-saharan', 1856), ('classified', 334), ('bibliography', 200), ('index', 943), ('afro-american', 51), ('african', 49), ('broadway', 237), ('worldwide', 2118), ('casebook', 272), ('murray', 1266), ('flechtner', 746), ('sale', 1687), ('lease', 1075), ('national', 1298), ('transaction', 1980), ('sex-based', 1742), ('discrimination', 545), ('file', 729), ('application-oriented', 109), ('experimental', 699), ('distribution', 553), ('abundance', 9), ('mymicrobiologyplace', 1282), ('website', 2086), ('campbell', 257), ('masteringbiology', 1153), ('conceptual', 382), ('transcendentals', 1982), ('inference', 951), ('thomas', 1943), ('universe', 2025), ('barnett', 171), ('miller', 1219), ('freund', 779), ('mathematical', 1165), ('brock', 238), ('microorganism', 1213), ('picturing', 1450), ('masteringa', 1151), ('central', 287), ('geosystems', 817), ('economy', 598), ('masteringchemistry', 1154), ('masteringchemistry®', 1155), ('finite', 736), ('behind', 189), ('informed', 953), ('mymathlab', 1281), ('etex', 669), ('gene', 803), ('masteringmicrobiology', 1159), ('ala', 62), ('place', 1454), ('region', 1617), ('implementing', 934), ('evaluating', 677), ('single', 1767), ('variableplus', 2042), ('featured', 719), ('title', 1958), ('inorganic', 957), ('masteringgeology', 1158), ('myplate', 1284), ('code', 341), ('masteringastronomy', 1152), ('disease', 547), ('taxonomy', 1895), ('mcknight', 1177), ('lecture-tutorials', 1076), ('cat', 273), ('benjamin', 192), ('cummings', 468), ('coloring', 351), ('masteringgeography', 1157), ('dissection', 550), ('mystatlab', 1291), ('masteringnutrition', 1160), ('solar', 1787), ('mosby', 1248), ('examination', 686), ('seidel', 1716), ('dental', 501), ('hygienist', 916), ('biologic', 211), ('adult', 39), ('child', 306), ('nuclear', 1331), ('pet/ct', 1428), ('consult', 405), ('williams', 2099), ('diet', 528), ('therapy', 1933), ('lpn', 1119), ('thread', 1946), ('radiographic', 1581), ('positioning', 1481), ('related', 1627), ('lilley', 1092), ('primary', 1510), ('provider', 1553), ('commercial', 358), ('channel', 297), ('esl', 660), ('spelling', 1810), ('phonics', 1439), ('turning', 2006), ('back', 164), ('desire', 508), ('hidden', 885), ('sailing', 1686), ('wine-dark', 2101), ('sea', 1702), ('augustine', 153), ('theologian', 1925), ('defense', 492), ('fractal', 770), ('pattern', 1407), ('biomedical', 215), ('episode', 655), ('medieval', 1190), ('eaia', 584), ('proceeding', 1524), ('artificial', 130), ('guarda', 854), ('portugal', 1480), ('october', 1348), ('miguel', 1217), ('filgueiras', 730), ('hardcover', 864), ('allelopathy', 74), ('functional', 788), ('undergraduate', 2017), ('springer', 1813), ('norton', 1327), ('recording', 1607), ('shorter', 1753), ('four', 767), ('accompany', 15), ('score', 1699), ('enjoyment', 644), ('perceptive', 1416), ('born', 227), ('fire', 739), ('sound', 1793), ('one-volume', 1355), ('eighth', 611), ('vols', 2065), ('full', 786), ('growth', 853), ('discovering', 542), ('give', 823), ('liberty', 1085), ('star', 1820), ('galaxy', 792), ('civilization', 328), ('eighteenth', 610), ('seagull', 1703), ('reel', 1612), ('showtime', 1754), ('toolkit', 1962), ('maus', 1170), ('survivor', 1871), ('tale', 1888), ('bleeds', 219), ('major', 1129), ('essay', 663), ('monstrous-feminine', 1244), ('psychoanalysis', 1556), ('working', 2115), ('mahayana', 1127), ('doctrinal', 560), ('theravada', 1934), ('benares', 191), ('colombo', 347), ('trouble', 1999), ('subversion', 1860), ('south', 1796), (\"'the\", 0), ('schooling', 1695), ('scandal', 1689), ('rodrigues', 1667), ('literacy', 1103), ('ideology', 922), ('curriculum', 470), ('pack', 1383), ('strike', 1846), ('circular', 321), ('migration', 1216), ('prostitution', 1548), ('pornography', 1476), ('industry', 949), ('dependent', 503), ('order', 1365), ('geneticist', 806), ('genomics', 809), ('fixed', 742), ('income', 941), ('biochemical', 206), ('atlas', 148), ('meggs', 1194), ('graphic', 839), ('structural', 1848), ('self-teaching', 1721), ('binder', 205), ('ready', 1591), ('longitudinal', 1110), ('wiley', 2097), ('systematic', 1881), ('oca', 1345), ('administrator', 37), ('certified', 291), ('associate', 141), ('extended', 707), ('cell', 282), ('preparation', 1505), ('compatible', 368), ('planet', 1457), ('regression', 1619), ('fox', 769), ('mcdonald', 1174), ('level', 1082), ('tortora', 1968), ('turfgrass', 2003), ('real-time', 1593), ('practitioner', 1491), ('spatial', 1802), ('along', 76), ('takaful', 1886), ('regulatory', 1622), ('chapter', 301), ('multivariable', 1265), ('example', 687), ('multi-variable', 1256), ('base', 173), ('aerodynamic', 44), ('thermal', 1935), ('converter', 420), ('blue', 221), ('friendly', 781), ('reliability', 1632), ('queueing', 1574), ('flight', 747), ('safety', 1684), ('absraction', 7), ('protein', 1550), ('markov', 1145), ('chain', 292), ('aeronautics', 46), ('econometrics', 595), ('error', 659), ('correction', 425), ('protocol', 1552), ('action', 23), ('consensus', 397), ('civic', 325), ('participation', 1394), ('architect', 122), ('planner', 1458), ('designer', 506), ('researcher', 1644), ('special', 1805), ('emphasis', 630), ('civil', 326), ('visualizing', 2060), ('damodaran', 478), ('thermostatistics', 1939), ('illusive', 925), ('utopia', 2036), ('korea', 1050), ('theory/text/performance', 1931), ('matlab', 1167), ('speaking', 1804), ('microelectric', 1210), ('private', 1516), ('deviant', 518), ('prehistory', 1499), ('helping', 883), ('enhanced', 643), ('cengage', 284), ('advantage', 42), ('gardner', 796), ('bce', 181), ('nineteenth', 1315), ('framing', 773), ('rethinking', 1650), ('modernity', 1232), ('arab', 118), ('syrian', 1879), ('reversing', 1654), ('sail', 1685), ('neutron', 1311), ('scattering', 1690), ('local', 1107), ('forgotten', 759), ('atlantic', 147), ('wireless', 2102), ('cambridge', 255), ('persian', 1422), ('grammar/north', 838), ('civilisation', 327), ('agro-industries', 57), ('speakable', 1803), ('unspeakable', 2028), ('jet', 1020), ('simple', 1761), ('thermodynamic', 1937), ('engine', 639), ('modelling', 1230), ('string', 1847), ('tree', 1993), ('sequence', 1731), ('formation', 761), ('near', 1302), ('census', 285), ('swaminarayan', 1875), ('low-speed', 1118), ('pipeline', 1453), ('chip', 310), ('multiprocessor', 1263), ('roman-rabbinic', 1673), ('kernel-based', 1042), ('incompressible', 942), ('aerospace', 47), ('physicist', 1447), ('observational', 1344), ('fallen', 713), ('angel', 94), ('reception', 1603), ('enochic', 646), ('helicopter', 880), ('infotrac', 954), ('pseudocode', 1554), ('cdrom', 279), ('torah', 1966), ('user', 2034), ('entrepreneurship', 650), ('skills-based', 1774), ('bind-in', 204), ('content', 408), ('thomson', 1944), ('stock', 1837), ('trak', 1979), ('coupon', 436), ('parable', 1389), ('enoch', 645), ('jesus', 1019), ('prophet', 1545), ('caliphate', 253), ('bluebook', 222), ('uniform', 2022), ('citation', 322), ('coursereader', 439), ('protecting', 1549), ('accessibility', 12), ('feminism-art-theory', 723), ('translation', 1988), ('internationalism', 989), ('empire', 631), ('come', 355), ('home', 899), ('repatriation', 1637), ('reintegration', 1626), ('postwar', 1485), ('japan', 1014), ('harvard', 869), ('monograph', 1242), ('heaven', 879), ('harmonic', 867), ('real-variable', 1594), ('orthogonality', 1373), ('oscillatory', 1376), ('integral', 971), ('interaction', 981), ('hilbert', 889), ('space', 1798), ('camphor', 258), ('flame', 743), ('india', 944), ('liberal', 1084), ('piety', 1451), ('revival', 1657), ('feminist', 724), ('subject', 1857), ('trip', 1997), ('princeton', 1512), ('selfless', 1723), ('consciousness', 396), ('nirvana', 1317), ('deconstruction', 490), ('towards', 1973), ('semiotics', 1728), ('integrating', 973), ('healthcare', 876), ('rang', 1583), ('dale', 477), ('kumar', 1053), ('clark', 330), ('washington', 2079), ('conference', 386), ('naval', 1301), ('rivalry', 1663), ('stability', 1815), ('road', 1665), ('pearl', 1411), ('harbor', 862), ('silent', 1759), ('edward', 604), ('hopper', 905), ('spacetime', 1799), ('tort', 1967), ('explanation', 702), ('aspen', 137), ('constitutional', 402), ('acsms', 21), ('person', 1423), ('chronic', 316), ('w/web', 2069), ('how-to', 909), ('annotated', 97), ('mona', 1236), ('lisa', 1101), ('crash', 443), ('prehistoric', 1498), ('post-modern', 1483), ('voicemale', 2063), ('husband', 914), ('really', 1597), ('marriage', 1146), ('wife', 2094), ('housework', 908), ('commitment', 359), ('crusade', 460), ('embedded', 625), ('agricultural', 55), ('consolidation', 401), ('antitrust', 106), ('u.s.', 2013), ('mtbe', 1252), ('renewable', 1636), ('fuel', 784), ('illness', 923), ('illuminated', 924), ('german', 818), ('dagger', 476), ('war', 2074), ('photographic', 1441), ('reference', 1615), ('dlv/nsfk', 558), ('diplomat', 535), ('red', 1609), ('cross', 457), ('police', 1467), ('rlb', 1664), ('teno', 1906), ('reichsbahn', 1623), ('postal', 1484), ('hunting', 913), ('etc', 668), ('plain', 1456), ('vehicle', 2046), ('sae', 1683), ('high-performance', 887), ('recreation', 1608), ('histology', 892), ('correlated', 426), ('altered', 77), ('bates', 178), ('taking', 1887), ('lippincott', 1100), ('terminology', 1909), ('programmed', 1535), ('reason', 1599), ('license', 1086), ('cram', 442), ('mutual', 1272), ('causality', 276), ('dharma', 521), ('centrifugal', 288), ('compressor', 375), ('turbine', 2002), ('axial-flow', 162), ('radial-flow', 1578), ('intelligent', 979), ('grounding', 851), ('representation', 1640), ('recent', 1602), ('advance', 40), ('vanishing', 2040), ('status', 1828), ('wild', 2095), ('orang-utans', 1364), ('close', 339), ('twentieth', 2008), ('classify', 335), ('stochastics', 1836), ('plnlp', 1463), ('reversible', 1653), ('suspect', 1872), ('relation', 1628), ('resistance', 1646), ('carolina', 269), ('mammalogy', 1132), ('eerdmans', 606), ('simplified', 1762), ('termplus', 1910), ('body', 224), ('nelson', 1304), ('japanese-english', 1015), ('character', 302), ('based', 174), ('proteomics', 1551), ('gravity', 842), ('accessible', 13), ('hip', 891), ('hop', 904), ('youth', 2127), ('dragon', 567), ('serpent', 1734), ('tail', 1885), ('ming', 1222), ('campaign', 256), ('commander', 356), ('investigative', 1001), ('lone', 1109), ('actor', 27), ('geoffrey', 811), ('holder', 897), ('nonviolence', 1324), ('peace', 1410), ('pragmatic', 1492), ('main', 1128), ('street', 1845), ('phylogenomics', 1444), ('driving', 571), ('nanoscience', 1295), ('geha', 799), ('mucosal', 1254), ('philip', 1435), ('heller', 881), ('turing', 2004), ('limit', 1093), ('belief', 190), ('headline', 873), ('confucianism', 389), ('shintoism', 1750), ('taoism', 1893), ('diva', 554), ('filipino', 731), ('gay', 798), ('impossible', 936), ('queer', 1571), ('image', 927), ('archive', 124), ('europe', 675), ('wood', 2109), ('chapman', 300), ('hall/crc', 860), ('implication', 935), ('hokkeji', 895), ('reemergence', 1613), ('female', 721), ('monastic', 1237), ('premodern', 1502), ('mental', 1196), ('victim', 2053), ('offender', 1349), ('treatment', 1992), ('francaise', 774), ('avant', 159), ('republique', 1642), ('brooks/cole', 239), ('empowerment', 634), ('welfare', 2087), ('beat', 182), ('go', 828), ('reactivity', 1587), ('understandable', 2019), ('stewart', 1832), ('mcmurry', 1178), ('quantitative', 1569), ('devore', 520), ('precalculus', 1494), ('stewart/redlin/watson', 1833), ('pathology', 1400), ('agroecology', 58), ('food', 752), ('homicide', 902), ('tactic', 1884), ('permeability', 1421), ('petroleum', 1429), ('reservoir', 1645), ('habitat', 858), ('insect', 959), ('pest', 1427), ('tropical', 1998), ('deity', 494), ('tibetan', 1952), ('zurich', 2130), ('painting', 1385), ('icon', 918), ('worthwhile', 2119), ('see', 1713), ('bris', 235), ('sku', 1776), ('mthon', 1253), ('donldan', 564), ('nyingma', 1339), ('millenium', 1218), ('meditation', 1191), ('existence', 693), ('god', 829), ('distinction', 551), ('demonstrated', 499), ('particle', 1395), ('performed', 1418), ('pedagogy', 1413), ('scholar', 1693), ('mongolia', 1240), ('calligraphy', 254), ('zen', 2128), ('animal', 95), ('catechism', 274), ('catholic', 275), ('church', 317), ('accordance', 16), ('official', 1351), ('promulgated', 1543), ('pope', 1473), ('john', 1025), ('diagnostic', 522), ('africana', 50), (\"n't\", 1294), ('everybody', 680), ('passionate', 1398), ('noncooperative', 1321), ('ideal-fluid', 920), ('re-entry', 1585), ('aiaa', 59), ('translating', 1987), ('actuary', 29), ('variation', 2043), ('key', 1043), ('intersection', 993), ('sky', 1777), ('water', 2081), ('letter', 1081), ('chittagong', 311), ('couple', 435), ('smart', 1779), ('short-term', 1752), ('trading', 1974), ('discovered', 541), ('anti-biblical', 104), ('racism', 1577), ('self-worship', 1722), ('superstition', 1865), ('deceit', 486), ('getting', 820), ('started', 1821), ('beginning', 186), ('homeschooled', 901), ('self-taught', 1720), ('tangled', 1891), ('bank', 169), ('uc/os-iii', 2014), ('scalable', 1688), ('romable', 1671), ('preemptive', 1496), ('multitasking', 1264), ('microcontrollers', 1208), ('dsps', 574), ('included', 938), ('contingent', 412), ('make', 1130), ('sense', 1730), ('biologist', 213), ('assisting', 140), ('wondering', 2108), ('young', 2126), ('everyone', 682), ('soap', 1780), ('cigarette', 318), ('theme', 1924), ('hybrid', 915), ('webassign', 2085), ('ebook', 589), ('multi', 1255), ('term', 1908), ('microeconomic', 1209), ('extension', 708), ('infotracï¿½', 955), ('setting', 1739), ('coursemate', 438), ('window', 2100), ('linux', 1099), ('aspect', 136), ('security+', 1711), ('awareness', 161), ('applying', 111), ('organizational', 1369), ('boundary-value', 229), ('available', 158), ('youbook', 2125), ('workbook/reader', 2113), ('psy', 1555), ('administering', 34), ('essence', 664), ('gateway', 797), ('ten', 1905), ('problem-based', 1520), ('multicultural', 1257), ('embracing', 626), ('archetype', 121), ('compact', 365), ('reacting', 1586), ('industrial/organizational', 948), ('appendix', 107), ('mta', 1251), ('loss', 1116), ('dsm-v', 573), ('realm', 1598), ('skill-building', 1773), ('lift', 1090), ('matlab/octave', 1168), ('battery', 179), ('monitoring', 1241), ('lesson', 1080), ('table', 1883), ('calculus-based', 252), ('geol', 814), ('lawrence', 1069), ('miller/cross', 1220), ('qualtrics', 1568), ('vba', 2044), ('modeler', 1228), ('microcase', 1206), ('abridged', 5), ('stock-trak', 1838), ('including', 940), ('cycle', 475), ('controversy', 416), ('offline', 1352), ('briefer', 234), ('diesel', 527), ('electricity', 615), ('pushing', 1565), ('electron', 616), ('govt', 835), ('premium', 1501), ('studyware', 1854), ('gov', 833), ('ecocriticisms', 591), ('kuwait', 1055), ('paradox', 1390), ('michigan', 1201), ('woodland', 2110), ('owner', 1381), ('others', 1377), ('desiring', 509), ('project-based', 1539), ('terrorism', 1912), ('dilemma', 534), ('mktg', 1226), ('transition', 1986), ('juvenile', 1037), ('delinquency', 495), ('encoderpro', 635), ('com', 352), ('demo', 497), ('flapper', 744), ('madcap', 1122), ('style', 1855), ('celebrity', 281), ('made', 1123), ('rotating', 1676), ('frame', 771), ('relativistic', 1630), ('stream', 1844), ('running', 1679), ('retrieving', 1651), ('individual', 946), ('ecosystem', 599), ('fundamentalism', 790), ('blackwell', 218), ('allah', 73), ('outlaw', 1378), ('city', 323), ('representing', 1641), ('movie', 1250), ('discussion', 546), ('selection', 1717), ('roitt', 1669), ('exceptional', 689), ('teaching', 1898), ('sa', 1681), ('consequence', 398), ('group', 852), ('discover', 540), ('guyton', 857), ('updated', 2030), ('immune', 930), ('netter', 1305), ('population', 1475), ('scientific', 1697), ('algorithmic', 68), ('lan', 1059), ('wan', 2072), ('david', 483), ('griffith', 849), ('isbn', 1006), ('kuby', 1052), ('lehninger', 1078), ('kindt', 1045), ('raven', 1584), ('berg', 194), ('expert', 700), ('administration', 35), ('association', 142), ('occupation', 1347), ('hard', 863), ('disk', 548), ('ec-council', 590), ('surgical', 1869), ('technologist', 1902), ('pocket', 1465), ('cellular', 283), ('abbas', 3), ('embryology', 627), ('krause', 1051), ('twenty', 2009), ('synchronization', 1877), ('pension', 1414), ('fund', 789), ('solvency', 1790), ('analytics', 87), ('photon', 1443), ('distributed', 552), ('activism', 25), ('ibm', 917), ('spss', 1814), ('correlation', 427), ('allergy', 75), ('asthma', 143), ('subspecialty', 1859), ('porth', 1479), ('intensity', 980), ('modulated', 1233), ('radiation', 1579), ('acsm', 20), ('massachusetts', 1148), ('print', 1514), ('notebook', 1329), ('deviance', 517), ('sexism', 1743), ('novel', 1330), ('preparing', 1506), ('educator', 603), ('engage', 638), ('text/reader', 1918), ('hate', 870), ('secured', 1709), ('credit', 446), ('statutory', 1829), ('supplement', 1866), ('veterinary', 2050), ('ancillaries', 91), ('patient-centered', 1405), ('kee', 1039), ('gould', 832), ('bedford', 184), ('throughput', 1951), ('sequencing', 1732), ('contribution', 414), ('w/student', 2068), ('prep-u', 1504), ('without', 2105), ('subregions', 1858), ('myers', 1280), ('w/crunchit/eesee', 2067), ('arm', 127), ('cortex', 428), ('cybersecurity', 474), ('anomaly', 99), ('detection', 511), ('a-z', 2), ('tip', 1957), ('jury', 1035), ('trial', 1995), ('play', 1461), ('authoritative', 157), ('accompanied', 14), ('boy', 230), ('mediterranean', 1192), ('land', 1060), ('positive', 1482), ('impact', 932), ('bed', 183), ('shadow', 1746), ('skin', 1775), ('talking', 1889), ('intake', 970), ('sign', 1756), ('maya', 1172), ('guatemalan', 855), ('root', 1674), ('placement', 1455), ('shinto', 1749), ('greenspaces', 848), ('colonize', 349), ('color', 350), ('frontal', 782), ('seal', 1704), ('walking', 2070), ('addiction', 32), ('transport', 1990), ('aircraft', 60), ('hemisphere', 884), ('irresistible', 1005), ('shift', 1747), ('enemy', 637), ('must', 1271), ('face', 710), ('radin', 1580), ('rothchild', 1677), ('reese', 1614), ('silverman', 1760), ('emerging', 629), ('alif', 70), ('baa', 163), ('al-kitaab', 61), ('inside', 961), ('seduced', 1712), ('elite', 623), ('use', 2033), ('exploit', 703), ('regulation', 1621), ('morality', 1246), ('gentile', 810), ('thales', 1922), ('aristotle', 126), ('mahamudra', 1126), ('unprecedented', 2027), ('training', 1978), ('pinnacle', 1452), ('ethnogenesis', 674), ('acc', 10), ('anesthesia', 93), ('department', 502), ('pain', 1384), ('burton', 247), ('oncology', 1353), ('trend', 1994), ('mark', 1142), ('lieberman', 1087), ('secularity', 1708), ('rhoades', 1659), ('compressible', 374), ('...', 1), ('connectionist', 394), ('frequently', 777), ('asked', 135), ('wonder', 2107), ('developmentally', 516), ('appropriate', 116), ('childhood', 307), ('serving', 1736), ('diction', 525), ('singer', 1765), ('cross-border', 458), ('green', 847), ('synthesis', 1878), ('applicatioins', 108), ('nldb', 1318), ('alicante', 69), ('spain', 1800), ('june', 1034), ('processing-ijcnlp', 1527), ('joint', 1026), ('jeju', 1018), ('island', 1009), ('selforganization', 1724), ('klagenfurt', 1047), ('austria', 155), ('may', 1171), ('proceed', 1523), ('nlp', 1319), ('fintal', 738), ('turku', 2005), ('finland', 737), ('drag', 566), ('reduction', 1611), ('ceas/dragnet', 280), ('european', 676), ('potsdam', 1486), ('germany', 819), ('note', 1328), ('multidisciplinary', 1259), ('portal', 1478), ('faro', 717), ('patras', 1406), ('greece', 844), ('conservation', 399), ('total', 1969), ('artwork', 131), ('expressionism', 706), ('manner', 1137), ('photograph', 1440), ('tina', 1955), ('barney', 172), ('tribute', 1996), ('spanning', 1801), ('continent', 410), ('mediating', 1186), ('divine', 557), ('prophecy', 1544), ('revelation', 1652), ('dead', 484), ('scroll', 1701), ('temple', 1904), ('wandering', 2073), ('galilean', 793), ('honour', 903), ('sean', 1705), ('freyne', 780), ('journal', 1029), ('constructing', 403), ('irregular', 1004), ('bamboo', 168), ('minjung', 1224), ('rabbinic', 1575), ('esoteric', 662), ('tantra', 1892), ('asia', 133), ('oriental', 1370), ('large', 1064), ('bridge', 233), ('symposium', 1876), ('copenhagen', 422), ('denmark', 500), ('february', 720), ('ceramic', 290), ('thai', 1921), ('vietnamese', 2054), ('khmer', 1044), ('collection', 345), ('gallery', 794), ('australia', 154), ('adelaide', 33), ('qualifying', 1567), ('compiler', 370), ('nontechnical', 1323), ('contingency', 411), ('chester', 305), ('wallace', 2071), ('jordan', 1027)])"
            ]
          },
          "metadata": {},
          "execution_count": 24
        }
      ]
    },
    {
      "cell_type": "code",
      "source": [
        "len(vectorizer.vocabulary_)"
      ],
      "metadata": {
        "colab": {
          "base_uri": "https://localhost:8080/"
        },
        "id": "DYtWfEIA2w2E",
        "outputId": "43427cf9-d1d1-4db0-f65c-c3771d64169e"
      },
      "execution_count": 26,
      "outputs": [
        {
          "output_type": "execute_result",
          "data": {
            "text/plain": [
              "2131"
            ]
          },
          "metadata": {},
          "execution_count": 26
        }
      ]
    },
    {
      "cell_type": "markdown",
      "source": [
        "# SVD"
      ],
      "metadata": {
        "id": "xXp9mMgI2haj"
      }
    },
    {
      "cell_type": "code",
      "source": [
        "# transpose X to make rows = terms, cols = documents\n",
        "# By default the CountVectorizer gives documents x terms, we need terms x documents\n",
        "X = X.T"
      ],
      "metadata": {
        "id": "iAVWOwAy2IaL"
      },
      "execution_count": 25,
      "outputs": []
    },
    {
      "cell_type": "code",
      "source": [
        "svd = TruncatedSVD()\n",
        "Z = svd.fit_transform(X)"
      ],
      "metadata": {
        "id": "3BxNoTwD2tVN"
      },
      "execution_count": 28,
      "outputs": []
    },
    {
      "cell_type": "code",
      "source": [
        "# Notice that the 2373 components have been compressed into only 2 components\n",
        "X.shape, Z.shape"
      ],
      "metadata": {
        "colab": {
          "base_uri": "https://localhost:8080/"
        },
        "id": "01_dr3Je3GLT",
        "outputId": "cde20bd0-4910-44bb-d5a3-ca6c95f49b6c"
      },
      "execution_count": 31,
      "outputs": [
        {
          "output_type": "execute_result",
          "data": {
            "text/plain": [
              "((2131, 2373), (2131, 2))"
            ]
          },
          "metadata": {},
          "execution_count": 31
        }
      ]
    },
    {
      "cell_type": "markdown",
      "source": [
        "# Visualization"
      ],
      "metadata": {
        "id": "STSqkaRB3T-x"
      }
    },
    {
      "cell_type": "code",
      "source": [
        "import plotly.express as px"
      ],
      "metadata": {
        "id": "oWP_lmK73Gyk"
      },
      "execution_count": 32,
      "outputs": []
    },
    {
      "cell_type": "code",
      "source": [
        "#Plot the 2 components of Z\n",
        "fig = px.scatter(x = Z[:,0], y = Z[:,1], text = index_word_map, size_max = 60)\n",
        "fig.update_traces(textposition = 'top center')\n",
        "fig.show()"
      ],
      "metadata": {
        "colab": {
          "base_uri": "https://localhost:8080/",
          "height": 542
        },
        "id": "a9XkwsD43YID",
        "outputId": "b548da34-4586-4dd9-95eb-59bdbbec6932"
      },
      "execution_count": 36,
      "outputs": [
        {
          "output_type": "display_data",
          "data": {
            "text/html": [
              "<html>\n",
              "<head><meta charset=\"utf-8\" /></head>\n",
              "<body>\n",
              "    <div>            <script src=\"https://cdnjs.cloudflare.com/ajax/libs/mathjax/2.7.5/MathJax.js?config=TeX-AMS-MML_SVG\"></script><script type=\"text/javascript\">if (window.MathJax && window.MathJax.Hub && window.MathJax.Hub.Config) {window.MathJax.Hub.Config({SVG: {font: \"STIX-Web\"}});}</script>                <script type=\"text/javascript\">window.PlotlyConfig = {MathJaxConfig: 'local'};</script>\n",
              "        <script charset=\"utf-8\" src=\"https://cdn.plot.ly/plotly-2.24.1.min.js\"></script>                <div id=\"49a2b723-dd08-4048-9d0b-699d880b265c\" class=\"plotly-graph-div\" style=\"height:525px; width:100%;\"></div>            <script type=\"text/javascript\">                                    window.PLOTLYENV=window.PLOTLYENV || {};                                    if (document.getElementById(\"49a2b723-dd08-4048-9d0b-699d880b265c\")) {                    Plotly.newPlot(                        \"49a2b723-dd08-4048-9d0b-699d880b265c\",                        [{\"hovertemplate\":\"x=%{x}\\u003cbr\\u003ey=%{y}\\u003cbr\\u003etext=%{text}\\u003cextra\\u003e\\u003c\\u002fextra\\u003e\",\"legendgroup\":\"\",\"marker\":{\"color\":\"#636efa\",\"symbol\":\"circle\"},\"mode\":\"markers+text\",\"name\":\"\",\"showlegend\":false,\"text\":[\"'the\",\"...\",\"a-z\",\"abbas\",\"abnormal\",\"abridged\",\"absolute\",\"absraction\",\"abstraction\",\"abundance\",\"acc\",\"access\\u002fphils\",\"accessibility\",\"accessible\",\"accompanied\",\"accompany\",\"accordance\",\"accounting\",\"achieving\",\"acl-mit\",\"acsm\",\"acsms\",\"act\",\"action\",\"active\",\"activism\",\"activity\",\"actor\",\"actuarial\",\"actuary\",\"adaptation\",\"adaptive\",\"addiction\",\"adelaide\",\"administering\",\"administration\",\"administrative\",\"administrator\",\"adts\",\"adult\",\"advance\",\"advanced\",\"advantage\",\"advertising\",\"aerodynamic\",\"aerodynamics\",\"aeronautics\",\"aerospace\",\"africa\",\"african\",\"africana\",\"afro-american\",\"afro-surinamese\",\"age\",\"agenda\",\"agricultural\",\"agriculture\",\"agro-industries\",\"agroecology\",\"aiaa\",\"aircraft\",\"al-kitaab\",\"ala\",\"albert\",\"aldama\",\"algebra\",\"algebraic\",\"algorithm\",\"algorithmic\",\"alicante\",\"alif\",\"all-hazards\",\"all-in-one\",\"allah\",\"allelopathy\",\"allergy\",\"along\",\"altered\",\"alternate\",\"alternative\",\"america\",\"american\",\"among\",\"amplifier\",\"analog\",\"analysis\",\"analytical\",\"analytics\",\"analyzing\",\"anatomy\",\"ancient\",\"ancillaries\",\"andrew\",\"anesthesia\",\"angel\",\"animal\",\"anne\",\"annotated\",\"annual\",\"anomaly\",\"ansi\",\"anthem\",\"anthology\",\"anthropology\",\"anti-biblical\",\"antiquity\",\"antitrust\",\"appendix\",\"applicatioins\",\"application-oriented\",\"applied\",\"applying\",\"appraised\",\"appreciating\",\"appreciation\",\"appreciative\",\"appropriate\",\"apr\",\"arab\",\"arabic\",\"archaeology\",\"archetype\",\"architect\",\"architecture\",\"archive\",\"argument\",\"aristotle\",\"arm\",\"around\",\"art\",\"artificial\",\"artwork\",\"ashe\",\"asia\",\"asian\",\"asked\",\"aspect\",\"aspen\",\"assembly\",\"assessment\",\"assisting\",\"associate\",\"association\",\"asthma\",\"astronomy\",\"athenaze\",\"athens\",\"atlantic\",\"atlas\",\"atom\",\"audio\",\"auditing\",\"august\",\"augustine\",\"australia\",\"austria\",\"author\",\"authoritative\",\"available\",\"avant\",\"avant-garde\",\"awareness\",\"axial-flow\",\"baa\",\"back\",\"backpack\",\"bad\",\"balanced\",\"bamboo\",\"bank\",\"banking\",\"barnett\",\"barney\",\"base\",\"based\",\"basic\",\"basis\",\"bastard\",\"bates\",\"battery\",\"bat\\u00e1\",\"bce\",\"beat\",\"bed\",\"bedford\",\"beginner\",\"beginning\",\"behavior\",\"behavioral\",\"behind\",\"belief\",\"benares\",\"benjamin\",\"benson\",\"berg\",\"bernhard\",\"best\",\"beyond\",\"bible\",\"biblical\",\"bibliography\",\"big\",\"bill\",\"billing\",\"bind-in\",\"binder\",\"biochemical\",\"biochemistry\",\"biodiversity\",\"bioethics\",\"bioinformatics\",\"biologic\",\"biological\",\"biologist\",\"biology\",\"biomedical\",\"birth\",\"black\",\"blackwell\",\"bleeds\",\"blood\",\"blue\",\"bluebook\",\"board\",\"body\",\"bond\",\"book\",\"born\",\"boundary\",\"boundary-value\",\"boy\",\"brain\",\"brazilian\",\"bridge\",\"briefer\",\"bris\",\"broadcasting\",\"broadway\",\"brock\",\"brooks\\u002fcole\",\"brown\",\"bscs\",\"buddhism\",\"buddhist\",\"budgeting\",\"buffett\",\"building\",\"burton\",\"business\",\"c++\",\"cable\",\"calculus\",\"calculus-based\",\"caliphate\",\"calligraphy\",\"cambridge\",\"campaign\",\"campbell\",\"camphor\",\"cancer\",\"canon\",\"capo\",\"carbohydrate\",\"card\\u002fapr\",\"care\",\"career\",\"caribbean\",\"carlos\",\"carol\",\"carolina\",\"carte\",\"case\",\"casebook\",\"cat\",\"catechism\",\"catholic\",\"causality\",\"cd\",\"cd-rom\",\"cdrom\",\"ceas\\u002fdragnet\",\"celebrity\",\"cell\",\"cellular\",\"cengage\",\"census\",\"center\",\"central\",\"centrifugal\",\"century\",\"ceramic\",\"certified\",\"chain\",\"challenge\",\"change\",\"changed\",\"changing\",\"channel\",\"chaos\",\"chap\",\"chapman\",\"chapter\",\"character\",\"chemical\",\"chemistry\",\"chester\",\"child\",\"childhood\",\"china\",\"chinese\",\"chip\",\"chittagong\",\"choice\",\"christ\",\"christian\",\"christianity\",\"chronic\",\"church\",\"cigarette\",\"cinema\",\"circuit\",\"circular\",\"citation\",\"city\",\"city-state\",\"civic\",\"civil\",\"civilisation\",\"civilization\",\"claim\",\"clark\",\"class\",\"classic\",\"classical\",\"classified\",\"classify\",\"classroom\",\"cld\",\"clinical\",\"close\",\"cmos\",\"code\",\"coding\",\"cognition\",\"cognitive\",\"collection\",\"college\",\"colombo\",\"colonial\",\"colonize\",\"color\",\"coloring\",\"com\",\"combined\",\"combo\",\"come\",\"commander\",\"commerce\",\"commercial\",\"commitment\",\"committee\",\"communicating\",\"communication\",\"communications-\",\"community\",\"compact\",\"companion\",\"comparative\",\"compatible\",\"competition\",\"compiler\",\"complete\",\"complex\",\"comprehensive\",\"compressible\",\"compressor\",\"computation\",\"computational\",\"computer\",\"computerized\",\"computing\",\"concept\",\"conceptual\",\"concise\",\"concrete\",\"condition\",\"conference\",\"conflict\",\"conformity\",\"confucianism\",\"congress\",\"connect\",\"connecting\",\"connection\",\"connectionist\",\"conscious\",\"consciousness\",\"consensus\",\"consequence\",\"conservation\",\"consider\",\"consolidation\",\"constitutional\",\"constructing\",\"construction\",\"consult\",\"consumer\",\"contemporary\",\"content\",\"context\",\"continent\",\"contingency\",\"contingent\",\"contract\",\"contribution\",\"control\",\"controversy\",\"conventional\",\"convergence\",\"conversation\",\"converter\",\"cooperation\",\"copenhagen\",\"core\",\"corporate\",\"correction\",\"correlated\",\"correlation\",\"cortex\",\"cosmic\",\"cosmology\",\"cost\",\"counseling\",\"countermeasure\",\"country\",\"couple\",\"coupon\",\"course\",\"coursemate\",\"coursereader\",\"cover\",\"cpld\",\"cram\",\"crash\",\"creation\",\"creative\",\"credit\",\"crime\",\"criminal\",\"criminalistics\",\"criminological\",\"criminology\",\"crisis\",\"criterion\",\"critical\",\"criticism\",\"critique\",\"cross\",\"cross-border\",\"cross-cultural\",\"crusade\",\"cryptography\",\"cuba\",\"cult\",\"cultivating\",\"cultural\",\"culturally\",\"culture\",\"cummings\",\"current\",\"curriculum\",\"custom\",\"customer-based\",\"cyber\",\"cybersecurity\",\"cycle\",\"dagger\",\"dale\",\"damodaran\",\"dance\",\"darkroom\",\"data\",\"database\",\"david\",\"dead\",\"debate\",\"deceit\",\"decision\",\"decision-focused\",\"decision-making\",\"deconstruction\",\"defeat\",\"defense\",\"defined\",\"deity\",\"delinquency\",\"demand\",\"demo\",\"democracy\",\"demonstrated\",\"denmark\",\"dental\",\"department\",\"dependent\",\"derived\",\"design\",\"designer\",\"designing\",\"desire\",\"desiring\",\"despite\",\"detection\",\"deuteronomy\",\"develop\",\"developing\",\"development\",\"developmentally\",\"deviance\",\"deviant\",\"device\",\"devore\",\"dharma\",\"diagnostic\",\"diane\",\"diaspora\",\"diction\",\"dictionary\",\"diesel\",\"diet\",\"difference\",\"differential\",\"differentiated\",\"digital\",\"digital+microprocessor\",\"dilemma\",\"diplomat\",\"direct\",\"direction\",\"disability\",\"discourse\",\"discover\",\"discovered\",\"discovering\",\"discrete\",\"discriminate\",\"discrimination\",\"discussion\",\"disease\",\"disk\",\"disorder\",\"dissection\",\"distinction\",\"distributed\",\"distribution\",\"diva\",\"diverse\",\"diversity\",\"divine\",\"dlv\\u002fnsfk\",\"dna\",\"doctrinal\",\"document\",\"doe\",\"domain\",\"donldan\",\"down-to-earth\",\"drag\",\"dragon\",\"drama\",\"dramaturgy\",\"driven\",\"driving\",\"drum\",\"dsm-v\",\"dsps\",\"dubois\",\"dvd\",\"dynamic\",\"dynamical\",\"dynamics+chaos\",\"e-business\",\"e-commerce\",\"e-marketing\",\"eagle\",\"eaia\",\"early\",\"earth\",\"east\",\"eastern\",\"ebook\",\"ec-council\",\"ecocriticisms\",\"ecoimmunology\",\"ecological\",\"ecology\",\"econometrics\",\"economic\",\"economics\",\"economy\",\"ecosystem\",\"edouard\",\"education\",\"educational\",\"educator\",\"edward\",\"ee\",\"eerdmans\",\"effectiveness\",\"efficiency\",\"eight\",\"eighteenth\",\"eighth\",\"einstein\",\"electric\",\"electrical\",\"electricity\",\"electron\",\"electronic\",\"electronics\",\"element\",\"elementary\",\"elephant\",\"eleventh\",\"elite\",\"ellen\",\"embedded\",\"embracing\",\"embryology\",\"emergency\",\"emerging\",\"emphasis\",\"empire\",\"empirical\",\"employment\",\"empowerment\",\"encoderpro\",\"encyclopedia\",\"enemy\",\"engage\",\"engine\",\"engineer\",\"engineering\",\"english\",\"enhanced\",\"enjoyment\",\"enoch\",\"enochic\",\"entertaining\",\"entrepreneur\",\"entrepreneurial\",\"entrepreneurship\",\"environment\",\"environmental\",\"environmentalism\",\"epilogue\",\"episode\",\"equation\",\"equilibrium\",\"era\",\"error\",\"esl\",\"esol\",\"esoteric\",\"essay\",\"essence\",\"est\",\"esta\",\"estate\",\"etc\",\"etex\",\"ethic\",\"ethical\",\"ethnically\",\"ethnicity\",\"ethnogenesis\",\"europe\",\"european\",\"evaluating\",\"evaluation\",\"every\",\"everybody\",\"everyday\",\"everyone\",\"evidence\",\"evolution\",\"exam\",\"examination\",\"example\",\"excel\",\"exceptional\",\"exercise\",\"exercising\",\"exile\",\"existence\",\"expanded\",\"expanding\",\"experience\",\"experiencing\",\"experiment\",\"experimental\",\"expert\",\"explained\",\"explanation\",\"exploit\",\"exploration\",\"exploring\",\"expressionism\",\"extended\",\"extension\",\"eye\",\"face\",\"faith\",\"fall\",\"fallen\",\"family\",\"far\",\"farm\",\"faro\",\"father\",\"featured\",\"february\",\"female\",\"feminism\",\"feminism-art-theory\",\"feminist\",\"fernow\",\"fiction\",\"field\",\"fifth\",\"file\",\"filgueiras\",\"filipino\",\"film\",\"finance\",\"financial\",\"finest\",\"finite\",\"finland\",\"fintal\",\"fire\",\"first\",\"fitness\",\"fixed\",\"flame\",\"flapper\",\"flashback\",\"flechtner\",\"flight\",\"flow\",\"fluid\",\"fluid-phase\",\"focus\",\"food\",\"force\",\"forensic\",\"forensics\",\"forest\",\"forestry\",\"foreword\",\"forgotten\",\"form\",\"formation\",\"formula\",\"forty\",\"found\",\"foundation\",\"founded\",\"four\",\"fourier\",\"fox\",\"fractal\",\"frame\",\"framework\",\"framing\",\"francaise\",\"fraud\",\"freebsd\",\"frequently\",\"freud\",\"freund\",\"freyne\",\"friendly\",\"frontal\",\"frontier\",\"fuel\",\"fulfillment\",\"full\",\"function\",\"functional\",\"fund\",\"fundamentalism\",\"future\",\"galaxy\",\"galilean\",\"gallery\",\"game\",\"gardner\",\"gateway\",\"gay\",\"geha\",\"gender\",\"gendered\",\"genderspeak\",\"gene\",\"general\",\"genetic\",\"geneticist\",\"genetics\",\"genome\",\"genomics\",\"gentile\",\"geoffrey\",\"geographic\",\"geography\",\"geol\",\"geology\",\"geometry\",\"geosystems\",\"german\",\"germany\",\"getting\",\"ghost\",\"gilman\",\"give\",\"giving\",\"global\",\"globalization\",\"globalizing\",\"go\",\"god\",\"good\",\"goodman\",\"gould\",\"gov\",\"government\",\"govt\",\"graduate\",\"grammar\",\"grammar\\u002fnorth\",\"graphic\",\"graphical\",\"gravitation\",\"gravity\",\"great\",\"greece\",\"greek\",\"greek-english\",\"green\",\"greenspaces\",\"griffith\",\"ground\",\"grounding\",\"group\",\"growth\",\"guarda\",\"guatemalan\",\"guidebook\",\"guyton\",\"habitat\",\"hall\",\"hall\\u002fcrc\",\"handbook\",\"harbor\",\"hard\",\"hardcover\",\"hardware\",\"hardware\\u002fsoftware\",\"harmonic\",\"harrison\",\"harvard\",\"hate\",\"hcs\",\"head\",\"headline\",\"healing\",\"health\",\"healthcare\",\"hearing\",\"heat\",\"heaven\",\"helicopter\",\"heller\",\"help\",\"helping\",\"hemisphere\",\"hidden\",\"high\",\"high-performance\",\"highlight\",\"hilbert\",\"hinduism\",\"hip\",\"histology\",\"historical\",\"history\",\"hokkeji\",\"hold\",\"holder\",\"hole\",\"home\",\"homeland\",\"homeschooled\",\"homicide\",\"honour\",\"hop\",\"hopper\",\"hospital\",\"hospitality\",\"housework\",\"how-to\",\"human\",\"humanity\",\"hundred\",\"hunting\",\"husband\",\"hybrid\",\"hygienist\",\"ibm\",\"icon\",\"idea\",\"ideal-fluid\",\"identity\",\"ideology\",\"illness\",\"illuminated\",\"illusive\",\"illustrated\",\"image\",\"imagination\",\"immigrant\",\"immune\",\"immunology\",\"impact\",\"implementation\",\"implementing\",\"implication\",\"impossible\",\"improving\",\"included\",\"includes\",\"including\",\"income\",\"incompressible\",\"index\",\"india\",\"indian\",\"individual\",\"industrial\",\"industrial\\u002forganizational\",\"industry\",\"inequality\",\"inference\",\"information\",\"informed\",\"infotrac\",\"infotrac\\u00ef\\u00bf\\u00bd\",\"infrastructure\",\"inorganic\",\"inquiry\",\"insect\",\"insert\",\"inside\",\"insight\",\"installation\",\"instinct\",\"institution\",\"institutional\",\"instruction\",\"insurance\",\"insureance\",\"intake\",\"integral\",\"integrated\",\"integrating\",\"integration\",\"integrative\",\"integrity\",\"intel\",\"intelligence\",\"intelligent\",\"intensity\",\"interaction\",\"interactive\",\"interface\",\"interfacing\",\"intermediate\",\"internal\",\"internals\",\"international\",\"internationalism\",\"internet\",\"interpretation\",\"interpretive\",\"intersection\",\"intervention\",\"intimacy\",\"introducing\",\"introductory\",\"investigates\",\"investigating\",\"investigation\",\"investigative\",\"investment\",\"invitation\",\"irregular\",\"irresistible\",\"isbn\",\"islam\",\"islamic\",\"island\",\"issue\",\"italian\",\"james\",\"janson\",\"japan\",\"japanese-english\",\"java\",\"jazz\",\"jeju\",\"jesus\",\"jet\",\"jew\",\"jewish\",\"jewishness\",\"jitter\",\"john\",\"joint\",\"jordan\",\"josephus\",\"journal\",\"journalist\",\"journey\",\"judaean\",\"judaism\",\"june\",\"jury\",\"justice\",\"juvenile\",\"kaufmann\",\"kee\",\"keith\",\"kernel\",\"kernel-based\",\"key\",\"khmer\",\"kindt\",\"kinematics\",\"klagenfurt\",\"know\",\"knowledge\",\"korea\",\"krause\",\"kuby\",\"kumar\",\"kurose\",\"kuwait\",\"lab\",\"labor\",\"laboratory\",\"lan\",\"land\",\"landscape\",\"lange\",\"language\",\"large\",\"lasting\",\"late\",\"latin\",\"law\",\"lawrence\",\"leader\",\"leaf\",\"learn\",\"learning\",\"learnsmart\",\"lease\",\"lecture-tutorials\",\"legal\",\"lehninger\",\"lesikar\",\"lesson\",\"letter\",\"level\",\"lexicon\",\"liberal\",\"liberty\",\"license\",\"lieberman\",\"life\",\"lifestyle\",\"lift\",\"like\",\"lilley\",\"limit\",\"line\",\"linear\",\"linguistic\",\"linguistically\",\"linguistics\",\"linux\",\"lippincott\",\"lisa\",\"listening\",\"literacy\",\"literature\",\"lively\",\"living\",\"local\",\"logic\",\"lone\",\"longitudinal\",\"longman\",\"look\",\"loose\",\"loose-leaf\",\"looseleaf\",\"loss\",\"love\",\"low-speed\",\"lpn\",\"luck\",\"machine\",\"madcap\",\"made\",\"mader\",\"magic\",\"mahamudra\",\"mahayana\",\"main\",\"major\",\"make\",\"making\",\"mammalogy\",\"management\",\"manager\",\"managerial\",\"managing\",\"manner\",\"manual\",\"mapping\",\"mar\",\"marine\",\"mark\",\"market\",\"marketing\",\"markov\",\"marriage\",\"martian\",\"massachusetts\",\"master\",\"mastering\",\"masteringa\",\"masteringastronomy\",\"masteringbiology\",\"masteringchemistry\",\"masteringchemistry\\u00ae\",\"masteringengineering\",\"masteringgeography\",\"masteringgeology\",\"masteringmicrobiology\",\"masteringnutrition\",\"masterplan\",\"matching\",\"material\",\"math\",\"mathematical\",\"mathematics\",\"matlab\",\"matlab\\u002foctave\",\"matter\",\"maus\",\"may\",\"maya\",\"mayhem\",\"mcdonald\",\"mcgraw-hill\",\"mcgraw-hill\\u002firwin\",\"mcknight\",\"mcmurry\",\"mean\",\"meaning\",\"measure\",\"measurement\",\"mechanic\",\"mechanical\",\"mechanism\",\"mediating\",\"medical\",\"medicinal\",\"medicine\",\"medieval\",\"meditation\",\"mediterranean\",\"medium\",\"meggs\",\"men\",\"mental\",\"merrill\",\"mesoamerica\",\"messiah\",\"method\",\"michigan\",\"micro\",\"microbioligical\",\"microbiological\",\"microbiology\",\"microcase\",\"microcomputer\",\"microcontrollers\",\"microeconomic\",\"microelectric\",\"microelectronic\",\"microelectronics\",\"microorganism\",\"microprocessor\",\"microsoft\",\"migration\",\"miguel\",\"millenium\",\"miller\",\"miller\\u002fcross\",\"mind\",\"ming\",\"mining\",\"minjung\",\"mirror\",\"mktg\",\"model\",\"modeler\",\"modeling\",\"modelling\",\"modern\",\"modernity\",\"modulated\",\"module\",\"molecular\",\"mona\",\"monastic\",\"monetary\",\"money\",\"mongolia\",\"monitoring\",\"monograph\",\"monotheistic\",\"monstrous-feminine\",\"moral\",\"morality\",\"morgan\",\"mosby\",\"motorola\",\"movie\",\"mta\",\"mtbe\",\"mthon\",\"mucosal\",\"multi\",\"multi-variable\",\"multicultural\",\"multiculturalism\",\"multidisciplinary\",\"multimedia\",\"multinational\",\"multiple\",\"multiprocessor\",\"multitasking\",\"multivariable\",\"murray\",\"music\",\"musical\",\"musinga\",\"muslim\",\"must\",\"mutual\",\"myanthrolab\",\"myartslab\",\"mycommunicationkit\",\"mycrimekit\",\"mydevelopmentlab\",\"myeducationkit\",\"myeducationlab\",\"myers\",\"mymathlab\",\"mymicrobiologyplace\",\"mynursingkit\",\"myplate\",\"mypoliscilab\",\"myprogramminglab\",\"myreligionlab\",\"mysearchlab\",\"mysoclab\",\"mysql\",\"mystatlab\",\"myth\",\"mythinkinglab\",\"n't\",\"nanoscience\",\"narrative\",\"nation\",\"national\",\"natural\",\"nature\",\"naval\",\"near\",\"need\",\"nelson\",\"netter\",\"network\",\"networked\",\"networking\",\"neural\",\"neuro-fuzzy\",\"neutron\",\"new\",\"news\",\"nine\",\"nineteenth\",\"ninth\",\"nirvana\",\"nldb\",\"nlp\",\"non-linguists\",\"noncooperative\",\"nonlinear\",\"nontechnical\",\"nonviolence\",\"north\",\"northeast\",\"norton\",\"note\",\"notebook\",\"novel\",\"nuclear\",\"number\",\"numerical\",\"nurse\",\"nursing\",\"nutrition\",\"nutritional\",\"nvestigative\",\"nyingma\",\"object\",\"object-oriented\",\"objection\",\"obligation\",\"observational\",\"oca\",\"oca\\u002focp\",\"occupation\",\"october\",\"offender\",\"office\",\"official\",\"offline\",\"oncology\",\"one\",\"one-volume\",\"online\",\"open\",\"operating\",\"operation\",\"operational\",\"optimization\",\"option\",\"oracle\",\"orang-utans\",\"order\",\"oregon\",\"organic\",\"organization\",\"organizational\",\"oriental\",\"orientation\",\"origin\",\"orthogonality\",\"orthwood\",\"oscillation\",\"oscillatory\",\"others\",\"outlaw\",\"outline\",\"overview\",\"owner\",\"oxford\",\"pack\",\"pain\",\"painting\",\"palaeoecology\",\"paper\",\"paperback\",\"parable\",\"paradox\",\"parallel\",\"part\",\"partial\",\"participation\",\"particle\",\"parting\",\"passion\",\"passionate\",\"path\",\"pathology\",\"pathophysiologic\",\"pathophysiology\",\"pathway\",\"patient\",\"patient-centered\",\"patras\",\"pattern\",\"paul\",\"payment\",\"peace\",\"pearl\",\"pearson\",\"pedagogy\",\"pension\",\"people\",\"perceptive\",\"performance\",\"performed\",\"period\",\"perl\",\"permeability\",\"persian\",\"person\",\"personal\",\"personality\",\"perspective\",\"pest\",\"pet\\u002fct\",\"petroleum\",\"pharmacological\",\"pharmacology\",\"pharmacotherapy\",\"pharmacy\",\"phenomenon\",\"philip\",\"philippine\",\"philosophy\",\"phils\",\"phonics\",\"photograph\",\"photographic\",\"photography\",\"photon\",\"phylogenomics\",\"physic\",\"physical\",\"physicist\",\"physiology\",\"picture\",\"picturing\",\"piety\",\"pinnacle\",\"pipeline\",\"place\",\"placement\",\"plain\",\"planet\",\"planner\",\"planning\",\"plant\",\"play\",\"playing\",\"plnlp\",\"plus\\u002flearnsmart\",\"pocket\",\"poetry\",\"police\",\"policing\",\"policy\",\"political\",\"politics\",\"pop\",\"pope\",\"popular\",\"population\",\"pornography\",\"portable\",\"portal\",\"porth\",\"portugal\",\"positioning\",\"positive\",\"post-modern\",\"postal\",\"postwar\",\"potsdam\",\"power\",\"practical\",\"practicality\",\"practice\",\"practitioner\",\"pragmatic\",\"pre-islamic\",\"precalculus\",\"prediction\",\"preemptive\",\"preface\",\"prehistoric\",\"prehistory\",\"prelude\",\"premium\",\"premodern\",\"prentice\",\"prep-u\",\"preparation\",\"preparing\",\"prescott\",\"present\",\"press\",\"primary\",\"primer\",\"princeton\",\"principle\",\"print\",\"prism\",\"private\",\"probabilistic\",\"probability\",\"problem\",\"problem-based\",\"proboscidea\",\"procedure\",\"proceed\",\"proceeding\",\"process\",\"processing\",\"processing-ijcnlp\",\"production\",\"profession\",\"professional\",\"professor\",\"profiling\",\"profitable\",\"program\",\"programmed\",\"programmer\",\"programming\",\"project\",\"project-based\",\"prolog\",\"promise\",\"promotion\",\"promulgated\",\"prophecy\",\"prophet\",\"propulsion\",\"prostitute\",\"prostitution\",\"protecting\",\"protein\",\"proteomics\",\"protocol\",\"provider\",\"pseudocode\",\"psy\",\"psychoanalysis\",\"psycholinguistic\",\"psychological\",\"psychology\",\"psychotherapy\",\"public\",\"publication\",\"punishing\",\"pure\",\"pushing\",\"python\",\"qualifying\",\"qualtrics\",\"quantitative\",\"quantum\",\"queer\",\"quest\",\"question\",\"queueing\",\"rabbinic\",\"race\",\"racism\",\"radial-flow\",\"radiation\",\"radin\",\"radiographic\",\"random\",\"rang\",\"raven\",\"re-entry\",\"reacting\",\"reactivity\",\"read\",\"reader\",\"reading\",\"ready\",\"real\",\"real-time\",\"real-variable\",\"real-world\",\"reality\",\"really\",\"realm\",\"reason\",\"reasoning\",\"receiving\",\"recent\",\"reception\",\"recognition\",\"reconstructing\",\"record\",\"recording\",\"recreation\",\"red\",\"redmond\",\"reduction\",\"reel\",\"reemergence\",\"reese\",\"reference\",\"refugee\",\"region\",\"regional\",\"regression\",\"regularization\",\"regulation\",\"regulatory\",\"reichsbahn\",\"reimbursement\",\"reinforced\",\"reintegration\",\"related\",\"relation\",\"relative\",\"relativistic\",\"relativity\",\"reliability\",\"religion\",\"religious\",\"renaissance\",\"renewable\",\"repatriation\",\"report\",\"reporter\",\"representation\",\"representing\",\"republique\",\"research\",\"researcher\",\"reservoir\",\"resistance\",\"resource\",\"response\",\"responsibility\",\"rethinking\",\"retrieving\",\"revelation\",\"reversible\",\"reversing\",\"review\",\"revised\",\"revival\",\"revolution\",\"rhoades\",\"right\",\"rise\",\"risk\",\"rivalry\",\"rlb\",\"road\",\"rock\",\"rodrigues\",\"roger\",\"roitt\",\"role\",\"romable\",\"roman\",\"roman-rabbinic\",\"root\",\"ross\",\"rotating\",\"rothchild\",\"rule\",\"running\",\"rwanda\",\"sa\",\"sacred\",\"sae\",\"safety\",\"sail\",\"sailing\",\"sale\",\"scalable\",\"scandal\",\"scattering\",\"scene\",\"schaum\",\"scholar\",\"school\",\"schooling\",\"science\",\"scientific\",\"scientist\",\"score\",\"scripture\",\"scroll\",\"sea\",\"seagull\",\"seal\",\"sean\",\"search\",\"secret\",\"secularity\",\"secured\",\"security\",\"security+\",\"seduced\",\"see\",\"seeing\",\"seeley\",\"seidel\",\"selection\",\"self\",\"self-assessment\",\"self-taught\",\"self-teaching\",\"self-worship\",\"selfless\",\"selforganization\",\"semester\",\"semi-riemannian\",\"semiconductor\",\"semiotics\",\"senate\",\"sense\",\"sequence\",\"sequencing\",\"serology\",\"serpent\",\"service\",\"serving\",\"session\",\"set\",\"setting\",\"seventh\",\"sex\",\"sex-based\",\"sexism\",\"sexual\",\"sexuality\",\"shadow\",\"shift\",\"shigley\",\"shinto\",\"shintoism\",\"short\",\"short-term\",\"shorter\",\"showtime\",\"sight\",\"sign\",\"signal\",\"signaling\",\"silent\",\"silverman\",\"simple\",\"simplified\",\"simulation\",\"since\",\"singer\",\"singing\",\"single\",\"six-volume\",\"sixth\",\"skeptic\",\"sketch\",\"skill\",\"skill-building\",\"skills-based\",\"skin\",\"sku\",\"sky\",\"small\",\"smart\",\"soap\",\"social\",\"society\",\"sociological\",\"sociology\",\"soft\",\"software\",\"solar\",\"solid\",\"solution\",\"solvency\",\"solving\",\"soul\",\"sound\",\"source\",\"sourcebook\",\"south\",\"south-east\",\"space\",\"spacetime\",\"spain\",\"spanning\",\"spatial\",\"speakable\",\"speaking\",\"special\",\"specie\",\"spectrum\",\"speech\",\"speed\",\"spelling\",\"spiral\",\"sport\",\"springer\",\"spss\",\"stability\",\"stage\",\"stakeholder\",\"stalling\",\"standard\",\"star\",\"started\",\"starting\",\"state\",\"statement\",\"static\",\"statistic\",\"statistical\",\"status\",\"statutory\",\"step\",\"stern\",\"stewart\",\"stewart\\u002fredlin\\u002fwatson\",\"stl\",\"stochastic\",\"stochastics\",\"stock\",\"stock-trak\",\"story\",\"straight\",\"stranger\",\"strategic\",\"strategy\",\"stream\",\"street\",\"strike\",\"string\",\"structural\",\"structure\",\"structured\",\"student\",\"study\",\"studying\",\"studyware\",\"style\",\"sub-saharan\",\"subject\",\"subregions\",\"subspecialty\",\"subversion\",\"success\",\"successful\",\"sukiennik\",\"sun\",\"superstition\",\"supplement\",\"supply\",\"support\",\"surgical\",\"survey\",\"survivor\",\"suspect\",\"sustainability\",\"sustainable\",\"swaminarayan\",\"symposium\",\"synchronization\",\"synthesis\",\"syrian\",\"system\",\"systematic\",\"tabbed\",\"table\",\"tactic\",\"tail\",\"takaful\",\"taking\",\"tale\",\"talking\",\"talon\",\"tangled\",\"tantra\",\"taoism\",\"target\",\"taxonomy\",\"teach\",\"teacher\",\"teaching\",\"technical\",\"technician\",\"technique\",\"technologist\",\"technology\",\"temple\",\"ten\",\"teno\",\"tenth\",\"term\",\"terminology\",\"termplus\",\"territory\",\"terrorism\",\"test\",\"testament\",\"testing\",\"texas\",\"text\",\"text\\u002freader\",\"textbook\",\"textual\",\"thai\",\"thales\",\"theater\",\"theme\",\"theologian\",\"theological\",\"theology\",\"theoretical\",\"theorizing\",\"theory\",\"theory\\u002ftext\\u002fperformance\",\"therapeutic\",\"therapy\",\"theravada\",\"thermal\",\"thermal-fluid\",\"thermodynamic\",\"thermodynamics\",\"thermostatistics\",\"thing\",\"think\",\"thinking\",\"thomas\",\"thomson\",\"thought\",\"thread\",\"threat\",\"three\",\"thrive\",\"thriving\",\"throughput\",\"tibetan\",\"time\",\"time-series\",\"tina\",\"tintinalli\",\"tip\",\"title\",\"today\",\"tokheim\",\"tool\",\"toolkit\",\"top\",\"top-down\",\"topic\",\"torah\",\"tort\",\"tortora\",\"total\",\"toughest\",\"tourism\",\"toward\",\"towards\",\"trading\",\"tradition\",\"traditional\",\"tragedy\",\"training\",\"trak\",\"transaction\",\"transcendental\",\"transcendentals\",\"transfer\",\"transformation\",\"transgendered\",\"transition\",\"translating\",\"translation\",\"transnational\",\"transport\",\"travesti\",\"treatment\",\"tree\",\"trend\",\"trial\",\"tribute\",\"trip\",\"tropical\",\"trouble\",\"true\",\"truth\",\"turbine\",\"turfgrass\",\"turing\",\"turku\",\"turning\",\"twelfth\",\"twentieth\",\"twenty\",\"twenty-first\",\"two\",\"typing\",\"u.s.\",\"uc\\u002fos-iii\",\"ultimate\",\"uncertainty\",\"undergraduate\",\"understand\",\"understandable\",\"understanding\",\"unfinished\",\"uniform\",\"united\",\"unity\",\"universe\",\"university\",\"unprecedented\",\"unspeakable\",\"update\",\"updated\",\"upgrade\",\"urban\",\"use\",\"user\",\"using\",\"utopia\",\"valuation\",\"value\",\"vander\",\"vanishing\",\"variable\",\"variableplus\",\"variation\",\"vba\",\"vector\",\"vehicle\",\"venus\",\"version\",\"vertebrate\",\"veterinary\",\"vhdl\",\"vibration\",\"victim\",\"vietnamese\",\"view\",\"virginia\",\"virtue\",\"vision\",\"visual\",\"visualizing\",\"vocabulary\",\"voice\",\"voicemale\",\"vold\",\"vols\",\"vulnerability\",\"w\\u002fcrunchit\\u002feesee\",\"w\\u002fstudent\",\"w\\u002fweb\",\"walking\",\"wallace\",\"wan\",\"wandering\",\"war\",\"wardlaw\",\"ware\",\"warehouse\",\"warren\",\"washington\",\"watching\",\"water\",\"wave\",\"way\",\"web\",\"webassign\",\"website\",\"welfare\",\"wellness\",\"west\",\"western\",\"wheelock\",\"white\",\"wide\",\"wife\",\"wild\",\"wildlife\",\"wiley\",\"william\",\"williams\",\"window\",\"wine-dark\",\"wireless\",\"wisdom\",\"witchcraft\",\"without\",\"woman\",\"wonder\",\"wondering\",\"wood\",\"woodland\",\"work\",\"workbook\",\"workbook\\u002freader\",\"worker\",\"working\",\"workstation\",\"world\",\"worldwide\",\"worthwhile\",\"writer\",\"writing\",\"wsj\",\"xilinx\",\"year\",\"youbook\",\"young\",\"youth\",\"zen\",\"zionism\",\"zurich\"],\"x\":[0.0006156555384190417,0.018659227928699347,0.0012575031332555458,0.0092912432942831,0.023585583407061354,0.00242862009224535,0.011814749457417381,0.012503030161810461,0.021501844115201757,0.0055602491951042094,0.0010980090178859825,0.006985632373663099,0.00643909702212724,0.003421077635221678,0.004360856327211247,0.0022761367721631154,0.0025302095825741923,0.11483213566472873,0.013082757538553164,0.013147319108239389,0.05784805851308055,0.004562956507638253,0.009543359995236401,0.022071168755680964,0.028044017004934883,0.006470546986642846,0.0068990836080328,0.002203147153601228,0.5184062271998341,0.058552299142283215,0.0027517651390595466,0.032319037624374124,0.0050059596489483976,0.010684015658839282,0.0028172714505914397,0.001050157031180336,0.010265915892112834,0.0025560624953539315,0.007987574973527194,0.011408994849784745,0.04019714871564599,0.05241454703060942,0.05916157879966445,0.044761421877190274,0.038434071903879194,0.08836638290659729,0.0024405835824016157,0.0030299570344262043,0.052634995827160726,0.050861455914716545,0.003164764298771695,0.007870561815597038,0.005318733741196316,0.30775990200826114,0.0744614960980923,0.012431294806349202,0.011372187867526104,0.06816651569921013,0.006313936224289166,0.002837309374348961,0.0038308652188828595,0.004639530229834842,0.023113572843611895,0.002337747747913806,0.009553760067284341,0.1803521893576016,0.0053044846373692155,0.5622050356930802,0.006317868605434988,0.020724821433792527,0.004639530229834842,0.005615444993474711,0.0015891688083460424,0.0005744248065925917,0.0017648098157466042,0.005527315417507229,0.014369958758438214,0.019417864335466856,0.009310395751011762,0.0744614960980923,0.2973274917923091,0.8079583448847366,0.007484011667949656,0.0054583109733082925,0.03279740041284711,0.9714324148652916,0.0058226534439410225,0.013541815899649803,0.09245818754184212,0.51027333534939,0.052597070702903176,0.012296852441248661,0.004443621325730302,0.007741978799369967,0.014626624360376584,0.0029751613105607356,0.0031978252430826916,0.02331301737624257,0.0006340730110805103,0.009065798619230073,0.00715568248893175,0.011307773201556596,0.08015796060319748,0.1636442589037647,0.0033493457729267075,0.015713194260330205,0.00235942088952108,0.0074556385021374155,0.020724821433792527,0.006129631105906291,0.6501832318009315,0.008522486492829521,0.0032291707527419998,0.006347973256004524,0.010373284602211007,0.05960725665873327,0.00543054515458563,0.007638266740086133,0.00665774905864651,0.007955135766313322,0.050335770247615395,0.000508816475256697,0.002324414847619805,0.45562673107357965,0.0020259213586066396,0.0011681003469518837,0.0020526697802034674,0.006824809273355406,0.007387082118345704,1.819910553412353,0.011166129792933232,0.014791159291100612,0.007870561815597038,0.015054755559718119,0.13798589880977544,0.0005195776639397887,0.003110490717704156,0.018419075891857928,0.06493521772902151,0.06384157607931767,0.005264998394535914,0.0025560624953539315,0.01843575165085766,0.005527315417507229,0.052573411308435354,0.0008200120549448476,0.009436496347592999,0.0066351176966683665,0.12658820147571032,0.019763379471989542,0.010038365641971208,0.010642984148277327,0.01937427510529876,0.0016487162982470691,0.010684015658839282,0.01987470423098265,0.01980020447129463,0.004360856327211247,0.003412360008491299,0.0029578710498514463,0.002165302403707225,0.008522486492829521,0.009007005539389264,0.004639530229834842,0.01684770260286645,0.00189379577657617,0.0009781962238376769,0.07380977105189862,0.0047753644679779115,0.0010376726967276542,0.02567213971023466,0.08837731151862688,0.0008126330787725157,0.007603409436198456,0.0035259467490921974,0.43475121794839267,0.016819563850279533,0.0031978252430826916,0.018983554274761155,0.011024631577873045,0.009553760067284341,0.025062744420003016,0.0022203159410049155,0.00047814074158419585,0.0028066732926047035,0.019508094734110547,0.007297332579639491,0.09685140307625348,0.3280994678076812,0.068042505406205,0.009494697961316459,0.021230644311864656,0.016072344294069056,0.001552662387879964,0.0007387060718287457,0.006624172282043105,0.0013768254667916484,0.04857775213952011,1.516341852652554e-13,0.011530683711327334,0.007870561815597038,0.02084128190744264,0.0045155279974633065,0.043237840673088,0.013179968620151524,0.08497942102774364,0.01940647944925824,0.14088408609528133,0.008481324634535907,0.00722423642326406,0.1851113696561635,0.0015614903071100516,0.23395907157371343,0.0009385808487429655,1.3783214865178286,0.07111689126395782,0.007768292902499436,0.02298012961342514,0.012726818611793112,0.01269068803595522,0.02197725454219467,0.07283159040133973,0.005204700234890039,0.014213754551468349,0.01102959744227884,0.00593837788342321,0.68801741400102,0.02155582309991177,0.051105354412010105,0.003412360008491299,0.011291190019468069,0.0026755944015074986,0.002490683119601027,0.005897251553016376,0.00442891076754029,0.0011852790654093095,0.007030473540869251,0.02032766485344469,0.007254094425006967,0.00651273372058545,0.003919891774715842,0.00932281554302957,0.1902077615388747,0.0017248898183548755,0.006408796916024233,0.006566716737665114,0.02424921133858199,0.06526988772383911,1.7044675007190002,0.14685440375938114,0.004360677209450542,0.9437385624637722,0.006275347380745802,0.0030003174253194257,0.0050092830330990355,0.030138279602233677,0.0031023593839657896,0.12749270251040812,0.002171400383546455,0.009504016373796852,0.0010898598243371635,0.0013768254667916484,0.003077874913827117,0.006985632373663099,0.21752640036574436,0.005197783781764265,0.00606292809429095,0.009553760067284341,0.018621749488280166,0.0016426135494210228,0.18404405011453412,0.1872357948058591,0.04486581442827537,0.04287348799046734,0.0025302095825741923,0.0025302095825741923,0.015411660083778124,0.009084107812868697,0.014520205724224758,0.08922221174551163,0.01757214478998126,0.005837065624041639,0.13461885433511775,0.0092912432942831,0.07024631463470955,0.0027362688690408914,0.001969198743733972,0.2478449963004926,0.009427652458816623,0.03545542553783997,0.010684015658839282,0.0025560624953539315,0.08064608134822152,0.15171470308150475,0.05156861536461345,0.004191475894663046,0.08212484918590102,0.0006165131024346013,0.20767546785120689,0.0035089196358950607,0.059162237937357864,0.03800791466405855,0.0035259467490921974,0.2097525201433279,0.8397989951263308,0.011033749434773648,0.020668608961571047,0.00543054515458563,0.09864532299571312,0.010777574136811777,0.0031385349735003564,0.0055814464071459215,0.22292923711675622,0.0049933285483486295,0.05714363040392356,0.08479204941244065,0.004562956507638253,0.0025302095825741923,0.03683484549577507,0.0011603827049978515,0.19462785431284507,0.002424980788416493,0.005204700234890039,0.0005744248065925917,0.0006663736837056758,0.002324414847619805,0.017084761287983127,0.07112438674906157,0.03013821307237856,0.004834857837219882,0.002796069960954181,0.03758111108969,0.16277003227517792,0.01678607430029554,0.007870561815597038,0.020421900979182644,0.027742223498316138,0.009850805487818155,0.2562856073320547,0.0005114943796555175,0.016404123895773188,0.09921970619706894,0.019649568919076005,0.0026755944015074986,0.013147319108239389,0.010684015658839282,0.18875144098464178,0.021230644311864656,0.006726419209844168,0.002363813838571947,0.002363813838571947,0.006103132243421446,0.007672375826553794,0.02569194305882454,0.002643195772636807,0.001741467519729737,0.0031023593839657896,0.07799375538524873,0.008880028398655097,0.000724470682288401,0.0096073780517795,0.02750492291155643,0.3000963243353643,0.014974753853607813,0.028516789931309214,0.0025676340784207665,0.04187227465420053,0.11460672883575913,0.004702350014366993,0.016215164339111264,0.0069332437146866766,0.007682293493786255,0.020661088524362374,0.01963707834819974,0.0004507929799174353,0.009922966718118117,0.03568392508694658,0.27558998375274607,3.336649388966775,0.007572579778070279,0.10336817040747555,0.5224486524692684,0.06445440184475237,0.22030047011182738,0.08675816629128104,0.006177976066872466,0.11743495428841899,0.006190190635628185,0.0023621682462958956,0.012185927074696292,0.0045155279974633065,0.06808919500271896,0.09024822773760564,0.14768271428356544,0.06742983089954589,0.00043324094750041926,0.0025118738645845858,0.002324414847619805,0.006192937445116165,0.010361254887462895,0.01876073394707713,0.00235942088952108,0.009156009260170525,0.0047753644679779115,0.03084959030108629,0.14904195304147305,0.0019681715700981674,0.1943852990557949,0.01683702697904055,0.2324841173471351,0.0010618140794724227,0.011033749434773648,0.12217558042483836,0.018049779077399117,0.030857483461578607,0.019070948860202386,0.003372815536802639,0.00860728233222726,0.0008455280940507171,0.0007858621604377608,0.0052000589334931305,0.012088783771377037,0.005897251553016376,0.049608705934039474,0.14641213934641137,0.009135151990086078,0.016937138495227957,0.003771396937181526,0.006824809273355406,0.0007012403221087367,0.015329351936659831,0.01924308561823139,0.0021894094073851883,0.019308579039342626,0.0013768254667916484,0.0055814464071459215,0.007336922792050815,0.18883777094022242,0.3709621998285651,0.0692421651084736,0.023501335871985746,0.0126035662316059,0.013933978755896626,0.02331301737624257,0.012877659510623087,0.0019567083107683856,0.005980182213247822,0.16177188449165744,0.06156482331206325,0.060008163119876,0.0166153526467788,0.06519853977477119,0.004981189335726037,0.0010898598243371635,0.18464909250926365,0.005719950495047738,0.008829138050073378,0.007376422029763293,0.0004031987557633542,0.0034122616459809577,0.002078097708506045,0.009870293938669684,0.009553760067284341,0.0006663736837056758,0.009543359995236401,0.12726535465312588,0.024411466509790286,0.27040640516056313,0.016072344294069056,0.022336388355318842,0.011722827284296168,0.08984372138084502,0.002761380572064742,0.018305004719994123,0.019858447718981525,0.00934666722546547,0.007376422029763293,0.007022675275614371,0.01014998305216465,0.10761128776831046,0.0020302893301012465,0.7725483403949709,0.18795962843572253,0.011591308302406452,0.0007598866572624501,0.0076253632094244825,0.0033493457729267075,0.3169046774590292,0.0013412980776113346,0.019600665946029248,0.0015781703311613885,0.0009781962238376769,0.0016487162982470691,0.00400320775933119,0.0011852790654093095,0.007807988203147559,0.0036362488773227413,0.007672375826553794,0.10095738069131277,0.0015411305241768973,0.005897251553016376,0.007112128686130804,0.007741978799369967,0.009470917962907797,0.0032291707527419998,0.7412080174181581,0.002324414847619805,0.08582820042941533,0.010025291859818736,0.01007187391682812,0.0030620362707942115,0.009065798619230073,0.0006906020243760142,0.010323626197701757,0.025622707832701225,0.11581974136623659,0.00543054515458563,0.0004362352227380449,0.0012469743455802173,0.014298682845516539,0.08774872276840283,0.015411660083778124,0.00553834373155952,0.0011784549830144643,0.13195237482466887,1.1737874423934911e-11,0.017736965530161356,0.003288956544464442,0.004644214818366406,0.01878505927443058,0.12957112920602343,0.009850805487818155,0.170152397015969,-7.55349003953643e-14,0.003222828744103905,0.007376422029763293,0.0018167857923413711,0.008829138050073378,0.03570709505109439,0.028167924426604436,0.0007471666218615475,0.0033493457729267075,0.040258288139435994,0.19062575657786862,0.001154816222781636,0.009542617892608437,0.003029334471799997,0.015480764495045868,0.02437755804302566,0.10228727421574699,0.011213249307011808,0.0015411305241768973,0.010061636491794385,0.0055602491951042094,0.0036596410567112125,0.024411466509790286,0.07874333174638844,0.0007598866572624501,0.007376422029763293,0.0030290854129323237,0.004339795719573004,0.060530063045438,0.08243850202213578,0.0060901043553863825,0.0011852790654093095,0.009418683314114155,0.01757214478998126,0.0031023593839657896,0.018712740665362902,0.009364235871557798,0.014433928953798511,0.017575503823247074,0.009553760067284341,0.003261315261494546,0.006015854867735073,0.018621749488280166,0.10754659066944895,0.14150152270730748,0.01762767601915033,0.00017647604148703555,0.00340955072494947,0.06790798470230003,6.833469957960995e-14,0.008021464983228236,0.011166129792933232,0.2707445943884685,1.8744982371170051,0.13460542431681058,0.025255316518439486,0.2847076603870368,0.02437755804302566,0.006570084660273462,-4.066861111304747e-14,0.03022654185112473,0.12896327406133873,0.006633229189246253,0.050782807054397326,0.9303932491559163,0.04521774982588389,0.0006676020440002117,0.006624172282043105,0.18765326172215488,0.015749535838836932,0.010426191085863614,0.010211671317808342,0.0021161651234464485,0.0022029197518747953,0.0021942198481716977,0.012035186952988018,0.005859385530712643,0.015107610542879948,0.0797953264207895,0.010889635416113465,0.01059209366047964,0.10717433787950595,0.003288956544464442,-2.8797779408796064e-12,0.06490260679021444,0.07486581166457515,0.0245367316626261,0.1289686407421564,0.059688234550121316,0.014606986783118048,0.009435651279273953,0.018621749488280166,0.030490832225632487,0.0012159697698859398,0.00301303037202759,0.005224713151170937,0.0029919467609146578,0.017084761287983127,0.001741467519729737,0.07236667599612225,0.009857039386026143,0.00651273372058545,0.007672375826553794,0.08638605016408399,0.005295641958675972,0.010426191085863614,0.005283911008275137,0.334462701005514,1.1467457181230867,0.027126722467793223,0.08942331718020868,0.012104789963230198,0.0025362642564678147,0.014626624360376584,0.001719134063214427,0.012011133819860291,0.008894002328738628,0.012200223109757505,0.2831071337744071,0.46170261085331643,0.0027452395285290786,0.0744614960980923,0.004207420430480411,0.11826969982273308,0.0037103774893940365,0.011307773201556596,0.009135151990086078,0.013282251499252648,0.005467797800366517,0.004370739900878838,0.0326955513374499,0.0008168720562035751,0.007821833084294138,0.01877930533077269,0.15897830606052954,0.007376422029763293,0.0068413643562142456,0.25199943781174383,0.20984474713747048,0.005467797800366517,0.013694150835805493,0.007287514544912043,0.0020259213586066396,0.01757214478998126,0.02337241107088015,0.09344163461575722,0.005467797800366517,0.002795126566844654,0.03506641163027273,0.0004655799205280385,0.07927651053037345,0.20155768249930603,0.05452065777450968,0.08325336192189159,0.022730696803362906,0.017958144847571623,0.006282707884756448,0.23398269931514917,0.0011784549830144643,0.0006906020254674414,0.0015411305241768973,0.09202143338178682,0.022487121100082042,0.04211146134532238,0.01587821956445191,0.07907080672161891,0.0055602491951042094,0.001050157031180336,0.00723237851207319,0.0012648803471257486,0.009435651279273953,0.00552994812615276,0.19546175550687717,0.014791159291100612,0.0010896946803209263,0.011498742745677658,0.018621749488280166,0.005295641958675972,0.0014690645843951804,0.009436496347592999,0.014626624360376584,0.054302460124265664,0.021862737006923965,0.0045155279974633065,0.015008285929134018,0.013780547860292383,0.007502273892022072,0.005897251553016376,0.0042533555426964775,0.11851724343629028,0.0004172029289546321,0.002391493919746902,0.006624172282043105,0.003777801131911956,0.021238135177262793,0.03710926510476788,0.018213004405980754,0.011166129792933232,0.0036596410567112125,0.15817737672346324,0.2789901988221134,0.3660777326549803,0.0013768254667916484,0.008404476060433907,0.014858747107835453,0.014858747107835453,0.028932245129675065,0.159641684529426,0.025845799763183564,0.005886306754083263,0.002171400383546455,0.005837065624041639,0.013238541625545863,0.007039592711362218,0.01022443398805653,0.035215398968336045,0.0715391364082277,0.0037103774893940365,0.019840888642966223,0.009677449400219723,0.020397144838853402,0.535849113252262,0.06166683726002993,0.03743891976294687,0.24317721760202995,0.006566716737665114,0.0066351176966683665,0.013909762333833337,0.00362162086644353,0.03511812924621985,0.004191475894663046,0.0009236615803800668,0.6532728016514946,0.000917674576638105,0.0022761367721631154,0.018986507343730582,0.0023230516092132805,0.1275283020135818,0.006634491705981043,0.01715977001973994,0.032476920590421836,0.0029578710498514463,0.007958610830310036,0.010422266160263175,0.0005195776639397887,0.000917674576638105,0.01609583031314078,0.0026036271645043796,0.054904749937044306,0.0025027842870646968,0.06159417452268869,0.002732429164795113,0.005522820328700438,0.0029750216452429346,0.10156896352325197,0.008345964634347048,0.012356799531047931,0.00275672734632353,0.07778833256828223,0.0004620366712947742,0.0026036271645043796,0.010684015658839282,0.258654525992611,0.264141603268237,0.003162046996115312,0.0036596410567112125,0.0049512531671108365,0.07395621193443266,0.029620019583813953,0.0021942198481716977,0.03674831433931696,0.24927681432444754,0.02925797155775934,0.009905098476561137,0.019582848155001144,0.020170139537381535,0.0021338855376617327,0.0007255029837777649,0.019428402859810418,0.013502711853519757,0.1499442298143427,0.06956503032126918,0.3328368064051478,0.016163424611414894,0.005724312387054256,0.007376422029763293,0.01757214478998126,0.011503170185902623,0.005631672719621035,0.00022301994225868874,0.05120216321723582,0.005522820328700438,0.5518838245477786,0.0308766964539667,0.006233627830689959,0.0022203159410049155,0.013131944557138236,0.21214386175772157,0.00022301994225868874,0.0034002225586428703,0.06951423127106945,0.021698686563019584,0.06951423127090231,0.012916224241052834,0.02035217497294909,0.009743688975077307,0.017228781945411168,0.016965821412515594,0.017667099684573636,0.0017813486320180918,0.014121794442145268,0.014826975490078036,0.10969668992698232,0.0053584603860601316,0.0014371468060762867,0.0018401276574277951,0.0036373363063085013,0.003778160563971645,0.015117411111829987,0.00382802238933229,0.0002687241886606825,0.011166129792933232,0.01624357570773454,0.012011133819860291,0.01137594702412283,0.007104860727729735,0.2590603652342033,0.059162237937357864,0.18562966997414887,0.002285194365951966,0.02437755804302566,0.021332868552262536,0.0358598181303124,0.11279962659874136,0.009174313230556844,0.011606152860769062,0.01313537754717476,0.00872549750493361,0.0007095200229000032,0.005772155715384499,0.009494697961316459,0.007870561815597038,0.5318485499731925,0.007470748383091841,0.019291929658301905,0.02012047588353101,0.0036519312280750564,0.004421331041786346,0.010166738759329304,0.010323626197701757,0.0020762193518590786,0.008139262577868499,0.006378812501265457,0.03268400467576257,0.005282359828967924,0.021220375981916093,0.013070071915308991,0.07582273656574953,0.011061386004169702,0.019950168867255546,0.05612356271901305,2.43507675307121,0.0042533555426964775,0.001969198743733972,0.019428402859810418,0.02961167515355651,0.007322913926875658,0.015936407148630937,0.007297332579639491,0.0077680004884451495,0.0026036271645043796,0.011061386004169702,0.010211671317808342,0.03256119204632117,0.0006521245109379391,0.000724470682288401,0.009115936194913805,0.6104130671433912,0.002598611607060925,0.006853275745377112,0.007376422029763293,0.000724470682288401,0.06716361046292114,0.004099098314103214,0.010559725320533666,0.0011852790654093095,0.011100880103967899,0.004421331041633323,0.02792244339199622,0.005680803326522392,0.011189765177563309,0.09713153605506689,0.0037077846465931267,0.05430906897929033,0.0020259213586066396,0.0013736730978688963,0.007387082118345704,0.025054647163405514,0.16558963804203206,0.0017577202962230489,0.08287055856801485,0.003828706150032479,0.0030539716031368755,0.0036464793585532776,0.005522820328700438,0.006015854867735073,0.007638266740086133,0.024842822752632544,0.005886306754083263,0.0030299570344262043,0.007870561815597038,0.0032332144630188775,0.005428512683499925,0.0006676020440002117,0.03800402312261238,0.00596822496584729,0.0006781348684296216,0.006904501381073144,0.007278911926002025,0.10886395448972849,0.01575388169973558,0.012195679402125698,0.011498742745677658,0.014974753853607813,0.0041831340526823635,0.06297468055769781,0.0012710812869609618,0.017964845870899627,0.023177247393297518,0.009380679943482736,0.027910206388841112,0.004440951318335305,0.02107800684246234,0.007935146047669818,0.009850805487818155,0.3897220765786344,0.013280933812888446,0.0014186546871693259,0.009174313230556844,0.1330269258865288,0.007202615030375445,0.0738587495317133,0.025770231186401087,0.022029421101675987,0.0007095200226352137,0.018039150134383376,0.01026082887678979,0.002375962771925897,0.00863409710904789,0.036474215077940034,0.1423907354937045,0.019947097086994898,0.009163306728586632,0.024390179154732253,0.028117581828280388,0.7569781190628598,0.0034701655256448687,0.20458211048395017,0.03818193213516715,0.03358311709777534,0.021801583725055463,0.005058915507780093,0.005522820328700438,0.10408887923470433,0.3558462519640528,0.0014690645843951804,0.07173020305644136,0.19088153061061883,0.12786555194289495,0.11585376723437849,0.08348249029540702,0.0047753644679779115,0.008139262577868499,0.0036373363063085013,0.11949798423125693,0.03473080142904566,0.012284080940663081,0.10575578539541809,0.023501335871985746,0.01831440483593421,0.1267451173127178,0.009824530756613431,0.0035259467490921974,0.40206036130269945,0.0013768254667916484,0.012284080940663081,0.0025362642564678147,0.005283911008275137,0.00350939928923877,0.01910264861608894,0.008829138050073378,0.006408796916024233,0.0025302095825741923,0.012284080940663081,0.011033749434773648,0.001099332718446658,0.00847011528144203,0.0014690645843951804,0.02198171292606204,0.0006906020243760142,0.1423465221504653,0.06813222764298583,0.001540661814484247,0.03737032220007711,0.007807988203147559,0.10801454422312538,0.002922512020933571,0.01831440483593421,0.011829530499319788,0.009440764917933832,0.0064073144641519884,0.010684015658839282,0.0008727292979141419,0.0028216410156063293,0.01987470423098265,0.007027222015322996,0.0161619782722145,0.019821573281443426,0.0033635131759305577,0.0017407961162964453,0.002796069960954181,0.01831440483593421,0.0029788571238933653,0.14814371952908154,0.02050154889747515,0.2863964181759589,0.0201287056062074,0.001572013223717361,0.03433336433575079,0.13471497906481372,0.7779382016232775,0.005897251553016376,0.005522820328700438,0.03158024478758877,0.1569520760578697,0.2156269176022989,0.0023672293868358778,0.015363150602388862,0.06575112289486518,0.0015161482913560512,0.42042758407797665,0.002716867769679674,0.007039592711362218,0.0020722671168975134,0.14076335903018222,0.014518635188158099,0.016355425291807904,0.06186325743046609,0.010220976636980763,0.011517057844667314,0.0053584603860601316,0.013215278280167025,0.05120216321723582,0.013933978755896626,0.0035653786470417536,1.6938489173355835,0.007983494973529405,0.008605331603268396,0.001719134063214427,0.0028842976036897944,0.0033648874625724565,0.001719134063214427,0.14523402333408703,0.057731418426228476,0.024411466509790286,0.09260106450795225,0.007614512681795507,0.01851075881631214,0.02331301737624257,0.009361226150296248,0.005680803326522392,0.15743000100417334,0.011834150870325634,0.23495061231501113,0.006322478233908556,0.09476338853126726,0.002203147153601228,0.023157970174629908,0.16340447618103904,0.02173397815261685,0.06575112289486518,0.033457180852320835,0.0015815239458959534,0.005908213845666898,0.02552113983721129,0.0004507929798385129,0.003051189700062992,0.0030620362707942115,0.5239243563819576,0.005837065624041639,0.006411490430634231,0.0106226148855772,0.009770215505228264,0.009423479968294929,0.004339795719573004,0.007656628715650988,0.04918293931858858,0.15750213190694268,0.10078396671038216,0.0010888823082462649,0.5949002327377685,0.01589315188572743,0.43389215140713866,0.05077175525841292,0.0008126330787725157,0.7294529082863944,0.006763941763245504,0.005522820328700438,0.015741668238321214,0.0035653786470417536,0.07040539663577584,0.11723781480631092,0.08064608134822152,0.000724470682288401,0.005522820328700438,0.02052600509333316,0.0046117763235200455,0.07979607039934003,0.06355492733807067,0.006384249074531021,0.046883630432429324,0.02226428138037395,0.062095550433062356,0.010950528923947545,0.010954133762062597,0.15881367915945377,0.002012920710918473,0.000675823925349289,0.002761380572064742,0.0036362488773227413,0.19767514192853816,0.0889170403397521,0.3933149140180693,0.6951598274972594,0.006893066542219833,0.008605331603268396,0.17824100633305962,0.01269068803595522,0.01987470423098265,0.01624357570773454,0.0022487601709309238,0.0023230516092132805,0.07896040538300947,0.22738436477024093,0.005951865078966251,0.017899676536222427,0.005152258403098053,0.034182404027489705,0.03993022729342781,0.009715319600007634,0.3675741742465563,0.018727270921033434,0.009504016373796852,0.0007598866572624501,0.11009084956278548,0.0041831340525758185,0.28139211665705305,0.004207420430480411,0.0163936190288017,0.001572013223717361,0.07513874054363424,0.01614169880669308,0.016629707214088726,0.014656657338140276,0.0008455280940507171,0.012093965106142501,0.0049933285483486295,0.811735181531217,0.004993611061003025,0.005861101202750698,0.001552662387879964,0.001552662387879964,0.18389928954738552,0.07247995844594986,0.0012312139138261292,0.01284066414109048,0.011498742745677658,0.009415251719281677,0.02992494867198789,0.009415251719250116,0.007254094425006967,0.14366068647930322,0.017958144847571623,0.002424980788416493,0.011166129792933232,0.0033147542045244543,0.01609583031314078,0.01794978324796182,0.008349515262207396,0.0031023593839657896,0.04943576948808745,0.0047753644679779115,0.002598611607060925,0.0040193287987498015,0.09125412251928978,0.007442285779720922,0.2542968746609054,0.07988716944998486,0.450139660346642,0.005844054618769857,0.002375962771925897,0.016434786713867847,0.3990510161604764,0.02331301737624257,0.0042533555426964775,0.012413335805596358,0.04374092848395064,0.0038297076941872167,0.009171113824454995,0.0053933987478047936,0.0018606829909917008,0.0014279523482410787,0.026933949329136342,0.008843034277647417,0.10801454422312538,0.01610631896705507,0.03258507901893398,0.0789875253108249,0.006741794502928313,0.002732429164795113,0.0011852790654093095,0.004833916594167021,0.06716361046292114,0.014171106783382159,0.007732328870415086,0.0027452395285290786,0.01757214478998126,0.02606676992288834,0.012238309051153484,0.0008455280940507171,0.0031385349735003564,0.006015854867735073,0.010223617785706737,0.007039592711362218,0.045817280997982844,0.014324264883025378,0.0009781962238376769,0.002633135402956749,0.005295641958675972,0.015411660083778124,0.01427813188956205,0.22669024233607094,0.0017599573138835632,0.00124279202037322,0.004795897162760009,0.009850805487818155,0.009335363650883532,0.007953971996097951,0.019262285561683093,0.0009636567519591345,0.0036796580630422786,0.0006758239258385452,0.1446839104870487,0.011715357508320066,0.014888295416786722,0.2677724946498879,0.003309732008935746,0.0034654529782432134,0.01421974653038765,0.0011904025246997293,0.002836035217954924,0.0016305951102910698,0.017575503823247074,0.1030643849271202,0.06726511331316251,0.007039592711362218,0.5824377812596533,0.023709737370422534,0.002285194365951966,0.006621938291762956,0.007027222015322996,0.0035259467490921974,0.07086382034628606,0.5227511647280377,0.03840403485027272,0.16893444055396745,0.011264941623703643,0.006873020341450143,0.0050423531680468476,0.48800775658476303,0.0009781962238376769,0.015815308848858456,0.022868914454086647,0.10301631989844634,0.009449661901773493,0.04059952566477518,0.029685722597913487,0.0018079502520770613,0.007032896305601422,0.03457533578936697,0.011867145005001167,0.0074136228197790345,0.13706216661179207,0.002441512723843861,0.05391308644677435,0.01757214478998126,0.008554250297462204,0.07466368377938368,0.003678503166031701,0.017848311322579722,0.07522048302039908,0.005532869046337451,0.14448585968742333,0.13228661811433465,0.005753483950904262,0.0038544740400721323,0.013971748210675792,0.05804772051159782,0.013743681924734335,0.0014690645843951804,0.0060236775904517125,0.0002730901513636804,0.0025560624953539315,0.0015891688083460424,0.0034633536903625976,0.023450210733596315,0.009118313606580756,0.020503070284958763,0.0025302095825741923,0.003179147461358044,0.004706325878128326,0.0696213603025362,0.014967360642914854,0.14469139635811232,0.02300982751796798,0.24423672667410587,0.10652343350685836,0.013242161378963207,0.042362100400885415,0.0019528224129416513,0.00519538833488031,0.0005114943796555175,0.013724273505604276,0.0045155279974633065,0.2652264230937356,0.6202072769879937,0.06443507091174681,0.004370739900878838,0.017604777364990463,0.021013665990664183,0.009174313230556844,0.0031978252430826916,0.0034699536388306364,0.009174313230556844,0.01007187391682812,0.0005744248065925917,0.0043756884078324145,0.14838035875498032,0.01007187391682812,0.13236576890402071,0.009186507497810805,0.007741978799369967,0.0011852790654093095,0.059688234550121316,0.031408550301146594,0.07496699541337418,0.0025362642564678147,0.0029788571238933653,0.0548031127291626,0.07606147649183163,0.018986507343730582,0.002324414847619805,0.0005557048252044737,0.008829138050073378,0.010841554069896755,0.002795126566844654,0.019278237985287123,0.0065219690458335365,0.0007473418477001884,0.08342443354461933,0.011491640009874609,0.009258168422956525,0.007371041179290981,0.014826975490078036,0.02296264714298831,0.007523538130922822,0.002900620964596282,0.0074136228197790345,0.002285194365951966,0.37133311522425483,0.006845250549145043,0.012356799531047931,0.07209920913641484,0.0072970636419113204,0.20665815891818484,0.006845250549145043,0.03275430041648192,0.0034654529782432134,0.0003146666851982795,0.013474212513910738,0.004562956507638253,0.04741394797039303,0.008601978219970968,0.29361253675333654,0.0012710812869609618,0.003678503166031701,0.0003146666851982795,0.00022301994225868874,0.1383743979996339,3.85604437617422e-06,0.0036417004572503716,0.06986769872662539,0.010166738759329304,0.0009236615803800668,0.08334901936976633,0.007638266740086133,0.001559424214956479,0.0008126330787725157,0.018713973831035395,0.027822967687873436,0.007093570797111812,0.00014708706459269478,0.213418044267713,0.984672411715542,0.0017189971178322324,0.5847799417401112,0.0025034408568244434,0.03130407077549874,0.002391493919746902,0.009423479968294929,0.0031385349735003564,0.008122065248024583,0.014151011225366938,0.0010246906115658778,0.28817013125199,0.002324414847619805,0.048768045776804825,0.03807568668371085,0.004360856327211247,0.021584712486666942,0.09353942873106537,0.014623899113749231,0.021527805670928934,0.003777801131911956,0.007376422029763293,0.004303700936701104,0.17193145124964257,1.856865272513801,0.4227442649996357,0.014285517630857347,0.0025302095825741923,0.09159541495813686,0.002810155336849169,0.0006781348684296216,0.10611603884026646,0.015008285929134018,0.006494864982974586,0.02617441572206725,0.0028347443144609817,0.0017577202962230489,0.02331301737624257,0.007376422029763293,0.001741467519729737,0.01757214478998126,0.23329518463580962,0.43610593025093475,0.02810871105072377,0.33115415144329496,0.014614272413664905,0.005844280432728301,0.0033156055364784794,0.027917096952576652,0.004303700936701104,0.006015854867735073,0.0036722041095544403,0.02331301737624257,0.01946914874267854,0.0034699536388306364,0.0008050958204304401,0.0042533555426964775,0.24768441821008044,0.03492873597086285,0.006917391552770281,0.024577202311230555,0.000954492381235462,0.012370997535514947,0.05114923291259911,0.010865153165698152,0.02922785595086331,0.007800843884132418,0.7613450655755635,0.00523425939423797,0.00046946213365022785,0.008041175930651873,0.0834790091733106,1.206740314773038,0.21817336382476668,0.005645057516010262,0.059688234550121316,0.03347482515871474,0.01987470423098265,0.12168814813828974,0.2812662441122594,0.4774410335378278,0.012284080940663081,0.0019567083107683856,0.04069064704722975,0.06085644030935843,0.001719134063214427,0.004303700936701104,0.002761380572064742,0.10314306419350103,0.020167506465207936,0.009266381300695433,0.3499356070338574,0.0013736730978688963,0.0019236915157957893,0.009266381300695433,0.017540314410048,0.011526755807000275,0.0025302095825741923,0.0007598866572624501,0.0030003174253194257,0.008826893529935426,0.002490683119601027,0.0006781348684296216,0.00643909702212724,0.01781748965255426,0.0011471865868164287,0.04969294891119572,0.0018872800830222153,0.00656788240498906,0.15104558121534412,0.0014279523482410787,0.013147319108239389,0.1361912600842689,0.5174805235277571,0.006090475119309699,0.12189526553478063,0.07812398620097898,0.004303700936701104,0.020053479638473534,-2.8797779408796064e-12,0.09577183177123642,0.011882853344262128,0.0027867279521516628,0.1646875191438276,0.282605625107852,0.0036464793585532776,0.0004271624082097436,0.024422036816550138,0.16976749332701985,0.005866488116937651,0.04744359358815501,0.010025428230818367,0.009007005539389264,0.007082288650054223,0.0029919467609146578,0.0028347443144609817,0.06305589169605286,0.007022675275614371,0.007412728114765731,0.0014186546871796351,0.0025676340784207665,0.005250346935779579,0.003235282354570478,0.08384299105049187,0.15734113320833518,0.08497942102774364,0.46474371744094667,0.03762167531408469,0.009174313230556844,0.0125386784036943,0.015473054121482676,0.000724470682288401,0.003561777425433939,0.007343421675540708,0.08659451114900549,0.005522820328700438,0.01033011567867652,0.014626624360376584,0.032259887147979616,0.00037267713374715134,0.007572579778070279,0.0022761367721631154,0.07283812077868825,0.007376422029763293,0.0045155279974633065,0.01757214478998126,0.002062533991425138,0.0042533555426964775,0.0029919467609146578,0.024128609870014084,0.007387082118345704,0.02074622360900403,0.03692712732690004,0.16070427130516107,0.005813675631584715,0.007833671095634438,0.04229971224141214,0.007376422029763293,0.043237840673088,0.006007278100903649,0.001741467519729737,0.0028347443144609817,0.0016426135494210228,0.06093582705725801,0.006634491705981043,0.07930644443403545,0.10635464592386312,0.18893441505640615,0.042464755449971726,0.023501335871985746,0.002732429164795113,0.001741467519729737,0.0006340730110805103,0.0038544740400721323,0.015117411111829987,0.004323841531441225,0.0029578710498514463,0.4240408670188803,0.06782662993171397,0.0003146666851982795,0.0016426135494210228,0.10654674924058076,0.016707239442053053,0.02227441475619986,0.005844054618769857,0.0012451526334476013,0.0007598866572624501,0.009322586651134942,0.01344610748860241,0.059662468826071374,0.07623132152999637,0.002391493919746902,0.016528829449999595,0.015220729281976679,0.007837391754483319,0.01597311573843147,0.22140052004640678,0.002285194365951966,0.007376422029763293,0.011634905466807725,0.013897297629824603,0.002111365074874749,0.001110256098721943,0.0008633785323588436,0.007935146047669818,0.006015854867735073,0.03625760831787323,0.013634110053896732,0.01624357570773454,0.01831440483593421,0.006634491705981043,0.0029919467609146578,0.0049908713001481295,0.0033627598030901823,0.0009781962238376769,0.01069840278663346,0.03191751010926068,0.00934971110085576,0.020996416368479903,0.01344610748860241,0.0014863432964166404,0.00771772757979184,0.006015854867735073,0.0006156555384190417,0.0050423531680468476,0.06096347747797529,0.0018486082002458564,0.0038297076941872167,0.08136917749633715,0.0006156555384190417,11.088154102974922,0.12391716585117649,0.1545578684207615,0.0022761367721631154,0.011499779075775174,0.0007598866572624501,0.0022462299536790903,0.0012670970595780274,0.0036433463956861345,0.0026036271645043796,0.008009308195830582,0.006000961070284634,0.0020699794529515764,0.005980182213247822,0.28527750540343416,0.004175094907587346,0.009435651279273953,0.0011852790654093095,0.0034122616459809577,0.026965297059696944,0.010902404022524181,0.003029334471799997,0.015753940628438483,0.0060092046926165975,0.007297332579639491,0.0002730901511671798,0.0033493457729267075,0.0025118738645845858,0.06663536781300186,0.019983962656065713,0.000525608408465696,0.0011619157218186649,0.0015781703311613885,0.0096073780517795,0.17964734785867442,0.09250113450315221,0.001108668052432199,0.07288030767061335,0.0031023593839657896,0.008099979258615088,0.00543054515458563,0.0045155279974633065,0.01802021661365707,0.034265125790677024,0.08987424137914692,0.12315382310693392,0.007737615493884344,0.006676082457891659,0.017304254307496117,0.1488370946703125,0.00047814074158419585,0.008139262577868499,0.00999667365805726,0.002691229113379833,0.009494697961316459,0.017850337529427905,0.007115497886583045,0.011309207289691973,0.013405482607250472,0.0033901914669684373,0.008569778035912225,0.011753188762601507,0.006408796916024233,0.010211671317808342,0.0029919467609146578,0.009447136593341371,0.009488466918101943,0.02354900773371054,0.0324891109816173,1.1737874423934911e-11,0.0002537007681862462,0.09879016237575347,0.006169061737724705,0.03610039111200397,0.009776577046474635,0.004781636560337495,0.02172559016816333,0.015045503014236109,0.013378569940975504,0.00164625949742921,0.0011852790654093095,0.021801583725055463,0.03310535925835642,0.007115497886583045,0.03683484549577507,0.9868669063060161,0.2466760430577654,0.017794997414807487,0.15132818815399066,0.006873020341450143,0.06822493293301646,0.006201235005725613,0.0009140211336984532,0.462361205330089,0.002512116845297083,0.041041413615512334,0.012244873224411151,0.017160002392867798,0.16475830720498472,0.005631672719621035,0.016140720218606415,0.011607677239219348,0.04341245178842629,0.003406538333569938,0.020724821433792527,0.0010618140794724227,0.014369958758438214,0.0034400305960880766,0.0018914620886441944,0.009608756402955153,0.005213778802885554,0.004251771294398435,0.034193680655123244,0.006408796916024233,0.001559424214956479,0.015602358814981537,0.08728438937492886,0.15109457703753168,0.010559725320533666,0.002285194365951966,0.0019966245770971754,0.027503241150166606,0.05671903657429566,0.025828112532376594,0.0004620366712947742,0.007297332579639491,0.027819846477949394,0.1008085043037215,0.008377144992858352,0.03453159820398516,1.6555651800124598,0.23596409001918292,0.0005114943796555175,0.0013090599461131804,0.022213923800078923,0.009211905080245116,0.054539271688587465,0.019411817511464934,0.00859503869912124,0.08826103257970616,0.007647832453041732,0.004908302699805464,0.00242862009224535,0.07447544393105743,0.0014286154757165216,0.0006906020254674414,0.04925190861534984,0.14062890513419313,0.0033627598030901823,0.014772126602234033,0.002424980788416493,0.08617306761508282,0.020368892766930068,0.4173916007539494,0.13907208476815397,0.9143811518775865,0.2924656416811678,0.0053529465574151626,0.0008050958204304401,0.005837065624041639,0.007870561815597038,0.002391493919746902,0.005739849386788041,0.005527315417507229,0.001132181519976674,0.010354856903894429,0.010323626197701757,0.0011784549830144643,0.0022732971585173608,0.0033493457729267075,0.009779175227555212,0.0036362488773227413,0.043118627308422114,0.0007184303054070672,0.07697509387871565,0.01269068803595522,0.0016426135494210228,0.02942875926521913,0.08763725536052283,0.0003867041054865112,0.005897251553016376,0.030342379873117293,0.0014371468060762867,0.00665774905864651,1.0186363175106594,0.007708442452233014,0.0036818113540349486,0.06186325743046609,0.0077680004884451495,0.0031023593839657896,0.008034586450735112,0.030274744294229224,0.01269068803595522,0.00164625949742921,0.008021464983228236,0.0010376726967276542,0.004370739900878838,0.015578506586211812,0.009504016373796852,0.0020949636588015862,0.009462307152972943,0.008810263360101314,0.018453967608365297,0.0017368778373945781,0.0027620662849227244,0.31356999608422187,0.0007184303054070672,0.11591245234656625,0.0007598866572624501,0.0017217486540206284,0.007376422029763293,0.0065419329066197345,0.06716361046292114,0.02768985481833848,0.009488466918101943,0.0006663736837056758,0.0015572456027126884,0.0010784797827511144,0.030538521961880675,0.0010784797827511144,0.017197725365532473,0.2308530802007458,0.0003394570630287432,0.04143600355105474,0.005428512683499925,0.010684015658839282,0.0020526697802034674,0.1543138781746365,0.03028699990022252,0.0016487162982470691,0.006717805058889019,0.02096789402698762,0.010171519595141017,0.0021741693126173644,0.9275094278232809,0.0037077846465931267,0.014961295710293511,0.01797074502643456,0.021230644311864656,0.020181719297404987,0.06250839499932447,0.005283911008275137,0.3078892147420006,0.0015831434532967033,0.003629828783662533,0.014335685380003318,0.049901891028595324,0.016948601883107824,0.030156315836209088,0.02314497367662234,0.003051189700062992,0.01967700144828115,0.0069528024993498645,0.0030620362707942115,0.005185264564631975,0.001108668052432199,0.0292114096496565,0.08663978202190395,0.005910658743063587,0.0008126330787725157,0.005224713151170937,0.001540661814484247,0.007502273892022072,0.14880458533241317,0.001110256098721943,0.15769232318041188,0.005890512112402531,0.019858447719029993,0.03624628147202253,0.0030290854129323237,0.0009918181905758563,0.004128764194703786,0.009533268754402018,0.014791159291100612,0.0014690645843951804,0.006776025478290824,0.061551436361948327,0.0015781703311613885,0.007115497886583045,0.16881327963206003,0.007870561815597038,0.004938551916122664,0.009423479968294929,0.004908302699805464,0.00866335773938087,0.026832581708625052,0.1750034725754416,0.017255531252804587,0.009814351403239455,0.002490683119601027,0.0040193287987498015,0.001129406733058588,0.007831021852856116,0.010033231164021692,0.0038308652188828595,0.002490683119601027,0.009118313606580756,0.08617306761508282,0.016549271738004946,0.001540661814484247,0.0010618140794724227,0.007800843884132418,0.0012710812869609618,0.001132181519976674,0.0010324349832333674,0.0004271624082097436,0.009007005539389264,0.003055691007246052,0.0033648874625724565,0.014858747107835453,0.014422721814449957,0.010413877063800737,0.0005114943796555175,0.0005553024335646836,0.0017368778373945781,0.01521455863076939,0.0030290854129323237,0.01815493118669907,0.006015854867735073,0.010616765321567447,0.14621099823927897,0.018775075545953136,0.0005122125929341174,0.015131128898758544,0.3589326719889552,0.055973923293694446,0.005204700234890039,0.08047661883455619,0.03027440440616605,0.006119397829645035,0.05342865945062791,0.009423479968294929,0.0034400305960880766,0.09191699253311324,0.015686420892429033,0.0006305287953385619,0.011392636438282736,0.009435651279273953,0.033953198190742676,0.40552188793696337,0.0037077846465931267,0.03317912311120432,0.12348798552521145,0.00618953452730071,0.0005114943796555175,0.08968978566348218,0.012420921205468846,0.03366497989257451,0.007442285779720922,0.048965586028264604,0.00934971110085576,0.005522820328700438,0.2914229847791965,0.00948994237041919,0.0008633785324915127,0.010409031181248564,9.375744571965182e-05,0.009118313606580756,0.010684015658839282,0.06546835786148396,0.0031978252430826916,0.004440951318335305,0.10565737465759421,0.13350691012575025,0.07945277500746761,0.004222060468718618,0.015326046005363362,0.000724470682288401,0.00038985047972367784,0.018893842880993536,0.019308579039342626,0.010007998420203635,0.012236123782038715,0.01539186386581572,0.002747779755313922,0.011033749434773648,0.0201287056062074,0.0026036271645043796,0.013545235278922683,0.004832733643313619,0.0009236615803800668,0.009919933009414333,0.006566716737665114,0.016876476871884382,0.010118201076809124,0.025164343528145644,0.005520853433943209,0.05193067289722283,0.0065761612016442435,0.06716361046292114,0.0017687525723895747,0.00651273372058545,0.007983494973529405,0.022068827092116636,0.2180415204290225,0.0007984033015778684,0.007581410639026577,0.0065761612016442435,0.000724470682288401,0.0005114943796555175,0.018247215766022326,0.12198772986107209,0.059086265961131534,0.003051189700062992,0.01435630718472382,0.0014863432964166404,0.01100765348513471,0.01668940470993273,0.009770215505228264,0.005739849386788041,0.17667171960465128,0.004205837606263133,0.009731959380395937,0.003066453865193601,0.01182959421305117,0.10883840865898275,0.04602231167464283,0.005006814458106579,0.019582848155001144,0.00629242960589544,0.023040884247883853,0.9434499910590706,0.0042075629708207855,0.0011852790654093095,0.08185266189779428,0.1829049736663155,0.017964845870899627,0.0126035662316059,0.005777107206130592,0.003412360008491299,0.012235943090606115,0.011061386004169702,0.00339257951151552,0.008829138050073378,0.0011852790654093095],\"xaxis\":\"x\",\"y\":[0.0017788067766312643,0.0030687625130311385,-2.461916103841394e-05,-0.0017379010955718155,0.010858864495697059,-0.0005171653464151032,-0.00410251632266705,-2.1651066161751208e-05,-0.0005287584395929294,0.0004500028661992198,-9.369304316598278e-05,-0.0018873899014669713,-0.00045229518239239976,9.311084969648693e-05,0.008168190872480684,0.0009685000152372282,0.003940593296183367,-0.014110914466806377,-0.0011517487697335538,-9.666013397937031e-05,-0.01803266698819787,-0.0006364321154378831,-0.00032186498345917005,-0.004496115430483208,-0.00301823918206533,0.0016438024885621892,0.001896108072929213,0.002436640617922845,-0.12942543937992468,-0.003573631874779383,0.005634101259854466,-0.0004252319489884992,0.0006036658998965178,0.038768057194474084,0.0006293599339174017,4.7337943961273315e-05,-0.00048775771848871493,0.0002379730739890113,0.000745416917708034,-0.0005488080462951576,-0.001623754784252203,0.06799575492975578,0.05798271764841015,0.1540199619740219,0.0036490112301945264,-0.006674176944354228,0.00011489030737657323,0.0009489279685535574,0.14486758280748613,0.16568269303614874,0.005228042515530906,0.005145689002545157,0.005610397163751099,1.1566129683683983,-0.02140469654454592,-0.0009654029242978769,0.008295476626345036,-0.020115539261060047,-0.001022266116900873,0.0007631254036033505,0.0006465040123852721,0.0009108902065215424,0.004473768740411599,0.0007851166433248657,-0.00013606578834841595,-0.05330377822785493,-0.0018052542423728163,0.034390301447126514,0.001055088131870244,-0.001976506894242339,0.0009108902065215424,-0.0018535915130479977,0.00013546173916027357,0.0013758876662041844,-0.00010598752820488376,-0.0009345540187126657,-0.002089555873059664,0.002367467361406833,-0.003609232961093025,-0.02140469654454592,1.1617166432846182,1.7206119385875296,0.008369926497260134,0.0008672742427016815,0.0017910256984946713,-0.04158020070120898,0.0008177341297936016,1.780361042671756e-05,-0.016053792506141275,-0.10830455163994494,0.157640421241563,-0.0010820788465213875,0.007458258596070927,0.00033159043480262266,0.06599884049414556,-0.0010337584456395171,0.0017190536438089032,0.09811946199527362,-2.3380572023791995e-05,0.00032139242546136665,-0.00021245989566669152,0.013405052572483814,0.17154809201488563,0.12263463532251795,0.004918717190069783,0.052352511221829844,0.0004703795778984179,-0.002144283909616385,-0.001976506894242339,-0.0010838876597794697,-0.15960137617659512,0.005905428277676058,-0.00015978526744328962,0.005095066828084216,0.010276402867492188,-0.016503280405549922,0.00741536994374953,-0.0021614803688459155,0.012376383665946277,0.0071176576579988285,0.148629607297025,0.0007650467414944042,0.0027432735461513113,-0.05204485704274866,0.003210733963468976,0.0022347485790941337,0.00412906367876361,-0.00116433731771145,0.011157544469544482,6.064918552921765,0.0006882918919591207,0.04552315746230249,0.005145689002545157,0.042834728042768916,0.16513830170321336,0.000552725193218267,0.0011244906377643547,0.001371831248158404,-0.00806177717633204,-0.0052808193755376825,-0.001748466461417564,0.0002379730739890113,0.019038119122158262,-0.0009345540187126657,0.07989394548335489,0.002854247954116251,0.00028975621509179936,0.010024514997987982,-0.01904743744261046,-0.003910392426249831,0.0007581249962807527,0.0005743748855411858,0.006253324308541197,0.003910837134670779,0.038768057194474084,-0.0020461556803740817,0.07668704288129881,0.008168190872480684,0.0008384756747002665,0.0024612495163372217,0.004244538143548581,0.005905428277676058,0.0009537294211863751,0.0009108902065215424,0.06786236957755286,0.00213440682229356,0.0025501329455605583,-0.022942777212057525,0.0033060575124003663,-4.473238643364225e-05,-0.002968357377332153,-0.02209351834440257,0.0025999264436326374,-0.00022228916209074447,0.0045523484237266765,0.030015912389560882,-0.0021596276277454653,0.0017190536438089032,0.06053184982537054,-0.0026729153123162173,-0.00013606578834841595,0.10194023349519925,0.007376347236211382,5.2604804270467724e-06,0.00256847550139571,0.015823125031240677,0.009010689151586653,-0.012337535073420459,-0.0811316971081206,-0.002263646757941039,0.01510114536721204,0.06777609891697534,-0.002976627748145443,-0.000431952944396999,-0.00027189742464413946,0.010557434991619988,0.0007822372229398902,0.040357113283751925,1.314514225530929e-13,0.0055217874027719905,0.005145689002545157,0.003649822855003195,0.0071793030239515505,-5.686298272870351e-06,-0.0009718374082954755,-0.025710125568120697,-0.0054297712732322085,-0.03563795838443958,-0.002192207999785854,0.005814139934159161,-0.03422515583635752,0.00016056952837957582,-0.04349716386341554,-0.00015221844263260009,-0.3257837757832829,-0.020467714787101698,0.008200486587074396,0.07716580711147586,1.7564917982098454e-05,0.060637916449830596,0.0899136528369085,-0.02248675731863202,-0.0009675746048293099,0.005598648087892885,0.0008505301575330637,0.00032985916472805016,1.1402170110532193,0.08948851096639485,0.003840265178337019,0.0008384756747002665,0.00270592253032226,0.0013527091362713472,0.004628723316467497,-0.000921618837218745,0.0008472510796542465,0.0032878317547765015,0.014657689585434917,0.07832756890552474,-0.002056646368379917,0.00016532998940576462,-0.0009605472332542137,-0.0025406400319522245,0.43848603970062267,0.003193454846603993,-1.0269415628212063e-05,0.0002396616732422333,0.0011553979137474807,-0.007742008514082919,-0.08458323372427784,0.004157793775940686,0.005271482348278647,-0.2550043902450732,-0.0012036368255138989,0.008770974112984104,0.008499294614936665,0.1279598005103667,0.0021038495476007947,-0.025478035251945877,0.0014701725051971808,-0.0025950311756187993,0.003263865122210477,0.0007822372229398902,-0.0006613932980135231,-0.0018873899014669713,-0.006524452439519703,0.0032288631152070655,0.02202695416984176,-0.00013606578834841595,0.07481868325321085,0.0022817954308597017,0.23501856075252092,0.07044581628123461,0.024996474733173634,-0.007241070412402394,0.003940593296183367,0.003940593296183367,0.0010766052701307997,0.0012077702003970394,-0.0018858639629262778,-0.026146910769292046,0.002195891975799923,0.013938774002002982,-0.004214954801829188,-0.0017379010955718155,0.05790061688282193,-0.0003095937327492055,0.00599767102786974,-0.0765745098935359,0.0010289044041000765,0.11372186594846906,0.038768057194474084,0.0002379730739890113,-0.024267614304078013,0.03371962514239807,0.028764636652166328,0.001678467885583569,0.030366581434985614,0.0001342347131380067,-0.046036091991714836,-0.0005563327684897146,-0.009111764231877022,-0.007349416122157615,0.0045523484237266765,-0.05799932836385801,-0.2029555165079161,0.0003426585986462832,0.007894781721176095,0.00741536994374953,0.018630454257334644,0.011279008702619237,-0.0002886860718291405,0.010212106152111598,-0.06521883447697956,0.0037412031807926376,0.11595688098595976,0.21269882713418303,-0.0006364321154378831,0.003940593296183367,0.1503319464659036,0.0036387093792119036,0.00475062732871073,0.004945096530673755,-0.0009675746048293099,0.0013758876662041844,0.002029532484777114,0.0027432735461513113,-0.005167701991576397,-0.017654289744722825,0.13564756207615836,-0.0012616855060526035,-0.0005370875181648233,0.05227469066000369,-0.02356602664005122,0.01596214909491443,0.005145689002545157,-0.00034040920730089364,-0.0009700922943252947,-0.0020566847095781307,-0.05006598256026785,0.0005854467961858676,0.0026569197701230597,-0.025892513172404936,-0.00341151053469182,0.0013527091362713472,-9.666013397937031e-05,0.038768057194474084,-0.037704384871437145,0.06777609891697534,0.021598717222520672,0.003591540189069678,0.003591540189069678,0.005835285191918608,-0.0009205764402884759,0.11184690828507782,0.0006596646866619864,0.002047508368534549,0.0021038495476007947,0.0191685198346868,-0.0006934516589672109,0.0014176351158421481,0.00840146415454992,-0.0035822899294911665,0.001046882407825446,-0.0010950972801005016,0.03317473217491573,0.002539277876664204,-0.005655233249638021,0.003685833687476145,-0.0006001853761472244,0.007070686749092929,0.006636493111686632,-0.0015158406041764687,-0.001867895758294217,-0.0031561961658988797,-1.3928457577441762e-05,0.0010333486032656832,-0.0008882097679742135,-0.055407319236185956,-0.861623795635004,-0.0006054662044049228,-0.027427353811727697,-0.07566601490956584,-0.018651564246407074,0.8514217453174168,-0.024258194464377717,0.004058048363485426,-0.003413434302440968,0.00847133077734043,0.003965871067293739,0.019488222508736466,0.0071793030239515505,0.03764454566902915,-0.01629207970588216,-0.02145206706563859,-0.017443942434534676,0.0004111573703509626,0.002769852109519345,0.0027432735461513113,5.0896042089853814e-05,0.007777948749160349,0.07708879815263801,0.0004703795778984179,-0.0008022872705420988,0.0033060575124003663,0.024592270329369042,-0.03171847356677887,7.814072726111939e-05,0.10405745884037139,-0.004050222818063974,0.02666243898744134,0.0009391703313058027,0.0003426585986462832,-0.03279227522952695,0.0020014655040637794,0.002202630366315276,-0.0006569799860566194,-0.000537484121566875,-0.002134547549516524,0.001371723439346706,0.0014079670901194043,0.0007268521080572251,0.00011281571612921479,-0.000921618837218745,-0.004852971532364565,-0.020219071274528266,-0.0014148139475001918,0.008143382488734509,0.00036017781100381607,-0.00116433731771145,0.0006413050378244458,-0.0015882587468137462,-0.0028437948682887475,0.0017612805603273009,-0.005640925152445675,0.0007822372229398902,0.010212106152111598,-0.001561755243785508,0.10195026345993596,0.2839487012435095,-0.020447033069265364,0.09729101391770448,-4.092181564655213e-05,-0.0026251663239990368,0.09811946199527362,-0.002997519133645535,0.006687147589455385,-0.0009374238221654066,-0.0475996628011007,0.0036682771005168585,-0.018756061700157933,-0.0002816334653996558,-0.0006584786792296199,0.00033138810252227843,0.003263865122210477,0.11142420464128704,0.0030843672260018455,0.00617329219310978,0.007837258900186356,0.00010587602544651156,0.0017392109428141088,0.0021392956551693257,-0.002330119149512557,-0.00013606578834841595,0.002029532484777114,-0.00032186498345917005,0.3944690488314132,-0.003856438965230058,0.44122817091906236,-0.002976627748145443,-0.0038704867065707596,3.496050756083841e-05,-0.014391691108141626,0.00010480445569200709,-0.0056243998021074494,-0.005968593963761659,-0.0018222982854966794,0.007837258900186356,-0.0012325834808062472,-0.001442591993665156,0.3836434397532501,0.00446147723982947,-0.010838395914191168,-0.015410305004872409,0.01133349257181211,0.0025490004457342807,0.003448654556141358,0.004918717190069783,-0.06722973286075735,0.00014951666556955442,-0.00038716169683798447,0.002648154313915664,0.0025501329455605583,0.003910837134670779,-0.0008659054063930047,0.0032878317547765015,0.0004938598715962776,-0.000621156264387891,-0.0009205764402884759,-0.003047516588389995,0.0009806118757418863,-0.000921618837218745,-0.001879142196543883,0.00033159043480262266,-0.0012688554778687458,-0.00015978526744328962,0.04931247367949225,0.0027432735461513113,-0.016490133738262993,0.013688898482805932,-0.0014357825021962948,-0.0008753257432557318,0.00032139242546136665,0.001644687437744144,-0.003660299487663268,0.005396920268741828,-0.005001396948851264,0.00741536994374953,-5.197225103631089e-05,0.0005304863100143007,0.0025765748711726964,-0.025905026629952713,0.0010766052701307997,-0.0010584635050554737,0.0018683596280879516,0.2793112506358625,-2.1399633978173854e-11,0.010555680420543308,0.004484911549334428,-7.34226083205566e-05,0.017701507734083972,-0.011854713619030077,-0.0020566847095781307,0.09418856927943836,1.0578961080540851e-13,-0.0001643957125623963,0.007837258900186356,0.0013231623387740482,0.00617329219310978,0.022171012854338867,0.09793788818989645,0.0006074013218924637,0.004918717190069783,0.0031170824420011243,-0.04789880065789116,0.0018048520675791688,0.012745220886916219,0.004368508079259239,-0.0001925669835724705,-0.006741370738310192,-0.024148548441069395,-0.0014211086398549717,0.0009806118757418863,-0.002661432856991431,0.0004500028661992198,0.009989169284143645,-0.003856438965230058,0.056902724423800066,0.0025490004457342807,0.007837258900186356,-0.00040262828351564004,0.0017490440125371755,0.22655109798427756,-0.013615220010120799,0.0016594927436468449,0.0032878317547765015,0.007202762567732083,0.002195891975799923,0.0021038495476007947,0.03246392467934367,0.022169006104129536,-0.0014783713139086398,-0.004435281704777645,-0.00013606578834841595,0.001328757336746816,0.007607982731273951,0.07481868325321085,-0.02552219318085647,-0.026360604818922828,-0.003933134785203539,-5.10579432305147e-05,-0.0002866718642121499,0.028679335610731174,-1.4041264034650982e-13,0.019284264392536065,0.0006882918919591207,0.013285225875730142,-0.570689545450466,0.1380402184414137,0.10162425432325448,-0.07648837718075822,-0.006741370738310192,0.00762770927119062,-3.975283767555127e-13,0.00744547033467299,0.008141342520056456,0.00016385435548943537,0.0008643131764212927,-0.17981165014392342,0.018339767059938308,7.261137671923037e-05,0.010557434991619988,0.06230447701901073,0.0027149504784485193,-0.00018595188589179906,0.03843722155443566,-0.0005202268376961236,0.0025129935473633667,0.0004208005116525619,-0.0025505822388360824,0.0018234380214097031,0.06802182154662909,-0.009427716738213715,1.47248630099237e-06,-0.001096689915885617,-0.0322395331372385,0.004484911549334428,1.9999304979918644e-11,0.02478583959637012,0.07458726108812322,-0.0011317568536094447,-0.01142440155040405,-0.017729197920740597,0.014071847825534337,0.01835576065825996,0.07481868325321085,0.0037577726836391647,0.0016763827864813303,-0.0007139277476646717,-0.0008208319458023233,0.0010444440910522814,-0.005167701991576397,0.002047508368534549,-0.019014679802945314,-0.000156337381148483,0.00016532998940576462,-0.0009205764402884759,0.026302092672348055,0.012467137005355882,-0.00018595188589179906,0.0010579269105075273,-0.06596996993112914,-0.32134615526153537,0.08199505320409751,0.07503659613679281,0.0025048806068413455,0.0032377136268797293,0.06599884049414556,0.002897503837400788,-0.0009556770927112101,-0.0004997479908832093,-0.0007093304041339108,0.034468688137159406,-0.14111302674478565,0.0023655580754783443,-0.02140469654454592,0.00037959078549646514,-0.009758493964871735,-0.0009254520721229375,0.013405052572483814,-0.0014148139475001918,0.0010018924584706183,-0.0008552222176727539,0.004066670848294831,0.08576059108440676,0.000835737519093178,-0.0029738304032761844,-0.006873108729403539,-0.043935933491292,0.007837258900186356,-0.0013268444391152546,0.05721645471802818,0.04460378954137104,-0.0008552222176727539,0.020604031934452087,0.015834745461058845,0.003210733963468976,0.002195891975799923,-0.000876611184226597,-0.025401482952416368,-0.0008552222176727539,0.0016617809590356197,0.0036978152053030234,0.00019295769222951267,-0.023647872613057792,-0.010994927652599023,0.0570758863784615,0.12226554699286468,0.0006736878614753216,-0.004316582551307974,-0.0007338929779871842,-0.05527989417455552,0.0018683596280879516,0.0016446874270442317,0.0009806118757418863,-0.023469477070593582,0.09696384436150769,0.08505400714401799,0.025251025889699432,-0.013162220265075675,0.0004500028661992198,4.7337943961273315e-05,-0.0010256906738362944,0.0003589861910931661,0.01835576065825996,-0.0008441041536435495,0.06714154381060049,0.04552315746230249,-4.631608032857098e-05,-0.0015596487940643922,0.07481868325321085,0.012467137005355882,0.0016925580816140636,0.00028975621509179936,0.06599884049414556,0.001998916673152483,0.0952281021513808,0.0071793030239515505,-0.0009356364614579058,0.06390178157204107,-0.0006885976654273885,-0.000921618837218745,0.004951545451727724,0.2998650705906123,0.0010323328815496889,7.240057213540556e-05,0.010557434991619988,0.00425596971278985,0.006170424775406168,-0.009081074419606235,-0.0010227945533635083,0.0006882918919591207,0.009989169284143645,0.5445843412182356,-0.08615118438854535,-0.07343026895754959,0.0007822372229398902,-0.0027028648715144727,-0.0009259787154103531,-0.0009259787154103531,0.0973257698665812,-0.024764642415615844,-0.0005967726342136794,-0.0010274297410769898,0.0014701725051971808,0.013938774002002982,0.06236737579463295,0.00031800458705279357,-0.0004713984260032267,0.011461527010504933,-0.007400726932072368,-0.0009254520721229375,-0.005614350668947851,-0.0015414222271027986,-0.004676071920588927,-0.14544458123080165,-0.01812599455834385,0.0040355191096890725,-0.004253051542010347,0.0002396616732422333,0.010024514997987982,-0.0043144033502019894,0.005183974381967531,-0.008057658972831208,0.001678467885583569,0.0013843177717215963,-0.14935648729524445,0.0029059101723442502,0.0009685000152372282,-0.001024127279132827,0.0001430900729282293,-0.03238720020156206,-0.00016169039360156622,0.000543009593569556,0.11169477491529121,0.0024612495163372217,0.0009169997022443069,-0.0006991814996530179,0.000552725193218267,0.0029059101723442502,-0.005020115659364172,0.003523056049508684,-0.017189131900238984,0.0030712788819373727,-0.013028208302416352,0.000751781552699951,0.0030424103509701403,0.004208011006522244,-0.024712555514546986,-0.000205944536855758,-0.0034156007867931944,0.0018563686667465123,0.04552818840050772,0.0011246641412203913,0.003523056049508684,0.038768057194474084,-0.008995110065231663,1.0732750466940204,0.001267316354189992,0.009989169284143645,0.0002630237804574916,0.08455229921490046,-0.003088069271066703,0.0004208005116525619,-0.008064120886907472,-0.03109368129089444,-0.001657095472618699,0.00014945354833102443,-0.0017486909246133314,-0.004284840910041855,-0.00025249308344856046,0.0024316344560577304,0.03869136488305437,-0.0019081999219281974,0.11812436320189355,-0.019807475055132154,-0.07937498693134239,-0.0028682498321101536,0.00016440642171830112,0.007837258900186356,0.002195891975799923,0.017140540988777334,0.009495705799713037,1.1085895409079642e-05,0.21396875534961057,0.0030424103509701403,1.3882138279624392,0.023360921646837222,0.009798148256111517,0.007376347236211382,0.008896995561108779,-0.06100272606407481,1.1085895409079642e-05,-0.00023096704663809375,-0.01909563988209292,0.002687041202635174,-0.019095639882236174,0.001656353405719666,0.008246108810955657,0.012029788496172119,0.06100974282270478,-0.0034016980286377648,-0.0008031421034888806,-0.0002393677156458938,0.009589738380105387,-0.0009514330667341131,0.3302669549432664,0.007633530420431975,-0.000427597547919389,-0.00010957918637159481,0.0002603982089742109,-0.00019491858296574925,0.00014921741143402665,0.0045054597100466914,8.869296857397121e-06,0.0006882918919591207,0.014578979852330554,-0.0009556770927112101,-0.0025856085847862057,-0.0009723700548457129,-0.07793906358681328,-0.009111764231877022,-0.00791135998999026,0.0019250779418846242,-0.006741370738310192,0.00033376718715975027,-0.008165626880337087,-0.024535027648718802,-0.0007224279601558311,-0.003686573613094978,0.004442006580096514,-0.0010124503083652765,3.532247392190184e-05,0.011490056784757063,0.01510114536721204,0.005145689002545157,-0.06550213245416318,0.0018835401823391307,0.006834922136006168,-0.004234636791155256,0.0020629077767593427,-0.0016033599472247942,-0.0003545247047993704,-0.003660299487663268,0.000828027842439606,0.014339591725759838,0.00816509504908146,0.002880663938010121,0.0008032904181698332,0.012710020780301938,-0.00021074735689718553,0.060649236619253574,0.011890186786422948,0.007429454741069837,0.1236893631002053,10.115840267996337,0.004951545451727724,0.00599767102786974,0.03869136488305437,-0.004163146140558104,0.012259614520646146,-0.004028296933479205,0.009010689151586653,-0.0019122077810583408,0.003523056049508684,0.011890186786422948,0.03843722155443566,-0.0036588222108423344,0.00012430382410868928,0.0014176351158421481,-0.0019064504831505847,0.05651886820308275,0.00822647288779064,0.007964419667276417,0.007837258900186356,0.0014176351158421481,-0.02016428025762424,-0.0011652144488792115,-0.002834453133519811,0.0032878317547765015,0.018798718477621514,-0.0016033599468051392,0.04577172230761495,0.0009740438283887603,0.0018676809672062394,-0.02856937593122256,0.0066642681483638395,0.018443612739857347,0.003210733963468976,0.000778266627258736,0.011157544469544482,-0.0037413655645229986,-0.02448203476673127,-0.00010335718845208217,-0.005551405122743664,-0.00010283689640839913,0.0047853050033689285,0.005523803433724473,0.0030424103509701403,0.007607982731273951,-0.0021614803688459155,-0.0005970614691154254,-0.0010274297410769898,0.0009489279685535574,0.005145689002545157,0.0024093428365029833,0.004304711476925532,7.261137671923037e-05,0.0004315459196657795,0.00031789992043203773,0.001374472348586871,0.003044633890019648,-0.002453298145067125,-0.0046642164476758076,-0.0033244225465078603,-0.00042792295096013335,-0.0015596487940643922,-0.0010950972801005016,-0.001051046031894221,-0.02011856291950146,-2.4987269805040265e-05,-0.002085348038671368,-0.0052859782569658394,0.01625530248756236,0.10586155066685088,0.0003529832276232098,-0.0028624026303120296,0.002252557443899024,-0.0020566847095781307,-0.09608690771916935,-0.005198664450176062,0.0003815627020599197,-0.0007224279601558311,0.002583803999265862,0.0021168557680740626,0.0014330662892103544,-0.003907897209204657,-0.0005163827788738601,3.53224740279561e-05,0.0007735762322046089,0.00022916482067295753,-0.0005169576841339182,-0.000771978618399961,0.09711250374654522,-0.025025178487242866,-0.0014348590402448742,0.005236784608655884,-0.005126404019903853,-0.0045628353741169,-0.1486006411399012,0.004412654127261954,-0.03175289246814197,0.1294579672823875,0.14633331786715392,-0.005848097883684124,-0.0006310325101696618,0.0030424103509701403,0.015640485564324912,-0.07311348646974906,0.0016925580816140636,-0.018016787000259844,-0.038869566658210244,-0.03952698121086043,-0.03138217054498957,-0.014796415872592792,0.0033060575124003663,0.014339591725759838,0.0002603982089742109,0.23937456328782242,0.030192924597427666,-0.0006986934019067227,0.08270900492424832,0.09729101391770448,-0.005606752277979011,0.5373955511205656,0.00943065158381624,0.0045523484237266765,-0.011064132444938878,0.0007822372229398902,-0.0006986934019067227,0.0032377136268797293,0.0010579269105075273,0.006598943933520689,0.05041584995039349,0.00617329219310978,-1.0269415628212063e-05,0.003940593296183367,-0.0006986934019067227,0.0003426585986462832,0.003783231052046283,0.01314934797693126,0.0016925580816140636,0.04431644365511536,0.001644687437744144,0.41134823696809375,-0.0016676844466344354,0.00260133279218262,-0.006641829406768164,0.0004938598715962776,-0.020548711020350025,-7.759375267630608e-05,-0.005606752277979011,0.00843526157349225,-0.0005685242063686631,0.003977789679871641,0.038768057194474084,-0.00016304612547666004,-0.0002407902158112817,-0.0020461556803740817,0.00011170973323702598,0.0002237102414505501,0.008397172510011083,-0.0005191561102019254,-0.00032496445234732655,-0.0005370875181648233,-0.005606752277979011,0.001840199767275245,-0.042264122703958414,0.017019090141949147,-0.05260760843484611,-0.0059081437882061456,0.004051244349550997,0.017222875222828633,-0.030567237301382305,0.017236255321736147,-0.000921618837218745,0.0030424103509701403,0.10530889785252227,0.4737382128148412,0.06401803677558654,-0.0005285942888572146,0.006161221615780679,0.0008917216614050989,0.002072499733574553,0.0390382640200716,-0.00026767701202426615,0.00031800458705279357,8.20004889857051e-05,0.057349809304085925,-0.005838599614110493,0.006608183107719499,-0.019104052118661057,0.01112299635863314,-0.0025288065595934477,0.007633530420431975,-0.00034764228106148377,0.21396875534961057,-0.0026251663239990368,-0.00013583915497255428,-0.2791220925700789,-0.001133135201945595,-0.0007529863004272994,0.002897503837400788,-8.097627813700985e-05,-0.00046297781898571426,0.002897503837400788,-0.037593596323447,0.08066775527298871,-0.003856438965230058,0.026104000111430534,-0.001630090131352214,0.00809111175458388,0.09811946199527362,0.002777246037283375,0.0009740438283887603,0.3270865632978172,0.040904387026185735,-0.05408225265263205,-0.0004519048677275289,-0.01808204958194177,0.002436640617922845,-0.005372488939930353,-0.0049027928265607396,0.09463353037534936,0.0008917216614050989,0.0061348840448982945,0.0017944900433718434,-0.0005339413095331295,0.011871348553273384,-1.3928457572287836e-05,7.014535776974878e-05,-0.0008753257432557318,0.0036451337575375757,0.013938774002002982,0.015314661668207167,-0.0016129216911962335,0.0157568276942226,0.014784248650511126,0.0017490440125371755,0.014677715911303568,0.15624518543705185,0.037492483237342035,0.005956926976429066,0.00046320491962764193,-0.06814580701652391,-0.003954187429785168,-0.10075035035950941,-0.0061612156214101875,0.0025999264436326374,-0.10600495438457543,0.001560391907547771,0.0030424103509701403,-0.004249764325831702,-0.00013583915497255428,-0.008062113477215081,0.019149403053266803,-0.024267614304078013,0.0014176351158421481,0.0030424103509701403,-0.001108239972006252,0.0003359808561119426,-0.013424628280248438,-0.010962288746579852,0.010314184343291354,-0.0130419195106393,-0.005346771578822451,-0.019208146853391086,-0.001083498822201533,0.01619409872421903,-0.04862962366396957,-0.0002723163311072889,-6.254436752821658e-05,0.00010480445569200709,-0.000621156264387891,-0.01556695378703821,-0.022788561016000283,-0.10105673144501781,-0.17625744328414494,-0.0009389381376765335,-0.0007529863004272994,-0.008840646707761527,0.060637916449830596,-0.0020461556803740817,0.014578979852330554,-0.00042039345017767256,0.0001430900729282293,-0.012264879788588723,-0.07282696693311226,0.0003460871793839083,-0.002774929421188215,0.0010222475171303134,0.1113192935386992,-0.0058668999377905675,0.0004181345806193395,-0.013411730975836297,-0.0007012074668431671,-0.0025950311756187993,0.0025490004457342807,0.003552872628467406,-0.001051046031956341,-0.04127767649504934,0.00037959078549646514,0.06765729369798451,0.004051244349550997,0.1578862059233502,0.06013687228547356,0.01676041599282498,-0.002774449781308274,0.001371723439346706,0.026984549643772726,0.0037412031807926376,-0.19786255021563157,-0.0006018816631977671,-0.0006831515133969864,-0.000431952944396999,-0.000431952944396999,-0.01870361666903948,-0.021984144695163053,-8.692514454129786e-05,0.0064436454135625015,-0.0015596487940643922,0.0011236647514015906,-0.005881937653698396,0.0011236647514455778,-0.002056646368379917,0.00540602925883229,-0.004316582551307974,0.004945096530673755,0.0006882918919591207,0.007275343960895942,-0.005020115659364172,0.009592727084206328,0.0053898775999806844,0.0021038495476007947,-0.006133378639459114,0.0033060575124003663,0.00822647288779064,0.0013605034871191138,-0.011599571079759603,-0.0013936612809562529,-0.07169463741742234,-0.024128140221354975,0.7010384352364647,0.006433072991299615,-0.0005169576841339182,0.014896154630826493,-0.07479502145822325,0.09811946199527362,0.004951545451727724,-0.0019657231198068658,-0.008092964967903977,0.002431597763553967,0.0007784887107961893,0.004110416145293892,0.00268810679884991,0.0049552929600086846,0.007090118425626953,0.006721193681722085,-0.020548711020350025,0.00028861306931687674,-0.000521053971277978,0.0017291928011604583,-0.0009406308480001073,0.000751781552699951,0.0032878317547765015,-0.0017502136177824036,-0.02016428025762424,-0.004763295958857003,0.01426504099742703,0.0023655580754783443,0.002195891975799923,4.800396540706773e-05,-0.001047420292780463,0.001371723439346706,-0.0002886860718291405,0.007607982731273951,-0.0034855902074282154,0.00031800458705279357,0.062486077792414205,0.06558438269762625,0.0025501329455605583,0.004326325299416168,0.012467137005355882,0.0010766052701307997,0.013548343619446141,0.9466264710272694,0.0038262046085916095,0.00042571382912509853,0.0021171851734016157,-0.0020566847095781307,0.0014920400806662831,0.011073094362837899,0.0015875085370347052,-0.0001363486692073868,-0.0006946999206706673,-6.25443673627012e-05,-0.02934259979161351,0.000739942221081015,0.019564894736899704,0.15528974395788345,0.005149873508729926,-0.0006613932716925456,-0.0035128478377812015,0.0030360892616386665,0.0017958368101149956,0.003503098349346342,-0.004435281704777645,0.4883639841842644,0.2365783292675757,0.00031800458705279357,-0.07029319789451038,-0.0011905366545280176,0.0019250779418846242,0.013954948494951634,0.00011170973323702598,0.0045523484237266765,-0.01921859076507268,-0.11868476265830208,3.7552062977111965e-05,-0.043208118298767334,-0.0012711100002636053,8.528434024548827e-05,-0.00010312008818592909,0.7711217081700181,0.0025501329455605583,0.008454851264173259,0.09595752886424996,0.42184957330789213,0.016026857602838375,-0.00402266257461642,-0.0018774117821444662,-0.00010332287041620466,-0.00035518062784138763,-0.008585249886262148,0.00015554715012227016,0.0015993522532517048,0.062098443953503925,0.00017777561782740647,0.12832047119196674,0.002195891975799923,-0.0009613212861462255,-0.01085534065530751,-0.0006373584939761637,-0.0030366099662041206,-0.02214240095818274,1.1020469227726078e-05,0.0812201902607173,-0.014328753109677676,-0.0006377830842447872,0.0008572876898389992,0.06271559910677096,-0.0012898034147232295,-0.0009544564298063766,0.0016925580816140636,0.0006726731971688064,0.00045196149214754447,0.0002379730739890113,0.00013546173916027357,-0.000440970776385447,-1.0401509947601992e-05,-0.0017159862762528007,-0.0041650503715741005,0.003940593296183367,-9.935840140015245e-05,-0.0008411983096505853,0.15511377226067716,0.07135877536994756,-0.008827438042056577,0.0009999540366286207,-0.03531074591840649,-0.026534175063247237,0.0002809855093218815,-0.0028303179510463525,0.0021064734421123712,0.00042077275711055814,0.0005854467961858676,0.003682689973858978,0.0071793030239515505,-0.04353692310545572,-0.14206744503018287,-0.011596290692512043,0.004066670848294831,0.012647379940205941,0.00999596136414893,-0.0007224279601558311,0.0017190536438089032,0.00010470415276045302,-0.0007224279601558311,-0.0014357825021962948,0.0013758876662041844,0.0003088993696775626,-0.04615996640623689,-0.0014357825021962948,0.05401447581218798,0.01669058897351819,0.00033159043480262266,0.0032878317547765015,-0.017729197920740597,0.1018170566328221,0.20404522288037366,0.0032377136268797293,0.001840199767275245,-0.013332472987693056,-0.009877944478404035,-0.001024127279132827,0.0027432735461513113,0.0019322594153476497,0.00617329219310978,0.00865280751472124,0.0016617809590356197,0.025785564940178713,-0.00045147357960209476,-0.00015690048449531156,0.001465862478599771,-0.002100903929393673,-0.0018451250504702271,0.0001982125390821643,-0.0009514330667341131,0.0017399073780725615,0.007681796476976005,-0.0009426427785865942,0.0015993522532517048,0.0019250779418846242,0.06083220344747371,0.004723022043007952,-0.0034156007867931944,0.24523844915391652,0.0005473712302124858,0.07762042467626687,0.004723022043007952,0.13980259767042158,-0.0006613932716925456,-9.932621614845866e-05,0.06319878486445145,-0.0006364321154378831,-0.01081374713922487,0.0044293448531661905,0.07784491847495978,-2.4987269805040265e-05,-0.0006373584939761637,-9.932621614845866e-05,1.1085895409079642e-05,-0.026864657124141416,-5.564319877178609e-07,-0.0010769481091066815,-0.018994733883688244,-0.0003545247047993704,0.0013843177717215963,0.10897711404496302,-0.0021614803688459155,0.0009669319509097799,0.0025999264436326374,0.004976889625114332,0.10562334576689372,0.0008386192759260644,2.077487070427719e-05,-0.004971413755178549,-0.1496991637339091,-0.00023668386354567045,-0.1353538299096953,-0.000281353803016712,0.01021120938341959,7.240057213540556e-05,0.014784248650511126,-0.0002886860718291405,0.009511169304950204,0.06369997856388507,0.0026088609649899427,-0.09082390654592236,0.0027432735461513113,-0.0075916429377937905,-0.00862447942450441,0.008168190872480684,-0.0002177418306317277,-0.02586771776982652,-0.004048870270312887,-0.0016224117425399478,0.00425596971278985,0.007837258900186356,0.006091921941540245,-0.03158806788363459,-0.44109378067073646,-0.017767775703886553,0.008863970646355105,0.003940593296183367,0.023161261960060436,-0.00021063905999198928,0.001374472348586871,0.4234096391749766,-0.0009356364614579058,0.0007939209776596569,-0.0002473445694987852,-0.0008765360735510297,-0.00010335718845208217,0.09811946199527362,0.007837258900186356,0.002047508368534549,0.002195891975799923,-0.048610442318772734,-0.08978490427813765,-0.004439442067578614,0.056642547298582736,-0.0001538696258326165,0.0011364734593110382,0.006206767451477286,-0.007356632510862909,0.006091921941540245,0.007607982731273951,-0.0003162725320730311,0.09811946199527362,0.008982446851235398,0.00010470415276045302,-7.223681461811455e-05,0.004951545451727724,-0.07535345500202707,-0.00869961028953619,-0.002086243620443044,0.06351402667799327,-0.0001353728956769824,0.0321583728239061,-0.009253151371965371,-0.0013333683119223282,0.001170038198148313,0.005163088786707858,-0.1912651034288249,-0.0006589852896927787,0.0006396904146545606,-0.001806046037124949,-0.02054764481514022,-0.36359518321950995,0.17442823877621666,0.010566097719947565,-0.017729197920740597,-0.0036659653849270865,-0.0020461556803740817,-0.005082983845722144,-0.07260705388367245,-0.05683717775475178,-0.0006986934019067227,0.006687147589455385,-0.00018748119111399223,-0.005130433672487394,0.002897503837400788,0.006091921941540245,0.00010480445569200709,0.02170939560587585,0.0002088452846668488,-0.00024150653822239054,-0.011797384558324775,0.000778266627258736,0.0002545108656804044,-0.00024150653822239054,0.07219780017330063,0.0026830233486447577,0.003940593296183367,0.0025490004457342807,0.008770974112984104,0.0007742660771864227,0.004628723316467497,0.001374472348586871,-0.00045229518239239976,-0.002930527607386325,-0.00010713840260871465,-0.015190745323987447,-0.00017403616745362047,-0.00017677921172983647,-0.041689258205237195,0.0049552929600086846,-9.666013397937031e-05,-0.015449106997504623,0.21720356442258176,0.007722185547927053,-0.01796431879977415,0.0013089212014176649,0.006091921941540245,-0.0038293174660761317,1.9999304979918644e-11,-0.024098949426475565,0.01179371729540478,-0.00045850145573107706,-0.04351654639669781,-0.020679777952867587,0.005523803433724473,0.0006178439333790966,0.029844383496444266,-0.05214619968650887,0.009626291927422577,0.0670209793527578,0.017764819869670295,0.0009537294211863751,-0.0013581559937845035,0.0010444440910522814,-0.0008765360735510297,-0.01962475006764155,-0.0012325834808062472,-0.002094111337897641,0.0003815627015434309,0.002539277876664204,-0.0013475961673867218,0.0049700035709753405,0.06962014954351614,0.1068152970389501,-0.025710125568120697,-0.053090157153028235,0.005935251082930515,-0.0007224279601558311,-0.0010590137605507206,0.0033955152675033077,0.0014176351158421481,0.00043153804247330474,0.009612884432131558,-0.021250270700155467,0.0030424103509701403,0.0002378603926160559,0.06599884049414556,0.00041474241116870527,0.0005328444864294361,-0.0006054662044049228,0.0009685000152372282,-0.02024983513347593,0.007837258900186356,0.0071793030239515505,0.002195891975799923,0.003986065440712709,0.004951545451727724,0.0010444440910522814,0.005131195863202961,0.011157544469544482,0.01741401944932735,0.058062250343477104,-0.04524617083489507,0.000827278842218299,0.0007964796068450167,0.017123641866611316,0.007837258900186356,-5.686298272870351e-06,0.0005693073078961755,0.002047508368534549,-0.0008765360735510297,0.0022817954308597017,-0.016817935470189532,-0.00016169039360156622,-0.004817133666076486,-0.0331478771967481,0.3097344346127443,0.10466279933194386,0.09729101391770448,0.000751781552699951,0.002047508368534549,-2.3380572023791995e-05,0.0008572876898389992,0.00014921741143402665,0.012584533456467968,0.0024612495163372217,-0.10581253091284051,-0.020071834328967204,-9.932621614845866e-05,0.0022817954308597017,-0.025473509699394496,0.0044472087184964145,0.0018219211512605178,0.006433072991299615,0.0034689192301882864,0.0025490004457342807,-0.00019121300263466687,0.06216617434093891,0.010812888415614749,0.08992874817512456,7.240057213540556e-05,-0.0033405027136241983,0.007233227431491215,0.005905161279636757,0.011709860640348626,-0.04314809807786578,0.0019250779418846242,0.007837258900186356,0.0003677776053736142,0.06034181541732466,0.0006217272767103655,0.0012492655115810248,-0.00016078212892647783,0.002252557443899024,0.007607982731273951,0.11726303056586301,0.06381208767736168,0.014578979852330554,-0.005606752277979011,-0.00016169039360156622,0.0010444440910522814,0.0018148923433714459,-0.00030467916437081603,0.0025501329455605583,-0.00012169112341311296,0.03280806984401217,-0.00155730033651101,-0.001036954352909029,0.06216617434093891,0.0019220556765736163,0.0016924769356396645,0.007607982731273951,0.0017788067766312643,-0.00010312008818592909,-0.019046884837435857,0.0012977666722843765,0.002431597763553967,0.06727789715671863,0.0017788067766312643,-3.0306883457969014,-0.038431409185210375,-0.015961197866834954,0.0009685000152372282,0.017149079449984454,0.0025490004457342807,0.0044710561223078975,0.00308869880766409,0.00477554448176247,0.003523056049508684,0.0007897838086848747,0.003047670831397187,0.004809711258874232,-0.0009374238221654066,-0.0391104695291362,-0.0009888142796435843,0.01835576065825996,0.0032878317547765015,0.0017392109428141088,-0.00915231890140753,0.00027406259046485046,0.004368508079259239,0.00919654212617365,-0.0018058771187947835,0.009010689151586653,0.00045196149226686813,0.004918717190069783,0.002769852109519345,-0.01871768686132126,-0.0036568825956751665,-7.539030823411409e-05,-2.8824837658419652e-05,0.002648154313915664,0.00840146415454992,0.034422798034979836,-0.025247720580881667,-0.00012783841883223565,-0.018552107933597912,0.0021038495476007947,0.0003127158413866688,0.00741536994374953,0.0071793030239515505,0.02723997060774264,0.01877688974566813,-0.018990200878907647,0.2293448283232735,0.01100183400110436,0.012846102679600511,0.021003468259365048,0.21964980869819065,5.2604804270467724e-06,0.014339591725759838,-0.0011995668392736267,0.004387077141524425,0.01510114536721204,0.010270914090959243,-0.0020386287199673,0.01673386944932866,0.06259531964195444,0.005859119622488452,0.010497583656890387,-0.002886919034215085,-1.0269415628212063e-05,0.03843722155443566,0.0010444440910522814,0.0033781018036683295,-0.00013008171820882262,0.0007128513554356478,0.1380512636807178,-2.1399633978173854e-11,0.00041276032099997625,-0.019714874204208477,0.007445172818586412,0.016729537913029606,0.00032014429184865046,0.0041886098089486965,-0.0035210012827360656,-0.0021783056659590975,-0.0011477474569457095,0.0036340789625109783,0.0032878317547765015,-0.005848097883684124,-0.00216475548772833,-0.0020386287199673,0.1503319464659036,0.03710896159791146,0.1582862481715022,0.009144768437087867,0.09732012316907229,8.528434024548827e-05,-0.009819972229266043,-2.419793350912334e-05,0.001650628847097771,-0.08737741038518004,-0.00036608685713486493,0.0025464962760435887,0.00429745627149462,0.060470468400906315,0.4938312588169892,0.009495705799713037,0.04812246197484895,0.040152374966195684,-0.009629290488504695,-0.0003662718461263074,-0.001976506894242339,0.0009391703313058027,-0.002089555873059664,9.743384947049315e-05,-0.00048202241595812463,-0.0002626577779622591,0.0009183314773265772,0.006924623418510551,-0.0019789313950765225,-1.0269415628212063e-05,0.0009669319509097799,0.00829219755116582,-0.01897406458737111,-0.02754764335309205,-0.002834453133519811,0.0019250779418846242,0.003464666141381242,0.0008084959606708116,-0.006093936644227448,-0.004337998550836814,0.0011246641412203913,0.009010689151586653,-0.00016011056677173234,0.2514203644723154,-0.0003335799199519057,-0.005116015836088321,-0.42290032880558015,-0.058971352963431214,0.0005854467961858676,0.00042400134063029184,-0.0053684164739153176,-0.002464072340811488,-0.012014780083562411,-0.004624875111667788,-0.0005754546873750653,-0.02818537637017081,-0.000240167511493995,-0.0010445898973704048,-0.0005171653464151032,0.01147943461898266,0.00319195670693402,0.0016446874270442317,0.0008437935662375326,-0.003729488502692746,-0.00030467916437081603,0.012639087191336268,0.004945096530673755,-0.025277320959978887,-0.0005022611603865464,-0.02026031951891183,-0.04242939631178886,-0.12904112882062102,0.060381285003129045,0.010001031039137173,-7.223681461811455e-05,0.013938774002002982,0.005145689002545157,7.240057213540556e-05,0.007828365910369926,-0.0009345540187126657,0.0025773087713499006,-0.0006117774841899944,-0.003660299487663268,0.0018683596280879516,-0.00018824106547713922,0.004918717190069783,0.013573349317561552,-0.000621156264387891,-0.0014753158524075105,-0.00015734771751557832,0.24261244860473308,0.060637916449830596,0.0022817954308597017,-0.0009245819968897553,-0.023112000306236346,0.00037360065782450193,-0.000921618837218745,-0.00941854313160751,-0.000427597547919389,0.012376383665946277,-0.14168434993921433,0.014834290158957047,0.001390891002741154,-0.019104052118661057,-0.0019122077810583408,0.0021038495476007947,-0.0016532478790568113,0.0632377723556928,0.060637916449830596,0.0036340789625109783,0.019284264392536065,-4.473238643364225e-05,0.004066670848294831,0.025884374680610136,-0.0025950311756187993,-0.00026998690472687875,0.010314179367423683,0.0015528798527522391,0.015245545676168749,0.0006702433296798427,-0.0009066345578938248,-0.06410655503567966,-0.00015734771751557832,-0.011561817850488073,0.0025490004457342807,0.0007855280433879787,0.007837258900186356,-0.0022017116903666257,-0.02016428025762424,-2.817168789861086e-06,-0.00013008171820882262,0.002029532484777114,-0.00028376028438611544,-7.760824123766738e-05,0.04201974777282172,-7.760824123766738e-05,0.06581121808622713,0.07374876606799699,-1.0717701244756904e-05,-0.000682146152046183,0.004304711476925532,0.038768057194474084,0.00412906367876361,0.4368531195102419,-0.004369229635949614,0.003910837134670779,0.005221133697254507,0.07295889187871449,0.00022686819452506324,0.004239970665514399,0.019685208094419007,0.0066642681483638395,-0.0032429305699024987,-0.0011416991257457959,0.06777609891697534,-0.0030962046642469413,-0.018793267415959887,0.0010579269105075273,-0.08474368053470371,-0.0004232890534587765,0.001465004526061304,0.002673783025227411,0.0060061933990510075,-0.00531491526912792,0.0049054211986127695,0.0685104311016363,7.014535776974878e-05,-0.0054601469841438445,0.006805714829053798,-0.0008753257432557318,-0.0007441698839896,-0.00012783841883223565,0.08901699198192602,-0.0016279786322344158,8.83111749358802e-05,0.0025999264436326374,-0.0008208319458023233,0.00260133279218262,-0.0006885976654273885,0.07942321073011069,0.0012492655115810248,-0.030814960965464024,0.018087019451251303,-0.005968593963716897,-0.011072128381375956,-0.00040262828351564004,0.003398089655249774,0.0009399773015800453,-0.0034690286783869147,0.04552315746230249,0.0016925580816140636,-0.0006009976116053729,-0.01583165658951822,0.002648154313915664,-0.0020386287199673,0.5523908123964412,0.005145689002545157,0.010147892932729103,0.014784248650511126,-0.0010445898973704048,0.0012372498856398635,-0.007323611223726732,-0.04078868003732124,-0.003513311413757136,0.013475504459110959,0.004628723316467497,0.0013605034871191138,0.0031125421127451694,0.012580844999742637,0.013770658638660744,0.0006465040123852721,0.004628723316467497,-0.0017159862762528007,-0.025277320959978887,-0.0012591248597722264,0.00260133279218262,0.0009391703313058027,0.005163088786707858,-2.4987269805040265e-05,0.0025773087713499006,-4.4769870930403294e-05,0.0006178439333790966,0.0009537294211863751,-0.0004505072454846824,-0.00046297781898571426,-0.0009259787154103531,0.06291727304687911,0.007616423660818455,0.0005854467961858676,0.0007904061425086174,0.0006702433296798427,0.07181928112484762,-0.00040262828351564004,0.06218695934586386,0.007607982731273951,-0.003142325827317519,-0.0461232398219468,-0.0005111605600183766,0.0002590615388759777,-0.004036301976218626,-0.014316856651096919,0.23387240673725343,-0.0009675746048293099,0.24740226826381082,-0.007797694818605433,0.01053259437712399,0.02728555063871832,0.014784248650511126,9.743384947049315e-05,-0.01698233535610331,-0.002410226357461556,0.0006415047846000528,0.0017692986173702494,0.01835576065825996,-0.006535064137147326,-0.06386729371771988,0.0066642681483638395,-0.0033452711478495767,0.008061039529305094,-0.0007110633144573891,0.0005854467961858676,-0.023801939392557946,0.0029143529761499597,-0.004759948035337211,-0.0013936612809562529,-0.0011258602978374372,-0.00155730033651101,0.0030424103509701403,-0.06526781619703947,-0.0021228848556737365,-0.00016078212882330255,0.0018950405255534065,2.6165505734528118e-06,-0.0017159862762528007,0.038768057194474084,-0.01718643191894691,0.0017190536438089032,0.0003529832276232098,0.07589962568014921,0.1163790071193615,-0.023427791480889647,0.004128803254466886,0.029107923570553022,0.0014176351158421481,-5.930769498341794e-06,0.03486701116715027,-0.005640925152445675,-0.0022152638697669493,-0.0020747370550410907,-0.000704125187941763,0.0011951900036448067,0.0003426585986462832,-0.0059081437882061456,0.003523056049508684,0.016948558745782022,0.0011523159710377516,0.0013843177717215963,-0.0011507138233362397,0.0002396616732422333,0.0027631363970331466,0.03860343355998552,-0.00615277704805494,0.000580046305325661,0.16427695016708532,0.006584518101815154,-0.02016428025762424,-0.00020858548382550135,0.00016532998940576462,-0.001133135201945595,0.0524444912655395,0.9266992738013394,0.002776467619415112,0.013760701437667873,0.006584518101815154,0.0014176351158421481,0.0005854467961858676,-0.00291887508163971,-0.02786627627193681,-0.006622530933084662,7.014535776974878e-05,-0.0025707209793523213,0.0019220556765736163,-0.0010286045969754181,0.024343295102799156,0.0157568276942226,0.007828365910369926,0.21715653207404,0.00812985183719068,0.03604946534651908,0.007007450297994872,-0.001539139690648377,-0.024263144472228923,0.0011997053549100364,0.001602667622811521,-0.0017486909246133314,0.0019239842901320255,-0.006123669552803567,1.0785290058461985,0.0044401567535754536,0.0032878317547765015,-0.016968131376072115,-0.009143998832927646,-0.002085348038671368,-4.092181564655213e-05,0.005553419306977465,0.0008384756747002665,0.006159196688927738,0.011890186786422948,0.006396152171873673,0.00617329219310978,0.0032878317547765015],\"yaxis\":\"y\",\"type\":\"scattergl\",\"textposition\":\"top center\"}],                        {\"template\":{\"data\":{\"histogram2dcontour\":[{\"type\":\"histogram2dcontour\",\"colorbar\":{\"outlinewidth\":0,\"ticks\":\"\"},\"colorscale\":[[0.0,\"#0d0887\"],[0.1111111111111111,\"#46039f\"],[0.2222222222222222,\"#7201a8\"],[0.3333333333333333,\"#9c179e\"],[0.4444444444444444,\"#bd3786\"],[0.5555555555555556,\"#d8576b\"],[0.6666666666666666,\"#ed7953\"],[0.7777777777777778,\"#fb9f3a\"],[0.8888888888888888,\"#fdca26\"],[1.0,\"#f0f921\"]]}],\"choropleth\":[{\"type\":\"choropleth\",\"colorbar\":{\"outlinewidth\":0,\"ticks\":\"\"}}],\"histogram2d\":[{\"type\":\"histogram2d\",\"colorbar\":{\"outlinewidth\":0,\"ticks\":\"\"},\"colorscale\":[[0.0,\"#0d0887\"],[0.1111111111111111,\"#46039f\"],[0.2222222222222222,\"#7201a8\"],[0.3333333333333333,\"#9c179e\"],[0.4444444444444444,\"#bd3786\"],[0.5555555555555556,\"#d8576b\"],[0.6666666666666666,\"#ed7953\"],[0.7777777777777778,\"#fb9f3a\"],[0.8888888888888888,\"#fdca26\"],[1.0,\"#f0f921\"]]}],\"heatmap\":[{\"type\":\"heatmap\",\"colorbar\":{\"outlinewidth\":0,\"ticks\":\"\"},\"colorscale\":[[0.0,\"#0d0887\"],[0.1111111111111111,\"#46039f\"],[0.2222222222222222,\"#7201a8\"],[0.3333333333333333,\"#9c179e\"],[0.4444444444444444,\"#bd3786\"],[0.5555555555555556,\"#d8576b\"],[0.6666666666666666,\"#ed7953\"],[0.7777777777777778,\"#fb9f3a\"],[0.8888888888888888,\"#fdca26\"],[1.0,\"#f0f921\"]]}],\"heatmapgl\":[{\"type\":\"heatmapgl\",\"colorbar\":{\"outlinewidth\":0,\"ticks\":\"\"},\"colorscale\":[[0.0,\"#0d0887\"],[0.1111111111111111,\"#46039f\"],[0.2222222222222222,\"#7201a8\"],[0.3333333333333333,\"#9c179e\"],[0.4444444444444444,\"#bd3786\"],[0.5555555555555556,\"#d8576b\"],[0.6666666666666666,\"#ed7953\"],[0.7777777777777778,\"#fb9f3a\"],[0.8888888888888888,\"#fdca26\"],[1.0,\"#f0f921\"]]}],\"contourcarpet\":[{\"type\":\"contourcarpet\",\"colorbar\":{\"outlinewidth\":0,\"ticks\":\"\"}}],\"contour\":[{\"type\":\"contour\",\"colorbar\":{\"outlinewidth\":0,\"ticks\":\"\"},\"colorscale\":[[0.0,\"#0d0887\"],[0.1111111111111111,\"#46039f\"],[0.2222222222222222,\"#7201a8\"],[0.3333333333333333,\"#9c179e\"],[0.4444444444444444,\"#bd3786\"],[0.5555555555555556,\"#d8576b\"],[0.6666666666666666,\"#ed7953\"],[0.7777777777777778,\"#fb9f3a\"],[0.8888888888888888,\"#fdca26\"],[1.0,\"#f0f921\"]]}],\"surface\":[{\"type\":\"surface\",\"colorbar\":{\"outlinewidth\":0,\"ticks\":\"\"},\"colorscale\":[[0.0,\"#0d0887\"],[0.1111111111111111,\"#46039f\"],[0.2222222222222222,\"#7201a8\"],[0.3333333333333333,\"#9c179e\"],[0.4444444444444444,\"#bd3786\"],[0.5555555555555556,\"#d8576b\"],[0.6666666666666666,\"#ed7953\"],[0.7777777777777778,\"#fb9f3a\"],[0.8888888888888888,\"#fdca26\"],[1.0,\"#f0f921\"]]}],\"mesh3d\":[{\"type\":\"mesh3d\",\"colorbar\":{\"outlinewidth\":0,\"ticks\":\"\"}}],\"scatter\":[{\"fillpattern\":{\"fillmode\":\"overlay\",\"size\":10,\"solidity\":0.2},\"type\":\"scatter\"}],\"parcoords\":[{\"type\":\"parcoords\",\"line\":{\"colorbar\":{\"outlinewidth\":0,\"ticks\":\"\"}}}],\"scatterpolargl\":[{\"type\":\"scatterpolargl\",\"marker\":{\"colorbar\":{\"outlinewidth\":0,\"ticks\":\"\"}}}],\"bar\":[{\"error_x\":{\"color\":\"#2a3f5f\"},\"error_y\":{\"color\":\"#2a3f5f\"},\"marker\":{\"line\":{\"color\":\"#E5ECF6\",\"width\":0.5},\"pattern\":{\"fillmode\":\"overlay\",\"size\":10,\"solidity\":0.2}},\"type\":\"bar\"}],\"scattergeo\":[{\"type\":\"scattergeo\",\"marker\":{\"colorbar\":{\"outlinewidth\":0,\"ticks\":\"\"}}}],\"scatterpolar\":[{\"type\":\"scatterpolar\",\"marker\":{\"colorbar\":{\"outlinewidth\":0,\"ticks\":\"\"}}}],\"histogram\":[{\"marker\":{\"pattern\":{\"fillmode\":\"overlay\",\"size\":10,\"solidity\":0.2}},\"type\":\"histogram\"}],\"scattergl\":[{\"type\":\"scattergl\",\"marker\":{\"colorbar\":{\"outlinewidth\":0,\"ticks\":\"\"}}}],\"scatter3d\":[{\"type\":\"scatter3d\",\"line\":{\"colorbar\":{\"outlinewidth\":0,\"ticks\":\"\"}},\"marker\":{\"colorbar\":{\"outlinewidth\":0,\"ticks\":\"\"}}}],\"scattermapbox\":[{\"type\":\"scattermapbox\",\"marker\":{\"colorbar\":{\"outlinewidth\":0,\"ticks\":\"\"}}}],\"scatterternary\":[{\"type\":\"scatterternary\",\"marker\":{\"colorbar\":{\"outlinewidth\":0,\"ticks\":\"\"}}}],\"scattercarpet\":[{\"type\":\"scattercarpet\",\"marker\":{\"colorbar\":{\"outlinewidth\":0,\"ticks\":\"\"}}}],\"carpet\":[{\"aaxis\":{\"endlinecolor\":\"#2a3f5f\",\"gridcolor\":\"white\",\"linecolor\":\"white\",\"minorgridcolor\":\"white\",\"startlinecolor\":\"#2a3f5f\"},\"baxis\":{\"endlinecolor\":\"#2a3f5f\",\"gridcolor\":\"white\",\"linecolor\":\"white\",\"minorgridcolor\":\"white\",\"startlinecolor\":\"#2a3f5f\"},\"type\":\"carpet\"}],\"table\":[{\"cells\":{\"fill\":{\"color\":\"#EBF0F8\"},\"line\":{\"color\":\"white\"}},\"header\":{\"fill\":{\"color\":\"#C8D4E3\"},\"line\":{\"color\":\"white\"}},\"type\":\"table\"}],\"barpolar\":[{\"marker\":{\"line\":{\"color\":\"#E5ECF6\",\"width\":0.5},\"pattern\":{\"fillmode\":\"overlay\",\"size\":10,\"solidity\":0.2}},\"type\":\"barpolar\"}],\"pie\":[{\"automargin\":true,\"type\":\"pie\"}]},\"layout\":{\"autotypenumbers\":\"strict\",\"colorway\":[\"#636efa\",\"#EF553B\",\"#00cc96\",\"#ab63fa\",\"#FFA15A\",\"#19d3f3\",\"#FF6692\",\"#B6E880\",\"#FF97FF\",\"#FECB52\"],\"font\":{\"color\":\"#2a3f5f\"},\"hovermode\":\"closest\",\"hoverlabel\":{\"align\":\"left\"},\"paper_bgcolor\":\"white\",\"plot_bgcolor\":\"#E5ECF6\",\"polar\":{\"bgcolor\":\"#E5ECF6\",\"angularaxis\":{\"gridcolor\":\"white\",\"linecolor\":\"white\",\"ticks\":\"\"},\"radialaxis\":{\"gridcolor\":\"white\",\"linecolor\":\"white\",\"ticks\":\"\"}},\"ternary\":{\"bgcolor\":\"#E5ECF6\",\"aaxis\":{\"gridcolor\":\"white\",\"linecolor\":\"white\",\"ticks\":\"\"},\"baxis\":{\"gridcolor\":\"white\",\"linecolor\":\"white\",\"ticks\":\"\"},\"caxis\":{\"gridcolor\":\"white\",\"linecolor\":\"white\",\"ticks\":\"\"}},\"coloraxis\":{\"colorbar\":{\"outlinewidth\":0,\"ticks\":\"\"}},\"colorscale\":{\"sequential\":[[0.0,\"#0d0887\"],[0.1111111111111111,\"#46039f\"],[0.2222222222222222,\"#7201a8\"],[0.3333333333333333,\"#9c179e\"],[0.4444444444444444,\"#bd3786\"],[0.5555555555555556,\"#d8576b\"],[0.6666666666666666,\"#ed7953\"],[0.7777777777777778,\"#fb9f3a\"],[0.8888888888888888,\"#fdca26\"],[1.0,\"#f0f921\"]],\"sequentialminus\":[[0.0,\"#0d0887\"],[0.1111111111111111,\"#46039f\"],[0.2222222222222222,\"#7201a8\"],[0.3333333333333333,\"#9c179e\"],[0.4444444444444444,\"#bd3786\"],[0.5555555555555556,\"#d8576b\"],[0.6666666666666666,\"#ed7953\"],[0.7777777777777778,\"#fb9f3a\"],[0.8888888888888888,\"#fdca26\"],[1.0,\"#f0f921\"]],\"diverging\":[[0,\"#8e0152\"],[0.1,\"#c51b7d\"],[0.2,\"#de77ae\"],[0.3,\"#f1b6da\"],[0.4,\"#fde0ef\"],[0.5,\"#f7f7f7\"],[0.6,\"#e6f5d0\"],[0.7,\"#b8e186\"],[0.8,\"#7fbc41\"],[0.9,\"#4d9221\"],[1,\"#276419\"]]},\"xaxis\":{\"gridcolor\":\"white\",\"linecolor\":\"white\",\"ticks\":\"\",\"title\":{\"standoff\":15},\"zerolinecolor\":\"white\",\"automargin\":true,\"zerolinewidth\":2},\"yaxis\":{\"gridcolor\":\"white\",\"linecolor\":\"white\",\"ticks\":\"\",\"title\":{\"standoff\":15},\"zerolinecolor\":\"white\",\"automargin\":true,\"zerolinewidth\":2},\"scene\":{\"xaxis\":{\"backgroundcolor\":\"#E5ECF6\",\"gridcolor\":\"white\",\"linecolor\":\"white\",\"showbackground\":true,\"ticks\":\"\",\"zerolinecolor\":\"white\",\"gridwidth\":2},\"yaxis\":{\"backgroundcolor\":\"#E5ECF6\",\"gridcolor\":\"white\",\"linecolor\":\"white\",\"showbackground\":true,\"ticks\":\"\",\"zerolinecolor\":\"white\",\"gridwidth\":2},\"zaxis\":{\"backgroundcolor\":\"#E5ECF6\",\"gridcolor\":\"white\",\"linecolor\":\"white\",\"showbackground\":true,\"ticks\":\"\",\"zerolinecolor\":\"white\",\"gridwidth\":2}},\"shapedefaults\":{\"line\":{\"color\":\"#2a3f5f\"}},\"annotationdefaults\":{\"arrowcolor\":\"#2a3f5f\",\"arrowhead\":0,\"arrowwidth\":1},\"geo\":{\"bgcolor\":\"white\",\"landcolor\":\"#E5ECF6\",\"subunitcolor\":\"white\",\"showland\":true,\"showlakes\":true,\"lakecolor\":\"white\"},\"title\":{\"x\":0.05},\"mapbox\":{\"style\":\"light\"}}},\"xaxis\":{\"anchor\":\"y\",\"domain\":[0.0,1.0],\"title\":{\"text\":\"x\"}},\"yaxis\":{\"anchor\":\"x\",\"domain\":[0.0,1.0],\"title\":{\"text\":\"y\"}},\"legend\":{\"tracegroupgap\":0},\"margin\":{\"t\":60}},                        {\"responsive\": true}                    ).then(function(){\n",
              "                            \n",
              "var gd = document.getElementById('49a2b723-dd08-4048-9d0b-699d880b265c');\n",
              "var x = new MutationObserver(function (mutations, observer) {{\n",
              "        var display = window.getComputedStyle(gd).display;\n",
              "        if (!display || display === 'none') {{\n",
              "            console.log([gd, 'removed!']);\n",
              "            Plotly.purge(gd);\n",
              "            observer.disconnect();\n",
              "        }}\n",
              "}});\n",
              "\n",
              "// Listen for the removal of the full notebook cells\n",
              "var notebookContainer = gd.closest('#notebook-container');\n",
              "if (notebookContainer) {{\n",
              "    x.observe(notebookContainer, {childList: true});\n",
              "}}\n",
              "\n",
              "// Listen for the clearing of the current output cell\n",
              "var outputEl = gd.closest('.output');\n",
              "if (outputEl) {{\n",
              "    x.observe(outputEl, {childList: true});\n",
              "}}\n",
              "\n",
              "                        })                };                            </script>        </div>\n",
              "</body>\n",
              "</html>"
            ]
          },
          "metadata": {}
        }
      ]
    },
    {
      "cell_type": "code",
      "source": [],
      "metadata": {
        "id": "U6vI_QpB4Bpc"
      },
      "execution_count": null,
      "outputs": []
    }
  ]
}