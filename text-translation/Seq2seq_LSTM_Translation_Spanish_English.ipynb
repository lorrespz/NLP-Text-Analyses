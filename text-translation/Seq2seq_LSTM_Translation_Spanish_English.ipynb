{
 "cells": [
  {
   "cell_type": "markdown",
   "id": "84e522e8",
   "metadata": {},
   "source": [
    "# Seq2seq model: Spanish-English Translation\n",
    "\n",
    "This notebook is from Lazy Programmer's NLP3 course (Advanced NLP). In this notebook, a Seq2seq model consisting of an encoder and a decoder (both LSTMs) were trained on the spa-eng.text dataset to do English-Spanish translation"
   ]
  },
  {
   "cell_type": "code",
   "execution_count": 1,
   "id": "60794b18",
   "metadata": {},
   "outputs": [],
   "source": [
    "import os, sys\n",
    "\n",
    "from keras.models import Model\n",
    "from keras.layers import Input, LSTM, GRU, Dense, Embedding\n",
    "from keras.preprocessing.text import Tokenizer\n",
    "from keras.utils import pad_sequences\n",
    "from keras.utils import to_categorical\n",
    "import numpy as np\n",
    "import matplotlib.pyplot as plt\n",
    "\n",
    "try:\n",
    "  import keras.backend as K\n",
    "  if len(K.tensorflow_backend._get_available_gpus()) > 0:\n",
    "    from keras.layers import CuDNNLSTM as LSTM\n",
    "    from keras.layers import CuDNNGRU as GRU\n",
    "except:\n",
    "  pass"
   ]
  },
  {
   "cell_type": "code",
   "execution_count": 2,
   "id": "4a3f2318",
   "metadata": {},
   "outputs": [],
   "source": [
    "# some config\n",
    "BATCH_SIZE = 64  # Batch size for training.\n",
    "EPOCHS = 100  # Number of epochs to train for.\n",
    "LATENT_DIM = 256  # Latent dimensionality of the encoding space.\n",
    "NUM_SAMPLES = 10000  # Number of samples to train on.\n",
    "MAX_NUM_WORDS = 20000\n",
    "EMBEDDING_DIM = 100"
   ]
  },
  {
   "cell_type": "code",
   "execution_count": 3,
   "id": "7040f3de",
   "metadata": {},
   "outputs": [],
   "source": [
    "#input to the encoder\n",
    "input_texts = [] # sentence in original language\n",
    "\n",
    "#input to the decoder\n",
    "target_texts_inputs = [] # sentence in target language offset by 1 (<sos> + translation)\n",
    "\n",
    "#target text for training\n",
    "target_texts = [] # sentence in target language (translation + <eos>)\n"
   ]
  },
  {
   "cell_type": "code",
   "execution_count": 4,
   "id": "249ab17c",
   "metadata": {},
   "outputs": [
    {
     "name": "stdout",
     "output_type": "stream",
     "text": [
      "num samples: 10000\n"
     ]
    }
   ],
   "source": [
    "# load in the data\n",
    "# download the data at: http://www.manythings.org/anki/\n",
    "t = 0\n",
    "for line in open('spa-eng/spa.txt'):\n",
    "  # only keep a limited number of samples\n",
    "  t += 1\n",
    "  if t > NUM_SAMPLES:\n",
    "    break\n",
    "\n",
    "  # input and target are separated by tab\n",
    "  if '\\t' not in line:\n",
    "    continue\n",
    "\n",
    "  # split up the input and translation\n",
    "  input_text, translation, *rest = line.rstrip().split('\\t')\n",
    "\n",
    "  # make the target input and output\n",
    "  # recall we'll be using teacher forcing\n",
    "  target_text = translation + ' <eos>'\n",
    "  target_text_input = '<sos> ' + translation\n",
    "\n",
    "  input_texts.append(input_text)\n",
    "  target_texts.append(target_text)\n",
    "  target_texts_inputs.append(target_text_input)\n",
    "print(\"num samples:\", len(input_texts))\n"
   ]
  },
  {
   "cell_type": "code",
   "execution_count": 5,
   "id": "e589dad7",
   "metadata": {},
   "outputs": [
    {
     "data": {
      "text/plain": [
       "('Run.', 'Corra. <eos>', '<sos> Corra.')"
      ]
     },
     "execution_count": 5,
     "metadata": {},
     "output_type": "execute_result"
    }
   ],
   "source": [
    "input_texts[10], target_texts[10], target_texts_inputs[10]"
   ]
  },
  {
   "cell_type": "markdown",
   "id": "50804202",
   "metadata": {},
   "source": [
    "# Tokenizing & padding input/output sequences "
   ]
  },
  {
   "cell_type": "code",
   "execution_count": 6,
   "id": "b3130949",
   "metadata": {},
   "outputs": [
    {
     "name": "stdout",
     "output_type": "stream",
     "text": [
      "Found 2274 unique input tokens.\n",
      "5\n"
     ]
    }
   ],
   "source": [
    "# tokenize the inputs\n",
    "tokenizer_inputs = Tokenizer(num_words=MAX_NUM_WORDS)\n",
    "tokenizer_inputs.fit_on_texts(input_texts)\n",
    "input_sequences = tokenizer_inputs.texts_to_sequences(input_texts)\n",
    "\n",
    "# get the word to index mapping for input language\n",
    "word2idx_inputs = tokenizer_inputs.word_index\n",
    "print('Found %s unique input tokens.' % len(word2idx_inputs))\n",
    "\n",
    "# determine maximum length input sequence\n",
    "max_len_input = max(len(s) for s in input_sequences)\n",
    "print(max_len_input)"
   ]
  },
  {
   "cell_type": "code",
   "execution_count": 7,
   "id": "7e659e10",
   "metadata": {},
   "outputs": [
    {
     "name": "stdout",
     "output_type": "stream",
     "text": [
      "Found 6378 unique output tokens.\n",
      "10\n"
     ]
    }
   ],
   "source": [
    "# tokenize the outputs\n",
    "# don't filter out special characters\n",
    "# otherwise <sos> and <eos> won't appear\n",
    "tokenizer_outputs = Tokenizer(num_words=MAX_NUM_WORDS, filters='')\n",
    "tokenizer_outputs.fit_on_texts(target_texts + target_texts_inputs) # inefficient, oh well\n",
    "\n",
    "target_sequences = tokenizer_outputs.texts_to_sequences(target_texts)\n",
    "target_sequences_inputs = tokenizer_outputs.texts_to_sequences(target_texts_inputs)\n",
    "\n",
    "# get the word to index mapping for output language\n",
    "word2idx_outputs = tokenizer_outputs.word_index\n",
    "print('Found %s unique output tokens.' % len(word2idx_outputs))\n",
    "\n",
    "# store number of output words for later\n",
    "# remember to add 1 since indexing starts at 1\n",
    "num_words_output = len(word2idx_outputs) + 1\n",
    "\n",
    "# determine maximum length output sequence\n",
    "max_len_target = max(len(s) for s in target_sequences)\n",
    "print(max_len_target)"
   ]
  },
  {
   "cell_type": "code",
   "execution_count": 8,
   "id": "9947fdcd",
   "metadata": {},
   "outputs": [
    {
     "name": "stdout",
     "output_type": "stream",
     "text": [
      "encoder_inputs.shape: (10000, 5)\n",
      "encoder_inputs[0]: [ 0  0  0  0 15]\n",
      "decoder_inputs[0]: [   2 1450    0    0    0    0    0    0    0    0]\n",
      "decoder_inputs.shape: (10000, 10)\n"
     ]
    }
   ],
   "source": [
    "# pad the 3 sequences: encoder input, decoder input, decoder target\n",
    "encoder_inputs = pad_sequences(input_sequences, maxlen=max_len_input)\n",
    "print(\"encoder_inputs.shape:\", encoder_inputs.shape)\n",
    "print(\"encoder_inputs[0]:\", encoder_inputs[0])\n",
    "\n",
    "decoder_inputs = pad_sequences(target_sequences_inputs, maxlen=max_len_target, padding='post')\n",
    "print(\"decoder_inputs[0]:\", decoder_inputs[0])\n",
    "print(\"decoder_inputs.shape:\", decoder_inputs.shape)\n",
    "\n",
    "decoder_targets = pad_sequences(target_sequences, maxlen=max_len_target, padding='post')\n"
   ]
  },
  {
   "cell_type": "markdown",
   "id": "85852dde",
   "metadata": {},
   "source": [
    "# Store pretrained Glove in word2vec"
   ]
  },
  {
   "cell_type": "code",
   "execution_count": 9,
   "id": "c1939031",
   "metadata": {},
   "outputs": [
    {
     "name": "stdout",
     "output_type": "stream",
     "text": [
      "Loading word vectors...\n",
      "Found 400000 word vectors.\n"
     ]
    }
   ],
   "source": [
    "# store all the pre-trained word vectors\n",
    "print('Loading word vectors...')\n",
    "word2vec = {}\n",
    "with open(os.path.join('../glove.6B/glove.6B.%sd.txt' % EMBEDDING_DIM)) as f:\n",
    "  # is just a space-separated text file in the format:\n",
    "  # word vec[0] vec[1] vec[2] ...\n",
    "  for line in f:\n",
    "    values = line.split()\n",
    "    word = values[0]\n",
    "    vec = np.asarray(values[1:], dtype='float32')\n",
    "    word2vec[word] = vec\n",
    "print('Found %s word vectors.' % len(word2vec))"
   ]
  },
  {
   "cell_type": "markdown",
   "id": "fa7fef9f",
   "metadata": {},
   "source": [
    "# Create the Embedding layer"
   ]
  },
  {
   "cell_type": "code",
   "execution_count": 10,
   "id": "fe002373",
   "metadata": {},
   "outputs": [
    {
     "name": "stdout",
     "output_type": "stream",
     "text": [
      "Filling pre-trained embeddings...\n"
     ]
    }
   ],
   "source": [
    "# prepare embedding matrix\n",
    "print('Filling pre-trained embeddings...')\n",
    "num_words = min(MAX_NUM_WORDS, len(word2idx_inputs) + 1)\n",
    "embedding_matrix = np.zeros((num_words, EMBEDDING_DIM))\n",
    "for word, i in word2idx_inputs.items():\n",
    "  if i < MAX_NUM_WORDS:\n",
    "    embedding_vector = word2vec.get(word)\n",
    "    if embedding_vector is not None:\n",
    "      # words not found in embedding index will be all zeros.\n",
    "      embedding_matrix[i] = embedding_vector\n",
    "\n",
    "\n",
    "# create embedding layer\n",
    "embedding_layer = Embedding(\n",
    "  num_words,\n",
    "  EMBEDDING_DIM,\n",
    "  weights=[embedding_matrix],\n",
    "  input_length=max_len_input,\n",
    "  # trainable=True\n",
    ")"
   ]
  },
  {
   "cell_type": "markdown",
   "id": "897b32ec",
   "metadata": {},
   "source": [
    "# Build seq2seq model"
   ]
  },
  {
   "cell_type": "markdown",
   "id": "2e415169",
   "metadata": {},
   "source": [
    "The Seq2Seq model has 2 parts: an encoder part and a decoder part. \n",
    "\n",
    "- The encoder part comprises an embedding layer (with pretrained word vectors like Glove), and an LSTM/GRU layer. The input to the enccoder is the input sequence. Only the hidden state h (and the cell state c) of the encoder will be passed into the decoder GRU (LSTM). \n",
    "\n",
    "- The decoder part also comprises an embedding layer and a LSTM/GRU layer. The embedding layer of the decoder does not need to have pretrained word vectors (although it's fine to use it). The inputs to the decoder are the hidden (and cell) states of the encoder, and the target input sequence (which is the target sequence but with the token 'sos' at the beginning instead of the token 'eos' at the end)."
   ]
  },
  {
   "cell_type": "code",
   "execution_count": 11,
   "id": "3827608c",
   "metadata": {},
   "outputs": [
    {
     "name": "stdout",
     "output_type": "stream",
     "text": [
      "Model: \"model\"\n",
      "__________________________________________________________________________________________________\n",
      " Layer (type)                   Output Shape         Param #     Connected to                     \n",
      "==================================================================================================\n",
      " input_1 (InputLayer)           [(None, 5)]          0           []                               \n",
      "                                                                                                  \n",
      " input_2 (InputLayer)           [(None, 10)]         0           []                               \n",
      "                                                                                                  \n",
      " embedding (Embedding)          (None, 5, 100)       227500      ['input_1[0][0]']                \n",
      "                                                                                                  \n",
      " embedding_1 (Embedding)        (None, 10, 100)      637900      ['input_2[0][0]']                \n",
      "                                                                                                  \n",
      " gru (GRU)                      [(None, 256),        274944      ['embedding[0][0]']              \n",
      "                                 (None, 256)]                                                     \n",
      "                                                                                                  \n",
      " gru_1 (GRU)                    [(None, 10, 256),    274944      ['embedding_1[0][0]',            \n",
      "                                 (None, 256)]                     'gru[0][1]']                    \n",
      "                                                                                                  \n",
      " dense (Dense)                  (None, 10, 6379)     1639403     ['gru_1[0][0]']                  \n",
      "                                                                                                  \n",
      "==================================================================================================\n",
      "Total params: 3,054,691\n",
      "Trainable params: 3,054,691\n",
      "Non-trainable params: 0\n",
      "__________________________________________________________________________________________________\n"
     ]
    }
   ],
   "source": [
    "#GRU VERSION\n",
    "\n",
    "########## ENCODER ##########\n",
    "#INPUT - EMBEDDING\n",
    "encoder_inputs_placeholder = Input(shape=(max_len_input,))\n",
    "x = embedding_layer(encoder_inputs_placeholder)\n",
    "\n",
    "#ENCODER-GRU\n",
    "encoder = GRU(\n",
    "  LATENT_DIM,\n",
    "  return_state=True,\n",
    ")\n",
    "encoder_outputs, h = encoder(x)\n",
    "# keep only the states to pass into decoder\n",
    "encoder_states = [h] # gru\n",
    "\n",
    "\n",
    "########### DECODER ##########\n",
    "#INPUT-EMBEDDING\n",
    "# Set up the decoder, using [h, c] as initial state.\n",
    "decoder_inputs_placeholder = Input(shape=(max_len_target,))\n",
    "\n",
    "# this word embedding will not use pre-trained vectors\n",
    "decoder_embedding = Embedding(num_words_output, EMBEDDING_DIM)\n",
    "decoder_inputs_x = decoder_embedding(decoder_inputs_placeholder)\n",
    "#DECODER-GRU\n",
    "# since the decoder is a \"to-many\" model we want to have\n",
    "# return_sequences=True\n",
    "decoder_gru = GRU(\n",
    "  LATENT_DIM,\n",
    "  return_sequences=True,\n",
    "  return_state=True,\n",
    ")\n",
    "decoder_outputs, _ = decoder_gru(\n",
    "   decoder_inputs_x,\n",
    "   initial_state=encoder_states\n",
    " )\n",
    "########### FINAL DENSE ##########\n",
    "# final dense layer for predictions\n",
    "decoder_dense = Dense(num_words_output, activation='softmax')\n",
    "decoder_outputs = decoder_dense(decoder_outputs)\n",
    "\n",
    "# Create the model object\n",
    "model_gru = Model([encoder_inputs_placeholder, decoder_inputs_placeholder], decoder_outputs)\n",
    "\n",
    "model_gru.summary()"
   ]
  },
  {
   "cell_type": "code",
   "execution_count": 12,
   "id": "587fc761",
   "metadata": {},
   "outputs": [
    {
     "name": "stdout",
     "output_type": "stream",
     "text": [
      "Model: \"model_1\"\n",
      "__________________________________________________________________________________________________\n",
      " Layer (type)                   Output Shape         Param #     Connected to                     \n",
      "==================================================================================================\n",
      " input_3 (InputLayer)           [(None, 5)]          0           []                               \n",
      "                                                                                                  \n",
      " input_4 (InputLayer)           [(None, 10)]         0           []                               \n",
      "                                                                                                  \n",
      " embedding (Embedding)          (None, 5, 100)       227500      ['input_3[0][0]']                \n",
      "                                                                                                  \n",
      " embedding_2 (Embedding)        (None, 10, 100)      637900      ['input_4[0][0]']                \n",
      "                                                                                                  \n",
      " lstm (LSTM)                    [(None, 256),        365568      ['embedding[1][0]']              \n",
      "                                 (None, 256),                                                     \n",
      "                                 (None, 256)]                                                     \n",
      "                                                                                                  \n",
      " lstm_1 (LSTM)                  [(None, 10, 256),    365568      ['embedding_2[0][0]',            \n",
      "                                 (None, 256),                     'lstm[0][1]',                   \n",
      "                                 (None, 256)]                     'lstm[0][2]']                   \n",
      "                                                                                                  \n",
      " dense_1 (Dense)                (None, 10, 6379)     1639403     ['lstm_1[0][0]']                 \n",
      "                                                                                                  \n",
      "==================================================================================================\n",
      "Total params: 3,235,939\n",
      "Trainable params: 3,235,939\n",
      "Non-trainable params: 0\n",
      "__________________________________________________________________________________________________\n"
     ]
    }
   ],
   "source": [
    "#LSTM VERSION\n",
    "########## ENCODER ##########\n",
    "#INPUT - EMBEDDING\n",
    "encoder_inputs_placeholder = Input(shape=(max_len_input,))\n",
    "x = embedding_layer(encoder_inputs_placeholder)\n",
    "#ENCODER-LSTM\n",
    "encoder = LSTM(\n",
    "  LATENT_DIM,\n",
    "  return_state=True,\n",
    ")\n",
    "encoder_outputs, h, c = encoder(x)\n",
    "# keep only the states to pass into decoder\n",
    "encoder_states = [h, c]\n",
    "\n",
    "\n",
    "########### DECODER ##########\n",
    "#INPUT-EMBEDDING\n",
    "# Set up the decoder, using [h, c] as initial state.\n",
    "decoder_inputs_placeholder = Input(shape=(max_len_target,))\n",
    "# this word embedding will not use pre-trained vectors\n",
    "# although you could\n",
    "decoder_embedding = Embedding(num_words_output, EMBEDDING_DIM)\n",
    "decoder_inputs_x = decoder_embedding(decoder_inputs_placeholder)\n",
    "#DECODER-LSTM\n",
    "# since the decoder is a \"to-many\" model we want to have\n",
    "# return_sequences=True\n",
    "decoder_lstm = LSTM(\n",
    "  LATENT_DIM,\n",
    "  return_sequences=True,\n",
    "  return_state=True,\n",
    "  # dropout=0.5 # dropout not available on gpu\n",
    ")\n",
    "decoder_outputs, _, _ = decoder_lstm(\n",
    "  decoder_inputs_x,\n",
    "  initial_state=encoder_states\n",
    ")\n",
    "########### FINAL DENSE ##########\n",
    "# final dense layer for predictions\n",
    "decoder_dense = Dense(num_words_output, activation='softmax')\n",
    "decoder_outputs = decoder_dense(decoder_outputs)\n",
    "\n",
    "# Create the model object\n",
    "model = Model([encoder_inputs_placeholder, decoder_inputs_placeholder], decoder_outputs)\n",
    "\n",
    "model.summary()"
   ]
  },
  {
   "cell_type": "markdown",
   "id": "be13f16c",
   "metadata": {},
   "source": [
    "# Train the seq2seq model (LSTM version)"
   ]
  },
  {
   "cell_type": "code",
   "execution_count": 13,
   "id": "22ea6f2f",
   "metadata": {},
   "outputs": [],
   "source": [
    "# create targets, since we cannot use sparse\n",
    "# categorical cross entropy when we have sequences\n",
    "decoder_targets_one_hot = np.zeros(\n",
    "  (\n",
    "    len(input_texts),\n",
    "    max_len_target,\n",
    "    num_words_output\n",
    "  ),\n",
    "  dtype='float32'\n",
    ")\n",
    "\n",
    "# assign the values\n",
    "for i, d in enumerate(decoder_targets):\n",
    "  for t, word in enumerate(d):\n",
    "    if word != 0:\n",
    "      decoder_targets_one_hot[i, t, word] = 1"
   ]
  },
  {
   "cell_type": "code",
   "execution_count": 14,
   "id": "5d927569",
   "metadata": {},
   "outputs": [],
   "source": [
    "def custom_loss(y_true, y_pred):\n",
    "  # both are of shape N x T x K\n",
    "  mask = K.cast(y_true > 0, dtype='float32')\n",
    "  out = mask * y_true * K.log(y_pred)\n",
    "  return -K.sum(out) / K.sum(mask)\n",
    "\n",
    "\n",
    "def acc(y_true, y_pred):\n",
    "  # both are of shape N x T x K\n",
    "  targ = K.argmax(y_true, axis=-1)\n",
    "  pred = K.argmax(y_pred, axis=-1)\n",
    "  correct = K.cast(K.equal(targ, pred), dtype='float32')\n",
    "\n",
    "  # 0 is padding, don't include those\n",
    "  mask = K.cast(K.greater(targ, 0), dtype='float32')\n",
    "  n_correct = K.sum(mask * correct)\n",
    "  n_total = K.sum(mask)\n",
    "  return n_correct / n_total\n",
    "\n",
    "#model.compile(optimizer='adam', loss=custom_loss, metrics=[acc])\n"
   ]
  },
  {
   "cell_type": "code",
   "execution_count": 15,
   "id": "0cdd704f",
   "metadata": {},
   "outputs": [],
   "source": [
    "model.compile(optimizer='rmsprop', loss='categorical_crossentropy', metrics=['accuracy'])"
   ]
  },
  {
   "cell_type": "code",
   "execution_count": 16,
   "id": "aa788383",
   "metadata": {},
   "outputs": [
    {
     "name": "stdout",
     "output_type": "stream",
     "text": [
      "Epoch 1/100\n",
      "125/125 [==============================] - 34s 251ms/step - loss: 2.2289 - accuracy: 0.1003 - val_loss: 2.5976 - val_accuracy: 0.1079\n",
      "Epoch 2/100\n",
      "125/125 [==============================] - 31s 252ms/step - loss: 2.1032 - accuracy: 0.1105 - val_loss: 2.6078 - val_accuracy: 0.1173\n",
      "Epoch 3/100\n",
      "125/125 [==============================] - 33s 266ms/step - loss: 2.0062 - accuracy: 0.1157 - val_loss: 2.5906 - val_accuracy: 0.1224\n",
      "Epoch 4/100\n",
      "125/125 [==============================] - 34s 269ms/step - loss: 1.9093 - accuracy: 0.1219 - val_loss: 2.5191 - val_accuracy: 0.1313\n",
      "Epoch 5/100\n",
      "125/125 [==============================] - 33s 267ms/step - loss: 1.8138 - accuracy: 0.1275 - val_loss: 2.4809 - val_accuracy: 0.1351\n",
      "Epoch 6/100\n",
      "125/125 [==============================] - 33s 261ms/step - loss: 1.7281 - accuracy: 0.1339 - val_loss: 2.4357 - val_accuracy: 0.1386\n",
      "Epoch 7/100\n",
      "125/125 [==============================] - 35s 278ms/step - loss: 1.6502 - accuracy: 0.1394 - val_loss: 2.3898 - val_accuracy: 0.1438\n",
      "Epoch 8/100\n",
      "125/125 [==============================] - 41s 330ms/step - loss: 1.5753 - accuracy: 0.1442 - val_loss: 2.3701 - val_accuracy: 0.1477\n",
      "Epoch 9/100\n",
      "125/125 [==============================] - 35s 278ms/step - loss: 1.5081 - accuracy: 0.1485 - val_loss: 2.3393 - val_accuracy: 0.1513\n",
      "Epoch 10/100\n",
      "125/125 [==============================] - 40s 324ms/step - loss: 1.4444 - accuracy: 0.1516 - val_loss: 2.3237 - val_accuracy: 0.1549\n",
      "Epoch 11/100\n",
      "125/125 [==============================] - 36s 287ms/step - loss: 1.3865 - accuracy: 0.1560 - val_loss: 2.3010 - val_accuracy: 0.1601\n",
      "Epoch 12/100\n",
      "125/125 [==============================] - 34s 272ms/step - loss: 1.3310 - accuracy: 0.1606 - val_loss: 2.2982 - val_accuracy: 0.1619\n",
      "Epoch 13/100\n",
      "125/125 [==============================] - 37s 297ms/step - loss: 1.2807 - accuracy: 0.1647 - val_loss: 2.2618 - val_accuracy: 0.1653\n",
      "Epoch 14/100\n",
      "125/125 [==============================] - 32s 257ms/step - loss: 1.2323 - accuracy: 0.1682 - val_loss: 2.2548 - val_accuracy: 0.1661\n",
      "Epoch 15/100\n",
      "125/125 [==============================] - 32s 256ms/step - loss: 1.1853 - accuracy: 0.1721 - val_loss: 2.2485 - val_accuracy: 0.1701\n",
      "Epoch 16/100\n",
      "125/125 [==============================] - 32s 254ms/step - loss: 1.1437 - accuracy: 0.1761 - val_loss: 2.2235 - val_accuracy: 0.1721\n",
      "Epoch 17/100\n",
      "125/125 [==============================] - 31s 252ms/step - loss: 1.1017 - accuracy: 0.1790 - val_loss: 2.2367 - val_accuracy: 0.1730\n",
      "Epoch 18/100\n",
      "125/125 [==============================] - 31s 250ms/step - loss: 1.0631 - accuracy: 0.1820 - val_loss: 2.2209 - val_accuracy: 0.1761\n",
      "Epoch 19/100\n",
      "125/125 [==============================] - 32s 255ms/step - loss: 1.0283 - accuracy: 0.1851 - val_loss: 2.2334 - val_accuracy: 0.1769\n",
      "Epoch 20/100\n",
      "125/125 [==============================] - 32s 258ms/step - loss: 0.9942 - accuracy: 0.1882 - val_loss: 2.2268 - val_accuracy: 0.1775\n",
      "Epoch 21/100\n",
      "125/125 [==============================] - 824s 7s/step - loss: 0.9636 - accuracy: 0.1913 - val_loss: 2.2305 - val_accuracy: 0.1814\n",
      "Epoch 22/100\n",
      "125/125 [==============================] - 31s 245ms/step - loss: 0.9337 - accuracy: 0.1945 - val_loss: 2.2428 - val_accuracy: 0.1799\n",
      "Epoch 23/100\n",
      "125/125 [==============================] - 32s 254ms/step - loss: 0.9055 - accuracy: 0.1973 - val_loss: 2.2414 - val_accuracy: 0.1821\n",
      "Epoch 24/100\n",
      "125/125 [==============================] - 32s 260ms/step - loss: 0.8783 - accuracy: 0.2000 - val_loss: 2.2680 - val_accuracy: 0.1826\n",
      "Epoch 25/100\n",
      "125/125 [==============================] - 34s 270ms/step - loss: 0.8547 - accuracy: 0.2025 - val_loss: 2.2716 - val_accuracy: 0.1838\n",
      "Epoch 26/100\n",
      "125/125 [==============================] - 34s 270ms/step - loss: 0.8313 - accuracy: 0.2052 - val_loss: 2.2803 - val_accuracy: 0.1841\n",
      "Epoch 27/100\n",
      "125/125 [==============================] - 33s 267ms/step - loss: 0.8102 - accuracy: 0.2080 - val_loss: 2.2908 - val_accuracy: 0.1851\n",
      "Epoch 28/100\n",
      "125/125 [==============================] - 2834s 23s/step - loss: 0.7872 - accuracy: 0.2110 - val_loss: 2.3015 - val_accuracy: 0.1861\n",
      "Epoch 29/100\n",
      "125/125 [==============================] - 29s 231ms/step - loss: 0.7675 - accuracy: 0.2125 - val_loss: 2.3313 - val_accuracy: 0.1852\n",
      "Epoch 30/100\n",
      "125/125 [==============================] - 31s 250ms/step - loss: 0.7500 - accuracy: 0.2150 - val_loss: 2.3260 - val_accuracy: 0.1860\n",
      "Epoch 31/100\n",
      "125/125 [==============================] - 34s 269ms/step - loss: 0.7287 - accuracy: 0.2184 - val_loss: 2.3476 - val_accuracy: 0.1857\n",
      "Epoch 32/100\n",
      "125/125 [==============================] - 32s 257ms/step - loss: 0.7119 - accuracy: 0.2206 - val_loss: 2.3524 - val_accuracy: 0.1836\n",
      "Epoch 33/100\n",
      "125/125 [==============================] - 34s 276ms/step - loss: 0.6937 - accuracy: 0.2235 - val_loss: 2.3784 - val_accuracy: 0.1857\n",
      "Epoch 34/100\n",
      "125/125 [==============================] - 35s 283ms/step - loss: 0.6785 - accuracy: 0.2255 - val_loss: 2.3941 - val_accuracy: 0.1874\n",
      "Epoch 35/100\n",
      "125/125 [==============================] - 33s 264ms/step - loss: 0.6623 - accuracy: 0.2279 - val_loss: 2.4280 - val_accuracy: 0.1851\n",
      "Epoch 36/100\n",
      "125/125 [==============================] - 35s 277ms/step - loss: 0.6471 - accuracy: 0.2300 - val_loss: 2.4269 - val_accuracy: 0.1853\n",
      "Epoch 37/100\n",
      "125/125 [==============================] - 42s 334ms/step - loss: 0.6313 - accuracy: 0.2329 - val_loss: 2.4456 - val_accuracy: 0.1861\n",
      "Epoch 38/100\n",
      "125/125 [==============================] - 39s 310ms/step - loss: 0.6186 - accuracy: 0.2342 - val_loss: 2.4658 - val_accuracy: 0.1859\n",
      "Epoch 39/100\n",
      "125/125 [==============================] - 37s 298ms/step - loss: 0.6035 - accuracy: 0.2363 - val_loss: 2.4772 - val_accuracy: 0.1859\n",
      "Epoch 40/100\n",
      "125/125 [==============================] - 35s 277ms/step - loss: 0.5895 - accuracy: 0.2394 - val_loss: 2.5014 - val_accuracy: 0.1856\n",
      "Epoch 41/100\n",
      "125/125 [==============================] - 33s 264ms/step - loss: 0.5772 - accuracy: 0.2410 - val_loss: 2.5076 - val_accuracy: 0.1863\n",
      "Epoch 42/100\n",
      "125/125 [==============================] - 33s 263ms/step - loss: 0.5645 - accuracy: 0.2424 - val_loss: 2.5238 - val_accuracy: 0.1871\n",
      "Epoch 43/100\n",
      "125/125 [==============================] - 34s 275ms/step - loss: 0.5530 - accuracy: 0.2447 - val_loss: 2.5535 - val_accuracy: 0.1860\n",
      "Epoch 44/100\n",
      "125/125 [==============================] - 35s 281ms/step - loss: 0.5392 - accuracy: 0.2469 - val_loss: 2.5705 - val_accuracy: 0.1859\n",
      "Epoch 45/100\n",
      "125/125 [==============================] - 34s 275ms/step - loss: 0.5288 - accuracy: 0.2483 - val_loss: 2.5882 - val_accuracy: 0.1862\n",
      "Epoch 46/100\n",
      "125/125 [==============================] - 33s 261ms/step - loss: 0.5176 - accuracy: 0.2501 - val_loss: 2.6223 - val_accuracy: 0.1836\n",
      "Epoch 47/100\n",
      "125/125 [==============================] - 33s 265ms/step - loss: 0.5063 - accuracy: 0.2520 - val_loss: 2.6607 - val_accuracy: 0.1821\n",
      "Epoch 48/100\n",
      "125/125 [==============================] - 36s 292ms/step - loss: 0.4974 - accuracy: 0.2528 - val_loss: 2.6876 - val_accuracy: 0.1805\n",
      "Epoch 49/100\n",
      "125/125 [==============================] - 34s 272ms/step - loss: 0.4877 - accuracy: 0.2555 - val_loss: 2.6957 - val_accuracy: 0.1838\n",
      "Epoch 50/100\n",
      "125/125 [==============================] - 35s 283ms/step - loss: 0.4777 - accuracy: 0.2576 - val_loss: 2.7212 - val_accuracy: 0.1834\n",
      "Epoch 51/100\n",
      "125/125 [==============================] - 33s 266ms/step - loss: 0.4680 - accuracy: 0.2589 - val_loss: 2.7420 - val_accuracy: 0.1838\n",
      "Epoch 52/100\n",
      "125/125 [==============================] - 34s 270ms/step - loss: 0.4592 - accuracy: 0.2599 - val_loss: 2.7641 - val_accuracy: 0.1824\n",
      "Epoch 53/100\n",
      "125/125 [==============================] - 33s 265ms/step - loss: 0.4525 - accuracy: 0.2607 - val_loss: 2.7859 - val_accuracy: 0.1772\n",
      "Epoch 54/100\n",
      "125/125 [==============================] - 33s 264ms/step - loss: 0.4427 - accuracy: 0.2630 - val_loss: 2.7999 - val_accuracy: 0.1824\n",
      "Epoch 55/100\n",
      "125/125 [==============================] - 32s 258ms/step - loss: 0.4349 - accuracy: 0.2643 - val_loss: 2.8292 - val_accuracy: 0.1814\n",
      "Epoch 56/100\n",
      "125/125 [==============================] - 35s 281ms/step - loss: 0.4268 - accuracy: 0.2650 - val_loss: 2.8566 - val_accuracy: 0.1784\n"
     ]
    },
    {
     "name": "stdout",
     "output_type": "stream",
     "text": [
      "Epoch 57/100\n",
      "125/125 [==============================] - 33s 264ms/step - loss: 0.4192 - accuracy: 0.2673 - val_loss: 2.8731 - val_accuracy: 0.1822\n",
      "Epoch 58/100\n",
      "125/125 [==============================] - 33s 260ms/step - loss: 0.4121 - accuracy: 0.2682 - val_loss: 2.9022 - val_accuracy: 0.1781\n",
      "Epoch 59/100\n",
      "125/125 [==============================] - 33s 268ms/step - loss: 0.4058 - accuracy: 0.2687 - val_loss: 2.9397 - val_accuracy: 0.1663\n",
      "Epoch 60/100\n",
      "125/125 [==============================] - 33s 261ms/step - loss: 0.3989 - accuracy: 0.2706 - val_loss: 2.9569 - val_accuracy: 0.1775\n",
      "Epoch 61/100\n",
      "125/125 [==============================] - 33s 261ms/step - loss: 0.3922 - accuracy: 0.2711 - val_loss: 2.9490 - val_accuracy: 0.1722\n",
      "Epoch 62/100\n",
      "125/125 [==============================] - 33s 266ms/step - loss: 0.3854 - accuracy: 0.2724 - val_loss: 2.9522 - val_accuracy: 0.1776\n",
      "Epoch 63/100\n",
      "125/125 [==============================] - 33s 265ms/step - loss: 0.3796 - accuracy: 0.2734 - val_loss: 3.0033 - val_accuracy: 0.1769\n",
      "Epoch 64/100\n",
      "125/125 [==============================] - 33s 261ms/step - loss: 0.3733 - accuracy: 0.2750 - val_loss: 3.0125 - val_accuracy: 0.1708\n",
      "Epoch 65/100\n",
      "125/125 [==============================] - 34s 271ms/step - loss: 0.3678 - accuracy: 0.2758 - val_loss: 3.0345 - val_accuracy: 0.1693\n",
      "Epoch 66/100\n",
      "125/125 [==============================] - 34s 273ms/step - loss: 0.3614 - accuracy: 0.2771 - val_loss: 3.0516 - val_accuracy: 0.1770\n",
      "Epoch 67/100\n",
      "125/125 [==============================] - 33s 267ms/step - loss: 0.3561 - accuracy: 0.2781 - val_loss: 3.0767 - val_accuracy: 0.1721\n",
      "Epoch 68/100\n",
      "125/125 [==============================] - 32s 259ms/step - loss: 0.3508 - accuracy: 0.2786 - val_loss: 3.0832 - val_accuracy: 0.1799\n",
      "Epoch 69/100\n",
      "125/125 [==============================] - 33s 264ms/step - loss: 0.3452 - accuracy: 0.2806 - val_loss: 3.1022 - val_accuracy: 0.1776\n",
      "Epoch 70/100\n",
      "125/125 [==============================] - 33s 263ms/step - loss: 0.3410 - accuracy: 0.2805 - val_loss: 3.1305 - val_accuracy: 0.1673\n",
      "Epoch 71/100\n",
      "125/125 [==============================] - 33s 261ms/step - loss: 0.3361 - accuracy: 0.2812 - val_loss: 3.1922 - val_accuracy: 0.1671\n",
      "Epoch 72/100\n",
      "125/125 [==============================] - 32s 260ms/step - loss: 0.3307 - accuracy: 0.2826 - val_loss: 3.1714 - val_accuracy: 0.1718\n",
      "Epoch 73/100\n",
      "125/125 [==============================] - 34s 269ms/step - loss: 0.3258 - accuracy: 0.2831 - val_loss: 3.1999 - val_accuracy: 0.1674\n",
      "Epoch 74/100\n",
      "125/125 [==============================] - 1232s 10s/step - loss: 0.3220 - accuracy: 0.2835 - val_loss: 3.2067 - val_accuracy: 0.1695\n",
      "Epoch 75/100\n",
      "125/125 [==============================] - 30s 241ms/step - loss: 0.3183 - accuracy: 0.2843 - val_loss: 3.2654 - val_accuracy: 0.1625\n",
      "Epoch 76/100\n",
      "125/125 [==============================] - 32s 252ms/step - loss: 0.3128 - accuracy: 0.2863 - val_loss: 3.2552 - val_accuracy: 0.1709\n",
      "Epoch 77/100\n",
      "125/125 [==============================] - 33s 263ms/step - loss: 0.3102 - accuracy: 0.2861 - val_loss: 3.2632 - val_accuracy: 0.1595\n",
      "Epoch 78/100\n",
      "125/125 [==============================] - 34s 273ms/step - loss: 0.3043 - accuracy: 0.2870 - val_loss: 3.2720 - val_accuracy: 0.1647\n",
      "Epoch 79/100\n",
      "125/125 [==============================] - 35s 280ms/step - loss: 0.3010 - accuracy: 0.2875 - val_loss: 3.2870 - val_accuracy: 0.1666\n",
      "Epoch 80/100\n",
      "125/125 [==============================] - 42s 333ms/step - loss: 0.2972 - accuracy: 0.2882 - val_loss: 3.3291 - val_accuracy: 0.1594\n",
      "Epoch 81/100\n",
      "125/125 [==============================] - 43s 345ms/step - loss: 0.2935 - accuracy: 0.2900 - val_loss: 3.3362 - val_accuracy: 0.1654\n",
      "Epoch 82/100\n",
      "125/125 [==============================] - 37s 297ms/step - loss: 0.2877 - accuracy: 0.2897 - val_loss: 3.3496 - val_accuracy: 0.1673\n",
      "Epoch 83/100\n",
      "125/125 [==============================] - 34s 271ms/step - loss: 0.2844 - accuracy: 0.2905 - val_loss: 3.3423 - val_accuracy: 0.1678\n",
      "Epoch 84/100\n",
      "125/125 [==============================] - 33s 265ms/step - loss: 0.2798 - accuracy: 0.2912 - val_loss: 3.3747 - val_accuracy: 0.1718\n",
      "Epoch 85/100\n",
      "125/125 [==============================] - 33s 264ms/step - loss: 0.2773 - accuracy: 0.2916 - val_loss: 3.4047 - val_accuracy: 0.1688\n",
      "Epoch 86/100\n",
      "125/125 [==============================] - 34s 268ms/step - loss: 0.2734 - accuracy: 0.2921 - val_loss: 3.4422 - val_accuracy: 0.1633\n",
      "Epoch 87/100\n",
      "125/125 [==============================] - 33s 266ms/step - loss: 0.2705 - accuracy: 0.2929 - val_loss: 3.4339 - val_accuracy: 0.1673\n",
      "Epoch 88/100\n",
      "125/125 [==============================] - 33s 263ms/step - loss: 0.2671 - accuracy: 0.2941 - val_loss: 3.4526 - val_accuracy: 0.1648\n",
      "Epoch 89/100\n",
      "125/125 [==============================] - 35s 279ms/step - loss: 0.2640 - accuracy: 0.2941 - val_loss: 3.5015 - val_accuracy: 0.1616\n",
      "Epoch 90/100\n",
      "125/125 [==============================] - 33s 261ms/step - loss: 0.2613 - accuracy: 0.2941 - val_loss: 3.4990 - val_accuracy: 0.1628\n",
      "Epoch 91/100\n",
      "125/125 [==============================] - 32s 256ms/step - loss: 0.2581 - accuracy: 0.2952 - val_loss: 3.5055 - val_accuracy: 0.1666\n",
      "Epoch 92/100\n",
      "125/125 [==============================] - 32s 259ms/step - loss: 0.2565 - accuracy: 0.2949 - val_loss: 3.5472 - val_accuracy: 0.1566\n",
      "Epoch 93/100\n",
      "125/125 [==============================] - 33s 262ms/step - loss: 0.2529 - accuracy: 0.2952 - val_loss: 3.5504 - val_accuracy: 0.1643\n",
      "Epoch 94/100\n",
      "125/125 [==============================] - 33s 261ms/step - loss: 0.2503 - accuracy: 0.2966 - val_loss: 3.5919 - val_accuracy: 0.1545\n",
      "Epoch 95/100\n",
      "125/125 [==============================] - 33s 268ms/step - loss: 0.2477 - accuracy: 0.2965 - val_loss: 3.6141 - val_accuracy: 0.1605\n",
      "Epoch 96/100\n",
      "125/125 [==============================] - 34s 270ms/step - loss: 0.2451 - accuracy: 0.2972 - val_loss: 3.6394 - val_accuracy: 0.1567\n",
      "Epoch 97/100\n",
      "125/125 [==============================] - 33s 264ms/step - loss: 0.2431 - accuracy: 0.2977 - val_loss: 3.6427 - val_accuracy: 0.1611\n",
      "Epoch 98/100\n",
      "125/125 [==============================] - 32s 259ms/step - loss: 0.2387 - accuracy: 0.2986 - val_loss: 3.6714 - val_accuracy: 0.1612\n",
      "Epoch 99/100\n",
      "125/125 [==============================] - 32s 259ms/step - loss: 0.2375 - accuracy: 0.2988 - val_loss: 3.7182 - val_accuracy: 0.1586\n",
      "Epoch 100/100\n",
      "125/125 [==============================] - 33s 264ms/step - loss: 0.2346 - accuracy: 0.2987 - val_loss: 3.6992 - val_accuracy: 0.1581\n"
     ]
    }
   ],
   "source": [
    "r = model.fit(\n",
    "  [encoder_inputs, decoder_inputs], decoder_targets_one_hot,\n",
    "  batch_size=BATCH_SIZE,\n",
    "  epochs=EPOCHS,\n",
    "  validation_split=0.2,\n",
    ")"
   ]
  },
  {
   "cell_type": "code",
   "execution_count": 17,
   "id": "6cd7dcb7",
   "metadata": {},
   "outputs": [
    {
     "data": {
      "image/png": "[encoded data removed]",
      "text/plain": [
       "<Figure size 432x288 with 1 Axes>"
      ]
     },
     "metadata": {
      "needs_background": "light"
     },
     "output_type": "display_data"
    },
    {
     "data": {
      "image/png": "[encoded data removed]",
      "text/plain": [
       "<Figure size 432x288 with 1 Axes>"
      ]
     },
     "metadata": {
      "needs_background": "light"
     },
     "output_type": "display_data"
    }
   ],
   "source": [
    "# plot some data\n",
    "plt.plot(r.history['loss'], label='loss')\n",
    "plt.plot(r.history['val_loss'], label='val_loss')\n",
    "plt.legend()\n",
    "plt.show()\n",
    "\n",
    "# accuracies\n",
    "plt.plot(r.history['accuracy'], label='acc')\n",
    "plt.plot(r.history['val_accuracy'], label='val_acc')\n",
    "plt.legend()\n",
    "plt.show()\n",
    "\n",
    "# Save model\n",
    "model.save('s2s.h5')"
   ]
  },
  {
   "cell_type": "markdown",
   "id": "5d05d21b",
   "metadata": {},
   "source": [
    "# Create a sampling model"
   ]
  },
  {
   "cell_type": "code",
   "execution_count": 18,
   "id": "26817703",
   "metadata": {},
   "outputs": [],
   "source": [
    "##### Make predictions #####\n",
    "# As with the poetry example, we need to create another model\n",
    "# that can take in the RNN state and previous word as input\n",
    "# and accept a T=1 sequence.\n",
    "\n",
    "# The encoder will be stand-alone\n",
    "# From this we will get our initial decoder hidden state\n",
    "encoder_model = Model(encoder_inputs_placeholder, encoder_states)\n"
   ]
  },
  {
   "cell_type": "code",
   "execution_count": 19,
   "id": "1d9827bb",
   "metadata": {},
   "outputs": [],
   "source": [
    "decoder_state_input_h = Input(shape=(LATENT_DIM,))\n",
    "decoder_state_input_c = Input(shape=(LATENT_DIM,))\n",
    "decoder_states_inputs = [decoder_state_input_h, decoder_state_input_c]\n",
    "# decoder_states_inputs = [decoder_state_input_h] # gru\n",
    "\n",
    "decoder_inputs_single = Input(shape=(1,))\n",
    "decoder_inputs_single_x = decoder_embedding(decoder_inputs_single)\n",
    "\n",
    "# this time, we want to keep the states too, to be output\n",
    "# by our sampling model\n",
    "decoder_outputs, h, c = decoder_lstm(\n",
    "  decoder_inputs_single_x,\n",
    "  initial_state=decoder_states_inputs\n",
    ")\n",
    "# decoder_outputs, state_h = decoder_lstm(\n",
    "#   decoder_inputs_single_x,\n",
    "#   initial_state=decoder_states_inputs\n",
    "# ) #gru\n",
    "decoder_states = [h, c]\n",
    "# decoder_states = [h] # gru\n",
    "decoder_outputs = decoder_dense(decoder_outputs)\n",
    "\n",
    "# The sampling model\n",
    "# inputs: y(t-1), h(t-1), c(t-1)\n",
    "# outputs: y(t), h(t), c(t)\n",
    "decoder_model = Model(\n",
    "  [decoder_inputs_single] + decoder_states_inputs, \n",
    "  [decoder_outputs] + decoder_states\n",
    ")"
   ]
  },
  {
   "cell_type": "code",
   "execution_count": 20,
   "id": "997cc8a4",
   "metadata": {},
   "outputs": [],
   "source": [
    "# map indexes back into real words\n",
    "# so we can view the results\n",
    "idx2word_eng = {v:k for k, v in word2idx_inputs.items()}\n",
    "idx2word_trans = {v:k for k, v in word2idx_outputs.items()}"
   ]
  },
  {
   "cell_type": "code",
   "execution_count": 21,
   "id": "b24b09f7",
   "metadata": {},
   "outputs": [],
   "source": [
    "def decode_sequence(input_seq):\n",
    "  # Encode the input as state vectors.\n",
    "  states_value = encoder_model.predict(input_seq, verbose = 0)\n",
    "\n",
    "  # Generate empty target sequence of length 1.\n",
    "  target_seq = np.zeros((1, 1))\n",
    "\n",
    "  # Populate the first character of target sequence with the start character.\n",
    "  # NOTE: tokenizer lower-cases all words\n",
    "  target_seq[0, 0] = word2idx_outputs['<sos>']\n",
    "\n",
    "  # if we get this we break\n",
    "  eos = word2idx_outputs['<eos>']\n",
    "\n",
    "  # Create the translation\n",
    "  output_sentence = []\n",
    "  for _ in range(max_len_target):\n",
    "    output_tokens, h, c = decoder_model.predict(\n",
    "      [target_seq] + states_value, verbose = 0\n",
    "    )\n",
    "    # output_tokens, h = decoder_model.predict(\n",
    "    #     [target_seq] + states_value\n",
    "    # ) # gru\n",
    "\n",
    "    # Get next word\n",
    "    idx = np.argmax(output_tokens[0, 0, :])\n",
    "\n",
    "    # End sentence of EOS\n",
    "    if eos == idx:\n",
    "      break\n",
    "\n",
    "    word = ''\n",
    "    if idx > 0:\n",
    "      word = idx2word_trans[idx]\n",
    "      output_sentence.append(word)\n",
    "\n",
    "    # Update the decoder input\n",
    "    # which is just the word just generated\n",
    "    target_seq[0, 0] = idx\n",
    "\n",
    "    # Update states\n",
    "    states_value = [h, c]\n",
    "    # states_value = [h] # gru\n",
    "\n",
    "  return ' '.join(output_sentence)"
   ]
  },
  {
   "cell_type": "code",
   "execution_count": 22,
   "id": "46e2bf60",
   "metadata": {},
   "outputs": [
    {
     "name": "stdout",
     "output_type": "stream",
     "text": [
      "-\n",
      "Input: I can run.\n",
      "Translation: puedo correr.\n",
      "Continue? [Y/n]y\n",
      "-\n",
      "Input: Tom's crazy.\n",
      "Translation: tom es loco.\n",
      "Continue? [Y/n]y\n",
      "-\n",
      "Input: There it is!\n",
      "Translation: ¡allá está!\n",
      "Continue? [Y/n]y\n",
      "-\n",
      "Input: Tom remembered.\n",
      "Translation: tom se estrelló.\n",
      "Continue? [Y/n]y\n",
      "-\n",
      "Input: I'm ugly.\n",
      "Translation: soy fea.\n",
      "Continue? [Y/n]y\n",
      "-\n",
      "Input: Mary giggled.\n",
      "Translation: mary soltó una risita.\n",
      "Continue? [Y/n]y\n",
      "-\n",
      "Input: I feel at ease.\n",
      "Translation: me siento en casa.\n",
      "Continue? [Y/n]y\n",
      "-\n",
      "Input: That'll last.\n",
      "Translation: eso durará.\n",
      "Continue? [Y/n]y\n",
      "-\n",
      "Input: I won!\n",
      "Translation: ¡he ganado!\n",
      "Continue? [Y/n]y\n",
      "-\n",
      "Input: Can it be fixed?\n",
      "Translation: ¿puede entrar?\n",
      "Continue? [Y/n]y\n",
      "-\n",
      "Input: Oh, I got it.\n",
      "Translation: oh, lo obtuve.\n",
      "Continue? [Y/n]y\n",
      "-\n",
      "Input: Tom drove fast.\n",
      "Translation: tom despacio!\n",
      "Continue? [Y/n]n\n"
     ]
    }
   ],
   "source": [
    "while True:\n",
    "  # Do some test translations\n",
    "  i = np.random.choice(len(input_texts))\n",
    "  input_seq = encoder_inputs[i:i+1]\n",
    "  translation = decode_sequence(input_seq)\n",
    "  print('-')\n",
    "  print('Input:', input_texts[i])\n",
    "  print('Translation:', translation)\n",
    "\n",
    "  ans = input(\"Continue? [Y/n]\")\n",
    "  if ans and ans.lower().startswith('n'):\n",
    "    break"
   ]
  }
 ],
 "metadata": {
  "kernelspec": {
   "display_name": "Python 3",
   "language": "python",
   "name": "python3"
  },
  "language_info": {
   "codemirror_mode": {
    "name": "ipython",
    "version": 3
   },
   "file_extension": ".py",
   "mimetype": "text/x-python",
   "name": "python",
   "nbconvert_exporter": "python",
   "pygments_lexer": "ipython3",
   "version": "3.8.8"
  }
 },
 "nbformat": 4,
 "nbformat_minor": 5
}
